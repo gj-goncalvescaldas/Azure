{
 "cells": [
  {
   "cell_type": "code",
   "execution_count": 0,
   "metadata": {
    "application/vnd.databricks.v1+cell": {
     "cellMetadata": {
      "byteLimit": 2048000,
      "rowLimit": 10000
     },
     "inputWidgets": {},
     "nuid": "4e3c0a39-c40d-4106-960b-4df8a79f837c",
     "showTitle": false,
     "tableResultSettingsMap": {},
     "title": ""
    }
   },
   "outputs": [],
   "source": [
    "%run \"../includes/configuration\""
   ]
  },
  {
   "cell_type": "code",
   "execution_count": 0,
   "metadata": {
    "application/vnd.databricks.v1+cell": {
     "cellMetadata": {
      "byteLimit": 2048000,
      "rowLimit": 10000
     },
     "inputWidgets": {},
     "nuid": "d0eb608c-8be0-413d-9f44-5d255282b422",
     "showTitle": false,
     "tableResultSettingsMap": {},
     "title": ""
    }
   },
   "outputs": [],
   "source": [
    "df = spark.read.parquet(f\"{presentation_folder_path}/race_results\")"
   ]
  },
  {
   "cell_type": "code",
   "execution_count": 0,
   "metadata": {
    "application/vnd.databricks.v1+cell": {
     "cellMetadata": {
      "byteLimit": 2048000,
      "rowLimit": 10000
     },
     "inputWidgets": {},
     "nuid": "7c0346b1-1e92-4a36-ab90-2e29dd7cd250",
     "showTitle": false,
     "tableResultSettingsMap": {},
     "title": ""
    }
   },
   "outputs": [],
   "source": [
    "from pyspark.sql.functions import desc,sum, when,count"
   ]
  },
  {
   "cell_type": "code",
   "execution_count": 0,
   "metadata": {
    "application/vnd.databricks.v1+cell": {
     "cellMetadata": {
      "byteLimit": 2048000,
      "rowLimit": 10000
     },
     "inputWidgets": {},
     "nuid": "12b28caf-d921-4918-929f-d2dd23c61d47",
     "showTitle": false,
     "tableResultSettingsMap": {},
     "title": ""
    }
   },
   "outputs": [],
   "source": [
    "df = df \\\n",
    "    .groupBy(df.race_year, df.driver_name, df.team) \\\n",
    "    .agg(\n",
    "        sum(df.points).alias(\"total_points\"),\n",
    "        count(when(df.position == 1, True )).alias(\"wins\")\n",
    "    ) \\\n",
    "    .orderBy(desc(\"total_points\"))"
   ]
  },
  {
   "cell_type": "code",
   "execution_count": 0,
   "metadata": {
    "application/vnd.databricks.v1+cell": {
     "cellMetadata": {
      "byteLimit": 2048000,
      "rowLimit": 10000
     },
     "inputWidgets": {},
     "nuid": "2fd9438b-c7ba-485e-b451-74d2658a5478",
     "showTitle": false,
     "tableResultSettingsMap": {},
     "title": ""
    }
   },
   "outputs": [
    {
     "output_type": "display_data",
     "data": {
      "text/html": [
       "<style scoped>\n",
       "  .table-result-container {\n",
       "    max-height: 300px;\n",
       "    overflow: auto;\n",
       "  }\n",
       "  table, th, td {\n",
       "    border: 1px solid black;\n",
       "    border-collapse: collapse;\n",
       "  }\n",
       "  th, td {\n",
       "    padding: 5px;\n",
       "  }\n",
       "  th {\n",
       "    text-align: left;\n",
       "  }\n",
       "</style><div class='table-result-container'><table class='table-result'><thead style='background-color: white'><tr><th>race_year</th><th>driver_name</th><th>team</th><th>total_points</th><th>wins</th></tr></thead><tbody><tr><td>2020</td><td>Lewis Hamilton</td><td>Mercedes</td><td>347.0</td><td>11</td></tr><tr><td>2020</td><td>Valtteri Bottas</td><td>Mercedes</td><td>223.0</td><td>2</td></tr><tr><td>2020</td><td>Max Verstappen</td><td>Red Bull</td><td>214.0</td><td>2</td></tr><tr><td>2020</td><td>Sergio Pérez</td><td>Racing Point</td><td>125.0</td><td>1</td></tr><tr><td>2020</td><td>Daniel Ricciardo</td><td>Renault</td><td>119.0</td><td>0</td></tr><tr><td>2020</td><td>Carlos Sainz</td><td>McLaren</td><td>105.0</td><td>0</td></tr><tr><td>2020</td><td>Alexander Albon</td><td>Red Bull</td><td>105.0</td><td>0</td></tr><tr><td>2020</td><td>Charles Leclerc</td><td>Ferrari</td><td>98.0</td><td>0</td></tr><tr><td>2020</td><td>Lando Norris</td><td>McLaren</td><td>97.0</td><td>0</td></tr><tr><td>2020</td><td>Lance Stroll</td><td>Racing Point</td><td>75.0</td><td>0</td></tr><tr><td>2020</td><td>Pierre Gasly</td><td>AlphaTauri</td><td>75.0</td><td>1</td></tr><tr><td>2020</td><td>Esteban Ocon</td><td>Renault</td><td>62.0</td><td>0</td></tr><tr><td>2020</td><td>Sebastian Vettel</td><td>Ferrari</td><td>33.0</td><td>0</td></tr><tr><td>2020</td><td>Daniil Kvyat</td><td>AlphaTauri</td><td>32.0</td><td>0</td></tr><tr><td>2020</td><td>Nico Hülkenberg</td><td>Racing Point</td><td>10.0</td><td>0</td></tr><tr><td>2020</td><td>Kimi Räikkönen</td><td>Alfa Romeo</td><td>4.0</td><td>0</td></tr><tr><td>2020</td><td>Antonio Giovinazzi</td><td>Alfa Romeo</td><td>4.0</td><td>0</td></tr><tr><td>2020</td><td>George Russell</td><td>Mercedes</td><td>3.0</td><td>0</td></tr><tr><td>2020</td><td>Romain Grosjean</td><td>Haas F1 Team</td><td>2.0</td><td>0</td></tr><tr><td>2020</td><td>Kevin Magnussen</td><td>Haas F1 Team</td><td>1.0</td><td>0</td></tr><tr><td>2020</td><td>Pietro Fittipaldi</td><td>Haas F1 Team</td><td>0.0</td><td>0</td></tr><tr><td>2020</td><td>Nicholas Latifi</td><td>Williams</td><td>0.0</td><td>0</td></tr><tr><td>2020</td><td>Jack Aitken</td><td>Williams</td><td>0.0</td><td>0</td></tr><tr><td>2020</td><td>George Russell</td><td>Williams</td><td>0.0</td><td>0</td></tr></tbody></table></div>"
      ]
     },
     "metadata": {
      "application/vnd.databricks.v1+output": {
       "addedWidgets": {},
       "aggData": [],
       "aggError": "",
       "aggOverflow": false,
       "aggSchema": [],
       "aggSeriesLimitReached": false,
       "aggType": "",
       "arguments": {},
       "columnCustomDisplayInfos": {},
       "data": [
        [
         2020,
         "Lewis Hamilton",
         "Mercedes",
         347.0,
         11
        ],
        [
         2020,
         "Valtteri Bottas",
         "Mercedes",
         223.0,
         2
        ],
        [
         2020,
         "Max Verstappen",
         "Red Bull",
         214.0,
         2
        ],
        [
         2020,
         "Sergio Pérez",
         "Racing Point",
         125.0,
         1
        ],
        [
         2020,
         "Daniel Ricciardo",
         "Renault",
         119.0,
         0
        ],
        [
         2020,
         "Carlos Sainz",
         "McLaren",
         105.0,
         0
        ],
        [
         2020,
         "Alexander Albon",
         "Red Bull",
         105.0,
         0
        ],
        [
         2020,
         "Charles Leclerc",
         "Ferrari",
         98.0,
         0
        ],
        [
         2020,
         "Lando Norris",
         "McLaren",
         97.0,
         0
        ],
        [
         2020,
         "Lance Stroll",
         "Racing Point",
         75.0,
         0
        ],
        [
         2020,
         "Pierre Gasly",
         "AlphaTauri",
         75.0,
         1
        ],
        [
         2020,
         "Esteban Ocon",
         "Renault",
         62.0,
         0
        ],
        [
         2020,
         "Sebastian Vettel",
         "Ferrari",
         33.0,
         0
        ],
        [
         2020,
         "Daniil Kvyat",
         "AlphaTauri",
         32.0,
         0
        ],
        [
         2020,
         "Nico Hülkenberg",
         "Racing Point",
         10.0,
         0
        ],
        [
         2020,
         "Kimi Räikkönen",
         "Alfa Romeo",
         4.0,
         0
        ],
        [
         2020,
         "Antonio Giovinazzi",
         "Alfa Romeo",
         4.0,
         0
        ],
        [
         2020,
         "George Russell",
         "Mercedes",
         3.0,
         0
        ],
        [
         2020,
         "Romain Grosjean",
         "Haas F1 Team",
         2.0,
         0
        ],
        [
         2020,
         "Kevin Magnussen",
         "Haas F1 Team",
         1.0,
         0
        ],
        [
         2020,
         "Pietro Fittipaldi",
         "Haas F1 Team",
         0.0,
         0
        ],
        [
         2020,
         "Nicholas Latifi",
         "Williams",
         0.0,
         0
        ],
        [
         2020,
         "Jack Aitken",
         "Williams",
         0.0,
         0
        ],
        [
         2020,
         "George Russell",
         "Williams",
         0.0,
         0
        ]
       ],
       "datasetInfos": [],
       "dbfsResultPath": null,
       "isJsonSchema": true,
       "metadata": {},
       "overflow": false,
       "plotOptions": {
        "customPlotOptions": {},
        "displayType": "table",
        "pivotAggregation": null,
        "pivotColumns": null,
        "xColumns": null,
        "yColumns": null
       },
       "removedWidgets": [],
       "schema": [
        {
         "metadata": "{}",
         "name": "race_year",
         "type": "\"integer\""
        },
        {
         "metadata": "{}",
         "name": "driver_name",
         "type": "\"string\""
        },
        {
         "metadata": "{}",
         "name": "team",
         "type": "\"string\""
        },
        {
         "metadata": "{}",
         "name": "total_points",
         "type": "\"double\""
        },
        {
         "metadata": "{}",
         "name": "wins",
         "type": "\"long\""
        }
       ],
       "type": "table"
      }
     },
     "output_type": "display_data"
    }
   ],
   "source": [
    "display(df.filter(df.race_year == 2020))"
   ]
  },
  {
   "cell_type": "code",
   "execution_count": 0,
   "metadata": {
    "application/vnd.databricks.v1+cell": {
     "cellMetadata": {
      "byteLimit": 2048000,
      "rowLimit": 10000
     },
     "inputWidgets": {},
     "nuid": "a694f565-9a43-4c4a-b24e-350af40a1287",
     "showTitle": false,
     "tableResultSettingsMap": {},
     "title": ""
    }
   },
   "outputs": [],
   "source": [
    "from pyspark.sql.window import Window\n",
    "from pyspark.sql.functions import desc, rank"
   ]
  },
  {
   "cell_type": "code",
   "execution_count": 0,
   "metadata": {
    "application/vnd.databricks.v1+cell": {
     "cellMetadata": {
      "byteLimit": 2048000,
      "rowLimit": 10000
     },
     "inputWidgets": {},
     "nuid": "e0ec1e28-0ae1-435e-8ae3-d2c3c61ae483",
     "showTitle": false,
     "tableResultSettingsMap": {},
     "title": ""
    }
   },
   "outputs": [],
   "source": [
    "df = df.withColumn(\"rank\", rank().over(Window.partitionBy(df.race_year).orderBy(desc(\"total_points\"), df.wins)))"
   ]
  },
  {
   "cell_type": "code",
   "execution_count": 0,
   "metadata": {
    "application/vnd.databricks.v1+cell": {
     "cellMetadata": {
      "byteLimit": 2048000,
      "rowLimit": 10000
     },
     "inputWidgets": {},
     "nuid": "75c9fc01-2f41-41b8-b4f1-4b8998ec9b00",
     "showTitle": false,
     "tableResultSettingsMap": {},
     "title": ""
    }
   },
   "outputs": [
    {
     "output_type": "display_data",
     "data": {
      "text/html": [
       "<style scoped>\n",
       "  .table-result-container {\n",
       "    max-height: 300px;\n",
       "    overflow: auto;\n",
       "  }\n",
       "  table, th, td {\n",
       "    border: 1px solid black;\n",
       "    border-collapse: collapse;\n",
       "  }\n",
       "  th, td {\n",
       "    padding: 5px;\n",
       "  }\n",
       "  th {\n",
       "    text-align: left;\n",
       "  }\n",
       "</style><div class='table-result-container'><table class='table-result'><thead style='background-color: white'><tr><th>race_year</th><th>driver_name</th><th>team</th><th>total_points</th><th>wins</th><th>rank</th></tr></thead><tbody><tr><td>2020</td><td>Lewis Hamilton</td><td>Mercedes</td><td>347.0</td><td>11</td><td>1</td></tr><tr><td>2020</td><td>Valtteri Bottas</td><td>Mercedes</td><td>223.0</td><td>2</td><td>2</td></tr><tr><td>2020</td><td>Max Verstappen</td><td>Red Bull</td><td>214.0</td><td>2</td><td>3</td></tr><tr><td>2020</td><td>Sergio Pérez</td><td>Racing Point</td><td>125.0</td><td>1</td><td>4</td></tr><tr><td>2020</td><td>Daniel Ricciardo</td><td>Renault</td><td>119.0</td><td>0</td><td>5</td></tr><tr><td>2020</td><td>Carlos Sainz</td><td>McLaren</td><td>105.0</td><td>0</td><td>6</td></tr><tr><td>2020</td><td>Alexander Albon</td><td>Red Bull</td><td>105.0</td><td>0</td><td>6</td></tr><tr><td>2020</td><td>Charles Leclerc</td><td>Ferrari</td><td>98.0</td><td>0</td><td>8</td></tr><tr><td>2020</td><td>Lando Norris</td><td>McLaren</td><td>97.0</td><td>0</td><td>9</td></tr><tr><td>2020</td><td>Lance Stroll</td><td>Racing Point</td><td>75.0</td><td>0</td><td>10</td></tr><tr><td>2020</td><td>Pierre Gasly</td><td>AlphaTauri</td><td>75.0</td><td>1</td><td>11</td></tr><tr><td>2020</td><td>Esteban Ocon</td><td>Renault</td><td>62.0</td><td>0</td><td>12</td></tr><tr><td>2020</td><td>Sebastian Vettel</td><td>Ferrari</td><td>33.0</td><td>0</td><td>13</td></tr><tr><td>2020</td><td>Daniil Kvyat</td><td>AlphaTauri</td><td>32.0</td><td>0</td><td>14</td></tr><tr><td>2020</td><td>Nico Hülkenberg</td><td>Racing Point</td><td>10.0</td><td>0</td><td>15</td></tr><tr><td>2020</td><td>Kimi Räikkönen</td><td>Alfa Romeo</td><td>4.0</td><td>0</td><td>16</td></tr><tr><td>2020</td><td>Antonio Giovinazzi</td><td>Alfa Romeo</td><td>4.0</td><td>0</td><td>16</td></tr><tr><td>2020</td><td>George Russell</td><td>Mercedes</td><td>3.0</td><td>0</td><td>18</td></tr><tr><td>2020</td><td>Romain Grosjean</td><td>Haas F1 Team</td><td>2.0</td><td>0</td><td>19</td></tr><tr><td>2020</td><td>Kevin Magnussen</td><td>Haas F1 Team</td><td>1.0</td><td>0</td><td>20</td></tr><tr><td>2020</td><td>Pietro Fittipaldi</td><td>Haas F1 Team</td><td>0.0</td><td>0</td><td>21</td></tr><tr><td>2020</td><td>Nicholas Latifi</td><td>Williams</td><td>0.0</td><td>0</td><td>21</td></tr><tr><td>2020</td><td>Jack Aitken</td><td>Williams</td><td>0.0</td><td>0</td><td>21</td></tr><tr><td>2020</td><td>George Russell</td><td>Williams</td><td>0.0</td><td>0</td><td>21</td></tr></tbody></table></div>"
      ]
     },
     "metadata": {
      "application/vnd.databricks.v1+output": {
       "addedWidgets": {},
       "aggData": [],
       "aggError": "",
       "aggOverflow": false,
       "aggSchema": [],
       "aggSeriesLimitReached": false,
       "aggType": "",
       "arguments": {},
       "columnCustomDisplayInfos": {},
       "data": [
        [
         2020,
         "Lewis Hamilton",
         "Mercedes",
         347.0,
         11,
         1
        ],
        [
         2020,
         "Valtteri Bottas",
         "Mercedes",
         223.0,
         2,
         2
        ],
        [
         2020,
         "Max Verstappen",
         "Red Bull",
         214.0,
         2,
         3
        ],
        [
         2020,
         "Sergio Pérez",
         "Racing Point",
         125.0,
         1,
         4
        ],
        [
         2020,
         "Daniel Ricciardo",
         "Renault",
         119.0,
         0,
         5
        ],
        [
         2020,
         "Carlos Sainz",
         "McLaren",
         105.0,
         0,
         6
        ],
        [
         2020,
         "Alexander Albon",
         "Red Bull",
         105.0,
         0,
         6
        ],
        [
         2020,
         "Charles Leclerc",
         "Ferrari",
         98.0,
         0,
         8
        ],
        [
         2020,
         "Lando Norris",
         "McLaren",
         97.0,
         0,
         9
        ],
        [
         2020,
         "Lance Stroll",
         "Racing Point",
         75.0,
         0,
         10
        ],
        [
         2020,
         "Pierre Gasly",
         "AlphaTauri",
         75.0,
         1,
         11
        ],
        [
         2020,
         "Esteban Ocon",
         "Renault",
         62.0,
         0,
         12
        ],
        [
         2020,
         "Sebastian Vettel",
         "Ferrari",
         33.0,
         0,
         13
        ],
        [
         2020,
         "Daniil Kvyat",
         "AlphaTauri",
         32.0,
         0,
         14
        ],
        [
         2020,
         "Nico Hülkenberg",
         "Racing Point",
         10.0,
         0,
         15
        ],
        [
         2020,
         "Kimi Räikkönen",
         "Alfa Romeo",
         4.0,
         0,
         16
        ],
        [
         2020,
         "Antonio Giovinazzi",
         "Alfa Romeo",
         4.0,
         0,
         16
        ],
        [
         2020,
         "George Russell",
         "Mercedes",
         3.0,
         0,
         18
        ],
        [
         2020,
         "Romain Grosjean",
         "Haas F1 Team",
         2.0,
         0,
         19
        ],
        [
         2020,
         "Kevin Magnussen",
         "Haas F1 Team",
         1.0,
         0,
         20
        ],
        [
         2020,
         "Pietro Fittipaldi",
         "Haas F1 Team",
         0.0,
         0,
         21
        ],
        [
         2020,
         "Nicholas Latifi",
         "Williams",
         0.0,
         0,
         21
        ],
        [
         2020,
         "Jack Aitken",
         "Williams",
         0.0,
         0,
         21
        ],
        [
         2020,
         "George Russell",
         "Williams",
         0.0,
         0,
         21
        ]
       ],
       "datasetInfos": [],
       "dbfsResultPath": null,
       "isJsonSchema": true,
       "metadata": {},
       "overflow": false,
       "plotOptions": {
        "customPlotOptions": {},
        "displayType": "table",
        "pivotAggregation": null,
        "pivotColumns": null,
        "xColumns": null,
        "yColumns": null
       },
       "removedWidgets": [],
       "schema": [
        {
         "metadata": "{}",
         "name": "race_year",
         "type": "\"integer\""
        },
        {
         "metadata": "{}",
         "name": "driver_name",
         "type": "\"string\""
        },
        {
         "metadata": "{}",
         "name": "team",
         "type": "\"string\""
        },
        {
         "metadata": "{}",
         "name": "total_points",
         "type": "\"double\""
        },
        {
         "metadata": "{}",
         "name": "wins",
         "type": "\"long\""
        },
        {
         "metadata": "{}",
         "name": "rank",
         "type": "\"integer\""
        }
       ],
       "type": "table"
      }
     },
     "output_type": "display_data"
    }
   ],
   "source": [
    "display(df.filter(df.race_year == 2020))"
   ]
  },
  {
   "cell_type": "code",
   "execution_count": 0,
   "metadata": {
    "application/vnd.databricks.v1+cell": {
     "cellMetadata": {
      "byteLimit": 2048000,
      "rowLimit": 10000
     },
     "inputWidgets": {},
     "nuid": "d72cc8e4-1b45-4c6d-a16f-67fb433a321d",
     "showTitle": false,
     "tableResultSettingsMap": {},
     "title": ""
    }
   },
   "outputs": [],
   "source": [
    "df.write.mode(\"overwrite\").parquet(f\"{presentation_folder_path}/driver_standings\")\n",
    "\n",
    "#df.write.mode(\"overwrite\").saveAsTable(\"f1_presentation.driver_standings\")"
   ]
  },
  {
   "cell_type": "code",
   "execution_count": 0,
   "metadata": {
    "application/vnd.databricks.v1+cell": {
     "cellMetadata": {
      "byteLimit": 2048000,
      "rowLimit": 10000
     },
     "inputWidgets": {},
     "nuid": "6a2646af-0f98-4256-911a-149703b02fa0",
     "showTitle": false,
     "tableResultSettingsMap": {},
     "title": ""
    }
   },
   "outputs": [],
   "source": []
  }
 ],
 "metadata": {
  "application/vnd.databricks.v1+notebook": {
   "computePreferences": null,
   "dashboards": [],
   "environmentMetadata": {
    "base_environment": "",
    "environment_version": "2"
   },
   "language": "python",
   "notebookMetadata": {
    "pythonIndentUnit": 4
   },
   "notebookName": "2_driver_standings",
   "widgets": {}
  },
  "language_info": {
   "name": "python"
  }
 },
 "nbformat": 4,
 "nbformat_minor": 0
}