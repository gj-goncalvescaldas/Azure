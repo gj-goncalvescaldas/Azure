{
 "cells": [
  {
   "cell_type": "code",
   "execution_count": 0,
   "metadata": {
    "application/vnd.databricks.v1+cell": {
     "cellMetadata": {},
     "inputWidgets": {},
     "nuid": "c157237d-ce7f-436e-a709-47c3c67a6bfb",
     "showTitle": false,
     "tableResultSettingsMap": {},
     "title": ""
    }
   },
   "outputs": [],
   "source": [
    "dbutils.widgets.text(\"p_data_source\", \"\")\n",
    "v_data_source = dbutils.widgets.get(\"p_data_source\")"
   ]
  },
  {
   "cell_type": "code",
   "execution_count": 0,
   "metadata": {
    "application/vnd.databricks.v1+cell": {
     "cellMetadata": {
      "byteLimit": 2048000,
      "rowLimit": 10000
     },
     "inputWidgets": {},
     "nuid": "8d9190d5-4683-4837-94f8-85b876b36718",
     "showTitle": false,
     "tableResultSettingsMap": {},
     "title": ""
    }
   },
   "outputs": [],
   "source": [
    "%run \"../includes/configuration\""
   ]
  },
  {
   "cell_type": "code",
   "execution_count": 0,
   "metadata": {
    "application/vnd.databricks.v1+cell": {
     "cellMetadata": {
      "byteLimit": 2048000,
      "rowLimit": 10000
     },
     "inputWidgets": {},
     "nuid": "18ddb65f-b5b5-4991-b57d-7c35f9d64297",
     "showTitle": false,
     "tableResultSettingsMap": {},
     "title": ""
    }
   },
   "outputs": [],
   "source": [
    "%run \"../includes/common_functions\""
   ]
  },
  {
   "cell_type": "code",
   "execution_count": 0,
   "metadata": {
    "application/vnd.databricks.v1+cell": {
     "cellMetadata": {
      "byteLimit": 2048000,
      "rowLimit": 10000
     },
     "inputWidgets": {},
     "nuid": "adb6fcb7-3064-49c6-abfd-39f07e233040",
     "showTitle": false,
     "tableResultSettingsMap": {},
     "title": ""
    }
   },
   "outputs": [
    {
     "output_type": "display_data",
     "data": {
      "text/html": [
       "<style scoped>\n",
       "  .table-result-container {\n",
       "    max-height: 300px;\n",
       "    overflow: auto;\n",
       "  }\n",
       "  table, th, td {\n",
       "    border: 1px solid black;\n",
       "    border-collapse: collapse;\n",
       "  }\n",
       "  th, td {\n",
       "    padding: 5px;\n",
       "  }\n",
       "  th {\n",
       "    text-align: left;\n",
       "  }\n",
       "</style><div class='table-result-container'><table class='table-result'><thead style='background-color: white'><tr><th>path</th><th>name</th><th>size</th><th>modificationTime</th></tr></thead><tbody><tr><td>dbfs:/mnt/bluetab1002/raw/circuits.csv</td><td>circuits.csv</td><td>10044</td><td>1738253538000</td></tr><tr><td>dbfs:/mnt/bluetab1002/raw/constructors.json</td><td>constructors.json</td><td>30415</td><td>1738253538000</td></tr><tr><td>dbfs:/mnt/bluetab1002/raw/drivers.json</td><td>drivers.json</td><td>180812</td><td>1738253538000</td></tr><tr><td>dbfs:/mnt/bluetab1002/raw/lap_times/</td><td>lap_times/</td><td>0</td><td>0</td></tr><tr><td>dbfs:/mnt/bluetab1002/raw/pit_stops.json</td><td>pit_stops.json</td><td>1369387</td><td>1738253539000</td></tr><tr><td>dbfs:/mnt/bluetab1002/raw/qualifying/</td><td>qualifying/</td><td>0</td><td>0</td></tr><tr><td>dbfs:/mnt/bluetab1002/raw/races.csv</td><td>races.csv</td><td>116847</td><td>1738253538000</td></tr><tr><td>dbfs:/mnt/bluetab1002/raw/results.json</td><td>results.json</td><td>7165641</td><td>1738253542000</td></tr></tbody></table></div>"
      ]
     },
     "metadata": {
      "application/vnd.databricks.v1+output": {
       "addedWidgets": {},
       "aggData": [],
       "aggError": "",
       "aggOverflow": false,
       "aggSchema": [],
       "aggSeriesLimitReached": false,
       "aggType": "",
       "arguments": {},
       "columnCustomDisplayInfos": {},
       "data": [
        [
         "dbfs:/mnt/bluetab1002/raw/circuits.csv",
         "circuits.csv",
         10044,
         1738253538000
        ],
        [
         "dbfs:/mnt/bluetab1002/raw/constructors.json",
         "constructors.json",
         30415,
         1738253538000
        ],
        [
         "dbfs:/mnt/bluetab1002/raw/drivers.json",
         "drivers.json",
         180812,
         1738253538000
        ],
        [
         "dbfs:/mnt/bluetab1002/raw/lap_times/",
         "lap_times/",
         0,
         0
        ],
        [
         "dbfs:/mnt/bluetab1002/raw/pit_stops.json",
         "pit_stops.json",
         1369387,
         1738253539000
        ],
        [
         "dbfs:/mnt/bluetab1002/raw/qualifying/",
         "qualifying/",
         0,
         0
        ],
        [
         "dbfs:/mnt/bluetab1002/raw/races.csv",
         "races.csv",
         116847,
         1738253538000
        ],
        [
         "dbfs:/mnt/bluetab1002/raw/results.json",
         "results.json",
         7165641,
         1738253542000
        ]
       ],
       "datasetInfos": [],
       "dbfsResultPath": null,
       "isJsonSchema": true,
       "metadata": {},
       "overflow": false,
       "plotOptions": {
        "customPlotOptions": {},
        "displayType": "table",
        "pivotAggregation": null,
        "pivotColumns": null,
        "xColumns": null,
        "yColumns": null
       },
       "removedWidgets": [],
       "schema": [
        {
         "metadata": "{}",
         "name": "path",
         "type": "\"string\""
        },
        {
         "metadata": "{}",
         "name": "name",
         "type": "\"string\""
        },
        {
         "metadata": "{}",
         "name": "size",
         "type": "\"long\""
        },
        {
         "metadata": "{}",
         "name": "modificationTime",
         "type": "\"long\""
        }
       ],
       "type": "table"
      }
     },
     "output_type": "display_data"
    }
   ],
   "source": [
    "from pyspark.sql.functions import current_timestamp, lit\n",
    "display(dbutils.fs.ls(\"/mnt/bluetab1002/raw\"))"
   ]
  },
  {
   "cell_type": "code",
   "execution_count": 0,
   "metadata": {
    "application/vnd.databricks.v1+cell": {
     "cellMetadata": {
      "byteLimit": 2048000,
      "rowLimit": 10000
     },
     "inputWidgets": {},
     "nuid": "06d8e2d9-f219-4fc9-bffa-92291d77bacd",
     "showTitle": false,
     "tableResultSettingsMap": {},
     "title": ""
    }
   },
   "outputs": [],
   "source": [
    "constructors_schema = \"constructorId INT, constructorRef STRING, name STRING, nationality STRING, url STRING\""
   ]
  },
  {
   "cell_type": "code",
   "execution_count": 0,
   "metadata": {
    "application/vnd.databricks.v1+cell": {
     "cellMetadata": {
      "byteLimit": 2048000,
      "rowLimit": 10000
     },
     "inputWidgets": {},
     "nuid": "97760dc9-ef2c-41e8-88de-7814f15561bc",
     "showTitle": false,
     "tableResultSettingsMap": {},
     "title": ""
    }
   },
   "outputs": [
    {
     "output_type": "stream",
     "name": "stdout",
     "output_type": "stream",
     "text": [
      "root\n |-- constructorId: integer (nullable = true)\n |-- constructorRef: string (nullable = true)\n |-- name: string (nullable = true)\n |-- nationality: string (nullable = true)\n |-- url: string (nullable = true)\n\n"
     ]
    }
   ],
   "source": [
    "df = spark.read \\\n",
    ".schema(constructors_schema) \\\n",
    ".json(f\"{raw_folder_path}/constructors.json\")\n",
    "df.printSchema()\n",
    "#df.write.mode(\"overwrite\").saveAsTable(\"f1_raw.constructors\")"
   ]
  },
  {
   "cell_type": "code",
   "execution_count": 0,
   "metadata": {
    "application/vnd.databricks.v1+cell": {
     "cellMetadata": {
      "byteLimit": 2048000,
      "rowLimit": 10000
     },
     "inputWidgets": {},
     "nuid": "c7476255-1a14-4630-974c-12c279efa4da",
     "showTitle": false,
     "tableResultSettingsMap": {},
     "title": ""
    }
   },
   "outputs": [],
   "source": [
    "df = df \\\n",
    ".withColumnRenamed('constructorId', 'constructor_id') \\\n",
    ".withColumnRenamed('constructorRef', 'constructor_ref') \\\n",
    ".drop('url') \\\n",
    ".withColumn(\"data_source\", lit(v_data_source))\n",
    "\n",
    "df = add_ingestion_date(df)\n"
   ]
  },
  {
   "cell_type": "code",
   "execution_count": 0,
   "metadata": {
    "application/vnd.databricks.v1+cell": {
     "cellMetadata": {
      "byteLimit": 2048000,
      "rowLimit": 10000
     },
     "inputWidgets": {},
     "nuid": "28aa8a5d-4828-49cb-ad2f-4f9e5e4d7982",
     "showTitle": false,
     "tableResultSettingsMap": {},
     "title": ""
    }
   },
   "outputs": [
    {
     "output_type": "display_data",
     "data": {
      "text/html": [
       "<style scoped>\n",
       "  .table-result-container {\n",
       "    max-height: 300px;\n",
       "    overflow: auto;\n",
       "  }\n",
       "  table, th, td {\n",
       "    border: 1px solid black;\n",
       "    border-collapse: collapse;\n",
       "  }\n",
       "  th, td {\n",
       "    padding: 5px;\n",
       "  }\n",
       "  th {\n",
       "    text-align: left;\n",
       "  }\n",
       "</style><div class='table-result-container'><table class='table-result'><thead style='background-color: white'><tr><th>constructor_id</th><th>constructor_ref</th><th>name</th><th>nationality</th><th>ingestion_date</th></tr></thead><tbody><tr><td>1</td><td>mclaren</td><td>McLaren</td><td>British</td><td>2025-02-01T17:45:43.37Z</td></tr><tr><td>2</td><td>bmw_sauber</td><td>BMW Sauber</td><td>German</td><td>2025-02-01T17:45:43.37Z</td></tr><tr><td>3</td><td>williams</td><td>Williams</td><td>British</td><td>2025-02-01T17:45:43.37Z</td></tr><tr><td>4</td><td>renault</td><td>Renault</td><td>French</td><td>2025-02-01T17:45:43.37Z</td></tr><tr><td>5</td><td>toro_rosso</td><td>Toro Rosso</td><td>Italian</td><td>2025-02-01T17:45:43.37Z</td></tr><tr><td>6</td><td>ferrari</td><td>Ferrari</td><td>Italian</td><td>2025-02-01T17:45:43.37Z</td></tr><tr><td>7</td><td>toyota</td><td>Toyota</td><td>Japanese</td><td>2025-02-01T17:45:43.37Z</td></tr><tr><td>8</td><td>super_aguri</td><td>Super Aguri</td><td>Japanese</td><td>2025-02-01T17:45:43.37Z</td></tr><tr><td>9</td><td>red_bull</td><td>Red Bull</td><td>Austrian</td><td>2025-02-01T17:45:43.37Z</td></tr><tr><td>10</td><td>force_india</td><td>Force India</td><td>Indian</td><td>2025-02-01T17:45:43.37Z</td></tr><tr><td>11</td><td>honda</td><td>Honda</td><td>Japanese</td><td>2025-02-01T17:45:43.37Z</td></tr><tr><td>12</td><td>spyker</td><td>Spyker</td><td>Dutch</td><td>2025-02-01T17:45:43.37Z</td></tr><tr><td>13</td><td>mf1</td><td>MF1</td><td>Russian</td><td>2025-02-01T17:45:43.37Z</td></tr><tr><td>14</td><td>spyker_mf1</td><td>Spyker MF1</td><td>Dutch</td><td>2025-02-01T17:45:43.37Z</td></tr><tr><td>15</td><td>sauber</td><td>Sauber</td><td>Swiss</td><td>2025-02-01T17:45:43.37Z</td></tr><tr><td>16</td><td>bar</td><td>BAR</td><td>British</td><td>2025-02-01T17:45:43.37Z</td></tr><tr><td>17</td><td>jordan</td><td>Jordan</td><td>Irish</td><td>2025-02-01T17:45:43.37Z</td></tr><tr><td>18</td><td>minardi</td><td>Minardi</td><td>Italian</td><td>2025-02-01T17:45:43.37Z</td></tr><tr><td>19</td><td>jaguar</td><td>Jaguar</td><td>British</td><td>2025-02-01T17:45:43.37Z</td></tr><tr><td>20</td><td>prost</td><td>Prost</td><td>French</td><td>2025-02-01T17:45:43.37Z</td></tr><tr><td>21</td><td>arrows</td><td>Arrows</td><td>British</td><td>2025-02-01T17:45:43.37Z</td></tr><tr><td>22</td><td>benetton</td><td>Benetton</td><td>Italian</td><td>2025-02-01T17:45:43.37Z</td></tr><tr><td>23</td><td>brawn</td><td>Brawn</td><td>British</td><td>2025-02-01T17:45:43.37Z</td></tr><tr><td>24</td><td>stewart</td><td>Stewart</td><td>British</td><td>2025-02-01T17:45:43.37Z</td></tr><tr><td>25</td><td>tyrrell</td><td>Tyrrell</td><td>British</td><td>2025-02-01T17:45:43.37Z</td></tr><tr><td>26</td><td>lola</td><td>Lola</td><td>British</td><td>2025-02-01T17:45:43.37Z</td></tr><tr><td>27</td><td>ligier</td><td>Ligier</td><td>French</td><td>2025-02-01T17:45:43.37Z</td></tr><tr><td>28</td><td>forti</td><td>Forti</td><td>Italian</td><td>2025-02-01T17:45:43.37Z</td></tr><tr><td>29</td><td>footwork</td><td>Footwork</td><td>British</td><td>2025-02-01T17:45:43.37Z</td></tr><tr><td>30</td><td>pacific</td><td>Pacific</td><td>British</td><td>2025-02-01T17:45:43.37Z</td></tr><tr><td>31</td><td>simtek</td><td>Simtek</td><td>British</td><td>2025-02-01T17:45:43.37Z</td></tr><tr><td>32</td><td>team_lotus</td><td>Team Lotus</td><td>British</td><td>2025-02-01T17:45:43.37Z</td></tr><tr><td>33</td><td>larrousse</td><td>Larrousse</td><td>French</td><td>2025-02-01T17:45:43.37Z</td></tr><tr><td>34</td><td>brabham</td><td>Brabham</td><td>British</td><td>2025-02-01T17:45:43.37Z</td></tr><tr><td>35</td><td>dallara</td><td>Dallara</td><td>Italian</td><td>2025-02-01T17:45:43.37Z</td></tr><tr><td>36</td><td>fondmetal</td><td>Fondmetal</td><td>Italian</td><td>2025-02-01T17:45:43.37Z</td></tr><tr><td>37</td><td>march</td><td>March</td><td>British</td><td>2025-02-01T17:45:43.37Z</td></tr><tr><td>38</td><td>moda</td><td>Andrea Moda</td><td>Italian</td><td>2025-02-01T17:45:43.37Z</td></tr><tr><td>39</td><td>ags</td><td>AGS</td><td>French</td><td>2025-02-01T17:45:43.37Z</td></tr><tr><td>40</td><td>lambo</td><td>Lambo</td><td>Italian</td><td>2025-02-01T17:45:43.37Z</td></tr><tr><td>41</td><td>leyton</td><td>Leyton House</td><td>British</td><td>2025-02-01T17:45:43.37Z</td></tr><tr><td>42</td><td>coloni</td><td>Coloni</td><td>Italian</td><td>2025-02-01T17:45:43.37Z</td></tr><tr><td>44</td><td>eurobrun</td><td>Euro Brun</td><td>Italian</td><td>2025-02-01T17:45:43.37Z</td></tr><tr><td>45</td><td>osella</td><td>Osella</td><td>Italian</td><td>2025-02-01T17:45:43.37Z</td></tr><tr><td>46</td><td>onyx</td><td>Onyx</td><td>British</td><td>2025-02-01T17:45:43.37Z</td></tr><tr><td>47</td><td>life</td><td>Life</td><td>Italian</td><td>2025-02-01T17:45:43.37Z</td></tr><tr><td>48</td><td>rial</td><td>Rial</td><td>German</td><td>2025-02-01T17:45:43.37Z</td></tr><tr><td>49</td><td>zakspeed</td><td>Zakspeed</td><td>German</td><td>2025-02-01T17:45:43.37Z</td></tr><tr><td>50</td><td>ram</td><td>RAM</td><td>British</td><td>2025-02-01T17:45:43.37Z</td></tr><tr><td>51</td><td>alfa</td><td>Alfa Romeo</td><td>Italian</td><td>2025-02-01T17:45:43.37Z</td></tr><tr><td>52</td><td>spirit</td><td>Spirit</td><td>British</td><td>2025-02-01T17:45:43.37Z</td></tr><tr><td>53</td><td>toleman</td><td>Toleman</td><td>British</td><td>2025-02-01T17:45:43.37Z</td></tr><tr><td>54</td><td>ats</td><td>ATS</td><td>Italian</td><td>2025-02-01T17:45:43.37Z</td></tr><tr><td>55</td><td>theodore</td><td>Theodore</td><td>Hong Kong</td><td>2025-02-01T17:45:43.37Z</td></tr><tr><td>56</td><td>fittipaldi</td><td>Fittipaldi</td><td>Brazilian</td><td>2025-02-01T17:45:43.37Z</td></tr><tr><td>57</td><td>ensign</td><td>Ensign</td><td>British</td><td>2025-02-01T17:45:43.37Z</td></tr><tr><td>58</td><td>shadow</td><td>Shadow</td><td>British</td><td>2025-02-01T17:45:43.37Z</td></tr><tr><td>59</td><td>wolf</td><td>Wolf</td><td>Canadian</td><td>2025-02-01T17:45:43.37Z</td></tr><tr><td>60</td><td>merzario</td><td>Merzario</td><td>Italian</td><td>2025-02-01T17:45:43.37Z</td></tr><tr><td>61</td><td>kauhsen</td><td>Kauhsen</td><td>German</td><td>2025-02-01T17:45:43.37Z</td></tr><tr><td>62</td><td>rebaque</td><td>Rebaque</td><td>Mexican</td><td>2025-02-01T17:45:43.37Z</td></tr><tr><td>63</td><td>surtees</td><td>Surtees</td><td>British</td><td>2025-02-01T17:45:43.37Z</td></tr><tr><td>64</td><td>hesketh</td><td>Hesketh</td><td>British</td><td>2025-02-01T17:45:43.37Z</td></tr><tr><td>65</td><td>martini</td><td>Martini</td><td>French</td><td>2025-02-01T17:45:43.37Z</td></tr><tr><td>66</td><td>brm</td><td>BRM</td><td>British</td><td>2025-02-01T17:45:43.37Z</td></tr><tr><td>67</td><td>penske</td><td>Penske</td><td>American</td><td>2025-02-01T17:45:43.37Z</td></tr><tr><td>68</td><td>lec</td><td>LEC</td><td>British</td><td>2025-02-01T17:45:43.37Z</td></tr><tr><td>69</td><td>mcguire</td><td>McGuire</td><td>Australian</td><td>2025-02-01T17:45:43.37Z</td></tr><tr><td>70</td><td>boro</td><td>Boro</td><td>Dutch</td><td>2025-02-01T17:45:43.37Z</td></tr><tr><td>71</td><td>apollon</td><td>Apollon</td><td>Swiss</td><td>2025-02-01T17:45:43.37Z</td></tr><tr><td>72</td><td>kojima</td><td>Kojima</td><td>Japanese</td><td>2025-02-01T17:45:43.37Z</td></tr><tr><td>73</td><td>parnelli</td><td>Parnelli</td><td>American</td><td>2025-02-01T17:45:43.37Z</td></tr><tr><td>74</td><td>maki</td><td>Maki</td><td>Japanese</td><td>2025-02-01T17:45:43.37Z</td></tr><tr><td>75</td><td>hill</td><td>Embassy Hill</td><td>British</td><td>2025-02-01T17:45:43.37Z</td></tr><tr><td>76</td><td>lyncar</td><td>Lyncar</td><td>British</td><td>2025-02-01T17:45:43.37Z</td></tr><tr><td>77</td><td>trojan</td><td>Trojan</td><td>British</td><td>2025-02-01T17:45:43.37Z</td></tr><tr><td>78</td><td>amon</td><td>Amon</td><td>New Zealand</td><td>2025-02-01T17:45:43.37Z</td></tr><tr><td>79</td><td>token</td><td>Token</td><td>British</td><td>2025-02-01T17:45:43.37Z</td></tr><tr><td>80</td><td>iso_marlboro</td><td>Iso Marlboro</td><td>British</td><td>2025-02-01T17:45:43.37Z</td></tr><tr><td>81</td><td>tecno</td><td>Tecno</td><td>Italian</td><td>2025-02-01T17:45:43.37Z</td></tr><tr><td>82</td><td>matra</td><td>Matra</td><td>French</td><td>2025-02-01T17:45:43.37Z</td></tr><tr><td>83</td><td>politoys</td><td>Politoys</td><td>British</td><td>2025-02-01T17:45:43.37Z</td></tr><tr><td>84</td><td>connew</td><td>Connew</td><td>British</td><td>2025-02-01T17:45:43.37Z</td></tr><tr><td>85</td><td>bellasi</td><td>Bellasi</td><td>Swiss</td><td>2025-02-01T17:45:43.37Z</td></tr><tr><td>86</td><td>tomaso</td><td>De Tomaso</td><td>Italian</td><td>2025-02-01T17:45:43.37Z</td></tr><tr><td>87</td><td>cooper</td><td>Cooper</td><td>British</td><td>2025-02-01T17:45:43.37Z</td></tr><tr><td>88</td><td>eagle</td><td>Eagle</td><td>American</td><td>2025-02-01T17:45:43.37Z</td></tr><tr><td>89</td><td>lds</td><td>LDS</td><td>South African</td><td>2025-02-01T17:45:43.37Z</td></tr><tr><td>90</td><td>protos</td><td>Protos</td><td>British</td><td>2025-02-01T17:45:43.37Z</td></tr><tr><td>91</td><td>shannon</td><td>Shannon</td><td>British</td><td>2025-02-01T17:45:43.37Z</td></tr><tr><td>92</td><td>scirocco</td><td>Scirocco</td><td>British</td><td>2025-02-01T17:45:43.37Z</td></tr><tr><td>93</td><td>re</td><td>RE</td><td>Rhodesian</td><td>2025-02-01T17:45:43.37Z</td></tr><tr><td>94</td><td>brp</td><td>BRP</td><td>British</td><td>2025-02-01T17:45:43.37Z</td></tr><tr><td>95</td><td>porsche</td><td>Porsche</td><td>German</td><td>2025-02-01T17:45:43.37Z</td></tr><tr><td>96</td><td>derrington</td><td>Derrington</td><td>British</td><td>2025-02-01T17:45:43.37Z</td></tr><tr><td>97</td><td>gilby</td><td>Gilby</td><td>British</td><td>2025-02-01T17:45:43.37Z</td></tr><tr><td>98</td><td>stebro</td><td>Stebro</td><td>Canadian</td><td>2025-02-01T17:45:43.37Z</td></tr><tr><td>99</td><td>emeryson</td><td>Emeryson</td><td>British</td><td>2025-02-01T17:45:43.37Z</td></tr><tr><td>100</td><td>enb</td><td>ENB</td><td>Belgium</td><td>2025-02-01T17:45:43.37Z</td></tr><tr><td>101</td><td>jbw</td><td>JBW</td><td>British</td><td>2025-02-01T17:45:43.37Z</td></tr><tr><td>102</td><td>ferguson</td><td>Ferguson</td><td>British</td><td>2025-02-01T17:45:43.37Z</td></tr><tr><td>103</td><td>mbm</td><td>MBM</td><td>Swiss</td><td>2025-02-01T17:45:43.37Z</td></tr><tr><td>104</td><td>behra-porsche</td><td>Behra-Porsche</td><td>Italian</td><td>2025-02-01T17:45:43.37Z</td></tr><tr><td>105</td><td>maserati</td><td>Maserati</td><td>Italian</td><td>2025-02-01T17:45:43.37Z</td></tr><tr><td>106</td><td>scarab</td><td>Scarab</td><td>American</td><td>2025-02-01T17:45:43.37Z</td></tr><tr><td>107</td><td>watson</td><td>Watson</td><td>American</td><td>2025-02-01T17:45:43.37Z</td></tr><tr><td>108</td><td>epperly</td><td>Epperly</td><td>American</td><td>2025-02-01T17:45:43.37Z</td></tr><tr><td>109</td><td>phillips</td><td>Phillips</td><td>American</td><td>2025-02-01T17:45:43.37Z</td></tr><tr><td>110</td><td>lesovsky</td><td>Lesovsky</td><td>American</td><td>2025-02-01T17:45:43.37Z</td></tr><tr><td>111</td><td>trevis</td><td>Trevis</td><td>American</td><td>2025-02-01T17:45:43.37Z</td></tr><tr><td>112</td><td>meskowski</td><td>Meskowski</td><td>American</td><td>2025-02-01T17:45:43.37Z</td></tr><tr><td>113</td><td>kurtis_kraft</td><td>Kurtis Kraft</td><td>American</td><td>2025-02-01T17:45:43.37Z</td></tr><tr><td>114</td><td>kuzma</td><td>Kuzma</td><td>American</td><td>2025-02-01T17:45:43.37Z</td></tr><tr><td>115</td><td>vhristensen</td><td>Christensen</td><td>American</td><td>2025-02-01T17:45:43.37Z</td></tr><tr><td>116</td><td>ewing</td><td>Ewing</td><td>American</td><td>2025-02-01T17:45:43.37Z</td></tr><tr><td>117</td><td>aston_martin</td><td>Aston Martin</td><td>British</td><td>2025-02-01T17:45:43.37Z</td></tr><tr><td>118</td><td>vanwall</td><td>Vanwall</td><td>British</td><td>2025-02-01T17:45:43.37Z</td></tr><tr><td>119</td><td>moore</td><td>Moore</td><td>American</td><td>2025-02-01T17:45:43.37Z</td></tr><tr><td>120</td><td>dunn</td><td>Dunn</td><td>American</td><td>2025-02-01T17:45:43.37Z</td></tr><tr><td>121</td><td>elder</td><td>Elder</td><td>American</td><td>2025-02-01T17:45:43.37Z</td></tr><tr><td>122</td><td>sutton</td><td>Sutton</td><td>American</td><td>2025-02-01T17:45:43.37Z</td></tr><tr><td>123</td><td>fry</td><td>Fry</td><td>British</td><td>2025-02-01T17:45:43.37Z</td></tr><tr><td>124</td><td>tec-mec</td><td>Tec-Mec</td><td>Italian</td><td>2025-02-01T17:45:43.37Z</td></tr><tr><td>125</td><td>connaught</td><td>Connaught</td><td>British</td><td>2025-02-01T17:45:43.37Z</td></tr><tr><td>126</td><td>alta</td><td>Alta</td><td>British</td><td>2025-02-01T17:45:43.37Z</td></tr><tr><td>127</td><td>osca</td><td>OSCA</td><td>Italian</td><td>2025-02-01T17:45:43.37Z</td></tr><tr><td>128</td><td>gordini</td><td>Gordini</td><td>French</td><td>2025-02-01T17:45:43.37Z</td></tr><tr><td>129</td><td>stevens</td><td>Stevens</td><td>American</td><td>2025-02-01T17:45:43.37Z</td></tr><tr><td>130</td><td>bugatti</td><td>Bugatti</td><td>French</td><td>2025-02-01T17:45:43.37Z</td></tr><tr><td>131</td><td>mercedes</td><td>Mercedes</td><td>German</td><td>2025-02-01T17:45:43.37Z</td></tr><tr><td>132</td><td>lancia</td><td>Lancia</td><td>Italian</td><td>2025-02-01T17:45:43.37Z</td></tr><tr><td>133</td><td>hwm</td><td>HWM</td><td>British</td><td>2025-02-01T17:45:43.37Z</td></tr><tr><td>134</td><td>schroeder</td><td>Schroeder</td><td>American</td><td>2025-02-01T17:45:43.37Z</td></tr><tr><td>135</td><td>pawl</td><td>Pawl</td><td>American</td><td>2025-02-01T17:45:43.37Z</td></tr><tr><td>136</td><td>pankratz</td><td>Pankratz</td><td>American</td><td>2025-02-01T17:45:43.37Z</td></tr><tr><td>137</td><td>arzani-volpini</td><td>Arzani-Volpini</td><td>Italian</td><td>2025-02-01T17:45:43.37Z</td></tr><tr><td>138</td><td>nichels</td><td>Nichels</td><td>American</td><td>2025-02-01T17:45:43.37Z</td></tr><tr><td>139</td><td>bromme</td><td>Bromme</td><td>American</td><td>2025-02-01T17:45:43.37Z</td></tr><tr><td>140</td><td>klenk</td><td>Klenk</td><td>German</td><td>2025-02-01T17:45:43.37Z</td></tr><tr><td>141</td><td>simca</td><td>Simca</td><td>French</td><td>2025-02-01T17:45:43.37Z</td></tr><tr><td>142</td><td>turner</td><td>Turner</td><td>American</td><td>2025-02-01T17:45:43.37Z</td></tr><tr><td>143</td><td>del_roy</td><td>Del Roy</td><td>American</td><td>2025-02-01T17:45:43.37Z</td></tr><tr><td>144</td><td>veritas</td><td>Veritas</td><td>German</td><td>2025-02-01T17:45:43.37Z</td></tr><tr><td>145</td><td>bmw</td><td>BMW</td><td>German</td><td>2025-02-01T17:45:43.37Z</td></tr><tr><td>146</td><td>emw</td><td>EMW</td><td>East German</td><td>2025-02-01T17:45:43.37Z</td></tr><tr><td>147</td><td>afm</td><td>AFM</td><td>German</td><td>2025-02-01T17:45:43.37Z</td></tr><tr><td>148</td><td>frazer_nash</td><td>Frazer Nash</td><td>British</td><td>2025-02-01T17:45:43.37Z</td></tr><tr><td>149</td><td>sherman</td><td>Sherman</td><td>American</td><td>2025-02-01T17:45:43.37Z</td></tr><tr><td>150</td><td>deidt</td><td>Deidt</td><td>American</td><td>2025-02-01T17:45:43.37Z</td></tr><tr><td>151</td><td>era</td><td>ERA</td><td>British</td><td>2025-02-01T17:45:43.37Z</td></tr><tr><td>152</td><td>butterworth</td><td>Aston Butterworth</td><td>British</td><td>2025-02-01T17:45:43.37Z</td></tr><tr><td>153</td><td>cisitalia</td><td>Cisitalia</td><td>Italian</td><td>2025-02-01T17:45:43.37Z</td></tr><tr><td>154</td><td>lago</td><td>Talbot-Lago</td><td>French</td><td>2025-02-01T17:45:43.37Z</td></tr><tr><td>155</td><td>hall</td><td>Hall</td><td>American</td><td>2025-02-01T17:45:43.37Z</td></tr><tr><td>156</td><td>marchese</td><td>Marchese</td><td>American</td><td>2025-02-01T17:45:43.37Z</td></tr><tr><td>157</td><td>langley</td><td>Langley</td><td>American</td><td>2025-02-01T17:45:43.37Z</td></tr><tr><td>158</td><td>rae</td><td>Rae</td><td>American</td><td>2025-02-01T17:45:43.37Z</td></tr><tr><td>159</td><td>olson</td><td>Olson</td><td>American</td><td>2025-02-01T17:45:43.37Z</td></tr><tr><td>160</td><td>wetteroth</td><td>Wetteroth</td><td>American</td><td>2025-02-01T17:45:43.37Z</td></tr><tr><td>161</td><td>adams</td><td>Adams</td><td>American</td><td>2025-02-01T17:45:43.37Z</td></tr><tr><td>162</td><td>snowberger</td><td>Snowberger</td><td>American</td><td>2025-02-01T17:45:43.37Z</td></tr><tr><td>163</td><td>milano</td><td>Milano</td><td>Italian</td><td>2025-02-01T17:45:43.37Z</td></tr><tr><td>164</td><td>hrt</td><td>HRT</td><td>Spanish</td><td>2025-02-01T17:45:43.37Z</td></tr><tr><td>167</td><td>cooper-maserati</td><td>Cooper-Maserati</td><td>British</td><td>2025-02-01T17:45:43.37Z</td></tr><tr><td>166</td><td>virgin</td><td>Virgin</td><td>British</td><td>2025-02-01T17:45:43.37Z</td></tr><tr><td>168</td><td>cooper-osca</td><td>Cooper-OSCA</td><td>British</td><td>2025-02-01T17:45:43.37Z</td></tr><tr><td>169</td><td>cooper-borgward</td><td>Cooper-Borgward</td><td>British</td><td>2025-02-01T17:45:43.37Z</td></tr><tr><td>170</td><td>cooper-climax</td><td>Cooper-Climax</td><td>British</td><td>2025-02-01T17:45:43.37Z</td></tr><tr><td>171</td><td>cooper-castellotti</td><td>Cooper-Castellotti</td><td>British</td><td>2025-02-01T17:45:43.37Z</td></tr><tr><td>172</td><td>lotus-climax</td><td>Lotus-Climax</td><td>British</td><td>2025-02-01T17:45:43.37Z</td></tr><tr><td>173</td><td>lotus-maserati</td><td>Lotus-Maserati</td><td>British</td><td>2025-02-01T17:45:43.37Z</td></tr><tr><td>174</td><td>de_tomaso-osca</td><td>De Tomaso-Osca</td><td>Italian</td><td>2025-02-01T17:45:43.37Z</td></tr><tr><td>175</td><td>de_tomaso-alfa_romeo</td><td>De Tomaso-Alfa Romeo</td><td>Italian</td><td>2025-02-01T17:45:43.37Z</td></tr><tr><td>176</td><td>lotus-brm</td><td>Lotus-BRM</td><td>British</td><td>2025-02-01T17:45:43.37Z</td></tr><tr><td>177</td><td>lotus-borgward</td><td>Lotus-Borgward</td><td>British</td><td>2025-02-01T17:45:43.37Z</td></tr><tr><td>178</td><td>cooper-alfa_romeo</td><td>Cooper-Alfa Romeo</td><td>British</td><td>2025-02-01T17:45:43.37Z</td></tr><tr><td>179</td><td>de_tomaso-ferrari</td><td>De Tomaso-Ferrari</td><td>Italian</td><td>2025-02-01T17:45:43.37Z</td></tr><tr><td>180</td><td>lotus-ford</td><td>Lotus-Ford</td><td>British</td><td>2025-02-01T17:45:43.37Z</td></tr><tr><td>181</td><td>brabham-brm</td><td>Brabham-BRM</td><td>British</td><td>2025-02-01T17:45:43.37Z</td></tr><tr><td>182</td><td>brabham-ford</td><td>Brabham-Ford</td><td>British</td><td>2025-02-01T17:45:43.37Z</td></tr><tr><td>183</td><td>brabham-climax</td><td>Brabham-Climax</td><td>British</td><td>2025-02-01T17:45:43.37Z</td></tr><tr><td>184</td><td>lds-climax</td><td>LDS-Climax</td><td>South African</td><td>2025-02-01T17:45:43.37Z</td></tr><tr><td>185</td><td>lds-alfa_romeo</td><td>LDS-Alfa Romeo</td><td>South African</td><td>2025-02-01T17:45:43.37Z</td></tr><tr><td>186</td><td>cooper-ford</td><td>Cooper-Ford</td><td>British</td><td>2025-02-01T17:45:43.37Z</td></tr><tr><td>187</td><td>mclaren-ford</td><td>McLaren-Ford</td><td>British</td><td>2025-02-01T17:45:43.37Z</td></tr><tr><td>188</td><td>mclaren-seren</td><td>McLaren-Serenissima</td><td>British</td><td>2025-02-01T17:45:43.37Z</td></tr><tr><td>189</td><td>eagle-climax</td><td>Eagle-Climax</td><td>American</td><td>2025-02-01T17:45:43.37Z</td></tr><tr><td>190</td><td>eagle-weslake</td><td>Eagle-Weslake</td><td>American</td><td>2025-02-01T17:45:43.37Z</td></tr><tr><td>191</td><td>brabham-repco</td><td>Brabham-Repco</td><td>British</td><td>2025-02-01T17:45:43.37Z</td></tr><tr><td>192</td><td>cooper-ferrari</td><td>Cooper-Ferrari</td><td>British</td><td>2025-02-01T17:45:43.37Z</td></tr><tr><td>193</td><td>cooper-ats</td><td>Cooper-ATS</td><td>British</td><td>2025-02-01T17:45:43.37Z</td></tr><tr><td>194</td><td>mclaren-brm</td><td>McLaren-BRM</td><td>British</td><td>2025-02-01T17:45:43.37Z</td></tr><tr><td>195</td><td>cooper-brm</td><td>Cooper-BRM</td><td>British</td><td>2025-02-01T17:45:43.37Z</td></tr><tr><td>196</td><td>matra-ford</td><td>Matra-Ford</td><td>French</td><td>2025-02-01T17:45:43.37Z</td></tr><tr><td>197</td><td>brm-ford</td><td>BRM-Ford</td><td>British</td><td>2025-02-01T17:45:43.37Z</td></tr><tr><td>198</td><td>mclaren-alfa_romeo</td><td>McLaren-Alfa Romeo</td><td>British</td><td>2025-02-01T17:45:43.37Z</td></tr><tr><td>199</td><td>march-alfa_romeo</td><td>March-Alfa Romeo</td><td>British</td><td>2025-02-01T17:45:43.37Z</td></tr><tr><td>200</td><td>march-ford</td><td>March-Ford</td><td>British</td><td>2025-02-01T17:45:43.37Z</td></tr><tr><td>201</td><td>lotus-pw</td><td>Lotus-Pratt &amp; Whitney</td><td>British</td><td>2025-02-01T17:45:43.37Z</td></tr><tr><td>202</td><td>shadow-ford</td><td>Shadow-Ford</td><td>British</td><td>2025-02-01T17:45:43.37Z</td></tr><tr><td>203</td><td>shadow-matra</td><td>Shadow-Matra</td><td>British</td><td>2025-02-01T17:45:43.37Z</td></tr><tr><td>204</td><td>brabham-alfa_romeo</td><td>Brabham-Alfa Romeo</td><td>British</td><td>2025-02-01T17:45:43.37Z</td></tr><tr><td>205</td><td>lotus_racing</td><td>Lotus</td><td>Malaysian</td><td>2025-02-01T17:45:43.37Z</td></tr><tr><td>206</td><td>marussia</td><td>Marussia</td><td>Russian</td><td>2025-02-01T17:45:43.37Z</td></tr><tr><td>207</td><td>caterham</td><td>Caterham</td><td>Malaysian</td><td>2025-02-01T17:45:43.37Z</td></tr><tr><td>208</td><td>lotus_f1</td><td>Lotus F1</td><td>British</td><td>2025-02-01T17:45:43.37Z</td></tr><tr><td>209</td><td>manor</td><td>Manor Marussia</td><td>British</td><td>2025-02-01T17:45:43.37Z</td></tr><tr><td>210</td><td>haas</td><td>Haas F1 Team</td><td>American</td><td>2025-02-01T17:45:43.37Z</td></tr><tr><td>211</td><td>racing_point</td><td>Racing Point</td><td>British</td><td>2025-02-01T17:45:43.37Z</td></tr><tr><td>213</td><td>alphatauri</td><td>AlphaTauri</td><td>Italian</td><td>2025-02-01T17:45:43.37Z</td></tr><tr><td>214</td><td>alpine</td><td>Alpine F1 Team</td><td>French</td><td>2025-02-01T17:45:43.37Z</td></tr></tbody></table></div>"
      ]
     },
     "metadata": {
      "application/vnd.databricks.v1+output": {
       "addedWidgets": {},
       "aggData": [],
       "aggError": "",
       "aggOverflow": false,
       "aggSchema": [],
       "aggSeriesLimitReached": false,
       "aggType": "",
       "arguments": {},
       "columnCustomDisplayInfos": {},
       "data": [
        [
         1,
         "mclaren",
         "McLaren",
         "British",
         "2025-02-01T17:45:43.37Z"
        ],
        [
         2,
         "bmw_sauber",
         "BMW Sauber",
         "German",
         "2025-02-01T17:45:43.37Z"
        ],
        [
         3,
         "williams",
         "Williams",
         "British",
         "2025-02-01T17:45:43.37Z"
        ],
        [
         4,
         "renault",
         "Renault",
         "French",
         "2025-02-01T17:45:43.37Z"
        ],
        [
         5,
         "toro_rosso",
         "Toro Rosso",
         "Italian",
         "2025-02-01T17:45:43.37Z"
        ],
        [
         6,
         "ferrari",
         "Ferrari",
         "Italian",
         "2025-02-01T17:45:43.37Z"
        ],
        [
         7,
         "toyota",
         "Toyota",
         "Japanese",
         "2025-02-01T17:45:43.37Z"
        ],
        [
         8,
         "super_aguri",
         "Super Aguri",
         "Japanese",
         "2025-02-01T17:45:43.37Z"
        ],
        [
         9,
         "red_bull",
         "Red Bull",
         "Austrian",
         "2025-02-01T17:45:43.37Z"
        ],
        [
         10,
         "force_india",
         "Force India",
         "Indian",
         "2025-02-01T17:45:43.37Z"
        ],
        [
         11,
         "honda",
         "Honda",
         "Japanese",
         "2025-02-01T17:45:43.37Z"
        ],
        [
         12,
         "spyker",
         "Spyker",
         "Dutch",
         "2025-02-01T17:45:43.37Z"
        ],
        [
         13,
         "mf1",
         "MF1",
         "Russian",
         "2025-02-01T17:45:43.37Z"
        ],
        [
         14,
         "spyker_mf1",
         "Spyker MF1",
         "Dutch",
         "2025-02-01T17:45:43.37Z"
        ],
        [
         15,
         "sauber",
         "Sauber",
         "Swiss",
         "2025-02-01T17:45:43.37Z"
        ],
        [
         16,
         "bar",
         "BAR",
         "British",
         "2025-02-01T17:45:43.37Z"
        ],
        [
         17,
         "jordan",
         "Jordan",
         "Irish",
         "2025-02-01T17:45:43.37Z"
        ],
        [
         18,
         "minardi",
         "Minardi",
         "Italian",
         "2025-02-01T17:45:43.37Z"
        ],
        [
         19,
         "jaguar",
         "Jaguar",
         "British",
         "2025-02-01T17:45:43.37Z"
        ],
        [
         20,
         "prost",
         "Prost",
         "French",
         "2025-02-01T17:45:43.37Z"
        ],
        [
         21,
         "arrows",
         "Arrows",
         "British",
         "2025-02-01T17:45:43.37Z"
        ],
        [
         22,
         "benetton",
         "Benetton",
         "Italian",
         "2025-02-01T17:45:43.37Z"
        ],
        [
         23,
         "brawn",
         "Brawn",
         "British",
         "2025-02-01T17:45:43.37Z"
        ],
        [
         24,
         "stewart",
         "Stewart",
         "British",
         "2025-02-01T17:45:43.37Z"
        ],
        [
         25,
         "tyrrell",
         "Tyrrell",
         "British",
         "2025-02-01T17:45:43.37Z"
        ],
        [
         26,
         "lola",
         "Lola",
         "British",
         "2025-02-01T17:45:43.37Z"
        ],
        [
         27,
         "ligier",
         "Ligier",
         "French",
         "2025-02-01T17:45:43.37Z"
        ],
        [
         28,
         "forti",
         "Forti",
         "Italian",
         "2025-02-01T17:45:43.37Z"
        ],
        [
         29,
         "footwork",
         "Footwork",
         "British",
         "2025-02-01T17:45:43.37Z"
        ],
        [
         30,
         "pacific",
         "Pacific",
         "British",
         "2025-02-01T17:45:43.37Z"
        ],
        [
         31,
         "simtek",
         "Simtek",
         "British",
         "2025-02-01T17:45:43.37Z"
        ],
        [
         32,
         "team_lotus",
         "Team Lotus",
         "British",
         "2025-02-01T17:45:43.37Z"
        ],
        [
         33,
         "larrousse",
         "Larrousse",
         "French",
         "2025-02-01T17:45:43.37Z"
        ],
        [
         34,
         "brabham",
         "Brabham",
         "British",
         "2025-02-01T17:45:43.37Z"
        ],
        [
         35,
         "dallara",
         "Dallara",
         "Italian",
         "2025-02-01T17:45:43.37Z"
        ],
        [
         36,
         "fondmetal",
         "Fondmetal",
         "Italian",
         "2025-02-01T17:45:43.37Z"
        ],
        [
         37,
         "march",
         "March",
         "British",
         "2025-02-01T17:45:43.37Z"
        ],
        [
         38,
         "moda",
         "Andrea Moda",
         "Italian",
         "2025-02-01T17:45:43.37Z"
        ],
        [
         39,
         "ags",
         "AGS",
         "French",
         "2025-02-01T17:45:43.37Z"
        ],
        [
         40,
         "lambo",
         "Lambo",
         "Italian",
         "2025-02-01T17:45:43.37Z"
        ],
        [
         41,
         "leyton",
         "Leyton House",
         "British",
         "2025-02-01T17:45:43.37Z"
        ],
        [
         42,
         "coloni",
         "Coloni",
         "Italian",
         "2025-02-01T17:45:43.37Z"
        ],
        [
         44,
         "eurobrun",
         "Euro Brun",
         "Italian",
         "2025-02-01T17:45:43.37Z"
        ],
        [
         45,
         "osella",
         "Osella",
         "Italian",
         "2025-02-01T17:45:43.37Z"
        ],
        [
         46,
         "onyx",
         "Onyx",
         "British",
         "2025-02-01T17:45:43.37Z"
        ],
        [
         47,
         "life",
         "Life",
         "Italian",
         "2025-02-01T17:45:43.37Z"
        ],
        [
         48,
         "rial",
         "Rial",
         "German",
         "2025-02-01T17:45:43.37Z"
        ],
        [
         49,
         "zakspeed",
         "Zakspeed",
         "German",
         "2025-02-01T17:45:43.37Z"
        ],
        [
         50,
         "ram",
         "RAM",
         "British",
         "2025-02-01T17:45:43.37Z"
        ],
        [
         51,
         "alfa",
         "Alfa Romeo",
         "Italian",
         "2025-02-01T17:45:43.37Z"
        ],
        [
         52,
         "spirit",
         "Spirit",
         "British",
         "2025-02-01T17:45:43.37Z"
        ],
        [
         53,
         "toleman",
         "Toleman",
         "British",
         "2025-02-01T17:45:43.37Z"
        ],
        [
         54,
         "ats",
         "ATS",
         "Italian",
         "2025-02-01T17:45:43.37Z"
        ],
        [
         55,
         "theodore",
         "Theodore",
         "Hong Kong",
         "2025-02-01T17:45:43.37Z"
        ],
        [
         56,
         "fittipaldi",
         "Fittipaldi",
         "Brazilian",
         "2025-02-01T17:45:43.37Z"
        ],
        [
         57,
         "ensign",
         "Ensign",
         "British",
         "2025-02-01T17:45:43.37Z"
        ],
        [
         58,
         "shadow",
         "Shadow",
         "British",
         "2025-02-01T17:45:43.37Z"
        ],
        [
         59,
         "wolf",
         "Wolf",
         "Canadian",
         "2025-02-01T17:45:43.37Z"
        ],
        [
         60,
         "merzario",
         "Merzario",
         "Italian",
         "2025-02-01T17:45:43.37Z"
        ],
        [
         61,
         "kauhsen",
         "Kauhsen",
         "German",
         "2025-02-01T17:45:43.37Z"
        ],
        [
         62,
         "rebaque",
         "Rebaque",
         "Mexican",
         "2025-02-01T17:45:43.37Z"
        ],
        [
         63,
         "surtees",
         "Surtees",
         "British",
         "2025-02-01T17:45:43.37Z"
        ],
        [
         64,
         "hesketh",
         "Hesketh",
         "British",
         "2025-02-01T17:45:43.37Z"
        ],
        [
         65,
         "martini",
         "Martini",
         "French",
         "2025-02-01T17:45:43.37Z"
        ],
        [
         66,
         "brm",
         "BRM",
         "British",
         "2025-02-01T17:45:43.37Z"
        ],
        [
         67,
         "penske",
         "Penske",
         "American",
         "2025-02-01T17:45:43.37Z"
        ],
        [
         68,
         "lec",
         "LEC",
         "British",
         "2025-02-01T17:45:43.37Z"
        ],
        [
         69,
         "mcguire",
         "McGuire",
         "Australian",
         "2025-02-01T17:45:43.37Z"
        ],
        [
         70,
         "boro",
         "Boro",
         "Dutch",
         "2025-02-01T17:45:43.37Z"
        ],
        [
         71,
         "apollon",
         "Apollon",
         "Swiss",
         "2025-02-01T17:45:43.37Z"
        ],
        [
         72,
         "kojima",
         "Kojima",
         "Japanese",
         "2025-02-01T17:45:43.37Z"
        ],
        [
         73,
         "parnelli",
         "Parnelli",
         "American",
         "2025-02-01T17:45:43.37Z"
        ],
        [
         74,
         "maki",
         "Maki",
         "Japanese",
         "2025-02-01T17:45:43.37Z"
        ],
        [
         75,
         "hill",
         "Embassy Hill",
         "British",
         "2025-02-01T17:45:43.37Z"
        ],
        [
         76,
         "lyncar",
         "Lyncar",
         "British",
         "2025-02-01T17:45:43.37Z"
        ],
        [
         77,
         "trojan",
         "Trojan",
         "British",
         "2025-02-01T17:45:43.37Z"
        ],
        [
         78,
         "amon",
         "Amon",
         "New Zealand",
         "2025-02-01T17:45:43.37Z"
        ],
        [
         79,
         "token",
         "Token",
         "British",
         "2025-02-01T17:45:43.37Z"
        ],
        [
         80,
         "iso_marlboro",
         "Iso Marlboro",
         "British",
         "2025-02-01T17:45:43.37Z"
        ],
        [
         81,
         "tecno",
         "Tecno",
         "Italian",
         "2025-02-01T17:45:43.37Z"
        ],
        [
         82,
         "matra",
         "Matra",
         "French",
         "2025-02-01T17:45:43.37Z"
        ],
        [
         83,
         "politoys",
         "Politoys",
         "British",
         "2025-02-01T17:45:43.37Z"
        ],
        [
         84,
         "connew",
         "Connew",
         "British",
         "2025-02-01T17:45:43.37Z"
        ],
        [
         85,
         "bellasi",
         "Bellasi",
         "Swiss",
         "2025-02-01T17:45:43.37Z"
        ],
        [
         86,
         "tomaso",
         "De Tomaso",
         "Italian",
         "2025-02-01T17:45:43.37Z"
        ],
        [
         87,
         "cooper",
         "Cooper",
         "British",
         "2025-02-01T17:45:43.37Z"
        ],
        [
         88,
         "eagle",
         "Eagle",
         "American",
         "2025-02-01T17:45:43.37Z"
        ],
        [
         89,
         "lds",
         "LDS",
         "South African",
         "2025-02-01T17:45:43.37Z"
        ],
        [
         90,
         "protos",
         "Protos",
         "British",
         "2025-02-01T17:45:43.37Z"
        ],
        [
         91,
         "shannon",
         "Shannon",
         "British",
         "2025-02-01T17:45:43.37Z"
        ],
        [
         92,
         "scirocco",
         "Scirocco",
         "British",
         "2025-02-01T17:45:43.37Z"
        ],
        [
         93,
         "re",
         "RE",
         "Rhodesian",
         "2025-02-01T17:45:43.37Z"
        ],
        [
         94,
         "brp",
         "BRP",
         "British",
         "2025-02-01T17:45:43.37Z"
        ],
        [
         95,
         "porsche",
         "Porsche",
         "German",
         "2025-02-01T17:45:43.37Z"
        ],
        [
         96,
         "derrington",
         "Derrington",
         "British",
         "2025-02-01T17:45:43.37Z"
        ],
        [
         97,
         "gilby",
         "Gilby",
         "British",
         "2025-02-01T17:45:43.37Z"
        ],
        [
         98,
         "stebro",
         "Stebro",
         "Canadian",
         "2025-02-01T17:45:43.37Z"
        ],
        [
         99,
         "emeryson",
         "Emeryson",
         "British",
         "2025-02-01T17:45:43.37Z"
        ],
        [
         100,
         "enb",
         "ENB",
         "Belgium",
         "2025-02-01T17:45:43.37Z"
        ],
        [
         101,
         "jbw",
         "JBW",
         "British",
         "2025-02-01T17:45:43.37Z"
        ],
        [
         102,
         "ferguson",
         "Ferguson",
         "British",
         "2025-02-01T17:45:43.37Z"
        ],
        [
         103,
         "mbm",
         "MBM",
         "Swiss",
         "2025-02-01T17:45:43.37Z"
        ],
        [
         104,
         "behra-porsche",
         "Behra-Porsche",
         "Italian",
         "2025-02-01T17:45:43.37Z"
        ],
        [
         105,
         "maserati",
         "Maserati",
         "Italian",
         "2025-02-01T17:45:43.37Z"
        ],
        [
         106,
         "scarab",
         "Scarab",
         "American",
         "2025-02-01T17:45:43.37Z"
        ],
        [
         107,
         "watson",
         "Watson",
         "American",
         "2025-02-01T17:45:43.37Z"
        ],
        [
         108,
         "epperly",
         "Epperly",
         "American",
         "2025-02-01T17:45:43.37Z"
        ],
        [
         109,
         "phillips",
         "Phillips",
         "American",
         "2025-02-01T17:45:43.37Z"
        ],
        [
         110,
         "lesovsky",
         "Lesovsky",
         "American",
         "2025-02-01T17:45:43.37Z"
        ],
        [
         111,
         "trevis",
         "Trevis",
         "American",
         "2025-02-01T17:45:43.37Z"
        ],
        [
         112,
         "meskowski",
         "Meskowski",
         "American",
         "2025-02-01T17:45:43.37Z"
        ],
        [
         113,
         "kurtis_kraft",
         "Kurtis Kraft",
         "American",
         "2025-02-01T17:45:43.37Z"
        ],
        [
         114,
         "kuzma",
         "Kuzma",
         "American",
         "2025-02-01T17:45:43.37Z"
        ],
        [
         115,
         "vhristensen",
         "Christensen",
         "American",
         "2025-02-01T17:45:43.37Z"
        ],
        [
         116,
         "ewing",
         "Ewing",
         "American",
         "2025-02-01T17:45:43.37Z"
        ],
        [
         117,
         "aston_martin",
         "Aston Martin",
         "British",
         "2025-02-01T17:45:43.37Z"
        ],
        [
         118,
         "vanwall",
         "Vanwall",
         "British",
         "2025-02-01T17:45:43.37Z"
        ],
        [
         119,
         "moore",
         "Moore",
         "American",
         "2025-02-01T17:45:43.37Z"
        ],
        [
         120,
         "dunn",
         "Dunn",
         "American",
         "2025-02-01T17:45:43.37Z"
        ],
        [
         121,
         "elder",
         "Elder",
         "American",
         "2025-02-01T17:45:43.37Z"
        ],
        [
         122,
         "sutton",
         "Sutton",
         "American",
         "2025-02-01T17:45:43.37Z"
        ],
        [
         123,
         "fry",
         "Fry",
         "British",
         "2025-02-01T17:45:43.37Z"
        ],
        [
         124,
         "tec-mec",
         "Tec-Mec",
         "Italian",
         "2025-02-01T17:45:43.37Z"
        ],
        [
         125,
         "connaught",
         "Connaught",
         "British",
         "2025-02-01T17:45:43.37Z"
        ],
        [
         126,
         "alta",
         "Alta",
         "British",
         "2025-02-01T17:45:43.37Z"
        ],
        [
         127,
         "osca",
         "OSCA",
         "Italian",
         "2025-02-01T17:45:43.37Z"
        ],
        [
         128,
         "gordini",
         "Gordini",
         "French",
         "2025-02-01T17:45:43.37Z"
        ],
        [
         129,
         "stevens",
         "Stevens",
         "American",
         "2025-02-01T17:45:43.37Z"
        ],
        [
         130,
         "bugatti",
         "Bugatti",
         "French",
         "2025-02-01T17:45:43.37Z"
        ],
        [
         131,
         "mercedes",
         "Mercedes",
         "German",
         "2025-02-01T17:45:43.37Z"
        ],
        [
         132,
         "lancia",
         "Lancia",
         "Italian",
         "2025-02-01T17:45:43.37Z"
        ],
        [
         133,
         "hwm",
         "HWM",
         "British",
         "2025-02-01T17:45:43.37Z"
        ],
        [
         134,
         "schroeder",
         "Schroeder",
         "American",
         "2025-02-01T17:45:43.37Z"
        ],
        [
         135,
         "pawl",
         "Pawl",
         "American",
         "2025-02-01T17:45:43.37Z"
        ],
        [
         136,
         "pankratz",
         "Pankratz",
         "American",
         "2025-02-01T17:45:43.37Z"
        ],
        [
         137,
         "arzani-volpini",
         "Arzani-Volpini",
         "Italian",
         "2025-02-01T17:45:43.37Z"
        ],
        [
         138,
         "nichels",
         "Nichels",
         "American",
         "2025-02-01T17:45:43.37Z"
        ],
        [
         139,
         "bromme",
         "Bromme",
         "American",
         "2025-02-01T17:45:43.37Z"
        ],
        [
         140,
         "klenk",
         "Klenk",
         "German",
         "2025-02-01T17:45:43.37Z"
        ],
        [
         141,
         "simca",
         "Simca",
         "French",
         "2025-02-01T17:45:43.37Z"
        ],
        [
         142,
         "turner",
         "Turner",
         "American",
         "2025-02-01T17:45:43.37Z"
        ],
        [
         143,
         "del_roy",
         "Del Roy",
         "American",
         "2025-02-01T17:45:43.37Z"
        ],
        [
         144,
         "veritas",
         "Veritas",
         "German",
         "2025-02-01T17:45:43.37Z"
        ],
        [
         145,
         "bmw",
         "BMW",
         "German",
         "2025-02-01T17:45:43.37Z"
        ],
        [
         146,
         "emw",
         "EMW",
         "East German",
         "2025-02-01T17:45:43.37Z"
        ],
        [
         147,
         "afm",
         "AFM",
         "German",
         "2025-02-01T17:45:43.37Z"
        ],
        [
         148,
         "frazer_nash",
         "Frazer Nash",
         "British",
         "2025-02-01T17:45:43.37Z"
        ],
        [
         149,
         "sherman",
         "Sherman",
         "American",
         "2025-02-01T17:45:43.37Z"
        ],
        [
         150,
         "deidt",
         "Deidt",
         "American",
         "2025-02-01T17:45:43.37Z"
        ],
        [
         151,
         "era",
         "ERA",
         "British",
         "2025-02-01T17:45:43.37Z"
        ],
        [
         152,
         "butterworth",
         "Aston Butterworth",
         "British",
         "2025-02-01T17:45:43.37Z"
        ],
        [
         153,
         "cisitalia",
         "Cisitalia",
         "Italian",
         "2025-02-01T17:45:43.37Z"
        ],
        [
         154,
         "lago",
         "Talbot-Lago",
         "French",
         "2025-02-01T17:45:43.37Z"
        ],
        [
         155,
         "hall",
         "Hall",
         "American",
         "2025-02-01T17:45:43.37Z"
        ],
        [
         156,
         "marchese",
         "Marchese",
         "American",
         "2025-02-01T17:45:43.37Z"
        ],
        [
         157,
         "langley",
         "Langley",
         "American",
         "2025-02-01T17:45:43.37Z"
        ],
        [
         158,
         "rae",
         "Rae",
         "American",
         "2025-02-01T17:45:43.37Z"
        ],
        [
         159,
         "olson",
         "Olson",
         "American",
         "2025-02-01T17:45:43.37Z"
        ],
        [
         160,
         "wetteroth",
         "Wetteroth",
         "American",
         "2025-02-01T17:45:43.37Z"
        ],
        [
         161,
         "adams",
         "Adams",
         "American",
         "2025-02-01T17:45:43.37Z"
        ],
        [
         162,
         "snowberger",
         "Snowberger",
         "American",
         "2025-02-01T17:45:43.37Z"
        ],
        [
         163,
         "milano",
         "Milano",
         "Italian",
         "2025-02-01T17:45:43.37Z"
        ],
        [
         164,
         "hrt",
         "HRT",
         "Spanish",
         "2025-02-01T17:45:43.37Z"
        ],
        [
         167,
         "cooper-maserati",
         "Cooper-Maserati",
         "British",
         "2025-02-01T17:45:43.37Z"
        ],
        [
         166,
         "virgin",
         "Virgin",
         "British",
         "2025-02-01T17:45:43.37Z"
        ],
        [
         168,
         "cooper-osca",
         "Cooper-OSCA",
         "British",
         "2025-02-01T17:45:43.37Z"
        ],
        [
         169,
         "cooper-borgward",
         "Cooper-Borgward",
         "British",
         "2025-02-01T17:45:43.37Z"
        ],
        [
         170,
         "cooper-climax",
         "Cooper-Climax",
         "British",
         "2025-02-01T17:45:43.37Z"
        ],
        [
         171,
         "cooper-castellotti",
         "Cooper-Castellotti",
         "British",
         "2025-02-01T17:45:43.37Z"
        ],
        [
         172,
         "lotus-climax",
         "Lotus-Climax",
         "British",
         "2025-02-01T17:45:43.37Z"
        ],
        [
         173,
         "lotus-maserati",
         "Lotus-Maserati",
         "British",
         "2025-02-01T17:45:43.37Z"
        ],
        [
         174,
         "de_tomaso-osca",
         "De Tomaso-Osca",
         "Italian",
         "2025-02-01T17:45:43.37Z"
        ],
        [
         175,
         "de_tomaso-alfa_romeo",
         "De Tomaso-Alfa Romeo",
         "Italian",
         "2025-02-01T17:45:43.37Z"
        ],
        [
         176,
         "lotus-brm",
         "Lotus-BRM",
         "British",
         "2025-02-01T17:45:43.37Z"
        ],
        [
         177,
         "lotus-borgward",
         "Lotus-Borgward",
         "British",
         "2025-02-01T17:45:43.37Z"
        ],
        [
         178,
         "cooper-alfa_romeo",
         "Cooper-Alfa Romeo",
         "British",
         "2025-02-01T17:45:43.37Z"
        ],
        [
         179,
         "de_tomaso-ferrari",
         "De Tomaso-Ferrari",
         "Italian",
         "2025-02-01T17:45:43.37Z"
        ],
        [
         180,
         "lotus-ford",
         "Lotus-Ford",
         "British",
         "2025-02-01T17:45:43.37Z"
        ],
        [
         181,
         "brabham-brm",
         "Brabham-BRM",
         "British",
         "2025-02-01T17:45:43.37Z"
        ],
        [
         182,
         "brabham-ford",
         "Brabham-Ford",
         "British",
         "2025-02-01T17:45:43.37Z"
        ],
        [
         183,
         "brabham-climax",
         "Brabham-Climax",
         "British",
         "2025-02-01T17:45:43.37Z"
        ],
        [
         184,
         "lds-climax",
         "LDS-Climax",
         "South African",
         "2025-02-01T17:45:43.37Z"
        ],
        [
         185,
         "lds-alfa_romeo",
         "LDS-Alfa Romeo",
         "South African",
         "2025-02-01T17:45:43.37Z"
        ],
        [
         186,
         "cooper-ford",
         "Cooper-Ford",
         "British",
         "2025-02-01T17:45:43.37Z"
        ],
        [
         187,
         "mclaren-ford",
         "McLaren-Ford",
         "British",
         "2025-02-01T17:45:43.37Z"
        ],
        [
         188,
         "mclaren-seren",
         "McLaren-Serenissima",
         "British",
         "2025-02-01T17:45:43.37Z"
        ],
        [
         189,
         "eagle-climax",
         "Eagle-Climax",
         "American",
         "2025-02-01T17:45:43.37Z"
        ],
        [
         190,
         "eagle-weslake",
         "Eagle-Weslake",
         "American",
         "2025-02-01T17:45:43.37Z"
        ],
        [
         191,
         "brabham-repco",
         "Brabham-Repco",
         "British",
         "2025-02-01T17:45:43.37Z"
        ],
        [
         192,
         "cooper-ferrari",
         "Cooper-Ferrari",
         "British",
         "2025-02-01T17:45:43.37Z"
        ],
        [
         193,
         "cooper-ats",
         "Cooper-ATS",
         "British",
         "2025-02-01T17:45:43.37Z"
        ],
        [
         194,
         "mclaren-brm",
         "McLaren-BRM",
         "British",
         "2025-02-01T17:45:43.37Z"
        ],
        [
         195,
         "cooper-brm",
         "Cooper-BRM",
         "British",
         "2025-02-01T17:45:43.37Z"
        ],
        [
         196,
         "matra-ford",
         "Matra-Ford",
         "French",
         "2025-02-01T17:45:43.37Z"
        ],
        [
         197,
         "brm-ford",
         "BRM-Ford",
         "British",
         "2025-02-01T17:45:43.37Z"
        ],
        [
         198,
         "mclaren-alfa_romeo",
         "McLaren-Alfa Romeo",
         "British",
         "2025-02-01T17:45:43.37Z"
        ],
        [
         199,
         "march-alfa_romeo",
         "March-Alfa Romeo",
         "British",
         "2025-02-01T17:45:43.37Z"
        ],
        [
         200,
         "march-ford",
         "March-Ford",
         "British",
         "2025-02-01T17:45:43.37Z"
        ],
        [
         201,
         "lotus-pw",
         "Lotus-Pratt &amp; Whitney",
         "British",
         "2025-02-01T17:45:43.37Z"
        ],
        [
         202,
         "shadow-ford",
         "Shadow-Ford",
         "British",
         "2025-02-01T17:45:43.37Z"
        ],
        [
         203,
         "shadow-matra",
         "Shadow-Matra",
         "British",
         "2025-02-01T17:45:43.37Z"
        ],
        [
         204,
         "brabham-alfa_romeo",
         "Brabham-Alfa Romeo",
         "British",
         "2025-02-01T17:45:43.37Z"
        ],
        [
         205,
         "lotus_racing",
         "Lotus",
         "Malaysian",
         "2025-02-01T17:45:43.37Z"
        ],
        [
         206,
         "marussia",
         "Marussia",
         "Russian",
         "2025-02-01T17:45:43.37Z"
        ],
        [
         207,
         "caterham",
         "Caterham",
         "Malaysian",
         "2025-02-01T17:45:43.37Z"
        ],
        [
         208,
         "lotus_f1",
         "Lotus F1",
         "British",
         "2025-02-01T17:45:43.37Z"
        ],
        [
         209,
         "manor",
         "Manor Marussia",
         "British",
         "2025-02-01T17:45:43.37Z"
        ],
        [
         210,
         "haas",
         "Haas F1 Team",
         "American",
         "2025-02-01T17:45:43.37Z"
        ],
        [
         211,
         "racing_point",
         "Racing Point",
         "British",
         "2025-02-01T17:45:43.37Z"
        ],
        [
         213,
         "alphatauri",
         "AlphaTauri",
         "Italian",
         "2025-02-01T17:45:43.37Z"
        ],
        [
         214,
         "alpine",
         "Alpine F1 Team",
         "French",
         "2025-02-01T17:45:43.37Z"
        ]
       ],
       "datasetInfos": [],
       "dbfsResultPath": null,
       "isJsonSchema": true,
       "metadata": {},
       "overflow": false,
       "plotOptions": {
        "customPlotOptions": {},
        "displayType": "table",
        "pivotAggregation": null,
        "pivotColumns": null,
        "xColumns": null,
        "yColumns": null
       },
       "removedWidgets": [],
       "schema": [
        {
         "metadata": "{}",
         "name": "constructor_id",
         "type": "\"integer\""
        },
        {
         "metadata": "{}",
         "name": "constructor_ref",
         "type": "\"string\""
        },
        {
         "metadata": "{}",
         "name": "name",
         "type": "\"string\""
        },
        {
         "metadata": "{}",
         "name": "nationality",
         "type": "\"string\""
        },
        {
         "metadata": "{}",
         "name": "ingestion_date",
         "type": "\"timestamp\""
        }
       ],
       "type": "table"
      }
     },
     "output_type": "display_data"
    }
   ],
   "source": [
    "display(df)"
   ]
  },
  {
   "cell_type": "code",
   "execution_count": 0,
   "metadata": {
    "application/vnd.databricks.v1+cell": {
     "cellMetadata": {
      "byteLimit": 2048000,
      "rowLimit": 10000
     },
     "inputWidgets": {},
     "nuid": "853c2932-dd35-4b1b-acb1-dd1ab4d05672",
     "showTitle": false,
     "tableResultSettingsMap": {},
     "title": ""
    }
   },
   "outputs": [],
   "source": [
    "df.write.mode('overwrite').parquet(f'{process1_folder_path}/constructors')\n",
    "#df.write.mode(\"overwrite\").saveAsTable(\"f1_process.constructors\")"
   ]
  },
  {
   "cell_type": "code",
   "execution_count": 0,
   "metadata": {
    "application/vnd.databricks.v1+cell": {
     "cellMetadata": {
      "byteLimit": 2048000,
      "rowLimit": 10000
     },
     "inputWidgets": {},
     "nuid": "8dfe4d60-8e93-4a70-abcc-60b43ad5f504",
     "showTitle": false,
     "tableResultSettingsMap": {},
     "title": ""
    }
   },
   "outputs": [
    {
     "output_type": "display_data",
     "data": {
      "text/html": [
       "<style scoped>\n",
       "  .table-result-container {\n",
       "    max-height: 300px;\n",
       "    overflow: auto;\n",
       "  }\n",
       "  table, th, td {\n",
       "    border: 1px solid black;\n",
       "    border-collapse: collapse;\n",
       "  }\n",
       "  th, td {\n",
       "    padding: 5px;\n",
       "  }\n",
       "  th {\n",
       "    text-align: left;\n",
       "  }\n",
       "</style><div class='table-result-container'><table class='table-result'><thead style='background-color: white'><tr><th>path</th><th>name</th><th>size</th><th>modificationTime</th></tr></thead><tbody><tr><td>dbfs:/mnt/bluetab1002/process1/constructors/_SUCCESS</td><td>_SUCCESS</td><td>0</td><td>1738431944000</td></tr><tr><td>dbfs:/mnt/bluetab1002/process1/constructors/_committed_393292540548619432</td><td>_committed_393292540548619432</td><td>122</td><td>1738324572000</td></tr><tr><td>dbfs:/mnt/bluetab1002/process1/constructors/_committed_961523353054229760</td><td>_committed_961523353054229760</td><td>230</td><td>1738431944000</td></tr><tr><td>dbfs:/mnt/bluetab1002/process1/constructors/_committed_vacuum3697405697399068832</td><td>_committed_vacuum3697405697399068832</td><td>95</td><td>1738431944000</td></tr><tr><td>dbfs:/mnt/bluetab1002/process1/constructors/_started_961523353054229760</td><td>_started_961523353054229760</td><td>0</td><td>1738431944000</td></tr><tr><td>dbfs:/mnt/bluetab1002/process1/constructors/part-00000-tid-961523353054229760-483bdd8a-6ef0-4ba8-9b6b-9402df2821f5-47-1-c000.snappy.parquet</td><td>part-00000-tid-961523353054229760-483bdd8a-6ef0-4ba8-9b6b-9402df2821f5-47-1-c000.snappy.parquet</td><td>6667</td><td>1738431944000</td></tr></tbody></table></div>"
      ]
     },
     "metadata": {
      "application/vnd.databricks.v1+output": {
       "addedWidgets": {},
       "aggData": [],
       "aggError": "",
       "aggOverflow": false,
       "aggSchema": [],
       "aggSeriesLimitReached": false,
       "aggType": "",
       "arguments": {},
       "columnCustomDisplayInfos": {},
       "data": [
        [
         "dbfs:/mnt/bluetab1002/process1/constructors/_SUCCESS",
         "_SUCCESS",
         0,
         1738431944000
        ],
        [
         "dbfs:/mnt/bluetab1002/process1/constructors/_committed_393292540548619432",
         "_committed_393292540548619432",
         122,
         1738324572000
        ],
        [
         "dbfs:/mnt/bluetab1002/process1/constructors/_committed_961523353054229760",
         "_committed_961523353054229760",
         230,
         1738431944000
        ],
        [
         "dbfs:/mnt/bluetab1002/process1/constructors/_committed_vacuum3697405697399068832",
         "_committed_vacuum3697405697399068832",
         95,
         1738431944000
        ],
        [
         "dbfs:/mnt/bluetab1002/process1/constructors/_started_961523353054229760",
         "_started_961523353054229760",
         0,
         1738431944000
        ],
        [
         "dbfs:/mnt/bluetab1002/process1/constructors/part-00000-tid-961523353054229760-483bdd8a-6ef0-4ba8-9b6b-9402df2821f5-47-1-c000.snappy.parquet",
         "part-00000-tid-961523353054229760-483bdd8a-6ef0-4ba8-9b6b-9402df2821f5-47-1-c000.snappy.parquet",
         6667,
         1738431944000
        ]
       ],
       "datasetInfos": [],
       "dbfsResultPath": null,
       "isJsonSchema": true,
       "metadata": {
        "isDbfsCommandResult": false
       },
       "overflow": false,
       "plotOptions": {
        "customPlotOptions": {},
        "displayType": "table",
        "pivotAggregation": null,
        "pivotColumns": null,
        "xColumns": null,
        "yColumns": null
       },
       "removedWidgets": [],
       "schema": [
        {
         "metadata": "{}",
         "name": "path",
         "type": "\"string\""
        },
        {
         "metadata": "{}",
         "name": "name",
         "type": "\"string\""
        },
        {
         "metadata": "{}",
         "name": "size",
         "type": "\"long\""
        },
        {
         "metadata": "{}",
         "name": "modificationTime",
         "type": "\"long\""
        }
       ],
       "type": "table"
      }
     },
     "output_type": "display_data"
    }
   ],
   "source": [
    "%fs\n",
    "ls /mnt/bluetab1002/process1/constructors"
   ]
  },
  {
   "cell_type": "code",
   "execution_count": 0,
   "metadata": {
    "application/vnd.databricks.v1+cell": {
     "cellMetadata": {
      "byteLimit": 2048000,
      "rowLimit": 10000
     },
     "inputWidgets": {},
     "nuid": "ae87ea57-af43-4161-9fe4-911f8d6bc123",
     "showTitle": false,
     "tableResultSettingsMap": {},
     "title": ""
    }
   },
   "outputs": [],
   "source": [
    "dbutils.notebook.exit(\"Sucess\")"
   ]
  }
 ],
 "metadata": {
  "application/vnd.databricks.v1+notebook": {
   "computePreferences": null,
   "dashboards": [],
   "environmentMetadata": {
    "base_environment": "",
    "environment_version": "1"
   },
   "language": "python",
   "notebookMetadata": {
    "mostRecentlyExecutedCommandWithImplicitDF": {
     "commandId": 4724412170716100,
     "dataframes": [
      "_sqldf"
     ]
    },
    "pythonIndentUnit": 4
   },
   "notebookName": "3_ingest_construct_file",
   "widgets": {}
  },
  "language_info": {
   "name": "python"
  }
 },
 "nbformat": 4,
 "nbformat_minor": 0
}