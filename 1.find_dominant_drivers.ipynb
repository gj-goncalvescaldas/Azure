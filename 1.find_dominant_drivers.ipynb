{
 "cells": [
  {
   "cell_type": "code",
   "execution_count": 0,
   "metadata": {
    "application/vnd.databricks.v1+cell": {
     "cellMetadata": {
      "byteLimit": 2048000,
      "rowLimit": 10000
     },
     "inputWidgets": {},
     "nuid": "ac0f8934-8b41-4122-b444-5718b7954cf0",
     "showTitle": false,
     "tableResultSettingsMap": {},
     "title": ""
    }
   },
   "outputs": [],
   "source": [
    "%run \"../includes/configuration\""
   ]
  },
  {
   "cell_type": "code",
   "execution_count": 0,
   "metadata": {
    "application/vnd.databricks.v1+cell": {
     "cellMetadata": {
      "byteLimit": 2048000,
      "implicitDf": true,
      "rowLimit": 10000
     },
     "inputWidgets": {},
     "nuid": "6a894990-66d4-4ab8-ae74-4ba1edeffea5",
     "showTitle": false,
     "tableResultSettingsMap": {},
     "title": ""
    }
   },
   "outputs": [
    {
     "output_type": "display_data",
     "data": {
      "text/html": [
       "<style scoped>\n",
       "  .table-result-container {\n",
       "    max-height: 300px;\n",
       "    overflow: auto;\n",
       "  }\n",
       "  table, th, td {\n",
       "    border: 1px solid black;\n",
       "    border-collapse: collapse;\n",
       "  }\n",
       "  th, td {\n",
       "    padding: 5px;\n",
       "  }\n",
       "  th {\n",
       "    text-align: left;\n",
       "  }\n",
       "</style><div class='table-result-container'><table class='table-result'><thead style='background-color: white'><tr><th>race_year</th><th>constructs_name</th><th>drivers_name</th><th>position</th><th>points</th><th>calculated_points</th></tr></thead><tbody><tr><td>2008</td><td>McLaren</td><td>Lewis Hamilton</td><td>1</td><td>10.0</td><td>10</td></tr><tr><td>2008</td><td>BMW Sauber</td><td>Nick Heidfeld</td><td>2</td><td>8.0</td><td>9</td></tr><tr><td>2008</td><td>Williams</td><td>Nico Rosberg</td><td>3</td><td>6.0</td><td>8</td></tr><tr><td>2008</td><td>Renault</td><td>Fernando Alonso</td><td>4</td><td>5.0</td><td>7</td></tr><tr><td>2008</td><td>McLaren</td><td>Heikki Kovalainen</td><td>5</td><td>4.0</td><td>6</td></tr><tr><td>2008</td><td>Williams</td><td>Kazuki Nakajima</td><td>6</td><td>3.0</td><td>5</td></tr><tr><td>2008</td><td>Toro Rosso</td><td>Sébastien Bourdais</td><td>7</td><td>2.0</td><td>4</td></tr><tr><td>2008</td><td>Ferrari</td><td>Kimi Räikkönen</td><td>8</td><td>1.0</td><td>3</td></tr><tr><td>2008</td><td>BMW Sauber</td><td>Robert Kubica</td><td>null</td><td>0.0</td><td>null</td></tr><tr><td>2008</td><td>Toyota</td><td>Timo Glock</td><td>null</td><td>0.0</td><td>null</td></tr></tbody></table></div>"
      ]
     },
     "metadata": {
      "application/vnd.databricks.v1+output": {
       "addedWidgets": {},
       "aggData": [],
       "aggError": "",
       "aggOverflow": false,
       "aggSchema": [],
       "aggSeriesLimitReached": false,
       "aggType": "",
       "arguments": {},
       "columnCustomDisplayInfos": {},
       "data": [
        [
         2008,
         "McLaren",
         "Lewis Hamilton",
         1,
         10.0,
         10
        ],
        [
         2008,
         "BMW Sauber",
         "Nick Heidfeld",
         2,
         8.0,
         9
        ],
        [
         2008,
         "Williams",
         "Nico Rosberg",
         3,
         6.0,
         8
        ],
        [
         2008,
         "Renault",
         "Fernando Alonso",
         4,
         5.0,
         7
        ],
        [
         2008,
         "McLaren",
         "Heikki Kovalainen",
         5,
         4.0,
         6
        ],
        [
         2008,
         "Williams",
         "Kazuki Nakajima",
         6,
         3.0,
         5
        ],
        [
         2008,
         "Toro Rosso",
         "Sébastien Bourdais",
         7,
         2.0,
         4
        ],
        [
         2008,
         "Ferrari",
         "Kimi Räikkönen",
         8,
         1.0,
         3
        ],
        [
         2008,
         "BMW Sauber",
         "Robert Kubica",
         null,
         0.0,
         null
        ],
        [
         2008,
         "Toyota",
         "Timo Glock",
         null,
         0.0,
         null
        ]
       ],
       "datasetInfos": [],
       "dbfsResultPath": null,
       "isJsonSchema": true,
       "metadata": {
        "isDbfsCommandResult": false
       },
       "overflow": false,
       "plotOptions": {
        "customPlotOptions": {},
        "displayType": "table",
        "pivotAggregation": null,
        "pivotColumns": null,
        "xColumns": null,
        "yColumns": null
       },
       "removedWidgets": [],
       "schema": [
        {
         "metadata": "{}",
         "name": "race_year",
         "type": "\"integer\""
        },
        {
         "metadata": "{}",
         "name": "constructs_name",
         "type": "\"string\""
        },
        {
         "metadata": "{}",
         "name": "drivers_name",
         "type": "\"string\""
        },
        {
         "metadata": "{}",
         "name": "position",
         "type": "\"integer\""
        },
        {
         "metadata": "{}",
         "name": "points",
         "type": "\"float\""
        },
        {
         "metadata": "{}",
         "name": "calculated_points",
         "type": "\"integer\""
        }
       ],
       "type": "table"
      }
     },
     "output_type": "display_data"
    }
   ],
   "source": [
    "SELECT * FROM f1_presentation.calculated_race_results limit(10)"
   ]
  },
  {
   "cell_type": "code",
   "execution_count": 0,
   "metadata": {
    "application/vnd.databricks.v1+cell": {
     "cellMetadata": {
      "byteLimit": 2048000,
      "implicitDf": true,
      "rowLimit": 10000
     },
     "inputWidgets": {},
     "nuid": "2463f101-064f-4015-8c55-eed7d53093c4",
     "showTitle": false,
     "tableResultSettingsMap": {},
     "title": ""
    }
   },
   "outputs": [
    {
     "output_type": "display_data",
     "data": {
      "text/html": [
       "<style scoped>\n",
       "  .table-result-container {\n",
       "    max-height: 300px;\n",
       "    overflow: auto;\n",
       "  }\n",
       "  table, th, td {\n",
       "    border: 1px solid black;\n",
       "    border-collapse: collapse;\n",
       "  }\n",
       "  th, td {\n",
       "    padding: 5px;\n",
       "  }\n",
       "  th {\n",
       "    text-align: left;\n",
       "  }\n",
       "</style><div class='table-result-container'><table class='table-result'><thead style='background-color: white'><tr></tr></thead><tbody></tbody></table></div>"
      ]
     },
     "metadata": {
      "application/vnd.databricks.v1+output": {
       "addedWidgets": {},
       "aggData": [],
       "aggError": "",
       "aggOverflow": false,
       "aggSchema": [],
       "aggSeriesLimitReached": false,
       "aggType": "",
       "arguments": {},
       "columnCustomDisplayInfos": {},
       "data": [],
       "datasetInfos": [],
       "dbfsResultPath": null,
       "isJsonSchema": true,
       "metadata": {
        "isDbfsCommandResult": false
       },
       "overflow": false,
       "plotOptions": {
        "customPlotOptions": {},
        "displayType": "table",
        "pivotAggregation": null,
        "pivotColumns": null,
        "xColumns": null,
        "yColumns": null
       },
       "removedWidgets": [],
       "schema": [],
       "type": "table"
      }
     },
     "output_type": "display_data"
    }
   ],
   "source": [
    "CREATE OR REPLACE TEMP VIEW v_dominant_drivers \n",
    "AS\n",
    "SELECT drivers_name, \n",
    "count(1) as total_races, \n",
    "SUM(calculated_points) as total_points,\n",
    "AVG(calculated_points) as avg_points,\n",
    "RANK() OVER (ORDER BY AVG(calculated_points) DESC) as driver_rank\n",
    "FROM f1_presentation.calculated_race_results\n",
    "GROUP BY drivers_name\n",
    "HAVING count(1) >= 60\n",
    "ORDER BY avg_points DESC\n"
   ]
  },
  {
   "cell_type": "code",
   "execution_count": 0,
   "metadata": {
    "application/vnd.databricks.v1+cell": {
     "cellMetadata": {
      "byteLimit": 2048000,
      "rowLimit": 10000
     },
     "inputWidgets": {},
     "nuid": "ae387fc7-6a5c-4cbe-bd21-38aeac711e85",
     "showTitle": false,
     "tableResultSettingsMap": {},
     "title": ""
    }
   },
   "outputs": [
    {
     "output_type": "display_data",
     "data": {
      "text/html": [
       "<style scoped>\n",
       "  .table-result-container {\n",
       "    max-height: 300px;\n",
       "    overflow: auto;\n",
       "  }\n",
       "  table, th, td {\n",
       "    border: 1px solid black;\n",
       "    border-collapse: collapse;\n",
       "  }\n",
       "  th, td {\n",
       "    padding: 5px;\n",
       "  }\n",
       "  th {\n",
       "    text-align: left;\n",
       "  }\n",
       "</style><div class='table-result-container'><table class='table-result'><thead style='background-color: white'><tr><th>race_year</th><th>drivers_name</th><th>total_races</th><th>total_points</th><th>avg_points</th><th>driver_rank</th></tr></thead><tbody><tr><td>1951</td><td>Stirling Moss</td><td>1</td><td>3</td><td>3.0</td><td>111</td></tr><tr><td>1952</td><td>Stirling Moss</td><td>5</td><td>null</td><td>null</td><td>120</td></tr><tr><td>1953</td><td>Stirling Moss</td><td>4</td><td>5</td><td>1.6666666666666667</td><td>116</td></tr><tr><td>1954</td><td>Stirling Moss</td><td>6</td><td>9</td><td>4.5</td><td>105</td></tr><tr><td>1955</td><td>Stirling Moss</td><td>7</td><td>37</td><td>7.4</td><td>72</td></tr><tr><td>1956</td><td>Stirling Moss</td><td>9</td><td>43</td><td>8.6</td><td>34</td></tr><tr><td>1957</td><td>Stirling Moss</td><td>7</td><td>39</td><td>7.8</td><td>62</td></tr><tr><td>1958</td><td>Stirling Moss</td><td>10</td><td>49</td><td>9.8</td><td>2</td></tr><tr><td>1959</td><td>Stirling Moss</td><td>8</td><td>29</td><td>9.666666666666666</td><td>5</td></tr><tr><td>1960</td><td>Stirling Moss</td><td>7</td><td>35</td><td>8.75</td><td>28</td></tr><tr><td>1960</td><td>Jim Clark</td><td>6</td><td>10</td><td>2.0</td><td>115</td></tr><tr><td>1961</td><td>Stirling Moss</td><td>9</td><td>30</td><td>7.5</td><td>70</td></tr><tr><td>1961</td><td>Jim Clark</td><td>8</td><td>27</td><td>4.5</td><td>105</td></tr><tr><td>1962</td><td>Jim Clark</td><td>9</td><td>39</td><td>7.8</td><td>62</td></tr><tr><td>1963</td><td>Jim Clark</td><td>10</td><td>90</td><td>9.0</td><td>17</td></tr><tr><td>1964</td><td>Jim Clark</td><td>11</td><td>43</td><td>6.142857142857143</td><td>90</td></tr><tr><td>1965</td><td>Jim Clark</td><td>9</td><td>61</td><td>8.714285714285714</td><td>29</td></tr><tr><td>1965</td><td>Jackie Stewart</td><td>10</td><td>56</td><td>8.0</td><td>51</td></tr><tr><td>1966</td><td>Jim Clark</td><td>8</td><td>25</td><td>8.333333333333334</td><td>44</td></tr><tr><td>1966</td><td>Jackie Stewart</td><td>8</td><td>23</td><td>7.666666666666667</td><td>67</td></tr><tr><td>1967</td><td>Jim Clark</td><td>11</td><td>53</td><td>8.833333333333334</td><td>26</td></tr><tr><td>1967</td><td>Jackie Stewart</td><td>11</td><td>17</td><td>8.5</td><td>37</td></tr><tr><td>1968</td><td>Jim Clark</td><td>1</td><td>10</td><td>10.0</td><td>1</td></tr><tr><td>1968</td><td>Jackie Stewart</td><td>10</td><td>59</td><td>7.375</td><td>74</td></tr><tr><td>1969</td><td>Jackie Stewart</td><td>11</td><td>76</td><td>9.5</td><td>8</td></tr><tr><td>1970</td><td>Jackie Stewart</td><td>13</td><td>38</td><td>7.6</td><td>68</td></tr><tr><td>1971</td><td>Jackie Stewart</td><td>11</td><td>75</td><td>8.333333333333334</td><td>44</td></tr><tr><td>1972</td><td>Jackie Stewart</td><td>11</td><td>60</td><td>7.5</td><td>70</td></tr><tr><td>1973</td><td>Jackie Stewart</td><td>15</td><td>103</td><td>7.923076923076923</td><td>56</td></tr><tr><td>1973</td><td>James Hunt</td><td>8</td><td>35</td><td>5.833333333333333</td><td>94</td></tr><tr><td>1974</td><td>James Hunt</td><td>15</td><td>34</td><td>5.666666666666667</td><td>97</td></tr><tr><td>1975</td><td>James Hunt</td><td>14</td><td>62</td><td>7.75</td><td>64</td></tr><tr><td>1976</td><td>James Hunt</td><td>16</td><td>90</td><td>9.0</td><td>17</td></tr><tr><td>1977</td><td>James Hunt</td><td>17</td><td>61</td><td>6.777777777777778</td><td>83</td></tr><tr><td>1978</td><td>James Hunt</td><td>16</td><td>28</td><td>4.666666666666667</td><td>103</td></tr><tr><td>1978</td><td>Nelson Piquet</td><td>5</td><td>2</td><td>1.0</td><td>117</td></tr><tr><td>1979</td><td>Nelson Piquet</td><td>15</td><td>13</td><td>3.25</td><td>109</td></tr><tr><td>1979</td><td>James Hunt</td><td>7</td><td>3</td><td>3.0</td><td>111</td></tr><tr><td>1980</td><td>Nelson Piquet</td><td>14</td><td>83</td><td>8.3</td><td>46</td></tr><tr><td>1980</td><td>Alain Prost</td><td>13</td><td>29</td><td>4.142857142857143</td><td>107</td></tr><tr><td>1980</td><td>Nigel Mansell</td><td>3</td><td>null</td><td>null</td><td>120</td></tr><tr><td>1981</td><td>Alain Prost</td><td>15</td><td>56</td><td>9.333333333333334</td><td>12</td></tr><tr><td>1981</td><td>Nelson Piquet</td><td>15</td><td>79</td><td>7.181818181818182</td><td>78</td></tr><tr><td>1981</td><td>Nigel Mansell</td><td>15</td><td>24</td><td>4.8</td><td>101</td></tr><tr><td>1982</td><td>Nelson Piquet</td><td>15</td><td>32</td><td>8.0</td><td>51</td></tr><tr><td>1982</td><td>Alain Prost</td><td>16</td><td>57</td><td>7.125</td><td>80</td></tr><tr><td>1982</td><td>Nigel Mansell</td><td>13</td><td>28</td><td>4.666666666666667</td><td>103</td></tr><tr><td>1983</td><td>Nelson Piquet</td><td>15</td><td>85</td><td>7.7272727272727275</td><td>66</td></tr><tr><td>1983</td><td>Alain Prost</td><td>15</td><td>86</td><td>7.166666666666667</td><td>79</td></tr><tr><td>1983</td><td>Nigel Mansell</td><td>15</td><td>26</td><td>3.25</td><td>109</td></tr><tr><td>1984</td><td>Alain Prost</td><td>16</td><td>98</td><td>8.909090909090908</td><td>22</td></tr><tr><td>1984</td><td>Nelson Piquet</td><td>16</td><td>48</td><td>6.857142857142857</td><td>81</td></tr><tr><td>1984</td><td>Nigel Mansell</td><td>16</td><td>33</td><td>6.6</td><td>84</td></tr><tr><td>1984</td><td>Ayrton Senna</td><td>15</td><td>39</td><td>6.5</td><td>86</td></tr><tr><td>1985</td><td>Alain Prost</td><td>16</td><td>107</td><td>8.916666666666666</td><td>21</td></tr><tr><td>1985</td><td>Nelson Piquet</td><td>16</td><td>43</td><td>6.142857142857143</td><td>90</td></tr><tr><td>1985</td><td>Ayrton Senna</td><td>16</td><td>54</td><td>6.0</td><td>92</td></tr><tr><td>1985</td><td>Nigel Mansell</td><td>16</td><td>60</td><td>6.0</td><td>92</td></tr><tr><td>1986</td><td>Nigel Mansell</td><td>16</td><td>103</td><td>8.583333333333334</td><td>35</td></tr><tr><td>1986</td><td>Nelson Piquet</td><td>16</td><td>102</td><td>8.5</td><td>37</td></tr><tr><td>1986</td><td>Ayrton Senna</td><td>16</td><td>85</td><td>8.5</td><td>37</td></tr><tr><td>1986</td><td>Alain Prost</td><td>16</td><td>110</td><td>8.461538461538462</td><td>41</td></tr><tr><td>1987</td><td>Nelson Piquet</td><td>16</td><td>104</td><td>8.0</td><td>51</td></tr><tr><td>1987</td><td>Ayrton Senna</td><td>16</td><td>95</td><td>7.916666666666667</td><td>57</td></tr><tr><td>1987</td><td>Nigel Mansell</td><td>15</td><td>76</td><td>7.6</td><td>68</td></tr><tr><td>1987</td><td>Alain Prost</td><td>16</td><td>74</td><td>6.166666666666667</td><td>89</td></tr><tr><td>1988</td><td>Alain Prost</td><td>16</td><td>133</td><td>9.5</td><td>8</td></tr><tr><td>1988</td><td>Nigel Mansell</td><td>14</td><td>18</td><td>9.0</td><td>17</td></tr><tr><td>1988</td><td>Ayrton Senna</td><td>16</td><td>120</td><td>8.571428571428571</td><td>36</td></tr><tr><td>1988</td><td>Nelson Piquet</td><td>16</td><td>56</td><td>6.222222222222222</td><td>88</td></tr><tr><td>1989</td><td>Nigel Mansell</td><td>15</td><td>54</td><td>9.0</td><td>17</td></tr><tr><td>1989</td><td>Alain Prost</td><td>16</td><td>115</td><td>8.846153846153847</td><td>25</td></tr><tr><td>1989</td><td>Ayrton Senna</td><td>16</td><td>73</td><td>8.11111111111111</td><td>50</td></tr><tr><td>1989</td><td>Nelson Piquet</td><td>16</td><td>38</td><td>4.75</td><td>102</td></tr><tr><td>1990</td><td>Alain Prost</td><td>16</td><td>104</td><td>8.666666666666666</td><td>31</td></tr><tr><td>1990</td><td>Ayrton Senna</td><td>16</td><td>93</td><td>7.75</td><td>64</td></tr><tr><td>1990</td><td>Nelson Piquet</td><td>16</td><td>89</td><td>6.846153846153846</td><td>82</td></tr><tr><td>1990</td><td>Nigel Mansell</td><td>16</td><td>46</td><td>5.111111111111111</td><td>100</td></tr><tr><td>1991</td><td>Nigel Mansell</td><td>16</td><td>91</td><td>9.1</td><td>15</td></tr><tr><td>1991</td><td>Ayrton Senna</td><td>16</td><td>130</td><td>8.666666666666666</td><td>31</td></tr><tr><td>1991</td><td>Alain Prost</td><td>15</td><td>63</td><td>7.875</td><td>59</td></tr><tr><td>1991</td><td>Nelson Piquet</td><td>16</td><td>63</td><td>5.7272727272727275</td><td>96</td></tr><tr><td>1991</td><td>Michael Schumacher</td><td>6</td><td>16</td><td>5.333333333333333</td><td>99</td></tr><tr><td>1992</td><td>Nigel Mansell</td><td>16</td><td>117</td><td>9.75</td><td>4</td></tr><tr><td>1992</td><td>Ayrton Senna</td><td>16</td><td>71</td><td>7.888888888888889</td><td>58</td></tr><tr><td>1992</td><td>Michael Schumacher</td><td>16</td><td>94</td><td>7.833333333333333</td><td>61</td></tr><tr><td>1993</td><td>Michael Schumacher</td><td>16</td><td>79</td><td>8.777777777777779</td><td>27</td></tr><tr><td>1993</td><td>Alain Prost</td><td>16</td><td>118</td><td>7.866666666666666</td><td>60</td></tr><tr><td>1993</td><td>Ayrton Senna</td><td>16</td><td>88</td><td>7.333333333333333</td><td>75</td></tr><tr><td>1994</td><td>Michael Schumacher</td><td>14</td><td>98</td><td>9.8</td><td>2</td></tr><tr><td>1994</td><td>Nigel Mansell</td><td>4</td><td>17</td><td>8.5</td><td>37</td></tr><tr><td>1994</td><td>Ayrton Senna</td><td>3</td><td>null</td><td>null</td><td>120</td></tr><tr><td>1995</td><td>Michael Schumacher</td><td>17</td><td>113</td><td>8.692307692307692</td><td>30</td></tr><tr><td>1995</td><td>Nigel Mansell</td><td>2</td><td>1</td><td>1.0</td><td>117</td></tr><tr><td>1996</td><td>Michael Schumacher</td><td>16</td><td>82</td><td>8.2</td><td>49</td></tr><tr><td>1997</td><td>Michael Schumacher</td><td>17</td><td>107</td><td>8.23076923076923</td><td>48</td></tr><tr><td>1998</td><td>Michael Schumacher</td><td>16</td><td>109</td><td>8.384615384615385</td><td>43</td></tr><tr><td>1999</td><td>Michael Schumacher</td><td>10</td><td>64</td><td>8.0</td><td>51</td></tr><tr><td>2000</td><td>Michael Schumacher</td><td>17</td><td>122</td><td>9.384615384615385</td><td>11</td></tr><tr><td>2001</td><td>Michael Schumacher</td><td>17</td><td>142</td><td>9.466666666666667</td><td>10</td></tr><tr><td>2002</td><td>Michael Schumacher</td><td>17</td><td>163</td><td>9.588235294117647</td><td>6</td></tr><tr><td>2003</td><td>Michael Schumacher</td><td>16</td><td>111</td><td>7.4</td><td>72</td></tr><tr><td>2004</td><td>Michael Schumacher</td><td>18</td><td>151</td><td>8.882352941176471</td><td>24</td></tr><tr><td>2005</td><td>Michael Schumacher</td><td>19</td><td>82</td><td>6.3076923076923075</td><td>87</td></tr><tr><td>2006</td><td>Michael Schumacher</td><td>18</td><td>135</td><td>8.4375</td><td>42</td></tr><tr><td>2007</td><td>Lewis Hamilton</td><td>17</td><td>128</td><td>8.0</td><td>51</td></tr><tr><td>2008</td><td>Lewis Hamilton</td><td>18</td><td>112</td><td>6.588235294117647</td><td>85</td></tr><tr><td>2009</td><td>Lewis Hamilton</td><td>17</td><td>47</td><td>3.357142857142857</td><td>108</td></tr><tr><td>2010</td><td>Lewis Hamilton</td><td>19</td><td>116</td><td>7.25</td><td>76</td></tr><tr><td>2010</td><td>Michael Schumacher</td><td>19</td><td>40</td><td>2.3529411764705883</td><td>114</td></tr><tr><td>2011</td><td>Lewis Hamilton</td><td>19</td><td>116</td><td>7.25</td><td>76</td></tr><tr><td>2011</td><td>Michael Schumacher</td><td>19</td><td>38</td><td>2.7142857142857144</td><td>113</td></tr><tr><td>2012</td><td>Lewis Hamilton</td><td>20</td><td>85</td><td>5.666666666666667</td><td>97</td></tr><tr><td>2012</td><td>Michael Schumacher</td><td>20</td><td>13</td><td>1.0</td><td>117</td></tr><tr><td>2013</td><td>Lewis Hamilton</td><td>19</td><td>105</td><td>5.833333333333333</td><td>94</td></tr><tr><td>2014</td><td>Lewis Hamilton</td><td>19</td><td>153</td><td>9.5625</td><td>7</td></tr><tr><td>2015</td><td>Lewis Hamilton</td><td>19</td><td>167</td><td>9.277777777777779</td><td>13</td></tr><tr><td>2016</td><td>Lewis Hamilton</td><td>21</td><td>169</td><td>8.894736842105264</td><td>23</td></tr><tr><td>2017</td><td>Lewis Hamilton</td><td>20</td><td>166</td><td>8.3</td><td>46</td></tr><tr><td>2018</td><td>Lewis Hamilton</td><td>21</td><td>181</td><td>9.05</td><td>16</td></tr><tr><td>2019</td><td>Lewis Hamilton</td><td>21</td><td>181</td><td>8.619047619047619</td><td>33</td></tr><tr><td>2020</td><td>Lewis Hamilton</td><td>16</td><td>146</td><td>9.125</td><td>14</td></tr></tbody></table></div>"
      ]
     },
     "metadata": {
      "application/vnd.databricks.v1+output": {
       "addedWidgets": {},
       "aggData": [],
       "aggError": "",
       "aggOverflow": false,
       "aggSchema": [],
       "aggSeriesLimitReached": false,
       "aggType": "",
       "arguments": {},
       "columnCustomDisplayInfos": {},
       "data": [
        [
         1951,
         "Stirling Moss",
         1,
         3,
         3.0,
         111
        ],
        [
         1952,
         "Stirling Moss",
         5,
         null,
         null,
         120
        ],
        [
         1953,
         "Stirling Moss",
         4,
         5,
         1.6666666666666667,
         116
        ],
        [
         1954,
         "Stirling Moss",
         6,
         9,
         4.5,
         105
        ],
        [
         1955,
         "Stirling Moss",
         7,
         37,
         7.4,
         72
        ],
        [
         1956,
         "Stirling Moss",
         9,
         43,
         8.6,
         34
        ],
        [
         1957,
         "Stirling Moss",
         7,
         39,
         7.8,
         62
        ],
        [
         1958,
         "Stirling Moss",
         10,
         49,
         9.8,
         2
        ],
        [
         1959,
         "Stirling Moss",
         8,
         29,
         9.666666666666666,
         5
        ],
        [
         1960,
         "Stirling Moss",
         7,
         35,
         8.75,
         28
        ],
        [
         1960,
         "Jim Clark",
         6,
         10,
         2.0,
         115
        ],
        [
         1961,
         "Stirling Moss",
         9,
         30,
         7.5,
         70
        ],
        [
         1961,
         "Jim Clark",
         8,
         27,
         4.5,
         105
        ],
        [
         1962,
         "Jim Clark",
         9,
         39,
         7.8,
         62
        ],
        [
         1963,
         "Jim Clark",
         10,
         90,
         9.0,
         17
        ],
        [
         1964,
         "Jim Clark",
         11,
         43,
         6.142857142857143,
         90
        ],
        [
         1965,
         "Jim Clark",
         9,
         61,
         8.714285714285714,
         29
        ],
        [
         1965,
         "Jackie Stewart",
         10,
         56,
         8.0,
         51
        ],
        [
         1966,
         "Jim Clark",
         8,
         25,
         8.333333333333334,
         44
        ],
        [
         1966,
         "Jackie Stewart",
         8,
         23,
         7.666666666666667,
         67
        ],
        [
         1967,
         "Jim Clark",
         11,
         53,
         8.833333333333334,
         26
        ],
        [
         1967,
         "Jackie Stewart",
         11,
         17,
         8.5,
         37
        ],
        [
         1968,
         "Jim Clark",
         1,
         10,
         10.0,
         1
        ],
        [
         1968,
         "Jackie Stewart",
         10,
         59,
         7.375,
         74
        ],
        [
         1969,
         "Jackie Stewart",
         11,
         76,
         9.5,
         8
        ],
        [
         1970,
         "Jackie Stewart",
         13,
         38,
         7.6,
         68
        ],
        [
         1971,
         "Jackie Stewart",
         11,
         75,
         8.333333333333334,
         44
        ],
        [
         1972,
         "Jackie Stewart",
         11,
         60,
         7.5,
         70
        ],
        [
         1973,
         "Jackie Stewart",
         15,
         103,
         7.923076923076923,
         56
        ],
        [
         1973,
         "James Hunt",
         8,
         35,
         5.833333333333333,
         94
        ],
        [
         1974,
         "James Hunt",
         15,
         34,
         5.666666666666667,
         97
        ],
        [
         1975,
         "James Hunt",
         14,
         62,
         7.75,
         64
        ],
        [
         1976,
         "James Hunt",
         16,
         90,
         9.0,
         17
        ],
        [
         1977,
         "James Hunt",
         17,
         61,
         6.777777777777778,
         83
        ],
        [
         1978,
         "James Hunt",
         16,
         28,
         4.666666666666667,
         103
        ],
        [
         1978,
         "Nelson Piquet",
         5,
         2,
         1.0,
         117
        ],
        [
         1979,
         "Nelson Piquet",
         15,
         13,
         3.25,
         109
        ],
        [
         1979,
         "James Hunt",
         7,
         3,
         3.0,
         111
        ],
        [
         1980,
         "Nelson Piquet",
         14,
         83,
         8.3,
         46
        ],
        [
         1980,
         "Alain Prost",
         13,
         29,
         4.142857142857143,
         107
        ],
        [
         1980,
         "Nigel Mansell",
         3,
         null,
         null,
         120
        ],
        [
         1981,
         "Alain Prost",
         15,
         56,
         9.333333333333334,
         12
        ],
        [
         1981,
         "Nelson Piquet",
         15,
         79,
         7.181818181818182,
         78
        ],
        [
         1981,
         "Nigel Mansell",
         15,
         24,
         4.8,
         101
        ],
        [
         1982,
         "Nelson Piquet",
         15,
         32,
         8.0,
         51
        ],
        [
         1982,
         "Alain Prost",
         16,
         57,
         7.125,
         80
        ],
        [
         1982,
         "Nigel Mansell",
         13,
         28,
         4.666666666666667,
         103
        ],
        [
         1983,
         "Nelson Piquet",
         15,
         85,
         7.7272727272727275,
         66
        ],
        [
         1983,
         "Alain Prost",
         15,
         86,
         7.166666666666667,
         79
        ],
        [
         1983,
         "Nigel Mansell",
         15,
         26,
         3.25,
         109
        ],
        [
         1984,
         "Alain Prost",
         16,
         98,
         8.909090909090908,
         22
        ],
        [
         1984,
         "Nelson Piquet",
         16,
         48,
         6.857142857142857,
         81
        ],
        [
         1984,
         "Nigel Mansell",
         16,
         33,
         6.6,
         84
        ],
        [
         1984,
         "Ayrton Senna",
         15,
         39,
         6.5,
         86
        ],
        [
         1985,
         "Alain Prost",
         16,
         107,
         8.916666666666666,
         21
        ],
        [
         1985,
         "Nelson Piquet",
         16,
         43,
         6.142857142857143,
         90
        ],
        [
         1985,
         "Ayrton Senna",
         16,
         54,
         6.0,
         92
        ],
        [
         1985,
         "Nigel Mansell",
         16,
         60,
         6.0,
         92
        ],
        [
         1986,
         "Nigel Mansell",
         16,
         103,
         8.583333333333334,
         35
        ],
        [
         1986,
         "Nelson Piquet",
         16,
         102,
         8.5,
         37
        ],
        [
         1986,
         "Ayrton Senna",
         16,
         85,
         8.5,
         37
        ],
        [
         1986,
         "Alain Prost",
         16,
         110,
         8.461538461538462,
         41
        ],
        [
         1987,
         "Nelson Piquet",
         16,
         104,
         8.0,
         51
        ],
        [
         1987,
         "Ayrton Senna",
         16,
         95,
         7.916666666666667,
         57
        ],
        [
         1987,
         "Nigel Mansell",
         15,
         76,
         7.6,
         68
        ],
        [
         1987,
         "Alain Prost",
         16,
         74,
         6.166666666666667,
         89
        ],
        [
         1988,
         "Alain Prost",
         16,
         133,
         9.5,
         8
        ],
        [
         1988,
         "Nigel Mansell",
         14,
         18,
         9.0,
         17
        ],
        [
         1988,
         "Ayrton Senna",
         16,
         120,
         8.571428571428571,
         36
        ],
        [
         1988,
         "Nelson Piquet",
         16,
         56,
         6.222222222222222,
         88
        ],
        [
         1989,
         "Nigel Mansell",
         15,
         54,
         9.0,
         17
        ],
        [
         1989,
         "Alain Prost",
         16,
         115,
         8.846153846153847,
         25
        ],
        [
         1989,
         "Ayrton Senna",
         16,
         73,
         8.11111111111111,
         50
        ],
        [
         1989,
         "Nelson Piquet",
         16,
         38,
         4.75,
         102
        ],
        [
         1990,
         "Alain Prost",
         16,
         104,
         8.666666666666666,
         31
        ],
        [
         1990,
         "Ayrton Senna",
         16,
         93,
         7.75,
         64
        ],
        [
         1990,
         "Nelson Piquet",
         16,
         89,
         6.846153846153846,
         82
        ],
        [
         1990,
         "Nigel Mansell",
         16,
         46,
         5.111111111111111,
         100
        ],
        [
         1991,
         "Nigel Mansell",
         16,
         91,
         9.1,
         15
        ],
        [
         1991,
         "Ayrton Senna",
         16,
         130,
         8.666666666666666,
         31
        ],
        [
         1991,
         "Alain Prost",
         15,
         63,
         7.875,
         59
        ],
        [
         1991,
         "Nelson Piquet",
         16,
         63,
         5.7272727272727275,
         96
        ],
        [
         1991,
         "Michael Schumacher",
         6,
         16,
         5.333333333333333,
         99
        ],
        [
         1992,
         "Nigel Mansell",
         16,
         117,
         9.75,
         4
        ],
        [
         1992,
         "Ayrton Senna",
         16,
         71,
         7.888888888888889,
         58
        ],
        [
         1992,
         "Michael Schumacher",
         16,
         94,
         7.833333333333333,
         61
        ],
        [
         1993,
         "Michael Schumacher",
         16,
         79,
         8.777777777777779,
         27
        ],
        [
         1993,
         "Alain Prost",
         16,
         118,
         7.866666666666666,
         60
        ],
        [
         1993,
         "Ayrton Senna",
         16,
         88,
         7.333333333333333,
         75
        ],
        [
         1994,
         "Michael Schumacher",
         14,
         98,
         9.8,
         2
        ],
        [
         1994,
         "Nigel Mansell",
         4,
         17,
         8.5,
         37
        ],
        [
         1994,
         "Ayrton Senna",
         3,
         null,
         null,
         120
        ],
        [
         1995,
         "Michael Schumacher",
         17,
         113,
         8.692307692307692,
         30
        ],
        [
         1995,
         "Nigel Mansell",
         2,
         1,
         1.0,
         117
        ],
        [
         1996,
         "Michael Schumacher",
         16,
         82,
         8.2,
         49
        ],
        [
         1997,
         "Michael Schumacher",
         17,
         107,
         8.23076923076923,
         48
        ],
        [
         1998,
         "Michael Schumacher",
         16,
         109,
         8.384615384615385,
         43
        ],
        [
         1999,
         "Michael Schumacher",
         10,
         64,
         8.0,
         51
        ],
        [
         2000,
         "Michael Schumacher",
         17,
         122,
         9.384615384615385,
         11
        ],
        [
         2001,
         "Michael Schumacher",
         17,
         142,
         9.466666666666667,
         10
        ],
        [
         2002,
         "Michael Schumacher",
         17,
         163,
         9.588235294117647,
         6
        ],
        [
         2003,
         "Michael Schumacher",
         16,
         111,
         7.4,
         72
        ],
        [
         2004,
         "Michael Schumacher",
         18,
         151,
         8.882352941176471,
         24
        ],
        [
         2005,
         "Michael Schumacher",
         19,
         82,
         6.3076923076923075,
         87
        ],
        [
         2006,
         "Michael Schumacher",
         18,
         135,
         8.4375,
         42
        ],
        [
         2007,
         "Lewis Hamilton",
         17,
         128,
         8.0,
         51
        ],
        [
         2008,
         "Lewis Hamilton",
         18,
         112,
         6.588235294117647,
         85
        ],
        [
         2009,
         "Lewis Hamilton",
         17,
         47,
         3.357142857142857,
         108
        ],
        [
         2010,
         "Lewis Hamilton",
         19,
         116,
         7.25,
         76
        ],
        [
         2010,
         "Michael Schumacher",
         19,
         40,
         2.3529411764705883,
         114
        ],
        [
         2011,
         "Lewis Hamilton",
         19,
         116,
         7.25,
         76
        ],
        [
         2011,
         "Michael Schumacher",
         19,
         38,
         2.7142857142857144,
         113
        ],
        [
         2012,
         "Lewis Hamilton",
         20,
         85,
         5.666666666666667,
         97
        ],
        [
         2012,
         "Michael Schumacher",
         20,
         13,
         1.0,
         117
        ],
        [
         2013,
         "Lewis Hamilton",
         19,
         105,
         5.833333333333333,
         94
        ],
        [
         2014,
         "Lewis Hamilton",
         19,
         153,
         9.5625,
         7
        ],
        [
         2015,
         "Lewis Hamilton",
         19,
         167,
         9.277777777777779,
         13
        ],
        [
         2016,
         "Lewis Hamilton",
         21,
         169,
         8.894736842105264,
         23
        ],
        [
         2017,
         "Lewis Hamilton",
         20,
         166,
         8.3,
         46
        ],
        [
         2018,
         "Lewis Hamilton",
         21,
         181,
         9.05,
         16
        ],
        [
         2019,
         "Lewis Hamilton",
         21,
         181,
         8.619047619047619,
         33
        ],
        [
         2020,
         "Lewis Hamilton",
         16,
         146,
         9.125,
         14
        ]
       ],
       "datasetInfos": [],
       "dbfsResultPath": null,
       "isJsonSchema": true,
       "metadata": {
        "isDbfsCommandResult": false
       },
       "overflow": false,
       "plotOptions": {
        "customPlotOptions": {},
        "displayType": "table",
        "pivotAggregation": null,
        "pivotColumns": null,
        "xColumns": null,
        "yColumns": null
       },
       "removedWidgets": [],
       "schema": [
        {
         "metadata": "{}",
         "name": "race_year",
         "type": "\"integer\""
        },
        {
         "metadata": "{}",
         "name": "drivers_name",
         "type": "\"string\""
        },
        {
         "metadata": "{}",
         "name": "total_races",
         "type": "\"long\""
        },
        {
         "metadata": "{}",
         "name": "total_points",
         "type": "\"long\""
        },
        {
         "metadata": "{}",
         "name": "avg_points",
         "type": "\"double\""
        },
        {
         "metadata": "{}",
         "name": "driver_rank",
         "type": "\"integer\""
        }
       ],
       "type": "table"
      }
     },
     "output_type": "display_data"
    },
    {
     "output_type": "display_data",
     "data": {
      "text/plain": [
       "Databricks visualization. Run in Databricks to view."
      ]
     },
     "metadata": {
      "application/vnd.databricks.v1.subcommand+json": {
       "baseErrorDetails": null,
       "bindings": {},
       "collapsed": false,
       "command": "%sql WITH q AS (SELECT race_year,\ndrivers_name, \ncount(1) as total_races, \nSUM(calculated_points) as total_points,\nAVG(calculated_points) as avg_points,\nRANK() OVER (ORDER BY AVG(calculated_points) DESC) as driver_rank\nFROM f1_presentation.calculated_race_results\nWHERE drivers_name in (SELECT drivers_name FROM v_dominant_drivers WHERE driver_rank <= 10)\nGROUP BY race_year, drivers_name\nORDER BY race_year, avg_points DESC) SELECT `race_year`,AVG(`avg_points`) `column_4618dddc41`,`drivers_name` FROM q GROUP BY `drivers_name`,`race_year`",
       "commandTitle": "Visualization 1",
       "commandType": "auto",
       "commandVersion": 0,
       "commentThread": [],
       "commentsVisible": false,
       "contentSha256Hex": null,
       "customPlotOptions": {
        "redashChart": [
         {
          "key": "type",
          "value": "CHART"
         },
         {
          "key": "options",
          "value": {
           "alignYAxesAtZero": true,
           "coefficient": 1,
           "columnConfigurationMap": {
            "series": {
             "column": "drivers_name",
             "id": "column_4618dddc39"
            },
            "x": {
             "column": "race_year",
             "id": "column_4618dddc38"
            },
            "y": [
             {
              "column": "avg_points",
              "id": "column_4618dddc41",
              "transform": "AVG"
             }
            ]
           },
           "dateTimeFormat": "DD/MM/YYYY HH:mm",
           "direction": {
            "type": "counterclockwise"
           },
           "error_y": {
            "type": "data",
            "visible": true
           },
           "globalSeriesType": "line",
           "isAggregationOn": true,
           "legend": {
            "traceorder": "normal"
           },
           "missingValuesAsZero": true,
           "numberFormat": "0,0.[00000]",
           "percentFormat": "0[.]00%",
           "series": {
            "error_y": {
             "type": "data",
             "visible": true
            },
            "stacking": null
           },
           "seriesOptions": {
            "column_4618dddc35": {
             "type": "line",
             "yAxis": 0
            },
            "column_4618dddc41": {
             "type": "line",
             "yAxis": 0
            }
           },
           "showDataLabels": false,
           "sizemode": "diameter",
           "sortX": true,
           "sortY": true,
           "swappedAxes": false,
           "textFormat": "",
           "useAggregationsUi": true,
           "valuesOptions": {},
           "version": 2,
           "xAxis": {
            "labels": {
             "enabled": true
            },
            "type": "-"
           },
           "yAxis": [
            {
             "type": "-"
            },
            {
             "opposite": true,
             "type": "-"
            }
           ]
          }
         }
        ]
       },
       "datasetPreviewNameToCmdIdMap": {},
       "diffDeletes": [],
       "diffInserts": [],
       "displayType": "redashChart",
       "error": null,
       "errorDetails": null,
       "errorSummary": null,
       "errorTraceType": null,
       "finishTime": 0,
       "globalVars": {},
       "guid": "",
       "height": "auto",
       "hideCommandCode": false,
       "hideCommandResult": false,
       "iPythonMetadata": null,
       "inputWidgets": {},
       "isLockedInExamMode": false,
       "latestUser": "a user",
       "latestUserId": null,
       "listResultMetadata": null,
       "metadata": {},
       "nuid": "56f2b0b3-09b1-4861-a8f4-736616fc2666",
       "origId": 0,
       "parentHierarchy": [],
       "pivotAggregation": null,
       "pivotColumns": null,
       "position": 9.0,
       "resultDbfsErrorMessage": null,
       "resultDbfsStatus": "INLINED_IN_TREE",
       "results": null,
       "showCommandTitle": false,
       "startTime": 0,
       "state": "input",
       "streamStates": {},
       "subcommandOptions": {
        "queryPlan": {
         "groups": [
          {
           "column": "race_year",
           "type": "column"
          },
          {
           "column": "drivers_name",
           "type": "column"
          }
         ],
         "selects": [
          {
           "column": "race_year",
           "type": "column"
          },
          {
           "alias": "column_4618dddc41",
           "args": [
            {
             "column": "avg_points",
             "type": "column"
            }
           ],
           "function": "AVG",
           "type": "function"
          },
          {
           "column": "drivers_name",
           "type": "column"
          }
         ]
        }
       },
       "submitTime": 0,
       "subtype": "tableResultSubCmd.visualization",
       "tableResultIndex": 0,
       "tableResultSettingsMap": {},
       "useConsistentColors": false,
       "version": "CommandV1",
       "width": "auto",
       "workflows": [],
       "xColumns": null,
       "yColumns": null
      }
     },
     "output_type": "display_data"
    },
    {
     "output_type": "display_data",
     "data": {
      "text/plain": [
       "Databricks visualization. Run in Databricks to view."
      ]
     },
     "metadata": {
      "application/vnd.databricks.v1.subcommand+json": {
       "baseErrorDetails": null,
       "bindings": {},
       "collapsed": false,
       "command": "%sql WITH q AS (SELECT race_year,\ndrivers_name, \ncount(1) as total_races, \nSUM(calculated_points) as total_points,\nAVG(calculated_points) as avg_points,\nRANK() OVER (ORDER BY AVG(calculated_points) DESC) as driver_rank\nFROM f1_presentation.calculated_race_results\nWHERE drivers_name in (SELECT drivers_name FROM v_dominant_drivers WHERE driver_rank <= 10)\nGROUP BY race_year, drivers_name\nORDER BY race_year, avg_points DESC) SELECT `drivers_name`,SUM(`total_races`) `column_4618dddc44`,SUM(`total_points`) `column_4618dddc47` FROM q GROUP BY `drivers_name`",
       "commandTitle": "Visualization 2",
       "commandType": "auto",
       "commandVersion": 0,
       "commentThread": [],
       "commentsVisible": false,
       "contentSha256Hex": null,
       "customPlotOptions": {
        "redashChart": [
         {
          "key": "type",
          "value": "CHART"
         },
         {
          "key": "options",
          "value": {
           "alignYAxesAtZero": true,
           "coefficient": 1,
           "columnConfigurationMap": {
            "x": {
             "column": "drivers_name",
             "id": "column_4618dddc49"
            },
            "y": [
             {
              "column": "total_races",
              "id": "column_4618dddc44",
              "transform": "SUM"
             },
             {
              "column": "total_points",
              "id": "column_4618dddc47",
              "transform": "SUM"
             }
            ]
           },
           "dateTimeFormat": "DD/MM/YYYY HH:mm",
           "direction": {
            "type": "counterclockwise"
           },
           "error_y": {
            "type": "data",
            "visible": true
           },
           "globalSeriesType": "column",
           "isAggregationOn": true,
           "legend": {
            "traceorder": "normal"
           },
           "missingValuesAsZero": true,
           "numberFormat": "0,0.[00000]",
           "percentFormat": "0[.]00%",
           "series": {
            "error_y": {
             "type": "data",
             "visible": true
            },
            "stacking": null
           },
           "seriesOptions": {
            "column_4618dddc44": {
             "type": "column",
             "yAxis": 0
            },
            "column_4618dddc47": {
             "type": "column",
             "yAxis": 0
            }
           },
           "showDataLabels": false,
           "sizemode": "diameter",
           "sortX": true,
           "sortY": true,
           "swappedAxes": false,
           "textFormat": "",
           "useAggregationsUi": true,
           "valuesOptions": {},
           "version": 2,
           "xAxis": {
            "labels": {
             "enabled": true
            },
            "type": "-"
           },
           "yAxis": [
            {
             "type": "-"
            },
            {
             "opposite": true,
             "type": "-"
            }
           ]
          }
         }
        ]
       },
       "datasetPreviewNameToCmdIdMap": {},
       "diffDeletes": [],
       "diffInserts": [],
       "displayType": "redashChart",
       "error": null,
       "errorDetails": null,
       "errorSummary": null,
       "errorTraceType": null,
       "finishTime": 0,
       "globalVars": {},
       "guid": "",
       "height": "auto",
       "hideCommandCode": false,
       "hideCommandResult": false,
       "iPythonMetadata": null,
       "inputWidgets": {},
       "isLockedInExamMode": false,
       "latestUser": "a user",
       "latestUserId": null,
       "listResultMetadata": null,
       "metadata": {},
       "nuid": "a43d52ff-dbcc-42d3-992c-2e4b08597dff",
       "origId": 0,
       "parentHierarchy": [],
       "pivotAggregation": null,
       "pivotColumns": null,
       "position": 10.0,
       "resultDbfsErrorMessage": null,
       "resultDbfsStatus": "INLINED_IN_TREE",
       "results": null,
       "showCommandTitle": false,
       "startTime": 0,
       "state": "input",
       "streamStates": {},
       "subcommandOptions": {
        "queryPlan": {
         "groups": [
          {
           "column": "drivers_name",
           "type": "column"
          }
         ],
         "selects": [
          {
           "column": "drivers_name",
           "type": "column"
          },
          {
           "alias": "column_4618dddc44",
           "args": [
            {
             "column": "total_races",
             "type": "column"
            }
           ],
           "function": "SUM",
           "type": "function"
          },
          {
           "alias": "column_4618dddc47",
           "args": [
            {
             "column": "total_points",
             "type": "column"
            }
           ],
           "function": "SUM",
           "type": "function"
          }
         ]
        }
       },
       "submitTime": 0,
       "subtype": "tableResultSubCmd.visualization",
       "tableResultIndex": 0,
       "tableResultSettingsMap": {},
       "useConsistentColors": false,
       "version": "CommandV1",
       "width": "auto",
       "workflows": [],
       "xColumns": null,
       "yColumns": null
      }
     },
     "output_type": "display_data"
    },
    {
     "output_type": "display_data",
     "data": {
      "text/plain": [
       "Databricks visualization. Run in Databricks to view."
      ]
     },
     "metadata": {
      "application/vnd.databricks.v1.subcommand+json": {
       "baseErrorDetails": null,
       "bindings": {},
       "collapsed": false,
       "command": "%sql WITH q AS (SELECT race_year,\ndrivers_name, \ncount(1) as total_races, \nSUM(calculated_points) as total_points,\nAVG(calculated_points) as avg_points,\nRANK() OVER (ORDER BY AVG(calculated_points) DESC) as driver_rank\nFROM f1_presentation.calculated_race_results\nWHERE drivers_name in (SELECT drivers_name FROM v_dominant_drivers WHERE driver_rank <= 10)\nGROUP BY race_year, drivers_name\nORDER BY race_year, avg_points DESC) SELECT `race_year`,AVG(`avg_points`) `column_4618dddc52`,`drivers_name` FROM q GROUP BY `drivers_name`,`race_year`",
       "commandTitle": "Visualization 3",
       "commandType": "auto",
       "commandVersion": 0,
       "commentThread": [],
       "commentsVisible": false,
       "contentSha256Hex": null,
       "customPlotOptions": {
        "redashChart": [
         {
          "key": "type",
          "value": "CHART"
         },
         {
          "key": "options",
          "value": {
           "alignYAxesAtZero": true,
           "coefficient": 1,
           "columnConfigurationMap": {
            "series": {
             "column": "drivers_name",
             "id": "column_4618dddc54"
            },
            "x": {
             "column": "race_year",
             "id": "column_4618dddc55"
            },
            "y": [
             {
              "column": "avg_points",
              "id": "column_4618dddc52",
              "transform": "AVG"
             }
            ]
           },
           "dateTimeFormat": "DD/MM/YYYY HH:mm",
           "direction": {
            "type": "counterclockwise"
           },
           "error_y": {
            "type": "data",
            "visible": true
           },
           "globalSeriesType": "area",
           "isAggregationOn": true,
           "legend": {
            "traceorder": "normal"
           },
           "missingValuesAsZero": true,
           "numberFormat": "0,0.[00000]",
           "percentFormat": "0[.]00%",
           "series": {
            "error_y": {
             "type": "data",
             "visible": true
            },
            "stacking": null
           },
           "seriesOptions": {
            "column_4618dddc52": {
             "type": "area",
             "yAxis": 0
            }
           },
           "showDataLabels": false,
           "sizemode": "diameter",
           "sortX": true,
           "sortY": true,
           "swappedAxes": false,
           "textFormat": "",
           "useAggregationsUi": true,
           "valuesOptions": {},
           "version": 2,
           "xAxis": {
            "labels": {
             "enabled": true
            },
            "type": "-"
           },
           "yAxis": [
            {
             "type": "-"
            },
            {
             "opposite": true,
             "type": "-"
            }
           ]
          }
         }
        ]
       },
       "datasetPreviewNameToCmdIdMap": {},
       "diffDeletes": [],
       "diffInserts": [],
       "displayType": "redashChart",
       "error": null,
       "errorDetails": null,
       "errorSummary": null,
       "errorTraceType": null,
       "finishTime": 0,
       "globalVars": {},
       "guid": "",
       "height": "auto",
       "hideCommandCode": false,
       "hideCommandResult": false,
       "iPythonMetadata": null,
       "inputWidgets": {},
       "isLockedInExamMode": false,
       "latestUser": "a user",
       "latestUserId": null,
       "listResultMetadata": null,
       "metadata": {},
       "nuid": "5a3b5be5-990c-4b51-a8bb-2013ad6394fa",
       "origId": 0,
       "parentHierarchy": [],
       "pivotAggregation": null,
       "pivotColumns": null,
       "position": 11.0,
       "resultDbfsErrorMessage": null,
       "resultDbfsStatus": "INLINED_IN_TREE",
       "results": null,
       "showCommandTitle": false,
       "startTime": 0,
       "state": "input",
       "streamStates": {},
       "subcommandOptions": {
        "queryPlan": {
         "groups": [
          {
           "column": "race_year",
           "type": "column"
          },
          {
           "column": "drivers_name",
           "type": "column"
          }
         ],
         "selects": [
          {
           "column": "race_year",
           "type": "column"
          },
          {
           "alias": "column_4618dddc52",
           "args": [
            {
             "column": "avg_points",
             "type": "column"
            }
           ],
           "function": "AVG",
           "type": "function"
          },
          {
           "column": "drivers_name",
           "type": "column"
          }
         ]
        }
       },
       "submitTime": 0,
       "subtype": "tableResultSubCmd.visualization",
       "tableResultIndex": 0,
       "tableResultSettingsMap": {},
       "useConsistentColors": false,
       "version": "CommandV1",
       "width": "auto",
       "workflows": [],
       "xColumns": null,
       "yColumns": null
      }
     },
     "output_type": "display_data"
    }
   ],
   "source": [
    "\n",
    "SELECT race_year,\n",
    "drivers_name, \n",
    "count(1) as total_races, \n",
    "SUM(calculated_points) as total_points,\n",
    "AVG(calculated_points) as avg_points,\n",
    "RANK() OVER (ORDER BY AVG(calculated_points) DESC) as driver_rank\n",
    "FROM f1_presentation.calculated_race_results\n",
    "WHERE drivers_name in (SELECT drivers_name FROM v_dominant_drivers WHERE driver_rank <= 10)\n",
    "GROUP BY race_year, drivers_name\n",
    "ORDER BY race_year, avg_points DESC"
   ]
  },
  {
   "cell_type": "code",
   "execution_count": 0,
   "metadata": {
    "application/vnd.databricks.v1+cell": {
     "cellMetadata": {
      "byteLimit": 2048000,
      "rowLimit": 10000
     },
     "inputWidgets": {},
     "nuid": "378ea4a0-ab4d-4123-9ee0-19743b2e301e",
     "showTitle": false,
     "tableResultSettingsMap": {},
     "title": ""
    }
   },
   "outputs": [
    {
     "output_type": "display_data",
     "data": {
      "image/png": "[encoded data removed]",
      "text/plain": [
       "<Figure size 640x480 with 1 Axes>"
      ]
     },
     "metadata": {},
     "output_type": "display_data"
    }
   ],
   "source": [
    "%python\n",
    "import matplotlib.pyplot as plt\n",
    "import matplotlib.image as mpimg\n",
    "image_path = f\"/dbfs{images_folder_path}/image1.png\"\n",
    "img = mpimg.imread(image_path)\n",
    "plt.imshow(img)\n",
    "plt.axis(\"off\")\n",
    "plt.show()\n",
    "\n"
   ]
  },
  {
   "cell_type": "code",
   "execution_count": 0,
   "metadata": {
    "application/vnd.databricks.v1+cell": {
     "cellMetadata": {},
     "inputWidgets": {},
     "nuid": "80c0d0c4-bcbc-4d1c-b095-7a51602c0dac",
     "showTitle": false,
     "tableResultSettingsMap": {},
     "title": ""
    }
   },
   "outputs": [],
   "source": []
  }
 ],
 "metadata": {
  "application/vnd.databricks.v1+notebook": {
   "computePreferences": null,
   "dashboards": [],
   "environmentMetadata": {
    "base_environment": "",
    "client": "2"
   },
   "language": "sql",
   "notebookMetadata": {
    "mostRecentlyExecutedCommandWithImplicitDF": {
     "commandId": -1,
     "dataframes": [
      "_sqldf"
     ]
    },
    "pythonIndentUnit": 4
   },
   "notebookName": "1.find_dominant_drivers",
   "widgets": {}
  },
  "language_info": {
   "name": "sql"
  }
 },
 "nbformat": 4,
 "nbformat_minor": 0
}