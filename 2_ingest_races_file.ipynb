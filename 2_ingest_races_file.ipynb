{
 "cells": [
  {
   "cell_type": "code",
   "execution_count": 0,
   "metadata": {
    "application/vnd.databricks.v1+cell": {
     "cellMetadata": {
      "byteLimit": 2048000,
      "rowLimit": 10000
     },
     "inputWidgets": {},
     "nuid": "40e0a31e-8aa4-4809-9a83-e1cf7f758084",
     "showTitle": false,
     "tableResultSettingsMap": {},
     "title": ""
    }
   },
   "outputs": [],
   "source": [
    "dbutils.widgets.text(\"p_data_source\", \"\")\n",
    "v_data_source = dbutils.widgets.get(\"p_data_source\")"
   ]
  },
  {
   "cell_type": "code",
   "execution_count": 0,
   "metadata": {
    "application/vnd.databricks.v1+cell": {
     "cellMetadata": {
      "byteLimit": 2048000,
      "rowLimit": 10000
     },
     "inputWidgets": {},
     "nuid": "6a737170-7211-4ccc-b2e6-0af05a335753",
     "showTitle": false,
     "tableResultSettingsMap": {},
     "title": ""
    }
   },
   "outputs": [],
   "source": [
    "from pyspark.sql.functions import *\n",
    "from pyspark.sql.types import *"
   ]
  },
  {
   "cell_type": "code",
   "execution_count": 0,
   "metadata": {
    "application/vnd.databricks.v1+cell": {
     "cellMetadata": {
      "byteLimit": 2048000,
      "rowLimit": 10000
     },
     "inputWidgets": {},
     "nuid": "2e35080b-74d3-48ec-a25b-37cb7e69a22d",
     "showTitle": false,
     "tableResultSettingsMap": {},
     "title": ""
    }
   },
   "outputs": [],
   "source": [
    "%run \"../includes/configuration\""
   ]
  },
  {
   "cell_type": "code",
   "execution_count": 0,
   "metadata": {
    "application/vnd.databricks.v1+cell": {
     "cellMetadata": {
      "byteLimit": 2048000,
      "rowLimit": 10000
     },
     "inputWidgets": {},
     "nuid": "54d90619-fa4a-45e3-bee9-1a65036abfdb",
     "showTitle": false,
     "tableResultSettingsMap": {},
     "title": ""
    }
   },
   "outputs": [],
   "source": [
    "%run \"../includes/common_functions\""
   ]
  },
  {
   "cell_type": "code",
   "execution_count": 0,
   "metadata": {
    "application/vnd.databricks.v1+cell": {
     "cellMetadata": {
      "byteLimit": 2048000,
      "rowLimit": 10000
     },
     "inputWidgets": {},
     "nuid": "22338a5e-ed03-4c8a-958c-7b8450525df1",
     "showTitle": false,
     "tableResultSettingsMap": {},
     "title": ""
    }
   },
   "outputs": [
    {
     "output_type": "display_data",
     "data": {
      "text/html": [
       "<style scoped>\n",
       "  .table-result-container {\n",
       "    max-height: 300px;\n",
       "    overflow: auto;\n",
       "  }\n",
       "  table, th, td {\n",
       "    border: 1px solid black;\n",
       "    border-collapse: collapse;\n",
       "  }\n",
       "  th, td {\n",
       "    padding: 5px;\n",
       "  }\n",
       "  th {\n",
       "    text-align: left;\n",
       "  }\n",
       "</style><div class='table-result-container'><table class='table-result'><thead style='background-color: white'><tr><th>path</th><th>name</th><th>size</th><th>modificationTime</th></tr></thead><tbody><tr><td>dbfs:/mnt/bluetab1002/raw/circuits.csv</td><td>circuits.csv</td><td>10044</td><td>1738253538000</td></tr><tr><td>dbfs:/mnt/bluetab1002/raw/constructors.json</td><td>constructors.json</td><td>30415</td><td>1738253538000</td></tr><tr><td>dbfs:/mnt/bluetab1002/raw/drivers.json</td><td>drivers.json</td><td>180812</td><td>1738253538000</td></tr><tr><td>dbfs:/mnt/bluetab1002/raw/lap_times/</td><td>lap_times/</td><td>0</td><td>0</td></tr><tr><td>dbfs:/mnt/bluetab1002/raw/pit_stops.json</td><td>pit_stops.json</td><td>1369387</td><td>1738253539000</td></tr><tr><td>dbfs:/mnt/bluetab1002/raw/qualifying/</td><td>qualifying/</td><td>0</td><td>0</td></tr><tr><td>dbfs:/mnt/bluetab1002/raw/races.csv</td><td>races.csv</td><td>116847</td><td>1738253538000</td></tr><tr><td>dbfs:/mnt/bluetab1002/raw/results.json</td><td>results.json</td><td>7165641</td><td>1738253542000</td></tr></tbody></table></div>"
      ]
     },
     "metadata": {
      "application/vnd.databricks.v1+output": {
       "addedWidgets": {},
       "aggData": [],
       "aggError": "",
       "aggOverflow": false,
       "aggSchema": [],
       "aggSeriesLimitReached": false,
       "aggType": "",
       "arguments": {},
       "columnCustomDisplayInfos": {},
       "data": [
        [
         "dbfs:/mnt/bluetab1002/raw/circuits.csv",
         "circuits.csv",
         10044,
         1738253538000
        ],
        [
         "dbfs:/mnt/bluetab1002/raw/constructors.json",
         "constructors.json",
         30415,
         1738253538000
        ],
        [
         "dbfs:/mnt/bluetab1002/raw/drivers.json",
         "drivers.json",
         180812,
         1738253538000
        ],
        [
         "dbfs:/mnt/bluetab1002/raw/lap_times/",
         "lap_times/",
         0,
         0
        ],
        [
         "dbfs:/mnt/bluetab1002/raw/pit_stops.json",
         "pit_stops.json",
         1369387,
         1738253539000
        ],
        [
         "dbfs:/mnt/bluetab1002/raw/qualifying/",
         "qualifying/",
         0,
         0
        ],
        [
         "dbfs:/mnt/bluetab1002/raw/races.csv",
         "races.csv",
         116847,
         1738253538000
        ],
        [
         "dbfs:/mnt/bluetab1002/raw/results.json",
         "results.json",
         7165641,
         1738253542000
        ]
       ],
       "datasetInfos": [],
       "dbfsResultPath": null,
       "isJsonSchema": true,
       "metadata": {},
       "overflow": false,
       "plotOptions": {
        "customPlotOptions": {},
        "displayType": "table",
        "pivotAggregation": null,
        "pivotColumns": null,
        "xColumns": null,
        "yColumns": null
       },
       "removedWidgets": [],
       "schema": [
        {
         "metadata": "{}",
         "name": "path",
         "type": "\"string\""
        },
        {
         "metadata": "{}",
         "name": "name",
         "type": "\"string\""
        },
        {
         "metadata": "{}",
         "name": "size",
         "type": "\"long\""
        },
        {
         "metadata": "{}",
         "name": "modificationTime",
         "type": "\"long\""
        }
       ],
       "type": "table"
      }
     },
     "output_type": "display_data"
    }
   ],
   "source": [
    "display(dbutils.fs.ls(\"/mnt/bluetab1002/raw\"))"
   ]
  },
  {
   "cell_type": "code",
   "execution_count": 0,
   "metadata": {
    "application/vnd.databricks.v1+cell": {
     "cellMetadata": {
      "byteLimit": 2048000,
      "rowLimit": 10000
     },
     "inputWidgets": {},
     "nuid": "85de1379-51ef-47f1-846d-fc6ff6a41c9a",
     "showTitle": false,
     "tableResultSettingsMap": {},
     "title": ""
    }
   },
   "outputs": [
    {
     "output_type": "display_data",
     "data": {
      "text/html": [
       "<style scoped>\n",
       "  .table-result-container {\n",
       "    max-height: 300px;\n",
       "    overflow: auto;\n",
       "  }\n",
       "  table, th, td {\n",
       "    border: 1px solid black;\n",
       "    border-collapse: collapse;\n",
       "  }\n",
       "  th, td {\n",
       "    padding: 5px;\n",
       "  }\n",
       "  th {\n",
       "    text-align: left;\n",
       "  }\n",
       "</style><div class='table-result-container'><table class='table-result'><thead style='background-color: white'><tr><th>path</th><th>name</th><th>size</th><th>modificationTime</th></tr></thead><tbody><tr><td>dbfs:/mnt/bluetab1002/raw/races.csv</td><td>races.csv</td><td>116847</td><td>1738253538000</td></tr></tbody></table></div>"
      ]
     },
     "metadata": {
      "application/vnd.databricks.v1+output": {
       "addedWidgets": {},
       "aggData": [],
       "aggError": "",
       "aggOverflow": false,
       "aggSchema": [],
       "aggSeriesLimitReached": false,
       "aggType": "",
       "arguments": {},
       "columnCustomDisplayInfos": {},
       "data": [
        [
         "dbfs:/mnt/bluetab1002/raw/races.csv",
         "races.csv",
         116847,
         1738253538000
        ]
       ],
       "datasetInfos": [],
       "dbfsResultPath": null,
       "isJsonSchema": true,
       "metadata": {},
       "overflow": false,
       "plotOptions": {
        "customPlotOptions": {},
        "displayType": "table",
        "pivotAggregation": null,
        "pivotColumns": null,
        "xColumns": null,
        "yColumns": null
       },
       "removedWidgets": [],
       "schema": [
        {
         "metadata": "{}",
         "name": "path",
         "type": "\"string\""
        },
        {
         "metadata": "{}",
         "name": "name",
         "type": "\"string\""
        },
        {
         "metadata": "{}",
         "name": "size",
         "type": "\"long\""
        },
        {
         "metadata": "{}",
         "name": "modificationTime",
         "type": "\"long\""
        }
       ],
       "type": "table"
      }
     },
     "output_type": "display_data"
    }
   ],
   "source": [
    "display(dbutils.fs.ls(\"dbfs:/mnt/bluetab1002/raw/races.csv\"))"
   ]
  },
  {
   "cell_type": "code",
   "execution_count": 0,
   "metadata": {
    "application/vnd.databricks.v1+cell": {
     "cellMetadata": {
      "byteLimit": 2048000,
      "rowLimit": 10000
     },
     "inputWidgets": {},
     "nuid": "4bd27a7f-b225-4e92-8b92-9c2d4a1cb232",
     "showTitle": false,
     "tableResultSettingsMap": {},
     "title": ""
    }
   },
   "outputs": [],
   "source": [
    "df_schema = StructType([\n",
    "    StructField('raceId', IntegerType(), True),\n",
    "    StructField('year', IntegerType(), False),\n",
    "    StructField('round', IntegerType(), False),\n",
    "    StructField('circuitId', IntegerType(), True),\n",
    "    StructField('name', StringType(), False),\n",
    "    StructField('date', DateType(), False),\n",
    "    StructField('time', StringType(), False),\n",
    "    StructField('url', StringType(), False),\n",
    "])"
   ]
  },
  {
   "cell_type": "code",
   "execution_count": 0,
   "metadata": {
    "application/vnd.databricks.v1+cell": {
     "cellMetadata": {
      "byteLimit": 2048000,
      "rowLimit": 10000
     },
     "inputWidgets": {},
     "nuid": "176821fb-9e8f-4d56-8dd7-7e0e7434371e",
     "showTitle": false,
     "tableResultSettingsMap": {},
     "title": ""
    }
   },
   "outputs": [],
   "source": [
    "df = spark.read\\\n",
    "    .option('header', True) \\\n",
    "    .schema(df_schema) \\\n",
    "    .csv(f'{raw_folder_path}/races.csv')"
   ]
  },
  {
   "cell_type": "code",
   "execution_count": 0,
   "metadata": {
    "application/vnd.databricks.v1+cell": {
     "cellMetadata": {
      "byteLimit": 2048000,
      "rowLimit": 10000
     },
     "inputWidgets": {},
     "nuid": "f8ed79ed-15dc-40db-ab29-67916862afec",
     "showTitle": false,
     "tableResultSettingsMap": {},
     "title": ""
    }
   },
   "outputs": [
    {
     "output_type": "display_data",
     "data": {
      "text/html": [
       "<style scoped>\n",
       "  .table-result-container {\n",
       "    max-height: 300px;\n",
       "    overflow: auto;\n",
       "  }\n",
       "  table, th, td {\n",
       "    border: 1px solid black;\n",
       "    border-collapse: collapse;\n",
       "  }\n",
       "  th, td {\n",
       "    padding: 5px;\n",
       "  }\n",
       "  th {\n",
       "    text-align: left;\n",
       "  }\n",
       "</style><div class='table-result-container'><table class='table-result'><thead style='background-color: white'><tr><th>race_id</th><th>race_year</th><th>round</th><th>circuit_id</th><th>name</th><th>race_timestamp</th><th>ingestion_date</th></tr></thead><tbody><tr><td>1</td><td>2009</td><td>1</td><td>1</td><td>Australian Grand Prix</td><td>2009-03-29T06:00:00Z</td><td>2025-02-01T17:43:14.85Z</td></tr><tr><td>2</td><td>2009</td><td>2</td><td>2</td><td>Malaysian Grand Prix</td><td>2009-04-05T09:00:00Z</td><td>2025-02-01T17:43:14.85Z</td></tr><tr><td>3</td><td>2009</td><td>3</td><td>17</td><td>Chinese Grand Prix</td><td>2009-04-19T07:00:00Z</td><td>2025-02-01T17:43:14.85Z</td></tr><tr><td>4</td><td>2009</td><td>4</td><td>3</td><td>Bahrain Grand Prix</td><td>2009-04-26T12:00:00Z</td><td>2025-02-01T17:43:14.85Z</td></tr><tr><td>5</td><td>2009</td><td>5</td><td>4</td><td>Spanish Grand Prix</td><td>2009-05-10T12:00:00Z</td><td>2025-02-01T17:43:14.85Z</td></tr><tr><td>6</td><td>2009</td><td>6</td><td>6</td><td>Monaco Grand Prix</td><td>2009-05-24T12:00:00Z</td><td>2025-02-01T17:43:14.85Z</td></tr><tr><td>7</td><td>2009</td><td>7</td><td>5</td><td>Turkish Grand Prix</td><td>2009-06-07T12:00:00Z</td><td>2025-02-01T17:43:14.85Z</td></tr><tr><td>8</td><td>2009</td><td>8</td><td>9</td><td>British Grand Prix</td><td>2009-06-21T12:00:00Z</td><td>2025-02-01T17:43:14.85Z</td></tr><tr><td>9</td><td>2009</td><td>9</td><td>20</td><td>German Grand Prix</td><td>2009-07-12T12:00:00Z</td><td>2025-02-01T17:43:14.85Z</td></tr><tr><td>10</td><td>2009</td><td>10</td><td>11</td><td>Hungarian Grand Prix</td><td>2009-07-26T12:00:00Z</td><td>2025-02-01T17:43:14.85Z</td></tr><tr><td>11</td><td>2009</td><td>11</td><td>12</td><td>European Grand Prix</td><td>2009-08-23T12:00:00Z</td><td>2025-02-01T17:43:14.85Z</td></tr><tr><td>12</td><td>2009</td><td>12</td><td>13</td><td>Belgian Grand Prix</td><td>2009-08-30T12:00:00Z</td><td>2025-02-01T17:43:14.85Z</td></tr><tr><td>13</td><td>2009</td><td>13</td><td>14</td><td>Italian Grand Prix</td><td>2009-09-13T12:00:00Z</td><td>2025-02-01T17:43:14.85Z</td></tr><tr><td>14</td><td>2009</td><td>14</td><td>15</td><td>Singapore Grand Prix</td><td>2009-09-27T12:00:00Z</td><td>2025-02-01T17:43:14.85Z</td></tr><tr><td>15</td><td>2009</td><td>15</td><td>22</td><td>Japanese Grand Prix</td><td>2009-10-04T05:00:00Z</td><td>2025-02-01T17:43:14.85Z</td></tr><tr><td>16</td><td>2009</td><td>16</td><td>18</td><td>Brazilian Grand Prix</td><td>2009-10-18T16:00:00Z</td><td>2025-02-01T17:43:14.85Z</td></tr><tr><td>17</td><td>2009</td><td>17</td><td>24</td><td>Abu Dhabi Grand Prix</td><td>2009-11-01T11:00:00Z</td><td>2025-02-01T17:43:14.85Z</td></tr><tr><td>18</td><td>2008</td><td>1</td><td>1</td><td>Australian Grand Prix</td><td>2008-03-16T04:30:00Z</td><td>2025-02-01T17:43:14.85Z</td></tr><tr><td>19</td><td>2008</td><td>2</td><td>2</td><td>Malaysian Grand Prix</td><td>2008-03-23T07:00:00Z</td><td>2025-02-01T17:43:14.85Z</td></tr><tr><td>20</td><td>2008</td><td>3</td><td>3</td><td>Bahrain Grand Prix</td><td>2008-04-06T11:30:00Z</td><td>2025-02-01T17:43:14.85Z</td></tr><tr><td>21</td><td>2008</td><td>4</td><td>4</td><td>Spanish Grand Prix</td><td>2008-04-27T12:00:00Z</td><td>2025-02-01T17:43:14.85Z</td></tr><tr><td>22</td><td>2008</td><td>5</td><td>5</td><td>Turkish Grand Prix</td><td>2008-05-11T12:00:00Z</td><td>2025-02-01T17:43:14.85Z</td></tr><tr><td>23</td><td>2008</td><td>6</td><td>6</td><td>Monaco Grand Prix</td><td>2008-05-25T12:00:00Z</td><td>2025-02-01T17:43:14.85Z</td></tr><tr><td>24</td><td>2008</td><td>7</td><td>7</td><td>Canadian Grand Prix</td><td>2008-06-08T17:00:00Z</td><td>2025-02-01T17:43:14.85Z</td></tr><tr><td>25</td><td>2008</td><td>8</td><td>8</td><td>French Grand Prix</td><td>2008-06-22T12:00:00Z</td><td>2025-02-01T17:43:14.85Z</td></tr><tr><td>26</td><td>2008</td><td>9</td><td>9</td><td>British Grand Prix</td><td>2008-07-06T12:00:00Z</td><td>2025-02-01T17:43:14.85Z</td></tr><tr><td>27</td><td>2008</td><td>10</td><td>10</td><td>German Grand Prix</td><td>2008-07-20T12:00:00Z</td><td>2025-02-01T17:43:14.85Z</td></tr><tr><td>28</td><td>2008</td><td>11</td><td>11</td><td>Hungarian Grand Prix</td><td>2008-08-03T12:00:00Z</td><td>2025-02-01T17:43:14.85Z</td></tr><tr><td>29</td><td>2008</td><td>12</td><td>12</td><td>European Grand Prix</td><td>2008-08-24T12:00:00Z</td><td>2025-02-01T17:43:14.85Z</td></tr><tr><td>30</td><td>2008</td><td>13</td><td>13</td><td>Belgian Grand Prix</td><td>2008-09-07T12:00:00Z</td><td>2025-02-01T17:43:14.85Z</td></tr><tr><td>31</td><td>2008</td><td>14</td><td>14</td><td>Italian Grand Prix</td><td>2008-09-14T12:00:00Z</td><td>2025-02-01T17:43:14.85Z</td></tr><tr><td>32</td><td>2008</td><td>15</td><td>15</td><td>Singapore Grand Prix</td><td>2008-09-28T12:00:00Z</td><td>2025-02-01T17:43:14.85Z</td></tr><tr><td>33</td><td>2008</td><td>16</td><td>16</td><td>Japanese Grand Prix</td><td>2008-10-12T04:30:00Z</td><td>2025-02-01T17:43:14.85Z</td></tr><tr><td>34</td><td>2008</td><td>17</td><td>17</td><td>Chinese Grand Prix</td><td>2008-10-19T07:00:00Z</td><td>2025-02-01T17:43:14.85Z</td></tr><tr><td>35</td><td>2008</td><td>18</td><td>18</td><td>Brazilian Grand Prix</td><td>2008-11-02T17:00:00Z</td><td>2025-02-01T17:43:14.85Z</td></tr><tr><td>36</td><td>2007</td><td>1</td><td>1</td><td>Australian Grand Prix</td><td>2007-03-18T03:00:00Z</td><td>2025-02-01T17:43:14.85Z</td></tr><tr><td>37</td><td>2007</td><td>2</td><td>2</td><td>Malaysian Grand Prix</td><td>2007-04-08T07:00:00Z</td><td>2025-02-01T17:43:14.85Z</td></tr><tr><td>38</td><td>2007</td><td>3</td><td>3</td><td>Bahrain Grand Prix</td><td>2007-04-15T11:30:00Z</td><td>2025-02-01T17:43:14.85Z</td></tr><tr><td>39</td><td>2007</td><td>4</td><td>4</td><td>Spanish Grand Prix</td><td>2007-05-13T12:00:00Z</td><td>2025-02-01T17:43:14.85Z</td></tr><tr><td>40</td><td>2007</td><td>5</td><td>6</td><td>Monaco Grand Prix</td><td>2007-05-27T12:00:00Z</td><td>2025-02-01T17:43:14.85Z</td></tr><tr><td>41</td><td>2007</td><td>6</td><td>7</td><td>Canadian Grand Prix</td><td>2007-06-10T17:00:00Z</td><td>2025-02-01T17:43:14.85Z</td></tr><tr><td>42</td><td>2007</td><td>7</td><td>19</td><td>United States Grand Prix</td><td>2007-06-17T17:00:00Z</td><td>2025-02-01T17:43:14.85Z</td></tr><tr><td>43</td><td>2007</td><td>8</td><td>8</td><td>French Grand Prix</td><td>2007-07-01T12:00:00Z</td><td>2025-02-01T17:43:14.85Z</td></tr><tr><td>44</td><td>2007</td><td>9</td><td>9</td><td>British Grand Prix</td><td>2007-07-08T12:00:00Z</td><td>2025-02-01T17:43:14.85Z</td></tr><tr><td>45</td><td>2007</td><td>10</td><td>20</td><td>European Grand Prix</td><td>2007-07-22T12:00:00Z</td><td>2025-02-01T17:43:14.85Z</td></tr><tr><td>46</td><td>2007</td><td>11</td><td>11</td><td>Hungarian Grand Prix</td><td>2007-08-05T12:00:00Z</td><td>2025-02-01T17:43:14.85Z</td></tr><tr><td>47</td><td>2007</td><td>12</td><td>5</td><td>Turkish Grand Prix</td><td>2007-08-26T12:00:00Z</td><td>2025-02-01T17:43:14.85Z</td></tr><tr><td>48</td><td>2007</td><td>13</td><td>14</td><td>Italian Grand Prix</td><td>2007-09-09T12:00:00Z</td><td>2025-02-01T17:43:14.85Z</td></tr><tr><td>49</td><td>2007</td><td>14</td><td>13</td><td>Belgian Grand Prix</td><td>2007-09-16T12:00:00Z</td><td>2025-02-01T17:43:14.85Z</td></tr><tr><td>50</td><td>2007</td><td>15</td><td>16</td><td>Japanese Grand Prix</td><td>2007-09-30T04:30:00Z</td><td>2025-02-01T17:43:14.85Z</td></tr><tr><td>51</td><td>2007</td><td>16</td><td>17</td><td>Chinese Grand Prix</td><td>2007-10-07T06:00:00Z</td><td>2025-02-01T17:43:14.85Z</td></tr><tr><td>52</td><td>2007</td><td>17</td><td>18</td><td>Brazilian Grand Prix</td><td>2007-10-21T16:00:00Z</td><td>2025-02-01T17:43:14.85Z</td></tr><tr><td>53</td><td>2006</td><td>1</td><td>3</td><td>Bahrain Grand Prix</td><td>2006-03-12T14:30:00Z</td><td>2025-02-01T17:43:14.85Z</td></tr><tr><td>54</td><td>2006</td><td>2</td><td>2</td><td>Malaysian Grand Prix</td><td>2006-03-19T15:00:00Z</td><td>2025-02-01T17:43:14.85Z</td></tr><tr><td>55</td><td>2006</td><td>3</td><td>1</td><td>Australian Grand Prix</td><td>2006-04-02T14:00:00Z</td><td>2025-02-01T17:43:14.85Z</td></tr><tr><td>56</td><td>2006</td><td>4</td><td>21</td><td>San Marino Grand Prix</td><td>2006-04-23T14:00:00Z</td><td>2025-02-01T17:43:14.85Z</td></tr><tr><td>57</td><td>2006</td><td>5</td><td>20</td><td>European Grand Prix</td><td>2006-05-07T14:00:00Z</td><td>2025-02-01T17:43:14.85Z</td></tr><tr><td>58</td><td>2006</td><td>6</td><td>4</td><td>Spanish Grand Prix</td><td>2006-05-14T14:00:00Z</td><td>2025-02-01T17:43:14.85Z</td></tr><tr><td>59</td><td>2006</td><td>7</td><td>6</td><td>Monaco Grand Prix</td><td>2006-05-28T14:00:00Z</td><td>2025-02-01T17:43:14.85Z</td></tr><tr><td>60</td><td>2006</td><td>8</td><td>9</td><td>British Grand Prix</td><td>2006-06-11T12:00:00Z</td><td>2025-02-01T17:43:14.85Z</td></tr><tr><td>61</td><td>2006</td><td>9</td><td>7</td><td>Canadian Grand Prix</td><td>2006-06-25T13:00:00Z</td><td>2025-02-01T17:43:14.85Z</td></tr><tr><td>62</td><td>2006</td><td>10</td><td>19</td><td>United States Grand Prix</td><td>2006-07-02T14:00:00Z</td><td>2025-02-01T17:43:14.85Z</td></tr><tr><td>63</td><td>2006</td><td>11</td><td>8</td><td>French Grand Prix</td><td>2006-07-16T14:00:00Z</td><td>2025-02-01T17:43:14.85Z</td></tr><tr><td>64</td><td>2006</td><td>12</td><td>10</td><td>German Grand Prix</td><td>2006-07-30T14:00:00Z</td><td>2025-02-01T17:43:14.85Z</td></tr><tr><td>65</td><td>2006</td><td>13</td><td>11</td><td>Hungarian Grand Prix</td><td>2006-08-06T14:00:00Z</td><td>2025-02-01T17:43:14.85Z</td></tr><tr><td>66</td><td>2006</td><td>14</td><td>5</td><td>Turkish Grand Prix</td><td>2006-08-27T15:00:00Z</td><td>2025-02-01T17:43:14.85Z</td></tr><tr><td>67</td><td>2006</td><td>15</td><td>14</td><td>Italian Grand Prix</td><td>2006-09-10T14:00:00Z</td><td>2025-02-01T17:43:14.85Z</td></tr><tr><td>68</td><td>2006</td><td>16</td><td>17</td><td>Chinese Grand Prix</td><td>2006-10-01T14:00:00Z</td><td>2025-02-01T17:43:14.85Z</td></tr><tr><td>69</td><td>2006</td><td>17</td><td>22</td><td>Japanese Grand Prix</td><td>2006-10-08T14:00:00Z</td><td>2025-02-01T17:43:14.85Z</td></tr><tr><td>70</td><td>2006</td><td>18</td><td>18</td><td>Brazilian Grand Prix</td><td>2006-10-22T14:00:00Z</td><td>2025-02-01T17:43:14.85Z</td></tr><tr><td>71</td><td>2005</td><td>1</td><td>1</td><td>Australian Grand Prix</td><td>2005-03-06T14:00:00Z</td><td>2025-02-01T17:43:14.85Z</td></tr><tr><td>72</td><td>2005</td><td>2</td><td>2</td><td>Malaysian Grand Prix</td><td>2005-03-20T15:00:00Z</td><td>2025-02-01T17:43:14.85Z</td></tr><tr><td>73</td><td>2005</td><td>3</td><td>3</td><td>Bahrain Grand Prix</td><td>2005-04-03T14:30:00Z</td><td>2025-02-01T17:43:14.85Z</td></tr><tr><td>74</td><td>2005</td><td>4</td><td>21</td><td>San Marino Grand Prix</td><td>2005-04-24T14:00:00Z</td><td>2025-02-01T17:43:14.85Z</td></tr><tr><td>75</td><td>2005</td><td>5</td><td>4</td><td>Spanish Grand Prix</td><td>2005-05-08T14:00:00Z</td><td>2025-02-01T17:43:14.85Z</td></tr><tr><td>76</td><td>2005</td><td>6</td><td>6</td><td>Monaco Grand Prix</td><td>2005-05-22T14:00:00Z</td><td>2025-02-01T17:43:14.85Z</td></tr><tr><td>77</td><td>2005</td><td>7</td><td>20</td><td>European Grand Prix</td><td>2005-05-29T14:00:00Z</td><td>2025-02-01T17:43:14.85Z</td></tr><tr><td>78</td><td>2005</td><td>8</td><td>7</td><td>Canadian Grand Prix</td><td>2005-06-12T13:00:00Z</td><td>2025-02-01T17:43:14.85Z</td></tr><tr><td>79</td><td>2005</td><td>9</td><td>19</td><td>United States Grand Prix</td><td>2005-06-19T14:00:00Z</td><td>2025-02-01T17:43:14.85Z</td></tr><tr><td>80</td><td>2005</td><td>10</td><td>8</td><td>French Grand Prix</td><td>2005-07-03T14:00:00Z</td><td>2025-02-01T17:43:14.85Z</td></tr><tr><td>81</td><td>2005</td><td>11</td><td>9</td><td>British Grand Prix</td><td>2005-07-10T14:00:00Z</td><td>2025-02-01T17:43:14.85Z</td></tr><tr><td>82</td><td>2005</td><td>12</td><td>10</td><td>German Grand Prix</td><td>2005-07-24T14:00:00Z</td><td>2025-02-01T17:43:14.85Z</td></tr><tr><td>83</td><td>2005</td><td>13</td><td>11</td><td>Hungarian Grand Prix</td><td>2005-07-31T14:00:00Z</td><td>2025-02-01T17:43:14.85Z</td></tr><tr><td>84</td><td>2005</td><td>14</td><td>5</td><td>Turkish Grand Prix</td><td>2005-08-21T15:00:00Z</td><td>2025-02-01T17:43:14.85Z</td></tr><tr><td>85</td><td>2005</td><td>15</td><td>14</td><td>Italian Grand Prix</td><td>2005-09-04T14:00:00Z</td><td>2025-02-01T17:43:14.85Z</td></tr><tr><td>86</td><td>2005</td><td>16</td><td>13</td><td>Belgian Grand Prix</td><td>2005-09-11T14:00:00Z</td><td>2025-02-01T17:43:14.85Z</td></tr><tr><td>87</td><td>2005</td><td>17</td><td>18</td><td>Brazilian Grand Prix</td><td>2005-09-25T14:00:00Z</td><td>2025-02-01T17:43:14.85Z</td></tr><tr><td>88</td><td>2005</td><td>18</td><td>22</td><td>Japanese Grand Prix</td><td>2005-10-09T14:00:00Z</td><td>2025-02-01T17:43:14.85Z</td></tr><tr><td>89</td><td>2005</td><td>19</td><td>17</td><td>Chinese Grand Prix</td><td>2005-10-16T14:00:00Z</td><td>2025-02-01T17:43:14.85Z</td></tr><tr><td>90</td><td>2004</td><td>1</td><td>1</td><td>Australian Grand Prix</td><td>null</td><td>2025-02-01T17:43:14.85Z</td></tr><tr><td>91</td><td>2004</td><td>2</td><td>2</td><td>Malaysian Grand Prix</td><td>null</td><td>2025-02-01T17:43:14.85Z</td></tr><tr><td>92</td><td>2004</td><td>3</td><td>3</td><td>Bahrain Grand Prix</td><td>null</td><td>2025-02-01T17:43:14.85Z</td></tr><tr><td>93</td><td>2004</td><td>4</td><td>21</td><td>San Marino Grand Prix</td><td>null</td><td>2025-02-01T17:43:14.85Z</td></tr><tr><td>94</td><td>2004</td><td>5</td><td>4</td><td>Spanish Grand Prix</td><td>null</td><td>2025-02-01T17:43:14.85Z</td></tr><tr><td>95</td><td>2004</td><td>6</td><td>6</td><td>Monaco Grand Prix</td><td>null</td><td>2025-02-01T17:43:14.85Z</td></tr><tr><td>96</td><td>2004</td><td>7</td><td>20</td><td>European Grand Prix</td><td>null</td><td>2025-02-01T17:43:14.85Z</td></tr><tr><td>97</td><td>2004</td><td>8</td><td>7</td><td>Canadian Grand Prix</td><td>null</td><td>2025-02-01T17:43:14.85Z</td></tr><tr><td>98</td><td>2004</td><td>9</td><td>19</td><td>United States Grand Prix</td><td>null</td><td>2025-02-01T17:43:14.85Z</td></tr><tr><td>99</td><td>2004</td><td>10</td><td>8</td><td>French Grand Prix</td><td>null</td><td>2025-02-01T17:43:14.85Z</td></tr><tr><td>100</td><td>2004</td><td>11</td><td>9</td><td>British Grand Prix</td><td>null</td><td>2025-02-01T17:43:14.85Z</td></tr><tr><td>101</td><td>2004</td><td>12</td><td>10</td><td>German Grand Prix</td><td>null</td><td>2025-02-01T17:43:14.85Z</td></tr><tr><td>102</td><td>2004</td><td>13</td><td>11</td><td>Hungarian Grand Prix</td><td>null</td><td>2025-02-01T17:43:14.85Z</td></tr><tr><td>103</td><td>2004</td><td>14</td><td>13</td><td>Belgian Grand Prix</td><td>null</td><td>2025-02-01T17:43:14.85Z</td></tr><tr><td>104</td><td>2004</td><td>15</td><td>14</td><td>Italian Grand Prix</td><td>null</td><td>2025-02-01T17:43:14.85Z</td></tr><tr><td>105</td><td>2004</td><td>16</td><td>17</td><td>Chinese Grand Prix</td><td>null</td><td>2025-02-01T17:43:14.85Z</td></tr><tr><td>106</td><td>2004</td><td>17</td><td>22</td><td>Japanese Grand Prix</td><td>null</td><td>2025-02-01T17:43:14.85Z</td></tr><tr><td>107</td><td>2004</td><td>18</td><td>18</td><td>Brazilian Grand Prix</td><td>null</td><td>2025-02-01T17:43:14.85Z</td></tr><tr><td>108</td><td>2003</td><td>1</td><td>1</td><td>Australian Grand Prix</td><td>null</td><td>2025-02-01T17:43:14.85Z</td></tr><tr><td>109</td><td>2003</td><td>2</td><td>2</td><td>Malaysian Grand Prix</td><td>null</td><td>2025-02-01T17:43:14.85Z</td></tr><tr><td>110</td><td>2003</td><td>3</td><td>18</td><td>Brazilian Grand Prix</td><td>null</td><td>2025-02-01T17:43:14.85Z</td></tr><tr><td>111</td><td>2003</td><td>4</td><td>21</td><td>San Marino Grand Prix</td><td>null</td><td>2025-02-01T17:43:14.85Z</td></tr><tr><td>112</td><td>2003</td><td>5</td><td>4</td><td>Spanish Grand Prix</td><td>null</td><td>2025-02-01T17:43:14.85Z</td></tr><tr><td>113</td><td>2003</td><td>6</td><td>23</td><td>Austrian Grand Prix</td><td>null</td><td>2025-02-01T17:43:14.85Z</td></tr><tr><td>114</td><td>2003</td><td>7</td><td>6</td><td>Monaco Grand Prix</td><td>null</td><td>2025-02-01T17:43:14.85Z</td></tr><tr><td>115</td><td>2003</td><td>8</td><td>7</td><td>Canadian Grand Prix</td><td>null</td><td>2025-02-01T17:43:14.85Z</td></tr><tr><td>116</td><td>2003</td><td>9</td><td>20</td><td>European Grand Prix</td><td>null</td><td>2025-02-01T17:43:14.85Z</td></tr><tr><td>117</td><td>2003</td><td>10</td><td>8</td><td>French Grand Prix</td><td>null</td><td>2025-02-01T17:43:14.85Z</td></tr><tr><td>118</td><td>2003</td><td>11</td><td>9</td><td>British Grand Prix</td><td>null</td><td>2025-02-01T17:43:14.85Z</td></tr><tr><td>119</td><td>2003</td><td>12</td><td>10</td><td>German Grand Prix</td><td>null</td><td>2025-02-01T17:43:14.85Z</td></tr><tr><td>120</td><td>2003</td><td>13</td><td>11</td><td>Hungarian Grand Prix</td><td>null</td><td>2025-02-01T17:43:14.85Z</td></tr><tr><td>121</td><td>2003</td><td>14</td><td>14</td><td>Italian Grand Prix</td><td>null</td><td>2025-02-01T17:43:14.85Z</td></tr><tr><td>122</td><td>2003</td><td>15</td><td>19</td><td>United States Grand Prix</td><td>null</td><td>2025-02-01T17:43:14.85Z</td></tr><tr><td>123</td><td>2003</td><td>16</td><td>22</td><td>Japanese Grand Prix</td><td>null</td><td>2025-02-01T17:43:14.85Z</td></tr><tr><td>124</td><td>2002</td><td>1</td><td>1</td><td>Australian Grand Prix</td><td>null</td><td>2025-02-01T17:43:14.85Z</td></tr><tr><td>125</td><td>2002</td><td>2</td><td>2</td><td>Malaysian Grand Prix</td><td>null</td><td>2025-02-01T17:43:14.85Z</td></tr><tr><td>126</td><td>2002</td><td>3</td><td>18</td><td>Brazilian Grand Prix</td><td>null</td><td>2025-02-01T17:43:14.85Z</td></tr><tr><td>127</td><td>2002</td><td>4</td><td>21</td><td>San Marino Grand Prix</td><td>null</td><td>2025-02-01T17:43:14.85Z</td></tr><tr><td>128</td><td>2002</td><td>5</td><td>4</td><td>Spanish Grand Prix</td><td>null</td><td>2025-02-01T17:43:14.85Z</td></tr><tr><td>129</td><td>2002</td><td>6</td><td>23</td><td>Austrian Grand Prix</td><td>null</td><td>2025-02-01T17:43:14.85Z</td></tr><tr><td>130</td><td>2002</td><td>7</td><td>6</td><td>Monaco Grand Prix</td><td>null</td><td>2025-02-01T17:43:14.85Z</td></tr><tr><td>131</td><td>2002</td><td>8</td><td>7</td><td>Canadian Grand Prix</td><td>null</td><td>2025-02-01T17:43:14.85Z</td></tr><tr><td>132</td><td>2002</td><td>9</td><td>20</td><td>European Grand Prix</td><td>null</td><td>2025-02-01T17:43:14.85Z</td></tr><tr><td>133</td><td>2002</td><td>10</td><td>9</td><td>British Grand Prix</td><td>null</td><td>2025-02-01T17:43:14.85Z</td></tr><tr><td>134</td><td>2002</td><td>11</td><td>8</td><td>French Grand Prix</td><td>null</td><td>2025-02-01T17:43:14.85Z</td></tr><tr><td>135</td><td>2002</td><td>12</td><td>10</td><td>German Grand Prix</td><td>null</td><td>2025-02-01T17:43:14.85Z</td></tr><tr><td>136</td><td>2002</td><td>13</td><td>11</td><td>Hungarian Grand Prix</td><td>null</td><td>2025-02-01T17:43:14.85Z</td></tr><tr><td>137</td><td>2002</td><td>14</td><td>13</td><td>Belgian Grand Prix</td><td>null</td><td>2025-02-01T17:43:14.85Z</td></tr><tr><td>138</td><td>2002</td><td>15</td><td>14</td><td>Italian Grand Prix</td><td>null</td><td>2025-02-01T17:43:14.85Z</td></tr><tr><td>139</td><td>2002</td><td>16</td><td>19</td><td>United States Grand Prix</td><td>null</td><td>2025-02-01T17:43:14.85Z</td></tr><tr><td>140</td><td>2002</td><td>17</td><td>22</td><td>Japanese Grand Prix</td><td>null</td><td>2025-02-01T17:43:14.85Z</td></tr><tr><td>141</td><td>2001</td><td>1</td><td>1</td><td>Australian Grand Prix</td><td>null</td><td>2025-02-01T17:43:14.85Z</td></tr><tr><td>142</td><td>2001</td><td>2</td><td>2</td><td>Malaysian Grand Prix</td><td>null</td><td>2025-02-01T17:43:14.85Z</td></tr><tr><td>143</td><td>2001</td><td>3</td><td>18</td><td>Brazilian Grand Prix</td><td>null</td><td>2025-02-01T17:43:14.85Z</td></tr><tr><td>144</td><td>2001</td><td>4</td><td>21</td><td>San Marino Grand Prix</td><td>null</td><td>2025-02-01T17:43:14.85Z</td></tr><tr><td>145</td><td>2001</td><td>5</td><td>4</td><td>Spanish Grand Prix</td><td>null</td><td>2025-02-01T17:43:14.85Z</td></tr><tr><td>146</td><td>2001</td><td>6</td><td>23</td><td>Austrian Grand Prix</td><td>null</td><td>2025-02-01T17:43:14.85Z</td></tr><tr><td>147</td><td>2001</td><td>7</td><td>6</td><td>Monaco Grand Prix</td><td>null</td><td>2025-02-01T17:43:14.85Z</td></tr><tr><td>148</td><td>2001</td><td>8</td><td>7</td><td>Canadian Grand Prix</td><td>null</td><td>2025-02-01T17:43:14.85Z</td></tr><tr><td>149</td><td>2001</td><td>9</td><td>20</td><td>European Grand Prix</td><td>null</td><td>2025-02-01T17:43:14.85Z</td></tr><tr><td>150</td><td>2001</td><td>10</td><td>8</td><td>French Grand Prix</td><td>null</td><td>2025-02-01T17:43:14.85Z</td></tr><tr><td>151</td><td>2001</td><td>11</td><td>9</td><td>British Grand Prix</td><td>null</td><td>2025-02-01T17:43:14.85Z</td></tr><tr><td>152</td><td>2001</td><td>12</td><td>10</td><td>German Grand Prix</td><td>null</td><td>2025-02-01T17:43:14.85Z</td></tr><tr><td>153</td><td>2001</td><td>13</td><td>11</td><td>Hungarian Grand Prix</td><td>null</td><td>2025-02-01T17:43:14.85Z</td></tr><tr><td>154</td><td>2001</td><td>14</td><td>13</td><td>Belgian Grand Prix</td><td>null</td><td>2025-02-01T17:43:14.85Z</td></tr><tr><td>155</td><td>2001</td><td>15</td><td>14</td><td>Italian Grand Prix</td><td>null</td><td>2025-02-01T17:43:14.85Z</td></tr><tr><td>156</td><td>2001</td><td>16</td><td>19</td><td>United States Grand Prix</td><td>null</td><td>2025-02-01T17:43:14.85Z</td></tr><tr><td>157</td><td>2001</td><td>17</td><td>22</td><td>Japanese Grand Prix</td><td>null</td><td>2025-02-01T17:43:14.85Z</td></tr><tr><td>158</td><td>2000</td><td>1</td><td>1</td><td>Australian Grand Prix</td><td>null</td><td>2025-02-01T17:43:14.85Z</td></tr><tr><td>159</td><td>2000</td><td>2</td><td>18</td><td>Brazilian Grand Prix</td><td>null</td><td>2025-02-01T17:43:14.85Z</td></tr><tr><td>160</td><td>2000</td><td>3</td><td>21</td><td>San Marino Grand Prix</td><td>null</td><td>2025-02-01T17:43:14.85Z</td></tr><tr><td>161</td><td>2000</td><td>4</td><td>9</td><td>British Grand Prix</td><td>null</td><td>2025-02-01T17:43:14.85Z</td></tr><tr><td>162</td><td>2000</td><td>5</td><td>4</td><td>Spanish Grand Prix</td><td>null</td><td>2025-02-01T17:43:14.85Z</td></tr><tr><td>163</td><td>2000</td><td>6</td><td>20</td><td>European Grand Prix</td><td>null</td><td>2025-02-01T17:43:14.85Z</td></tr><tr><td>164</td><td>2000</td><td>7</td><td>6</td><td>Monaco Grand Prix</td><td>null</td><td>2025-02-01T17:43:14.85Z</td></tr><tr><td>165</td><td>2000</td><td>8</td><td>7</td><td>Canadian Grand Prix</td><td>null</td><td>2025-02-01T17:43:14.85Z</td></tr><tr><td>166</td><td>2000</td><td>9</td><td>8</td><td>French Grand Prix</td><td>null</td><td>2025-02-01T17:43:14.85Z</td></tr><tr><td>167</td><td>2000</td><td>10</td><td>23</td><td>Austrian Grand Prix</td><td>null</td><td>2025-02-01T17:43:14.85Z</td></tr><tr><td>168</td><td>2000</td><td>11</td><td>10</td><td>German Grand Prix</td><td>null</td><td>2025-02-01T17:43:14.85Z</td></tr><tr><td>169</td><td>2000</td><td>12</td><td>11</td><td>Hungarian Grand Prix</td><td>null</td><td>2025-02-01T17:43:14.85Z</td></tr><tr><td>170</td><td>2000</td><td>13</td><td>13</td><td>Belgian Grand Prix</td><td>null</td><td>2025-02-01T17:43:14.85Z</td></tr><tr><td>171</td><td>2000</td><td>14</td><td>14</td><td>Italian Grand Prix</td><td>null</td><td>2025-02-01T17:43:14.85Z</td></tr><tr><td>172</td><td>2000</td><td>15</td><td>19</td><td>United States Grand Prix</td><td>null</td><td>2025-02-01T17:43:14.85Z</td></tr><tr><td>173</td><td>2000</td><td>16</td><td>22</td><td>Japanese Grand Prix</td><td>null</td><td>2025-02-01T17:43:14.85Z</td></tr><tr><td>174</td><td>2000</td><td>17</td><td>2</td><td>Malaysian Grand Prix</td><td>null</td><td>2025-02-01T17:43:14.85Z</td></tr><tr><td>175</td><td>1999</td><td>1</td><td>1</td><td>Australian Grand Prix</td><td>null</td><td>2025-02-01T17:43:14.85Z</td></tr><tr><td>176</td><td>1999</td><td>2</td><td>18</td><td>Brazilian Grand Prix</td><td>null</td><td>2025-02-01T17:43:14.85Z</td></tr><tr><td>177</td><td>1999</td><td>3</td><td>21</td><td>San Marino Grand Prix</td><td>null</td><td>2025-02-01T17:43:14.85Z</td></tr><tr><td>178</td><td>1999</td><td>4</td><td>6</td><td>Monaco Grand Prix</td><td>null</td><td>2025-02-01T17:43:14.85Z</td></tr><tr><td>179</td><td>1999</td><td>5</td><td>4</td><td>Spanish Grand Prix</td><td>null</td><td>2025-02-01T17:43:14.85Z</td></tr><tr><td>180</td><td>1999</td><td>6</td><td>7</td><td>Canadian Grand Prix</td><td>null</td><td>2025-02-01T17:43:14.85Z</td></tr><tr><td>181</td><td>1999</td><td>7</td><td>8</td><td>French Grand Prix</td><td>null</td><td>2025-02-01T17:43:14.85Z</td></tr><tr><td>182</td><td>1999</td><td>8</td><td>9</td><td>British Grand Prix</td><td>null</td><td>2025-02-01T17:43:14.85Z</td></tr><tr><td>183</td><td>1999</td><td>9</td><td>23</td><td>Austrian Grand Prix</td><td>null</td><td>2025-02-01T17:43:14.85Z</td></tr><tr><td>184</td><td>1999</td><td>10</td><td>10</td><td>German Grand Prix</td><td>null</td><td>2025-02-01T17:43:14.85Z</td></tr><tr><td>185</td><td>1999</td><td>11</td><td>11</td><td>Hungarian Grand Prix</td><td>null</td><td>2025-02-01T17:43:14.85Z</td></tr><tr><td>186</td><td>1999</td><td>12</td><td>13</td><td>Belgian Grand Prix</td><td>null</td><td>2025-02-01T17:43:14.85Z</td></tr><tr><td>187</td><td>1999</td><td>13</td><td>14</td><td>Italian Grand Prix</td><td>null</td><td>2025-02-01T17:43:14.85Z</td></tr><tr><td>188</td><td>1999</td><td>14</td><td>20</td><td>European Grand Prix</td><td>null</td><td>2025-02-01T17:43:14.85Z</td></tr><tr><td>189</td><td>1999</td><td>15</td><td>2</td><td>Malaysian Grand Prix</td><td>null</td><td>2025-02-01T17:43:14.85Z</td></tr><tr><td>190</td><td>1999</td><td>16</td><td>22</td><td>Japanese Grand Prix</td><td>null</td><td>2025-02-01T17:43:14.85Z</td></tr><tr><td>191</td><td>1998</td><td>1</td><td>1</td><td>Australian Grand Prix</td><td>null</td><td>2025-02-01T17:43:14.85Z</td></tr><tr><td>192</td><td>1998</td><td>2</td><td>18</td><td>Brazilian Grand Prix</td><td>null</td><td>2025-02-01T17:43:14.85Z</td></tr><tr><td>193</td><td>1998</td><td>3</td><td>25</td><td>Argentine Grand Prix</td><td>null</td><td>2025-02-01T17:43:14.85Z</td></tr><tr><td>194</td><td>1998</td><td>4</td><td>21</td><td>San Marino Grand Prix</td><td>null</td><td>2025-02-01T17:43:14.85Z</td></tr><tr><td>195</td><td>1998</td><td>5</td><td>4</td><td>Spanish Grand Prix</td><td>null</td><td>2025-02-01T17:43:14.85Z</td></tr><tr><td>196</td><td>1998</td><td>6</td><td>6</td><td>Monaco Grand Prix</td><td>null</td><td>2025-02-01T17:43:14.85Z</td></tr><tr><td>197</td><td>1998</td><td>7</td><td>7</td><td>Canadian Grand Prix</td><td>null</td><td>2025-02-01T17:43:14.85Z</td></tr><tr><td>198</td><td>1998</td><td>8</td><td>8</td><td>French Grand Prix</td><td>null</td><td>2025-02-01T17:43:14.85Z</td></tr><tr><td>199</td><td>1998</td><td>9</td><td>9</td><td>British Grand Prix</td><td>null</td><td>2025-02-01T17:43:14.85Z</td></tr><tr><td>200</td><td>1998</td><td>10</td><td>23</td><td>Austrian Grand Prix</td><td>null</td><td>2025-02-01T17:43:14.85Z</td></tr><tr><td>201</td><td>1998</td><td>11</td><td>10</td><td>German Grand Prix</td><td>null</td><td>2025-02-01T17:43:14.85Z</td></tr><tr><td>202</td><td>1998</td><td>12</td><td>11</td><td>Hungarian Grand Prix</td><td>null</td><td>2025-02-01T17:43:14.85Z</td></tr><tr><td>203</td><td>1998</td><td>13</td><td>13</td><td>Belgian Grand Prix</td><td>null</td><td>2025-02-01T17:43:14.85Z</td></tr><tr><td>204</td><td>1998</td><td>14</td><td>14</td><td>Italian Grand Prix</td><td>null</td><td>2025-02-01T17:43:14.85Z</td></tr><tr><td>205</td><td>1998</td><td>15</td><td>20</td><td>Luxembourg Grand Prix</td><td>null</td><td>2025-02-01T17:43:14.85Z</td></tr><tr><td>206</td><td>1998</td><td>16</td><td>22</td><td>Japanese Grand Prix</td><td>null</td><td>2025-02-01T17:43:14.85Z</td></tr><tr><td>207</td><td>1997</td><td>1</td><td>1</td><td>Australian Grand Prix</td><td>null</td><td>2025-02-01T17:43:14.85Z</td></tr><tr><td>208</td><td>1997</td><td>2</td><td>18</td><td>Brazilian Grand Prix</td><td>null</td><td>2025-02-01T17:43:14.85Z</td></tr><tr><td>209</td><td>1997</td><td>3</td><td>25</td><td>Argentine Grand Prix</td><td>null</td><td>2025-02-01T17:43:14.85Z</td></tr><tr><td>210</td><td>1997</td><td>4</td><td>21</td><td>San Marino Grand Prix</td><td>null</td><td>2025-02-01T17:43:14.85Z</td></tr><tr><td>211</td><td>1997</td><td>5</td><td>6</td><td>Monaco Grand Prix</td><td>null</td><td>2025-02-01T17:43:14.85Z</td></tr><tr><td>212</td><td>1997</td><td>6</td><td>4</td><td>Spanish Grand Prix</td><td>null</td><td>2025-02-01T17:43:14.85Z</td></tr><tr><td>213</td><td>1997</td><td>7</td><td>7</td><td>Canadian Grand Prix</td><td>null</td><td>2025-02-01T17:43:14.85Z</td></tr><tr><td>214</td><td>1997</td><td>8</td><td>8</td><td>French Grand Prix</td><td>null</td><td>2025-02-01T17:43:14.85Z</td></tr><tr><td>215</td><td>1997</td><td>9</td><td>9</td><td>British Grand Prix</td><td>null</td><td>2025-02-01T17:43:14.85Z</td></tr><tr><td>216</td><td>1997</td><td>10</td><td>10</td><td>German Grand Prix</td><td>null</td><td>2025-02-01T17:43:14.85Z</td></tr><tr><td>217</td><td>1997</td><td>11</td><td>11</td><td>Hungarian Grand Prix</td><td>null</td><td>2025-02-01T17:43:14.85Z</td></tr><tr><td>218</td><td>1997</td><td>12</td><td>13</td><td>Belgian Grand Prix</td><td>null</td><td>2025-02-01T17:43:14.85Z</td></tr><tr><td>219</td><td>1997</td><td>13</td><td>14</td><td>Italian Grand Prix</td><td>null</td><td>2025-02-01T17:43:14.85Z</td></tr><tr><td>220</td><td>1997</td><td>14</td><td>23</td><td>Austrian Grand Prix</td><td>null</td><td>2025-02-01T17:43:14.85Z</td></tr><tr><td>221</td><td>1997</td><td>15</td><td>20</td><td>Luxembourg Grand Prix</td><td>null</td><td>2025-02-01T17:43:14.85Z</td></tr><tr><td>222</td><td>1997</td><td>16</td><td>22</td><td>Japanese Grand Prix</td><td>null</td><td>2025-02-01T17:43:14.85Z</td></tr><tr><td>223</td><td>1997</td><td>17</td><td>26</td><td>European Grand Prix</td><td>null</td><td>2025-02-01T17:43:14.85Z</td></tr><tr><td>224</td><td>1996</td><td>1</td><td>1</td><td>Australian Grand Prix</td><td>null</td><td>2025-02-01T17:43:14.85Z</td></tr><tr><td>225</td><td>1996</td><td>2</td><td>18</td><td>Brazilian Grand Prix</td><td>null</td><td>2025-02-01T17:43:14.85Z</td></tr><tr><td>226</td><td>1996</td><td>3</td><td>25</td><td>Argentine Grand Prix</td><td>null</td><td>2025-02-01T17:43:14.85Z</td></tr><tr><td>227</td><td>1996</td><td>4</td><td>20</td><td>European Grand Prix</td><td>null</td><td>2025-02-01T17:43:14.85Z</td></tr><tr><td>228</td><td>1996</td><td>5</td><td>21</td><td>San Marino Grand Prix</td><td>null</td><td>2025-02-01T17:43:14.85Z</td></tr><tr><td>229</td><td>1996</td><td>6</td><td>6</td><td>Monaco Grand Prix</td><td>null</td><td>2025-02-01T17:43:14.85Z</td></tr><tr><td>230</td><td>1996</td><td>7</td><td>4</td><td>Spanish Grand Prix</td><td>null</td><td>2025-02-01T17:43:14.85Z</td></tr><tr><td>231</td><td>1996</td><td>8</td><td>7</td><td>Canadian Grand Prix</td><td>null</td><td>2025-02-01T17:43:14.85Z</td></tr><tr><td>232</td><td>1996</td><td>9</td><td>8</td><td>French Grand Prix</td><td>null</td><td>2025-02-01T17:43:14.85Z</td></tr><tr><td>233</td><td>1996</td><td>10</td><td>9</td><td>British Grand Prix</td><td>null</td><td>2025-02-01T17:43:14.85Z</td></tr><tr><td>234</td><td>1996</td><td>11</td><td>10</td><td>German Grand Prix</td><td>null</td><td>2025-02-01T17:43:14.85Z</td></tr><tr><td>235</td><td>1996</td><td>12</td><td>11</td><td>Hungarian Grand Prix</td><td>null</td><td>2025-02-01T17:43:14.85Z</td></tr><tr><td>236</td><td>1996</td><td>13</td><td>13</td><td>Belgian Grand Prix</td><td>null</td><td>2025-02-01T17:43:14.85Z</td></tr><tr><td>237</td><td>1996</td><td>14</td><td>14</td><td>Italian Grand Prix</td><td>null</td><td>2025-02-01T17:43:14.85Z</td></tr><tr><td>238</td><td>1996</td><td>15</td><td>27</td><td>Portuguese Grand Prix</td><td>null</td><td>2025-02-01T17:43:14.85Z</td></tr><tr><td>239</td><td>1996</td><td>16</td><td>22</td><td>Japanese Grand Prix</td><td>null</td><td>2025-02-01T17:43:14.85Z</td></tr><tr><td>240</td><td>1995</td><td>1</td><td>18</td><td>Brazilian Grand Prix</td><td>null</td><td>2025-02-01T17:43:14.85Z</td></tr><tr><td>241</td><td>1995</td><td>2</td><td>25</td><td>Argentine Grand Prix</td><td>null</td><td>2025-02-01T17:43:14.85Z</td></tr><tr><td>242</td><td>1995</td><td>3</td><td>21</td><td>San Marino Grand Prix</td><td>null</td><td>2025-02-01T17:43:14.85Z</td></tr><tr><td>243</td><td>1995</td><td>4</td><td>4</td><td>Spanish Grand Prix</td><td>null</td><td>2025-02-01T17:43:14.85Z</td></tr><tr><td>244</td><td>1995</td><td>5</td><td>6</td><td>Monaco Grand Prix</td><td>null</td><td>2025-02-01T17:43:14.85Z</td></tr><tr><td>245</td><td>1995</td><td>6</td><td>7</td><td>Canadian Grand Prix</td><td>null</td><td>2025-02-01T17:43:14.85Z</td></tr><tr><td>246</td><td>1995</td><td>7</td><td>8</td><td>French Grand Prix</td><td>null</td><td>2025-02-01T17:43:14.85Z</td></tr><tr><td>247</td><td>1995</td><td>8</td><td>9</td><td>British Grand Prix</td><td>null</td><td>2025-02-01T17:43:14.85Z</td></tr><tr><td>248</td><td>1995</td><td>9</td><td>10</td><td>German Grand Prix</td><td>null</td><td>2025-02-01T17:43:14.85Z</td></tr><tr><td>249</td><td>1995</td><td>10</td><td>11</td><td>Hungarian Grand Prix</td><td>null</td><td>2025-02-01T17:43:14.85Z</td></tr><tr><td>250</td><td>1995</td><td>11</td><td>13</td><td>Belgian Grand Prix</td><td>null</td><td>2025-02-01T17:43:14.85Z</td></tr><tr><td>251</td><td>1995</td><td>12</td><td>14</td><td>Italian Grand Prix</td><td>null</td><td>2025-02-01T17:43:14.85Z</td></tr><tr><td>252</td><td>1995</td><td>13</td><td>27</td><td>Portuguese Grand Prix</td><td>null</td><td>2025-02-01T17:43:14.85Z</td></tr><tr><td>253</td><td>1995</td><td>14</td><td>20</td><td>European Grand Prix</td><td>null</td><td>2025-02-01T17:43:14.85Z</td></tr><tr><td>254</td><td>1995</td><td>15</td><td>28</td><td>Pacific Grand Prix</td><td>null</td><td>2025-02-01T17:43:14.85Z</td></tr><tr><td>255</td><td>1995</td><td>16</td><td>22</td><td>Japanese Grand Prix</td><td>null</td><td>2025-02-01T17:43:14.85Z</td></tr><tr><td>256</td><td>1995</td><td>17</td><td>29</td><td>Australian Grand Prix</td><td>null</td><td>2025-02-01T17:43:14.85Z</td></tr><tr><td>257</td><td>1994</td><td>1</td><td>18</td><td>Brazilian Grand Prix</td><td>null</td><td>2025-02-01T17:43:14.85Z</td></tr><tr><td>258</td><td>1994</td><td>2</td><td>28</td><td>Pacific Grand Prix</td><td>null</td><td>2025-02-01T17:43:14.85Z</td></tr><tr><td>259</td><td>1994</td><td>3</td><td>21</td><td>San Marino Grand Prix</td><td>null</td><td>2025-02-01T17:43:14.85Z</td></tr><tr><td>260</td><td>1994</td><td>4</td><td>6</td><td>Monaco Grand Prix</td><td>null</td><td>2025-02-01T17:43:14.85Z</td></tr><tr><td>261</td><td>1994</td><td>5</td><td>4</td><td>Spanish Grand Prix</td><td>null</td><td>2025-02-01T17:43:14.85Z</td></tr><tr><td>262</td><td>1994</td><td>6</td><td>7</td><td>Canadian Grand Prix</td><td>null</td><td>2025-02-01T17:43:14.85Z</td></tr><tr><td>263</td><td>1994</td><td>7</td><td>8</td><td>French Grand Prix</td><td>null</td><td>2025-02-01T17:43:14.85Z</td></tr><tr><td>264</td><td>1994</td><td>8</td><td>9</td><td>British Grand Prix</td><td>null</td><td>2025-02-01T17:43:14.85Z</td></tr><tr><td>265</td><td>1994</td><td>9</td><td>10</td><td>German Grand Prix</td><td>null</td><td>2025-02-01T17:43:14.85Z</td></tr><tr><td>266</td><td>1994</td><td>10</td><td>11</td><td>Hungarian Grand Prix</td><td>null</td><td>2025-02-01T17:43:14.85Z</td></tr><tr><td>267</td><td>1994</td><td>11</td><td>13</td><td>Belgian Grand Prix</td><td>null</td><td>2025-02-01T17:43:14.85Z</td></tr><tr><td>268</td><td>1994</td><td>12</td><td>14</td><td>Italian Grand Prix</td><td>null</td><td>2025-02-01T17:43:14.85Z</td></tr><tr><td>269</td><td>1994</td><td>13</td><td>27</td><td>Portuguese Grand Prix</td><td>null</td><td>2025-02-01T17:43:14.85Z</td></tr><tr><td>270</td><td>1994</td><td>14</td><td>26</td><td>European Grand Prix</td><td>null</td><td>2025-02-01T17:43:14.85Z</td></tr><tr><td>271</td><td>1994</td><td>15</td><td>22</td><td>Japanese Grand Prix</td><td>null</td><td>2025-02-01T17:43:14.85Z</td></tr><tr><td>272</td><td>1994</td><td>16</td><td>29</td><td>Australian Grand Prix</td><td>null</td><td>2025-02-01T17:43:14.85Z</td></tr><tr><td>273</td><td>1993</td><td>1</td><td>30</td><td>South African Grand Prix</td><td>null</td><td>2025-02-01T17:43:14.85Z</td></tr><tr><td>274</td><td>1993</td><td>2</td><td>18</td><td>Brazilian Grand Prix</td><td>null</td><td>2025-02-01T17:43:14.85Z</td></tr><tr><td>275</td><td>1993</td><td>3</td><td>31</td><td>European Grand Prix</td><td>null</td><td>2025-02-01T17:43:14.85Z</td></tr><tr><td>276</td><td>1993</td><td>4</td><td>21</td><td>San Marino Grand Prix</td><td>null</td><td>2025-02-01T17:43:14.85Z</td></tr><tr><td>277</td><td>1993</td><td>5</td><td>4</td><td>Spanish Grand Prix</td><td>null</td><td>2025-02-01T17:43:14.85Z</td></tr><tr><td>278</td><td>1993</td><td>6</td><td>6</td><td>Monaco Grand Prix</td><td>null</td><td>2025-02-01T17:43:14.85Z</td></tr><tr><td>279</td><td>1993</td><td>7</td><td>7</td><td>Canadian Grand Prix</td><td>null</td><td>2025-02-01T17:43:14.85Z</td></tr><tr><td>280</td><td>1993</td><td>8</td><td>8</td><td>French Grand Prix</td><td>null</td><td>2025-02-01T17:43:14.85Z</td></tr><tr><td>281</td><td>1993</td><td>9</td><td>9</td><td>British Grand Prix</td><td>null</td><td>2025-02-01T17:43:14.85Z</td></tr><tr><td>282</td><td>1993</td><td>10</td><td>10</td><td>German Grand Prix</td><td>null</td><td>2025-02-01T17:43:14.85Z</td></tr><tr><td>283</td><td>1993</td><td>11</td><td>11</td><td>Hungarian Grand Prix</td><td>null</td><td>2025-02-01T17:43:14.85Z</td></tr><tr><td>284</td><td>1993</td><td>12</td><td>13</td><td>Belgian Grand Prix</td><td>null</td><td>2025-02-01T17:43:14.85Z</td></tr><tr><td>285</td><td>1993</td><td>13</td><td>14</td><td>Italian Grand Prix</td><td>null</td><td>2025-02-01T17:43:14.85Z</td></tr><tr><td>286</td><td>1993</td><td>14</td><td>27</td><td>Portuguese Grand Prix</td><td>null</td><td>2025-02-01T17:43:14.85Z</td></tr><tr><td>287</td><td>1993</td><td>15</td><td>22</td><td>Japanese Grand Prix</td><td>null</td><td>2025-02-01T17:43:14.85Z</td></tr><tr><td>288</td><td>1993</td><td>16</td><td>29</td><td>Australian Grand Prix</td><td>null</td><td>2025-02-01T17:43:14.85Z</td></tr><tr><td>289</td><td>1992</td><td>1</td><td>30</td><td>South African Grand Prix</td><td>null</td><td>2025-02-01T17:43:14.85Z</td></tr><tr><td>290</td><td>1992</td><td>2</td><td>32</td><td>Mexican Grand Prix</td><td>null</td><td>2025-02-01T17:43:14.85Z</td></tr><tr><td>291</td><td>1992</td><td>3</td><td>18</td><td>Brazilian Grand Prix</td><td>null</td><td>2025-02-01T17:43:14.85Z</td></tr><tr><td>292</td><td>1992</td><td>4</td><td>4</td><td>Spanish Grand Prix</td><td>null</td><td>2025-02-01T17:43:14.85Z</td></tr><tr><td>293</td><td>1992</td><td>5</td><td>21</td><td>San Marino Grand Prix</td><td>null</td><td>2025-02-01T17:43:14.85Z</td></tr><tr><td>294</td><td>1992</td><td>6</td><td>6</td><td>Monaco Grand Prix</td><td>null</td><td>2025-02-01T17:43:14.85Z</td></tr><tr><td>295</td><td>1992</td><td>7</td><td>7</td><td>Canadian Grand Prix</td><td>null</td><td>2025-02-01T17:43:14.85Z</td></tr><tr><td>296</td><td>1992</td><td>8</td><td>8</td><td>French Grand Prix</td><td>null</td><td>2025-02-01T17:43:14.85Z</td></tr><tr><td>297</td><td>1992</td><td>9</td><td>9</td><td>British Grand Prix</td><td>null</td><td>2025-02-01T17:43:14.85Z</td></tr><tr><td>298</td><td>1992</td><td>10</td><td>10</td><td>German Grand Prix</td><td>null</td><td>2025-02-01T17:43:14.85Z</td></tr><tr><td>299</td><td>1992</td><td>11</td><td>11</td><td>Hungarian Grand Prix</td><td>null</td><td>2025-02-01T17:43:14.85Z</td></tr><tr><td>300</td><td>1992</td><td>12</td><td>13</td><td>Belgian Grand Prix</td><td>null</td><td>2025-02-01T17:43:14.85Z</td></tr><tr><td>301</td><td>1992</td><td>13</td><td>14</td><td>Italian Grand Prix</td><td>null</td><td>2025-02-01T17:43:14.85Z</td></tr><tr><td>302</td><td>1992</td><td>14</td><td>27</td><td>Portuguese Grand Prix</td><td>null</td><td>2025-02-01T17:43:14.85Z</td></tr><tr><td>303</td><td>1992</td><td>15</td><td>22</td><td>Japanese Grand Prix</td><td>null</td><td>2025-02-01T17:43:14.85Z</td></tr><tr><td>304</td><td>1992</td><td>16</td><td>29</td><td>Australian Grand Prix</td><td>null</td><td>2025-02-01T17:43:14.85Z</td></tr><tr><td>305</td><td>1991</td><td>1</td><td>33</td><td>United States Grand Prix</td><td>null</td><td>2025-02-01T17:43:14.85Z</td></tr><tr><td>306</td><td>1991</td><td>2</td><td>18</td><td>Brazilian Grand Prix</td><td>null</td><td>2025-02-01T17:43:14.85Z</td></tr><tr><td>307</td><td>1991</td><td>3</td><td>21</td><td>San Marino Grand Prix</td><td>null</td><td>2025-02-01T17:43:14.85Z</td></tr><tr><td>308</td><td>1991</td><td>4</td><td>6</td><td>Monaco Grand Prix</td><td>null</td><td>2025-02-01T17:43:14.85Z</td></tr><tr><td>309</td><td>1991</td><td>5</td><td>7</td><td>Canadian Grand Prix</td><td>null</td><td>2025-02-01T17:43:14.85Z</td></tr><tr><td>310</td><td>1991</td><td>6</td><td>32</td><td>Mexican Grand Prix</td><td>null</td><td>2025-02-01T17:43:14.85Z</td></tr><tr><td>311</td><td>1991</td><td>7</td><td>8</td><td>French Grand Prix</td><td>null</td><td>2025-02-01T17:43:14.85Z</td></tr><tr><td>312</td><td>1991</td><td>8</td><td>9</td><td>British Grand Prix</td><td>null</td><td>2025-02-01T17:43:14.85Z</td></tr><tr><td>313</td><td>1991</td><td>9</td><td>10</td><td>German Grand Prix</td><td>null</td><td>2025-02-01T17:43:14.85Z</td></tr><tr><td>314</td><td>1991</td><td>10</td><td>11</td><td>Hungarian Grand Prix</td><td>null</td><td>2025-02-01T17:43:14.85Z</td></tr><tr><td>315</td><td>1991</td><td>11</td><td>13</td><td>Belgian Grand Prix</td><td>null</td><td>2025-02-01T17:43:14.85Z</td></tr><tr><td>316</td><td>1991</td><td>12</td><td>14</td><td>Italian Grand Prix</td><td>null</td><td>2025-02-01T17:43:14.85Z</td></tr><tr><td>317</td><td>1991</td><td>13</td><td>27</td><td>Portuguese Grand Prix</td><td>null</td><td>2025-02-01T17:43:14.85Z</td></tr><tr><td>318</td><td>1991</td><td>14</td><td>4</td><td>Spanish Grand Prix</td><td>null</td><td>2025-02-01T17:43:14.85Z</td></tr><tr><td>319</td><td>1991</td><td>15</td><td>22</td><td>Japanese Grand Prix</td><td>null</td><td>2025-02-01T17:43:14.85Z</td></tr><tr><td>320</td><td>1991</td><td>16</td><td>29</td><td>Australian Grand Prix</td><td>null</td><td>2025-02-01T17:43:14.85Z</td></tr><tr><td>321</td><td>1990</td><td>1</td><td>33</td><td>United States Grand Prix</td><td>null</td><td>2025-02-01T17:43:14.85Z</td></tr><tr><td>322</td><td>1990</td><td>2</td><td>18</td><td>Brazilian Grand Prix</td><td>null</td><td>2025-02-01T17:43:14.85Z</td></tr><tr><td>323</td><td>1990</td><td>3</td><td>21</td><td>San Marino Grand Prix</td><td>null</td><td>2025-02-01T17:43:14.85Z</td></tr><tr><td>324</td><td>1990</td><td>4</td><td>6</td><td>Monaco Grand Prix</td><td>null</td><td>2025-02-01T17:43:14.85Z</td></tr><tr><td>325</td><td>1990</td><td>5</td><td>7</td><td>Canadian Grand Prix</td><td>null</td><td>2025-02-01T17:43:14.85Z</td></tr><tr><td>326</td><td>1990</td><td>6</td><td>32</td><td>Mexican Grand Prix</td><td>null</td><td>2025-02-01T17:43:14.85Z</td></tr><tr><td>327</td><td>1990</td><td>7</td><td>34</td><td>French Grand Prix</td><td>null</td><td>2025-02-01T17:43:14.85Z</td></tr><tr><td>328</td><td>1990</td><td>8</td><td>9</td><td>British Grand Prix</td><td>null</td><td>2025-02-01T17:43:14.85Z</td></tr><tr><td>329</td><td>1990</td><td>9</td><td>10</td><td>German Grand Prix</td><td>null</td><td>2025-02-01T17:43:14.85Z</td></tr><tr><td>330</td><td>1990</td><td>10</td><td>11</td><td>Hungarian Grand Prix</td><td>null</td><td>2025-02-01T17:43:14.85Z</td></tr><tr><td>331</td><td>1990</td><td>11</td><td>13</td><td>Belgian Grand Prix</td><td>null</td><td>2025-02-01T17:43:14.85Z</td></tr><tr><td>332</td><td>1990</td><td>12</td><td>14</td><td>Italian Grand Prix</td><td>null</td><td>2025-02-01T17:43:14.85Z</td></tr><tr><td>333</td><td>1990</td><td>13</td><td>27</td><td>Portuguese Grand Prix</td><td>null</td><td>2025-02-01T17:43:14.85Z</td></tr><tr><td>334</td><td>1990</td><td>14</td><td>26</td><td>Spanish Grand Prix</td><td>null</td><td>2025-02-01T17:43:14.85Z</td></tr><tr><td>335</td><td>1990</td><td>15</td><td>22</td><td>Japanese Grand Prix</td><td>null</td><td>2025-02-01T17:43:14.85Z</td></tr><tr><td>336</td><td>1990</td><td>16</td><td>29</td><td>Australian Grand Prix</td><td>null</td><td>2025-02-01T17:43:14.85Z</td></tr><tr><td>337</td><td>2010</td><td>1</td><td>3</td><td>Bahrain Grand Prix</td><td>2010-03-14T12:00:00Z</td><td>2025-02-01T17:43:14.85Z</td></tr><tr><td>338</td><td>2010</td><td>2</td><td>1</td><td>Australian Grand Prix</td><td>2010-03-28T06:00:00Z</td><td>2025-02-01T17:43:14.85Z</td></tr><tr><td>339</td><td>2010</td><td>3</td><td>2</td><td>Malaysian Grand Prix</td><td>2010-04-04T08:00:00Z</td><td>2025-02-01T17:43:14.85Z</td></tr><tr><td>340</td><td>2010</td><td>4</td><td>17</td><td>Chinese Grand Prix</td><td>2010-04-18T06:00:00Z</td><td>2025-02-01T17:43:14.85Z</td></tr><tr><td>341</td><td>2010</td><td>5</td><td>4</td><td>Spanish Grand Prix</td><td>2010-05-09T12:00:00Z</td><td>2025-02-01T17:43:14.85Z</td></tr><tr><td>342</td><td>2010</td><td>6</td><td>6</td><td>Monaco Grand Prix</td><td>2010-05-16T12:00:00Z</td><td>2025-02-01T17:43:14.85Z</td></tr><tr><td>343</td><td>2010</td><td>7</td><td>5</td><td>Turkish Grand Prix</td><td>2010-05-30T11:00:00Z</td><td>2025-02-01T17:43:14.85Z</td></tr><tr><td>344</td><td>2010</td><td>8</td><td>7</td><td>Canadian Grand Prix</td><td>2010-06-13T16:00:00Z</td><td>2025-02-01T17:43:14.85Z</td></tr><tr><td>345</td><td>2010</td><td>9</td><td>12</td><td>European Grand Prix</td><td>2010-06-27T12:00:00Z</td><td>2025-02-01T17:43:14.85Z</td></tr><tr><td>346</td><td>2010</td><td>10</td><td>9</td><td>British Grand Prix</td><td>2010-07-11T12:00:00Z</td><td>2025-02-01T17:43:14.85Z</td></tr><tr><td>347</td><td>2010</td><td>11</td><td>10</td><td>German Grand Prix</td><td>2010-07-25T12:00:00Z</td><td>2025-02-01T17:43:14.85Z</td></tr><tr><td>348</td><td>2010</td><td>12</td><td>11</td><td>Hungarian Grand Prix</td><td>2010-08-01T12:00:00Z</td><td>2025-02-01T17:43:14.85Z</td></tr><tr><td>349</td><td>2010</td><td>13</td><td>13</td><td>Belgian Grand Prix</td><td>2010-08-29T12:00:00Z</td><td>2025-02-01T17:43:14.85Z</td></tr><tr><td>350</td><td>2010</td><td>14</td><td>14</td><td>Italian Grand Prix</td><td>2010-09-12T12:00:00Z</td><td>2025-02-01T17:43:14.85Z</td></tr><tr><td>351</td><td>2010</td><td>15</td><td>15</td><td>Singapore Grand Prix</td><td>2010-09-26T12:00:00Z</td><td>2025-02-01T17:43:14.85Z</td></tr><tr><td>352</td><td>2010</td><td>16</td><td>22</td><td>Japanese Grand Prix</td><td>2010-10-10T06:00:00Z</td><td>2025-02-01T17:43:14.85Z</td></tr><tr><td>353</td><td>2010</td><td>17</td><td>35</td><td>Korean Grand Prix</td><td>2010-10-24T05:00:00Z</td><td>2025-02-01T17:43:14.85Z</td></tr><tr><td>354</td><td>2010</td><td>18</td><td>18</td><td>Brazilian Grand Prix</td><td>2010-11-07T16:00:00Z</td><td>2025-02-01T17:43:14.85Z</td></tr><tr><td>355</td><td>2010</td><td>19</td><td>24</td><td>Abu Dhabi Grand Prix</td><td>2010-11-14T13:00:00Z</td><td>2025-02-01T17:43:14.85Z</td></tr><tr><td>356</td><td>1989</td><td>1</td><td>36</td><td>Brazilian Grand Prix</td><td>null</td><td>2025-02-01T17:43:14.85Z</td></tr><tr><td>357</td><td>1989</td><td>2</td><td>21</td><td>San Marino Grand Prix</td><td>null</td><td>2025-02-01T17:43:14.85Z</td></tr><tr><td>358</td><td>1989</td><td>3</td><td>6</td><td>Monaco Grand Prix</td><td>null</td><td>2025-02-01T17:43:14.85Z</td></tr><tr><td>359</td><td>1989</td><td>4</td><td>32</td><td>Mexican Grand Prix</td><td>null</td><td>2025-02-01T17:43:14.85Z</td></tr><tr><td>360</td><td>1989</td><td>5</td><td>33</td><td>United States Grand Prix</td><td>null</td><td>2025-02-01T17:43:14.85Z</td></tr><tr><td>361</td><td>1989</td><td>6</td><td>7</td><td>Canadian Grand Prix</td><td>null</td><td>2025-02-01T17:43:14.85Z</td></tr><tr><td>362</td><td>1989</td><td>7</td><td>34</td><td>French Grand Prix</td><td>null</td><td>2025-02-01T17:43:14.85Z</td></tr><tr><td>363</td><td>1989</td><td>8</td><td>9</td><td>British Grand Prix</td><td>null</td><td>2025-02-01T17:43:14.85Z</td></tr><tr><td>364</td><td>1989</td><td>9</td><td>10</td><td>German Grand Prix</td><td>null</td><td>2025-02-01T17:43:14.85Z</td></tr><tr><td>365</td><td>1989</td><td>10</td><td>11</td><td>Hungarian Grand Prix</td><td>null</td><td>2025-02-01T17:43:14.85Z</td></tr><tr><td>366</td><td>1989</td><td>11</td><td>13</td><td>Belgian Grand Prix</td><td>null</td><td>2025-02-01T17:43:14.85Z</td></tr><tr><td>367</td><td>1989</td><td>12</td><td>14</td><td>Italian Grand Prix</td><td>null</td><td>2025-02-01T17:43:14.85Z</td></tr><tr><td>368</td><td>1989</td><td>13</td><td>27</td><td>Portuguese Grand Prix</td><td>null</td><td>2025-02-01T17:43:14.85Z</td></tr><tr><td>369</td><td>1989</td><td>14</td><td>26</td><td>Spanish Grand Prix</td><td>null</td><td>2025-02-01T17:43:14.85Z</td></tr><tr><td>370</td><td>1989</td><td>15</td><td>22</td><td>Japanese Grand Prix</td><td>null</td><td>2025-02-01T17:43:14.85Z</td></tr><tr><td>371</td><td>1989</td><td>16</td><td>29</td><td>Australian Grand Prix</td><td>null</td><td>2025-02-01T17:43:14.85Z</td></tr><tr><td>372</td><td>1988</td><td>1</td><td>36</td><td>Brazilian Grand Prix</td><td>null</td><td>2025-02-01T17:43:14.85Z</td></tr><tr><td>373</td><td>1988</td><td>2</td><td>21</td><td>San Marino Grand Prix</td><td>null</td><td>2025-02-01T17:43:14.85Z</td></tr><tr><td>374</td><td>1988</td><td>3</td><td>6</td><td>Monaco Grand Prix</td><td>null</td><td>2025-02-01T17:43:14.85Z</td></tr><tr><td>375</td><td>1988</td><td>4</td><td>32</td><td>Mexican Grand Prix</td><td>null</td><td>2025-02-01T17:43:14.85Z</td></tr><tr><td>376</td><td>1988</td><td>5</td><td>7</td><td>Canadian Grand Prix</td><td>null</td><td>2025-02-01T17:43:14.85Z</td></tr><tr><td>377</td><td>1988</td><td>6</td><td>37</td><td>Detroit Grand Prix</td><td>null</td><td>2025-02-01T17:43:14.85Z</td></tr><tr><td>378</td><td>1988</td><td>7</td><td>34</td><td>French Grand Prix</td><td>null</td><td>2025-02-01T17:43:14.85Z</td></tr><tr><td>379</td><td>1988</td><td>8</td><td>9</td><td>British Grand Prix</td><td>null</td><td>2025-02-01T17:43:14.85Z</td></tr><tr><td>380</td><td>1988</td><td>9</td><td>10</td><td>German Grand Prix</td><td>null</td><td>2025-02-01T17:43:14.85Z</td></tr><tr><td>381</td><td>1988</td><td>10</td><td>11</td><td>Hungarian Grand Prix</td><td>null</td><td>2025-02-01T17:43:14.85Z</td></tr><tr><td>382</td><td>1988</td><td>11</td><td>13</td><td>Belgian Grand Prix</td><td>null</td><td>2025-02-01T17:43:14.85Z</td></tr><tr><td>383</td><td>1988</td><td>12</td><td>14</td><td>Italian Grand Prix</td><td>null</td><td>2025-02-01T17:43:14.85Z</td></tr><tr><td>384</td><td>1988</td><td>13</td><td>27</td><td>Portuguese Grand Prix</td><td>null</td><td>2025-02-01T17:43:14.85Z</td></tr><tr><td>385</td><td>1988</td><td>14</td><td>26</td><td>Spanish Grand Prix</td><td>null</td><td>2025-02-01T17:43:14.85Z</td></tr><tr><td>386</td><td>1988</td><td>15</td><td>22</td><td>Japanese Grand Prix</td><td>null</td><td>2025-02-01T17:43:14.85Z</td></tr><tr><td>387</td><td>1988</td><td>16</td><td>29</td><td>Australian Grand Prix</td><td>null</td><td>2025-02-01T17:43:14.85Z</td></tr><tr><td>388</td><td>1987</td><td>1</td><td>36</td><td>Brazilian Grand Prix</td><td>null</td><td>2025-02-01T17:43:14.85Z</td></tr><tr><td>389</td><td>1987</td><td>2</td><td>21</td><td>San Marino Grand Prix</td><td>null</td><td>2025-02-01T17:43:14.85Z</td></tr><tr><td>390</td><td>1987</td><td>3</td><td>13</td><td>Belgian Grand Prix</td><td>null</td><td>2025-02-01T17:43:14.85Z</td></tr><tr><td>391</td><td>1987</td><td>4</td><td>6</td><td>Monaco Grand Prix</td><td>null</td><td>2025-02-01T17:43:14.85Z</td></tr><tr><td>392</td><td>1987</td><td>5</td><td>37</td><td>Detroit Grand Prix</td><td>null</td><td>2025-02-01T17:43:14.85Z</td></tr><tr><td>393</td><td>1987</td><td>6</td><td>34</td><td>French Grand Prix</td><td>null</td><td>2025-02-01T17:43:14.85Z</td></tr><tr><td>394</td><td>1987</td><td>7</td><td>9</td><td>British Grand Prix</td><td>null</td><td>2025-02-01T17:43:14.85Z</td></tr><tr><td>395</td><td>1987</td><td>8</td><td>10</td><td>German Grand Prix</td><td>null</td><td>2025-02-01T17:43:14.85Z</td></tr><tr><td>396</td><td>1987</td><td>9</td><td>11</td><td>Hungarian Grand Prix</td><td>null</td><td>2025-02-01T17:43:14.85Z</td></tr><tr><td>397</td><td>1987</td><td>10</td><td>23</td><td>Austrian Grand Prix</td><td>null</td><td>2025-02-01T17:43:14.85Z</td></tr><tr><td>398</td><td>1987</td><td>11</td><td>14</td><td>Italian Grand Prix</td><td>null</td><td>2025-02-01T17:43:14.85Z</td></tr><tr><td>399</td><td>1987</td><td>12</td><td>27</td><td>Portuguese Grand Prix</td><td>null</td><td>2025-02-01T17:43:14.85Z</td></tr><tr><td>400</td><td>1987</td><td>13</td><td>26</td><td>Spanish Grand Prix</td><td>null</td><td>2025-02-01T17:43:14.85Z</td></tr><tr><td>401</td><td>1987</td><td>14</td><td>32</td><td>Mexican Grand Prix</td><td>null</td><td>2025-02-01T17:43:14.85Z</td></tr><tr><td>402</td><td>1987</td><td>15</td><td>22</td><td>Japanese Grand Prix</td><td>null</td><td>2025-02-01T17:43:14.85Z</td></tr><tr><td>403</td><td>1987</td><td>16</td><td>29</td><td>Australian Grand Prix</td><td>null</td><td>2025-02-01T17:43:14.85Z</td></tr><tr><td>404</td><td>1986</td><td>1</td><td>36</td><td>Brazilian Grand Prix</td><td>null</td><td>2025-02-01T17:43:14.85Z</td></tr><tr><td>405</td><td>1986</td><td>2</td><td>26</td><td>Spanish Grand Prix</td><td>null</td><td>2025-02-01T17:43:14.85Z</td></tr><tr><td>406</td><td>1986</td><td>3</td><td>21</td><td>San Marino Grand Prix</td><td>null</td><td>2025-02-01T17:43:14.85Z</td></tr><tr><td>407</td><td>1986</td><td>4</td><td>6</td><td>Monaco Grand Prix</td><td>null</td><td>2025-02-01T17:43:14.85Z</td></tr><tr><td>408</td><td>1986</td><td>5</td><td>13</td><td>Belgian Grand Prix</td><td>null</td><td>2025-02-01T17:43:14.85Z</td></tr><tr><td>409</td><td>1986</td><td>6</td><td>7</td><td>Canadian Grand Prix</td><td>null</td><td>2025-02-01T17:43:14.85Z</td></tr><tr><td>410</td><td>1986</td><td>7</td><td>37</td><td>Detroit Grand Prix</td><td>null</td><td>2025-02-01T17:43:14.85Z</td></tr><tr><td>411</td><td>1986</td><td>8</td><td>34</td><td>French Grand Prix</td><td>null</td><td>2025-02-01T17:43:14.85Z</td></tr><tr><td>412</td><td>1986</td><td>9</td><td>38</td><td>British Grand Prix</td><td>null</td><td>2025-02-01T17:43:14.85Z</td></tr><tr><td>413</td><td>1986</td><td>10</td><td>10</td><td>German Grand Prix</td><td>null</td><td>2025-02-01T17:43:14.85Z</td></tr><tr><td>414</td><td>1986</td><td>11</td><td>11</td><td>Hungarian Grand Prix</td><td>null</td><td>2025-02-01T17:43:14.85Z</td></tr><tr><td>415</td><td>1986</td><td>12</td><td>23</td><td>Austrian Grand Prix</td><td>null</td><td>2025-02-01T17:43:14.85Z</td></tr><tr><td>416</td><td>1986</td><td>13</td><td>14</td><td>Italian Grand Prix</td><td>null</td><td>2025-02-01T17:43:14.85Z</td></tr><tr><td>417</td><td>1986</td><td>14</td><td>27</td><td>Portuguese Grand Prix</td><td>null</td><td>2025-02-01T17:43:14.85Z</td></tr><tr><td>418</td><td>1986</td><td>15</td><td>32</td><td>Mexican Grand Prix</td><td>null</td><td>2025-02-01T17:43:14.85Z</td></tr><tr><td>419</td><td>1986</td><td>16</td><td>29</td><td>Australian Grand Prix</td><td>null</td><td>2025-02-01T17:43:14.85Z</td></tr><tr><td>420</td><td>1985</td><td>1</td><td>36</td><td>Brazilian Grand Prix</td><td>null</td><td>2025-02-01T17:43:14.85Z</td></tr><tr><td>421</td><td>1985</td><td>2</td><td>27</td><td>Portuguese Grand Prix</td><td>null</td><td>2025-02-01T17:43:14.85Z</td></tr><tr><td>422</td><td>1985</td><td>3</td><td>21</td><td>San Marino Grand Prix</td><td>null</td><td>2025-02-01T17:43:14.85Z</td></tr><tr><td>423</td><td>1985</td><td>4</td><td>6</td><td>Monaco Grand Prix</td><td>null</td><td>2025-02-01T17:43:14.85Z</td></tr><tr><td>424</td><td>1985</td><td>5</td><td>7</td><td>Canadian Grand Prix</td><td>null</td><td>2025-02-01T17:43:14.85Z</td></tr><tr><td>425</td><td>1985</td><td>6</td><td>37</td><td>Detroit Grand Prix</td><td>null</td><td>2025-02-01T17:43:14.85Z</td></tr><tr><td>426</td><td>1985</td><td>7</td><td>34</td><td>French Grand Prix</td><td>null</td><td>2025-02-01T17:43:14.85Z</td></tr><tr><td>427</td><td>1985</td><td>8</td><td>9</td><td>British Grand Prix</td><td>null</td><td>2025-02-01T17:43:14.85Z</td></tr><tr><td>428</td><td>1985</td><td>9</td><td>20</td><td>German Grand Prix</td><td>null</td><td>2025-02-01T17:43:14.85Z</td></tr><tr><td>429</td><td>1985</td><td>10</td><td>23</td><td>Austrian Grand Prix</td><td>null</td><td>2025-02-01T17:43:14.85Z</td></tr><tr><td>430</td><td>1985</td><td>11</td><td>39</td><td>Dutch Grand Prix</td><td>null</td><td>2025-02-01T17:43:14.85Z</td></tr><tr><td>431</td><td>1985</td><td>12</td><td>14</td><td>Italian Grand Prix</td><td>null</td><td>2025-02-01T17:43:14.85Z</td></tr><tr><td>432</td><td>1985</td><td>13</td><td>13</td><td>Belgian Grand Prix</td><td>null</td><td>2025-02-01T17:43:14.85Z</td></tr><tr><td>433</td><td>1985</td><td>14</td><td>38</td><td>European Grand Prix</td><td>null</td><td>2025-02-01T17:43:14.85Z</td></tr><tr><td>434</td><td>1985</td><td>15</td><td>30</td><td>South African Grand Prix</td><td>null</td><td>2025-02-01T17:43:14.85Z</td></tr><tr><td>435</td><td>1985</td><td>16</td><td>29</td><td>Australian Grand Prix</td><td>null</td><td>2025-02-01T17:43:14.85Z</td></tr><tr><td>436</td><td>1984</td><td>1</td><td>36</td><td>Brazilian Grand Prix</td><td>null</td><td>2025-02-01T17:43:14.85Z</td></tr><tr><td>437</td><td>1984</td><td>2</td><td>30</td><td>South African Grand Prix</td><td>null</td><td>2025-02-01T17:43:14.85Z</td></tr><tr><td>438</td><td>1984</td><td>3</td><td>40</td><td>Belgian Grand Prix</td><td>null</td><td>2025-02-01T17:43:14.85Z</td></tr><tr><td>439</td><td>1984</td><td>4</td><td>21</td><td>San Marino Grand Prix</td><td>null</td><td>2025-02-01T17:43:14.85Z</td></tr><tr><td>440</td><td>1984</td><td>5</td><td>41</td><td>French Grand Prix</td><td>null</td><td>2025-02-01T17:43:14.85Z</td></tr><tr><td>441</td><td>1984</td><td>6</td><td>6</td><td>Monaco Grand Prix</td><td>null</td><td>2025-02-01T17:43:14.85Z</td></tr><tr><td>442</td><td>1984</td><td>7</td><td>7</td><td>Canadian Grand Prix</td><td>null</td><td>2025-02-01T17:43:14.85Z</td></tr><tr><td>443</td><td>1984</td><td>8</td><td>37</td><td>Detroit Grand Prix</td><td>null</td><td>2025-02-01T17:43:14.85Z</td></tr><tr><td>444</td><td>1984</td><td>9</td><td>42</td><td>Dallas Grand Prix</td><td>null</td><td>2025-02-01T17:43:14.85Z</td></tr><tr><td>445</td><td>1984</td><td>10</td><td>38</td><td>British Grand Prix</td><td>null</td><td>2025-02-01T17:43:14.85Z</td></tr><tr><td>446</td><td>1984</td><td>11</td><td>10</td><td>German Grand Prix</td><td>null</td><td>2025-02-01T17:43:14.85Z</td></tr><tr><td>447</td><td>1984</td><td>12</td><td>23</td><td>Austrian Grand Prix</td><td>null</td><td>2025-02-01T17:43:14.85Z</td></tr><tr><td>448</td><td>1984</td><td>13</td><td>39</td><td>Dutch Grand Prix</td><td>null</td><td>2025-02-01T17:43:14.85Z</td></tr><tr><td>449</td><td>1984</td><td>14</td><td>14</td><td>Italian Grand Prix</td><td>null</td><td>2025-02-01T17:43:14.85Z</td></tr><tr><td>450</td><td>1984</td><td>15</td><td>20</td><td>European Grand Prix</td><td>null</td><td>2025-02-01T17:43:14.85Z</td></tr><tr><td>451</td><td>1984</td><td>16</td><td>27</td><td>Portuguese Grand Prix</td><td>null</td><td>2025-02-01T17:43:14.85Z</td></tr><tr><td>452</td><td>1983</td><td>1</td><td>36</td><td>Brazilian Grand Prix</td><td>null</td><td>2025-02-01T17:43:14.85Z</td></tr><tr><td>453</td><td>1983</td><td>2</td><td>43</td><td>United States Grand Prix West</td><td>null</td><td>2025-02-01T17:43:14.85Z</td></tr><tr><td>454</td><td>1983</td><td>3</td><td>34</td><td>French Grand Prix</td><td>null</td><td>2025-02-01T17:43:14.85Z</td></tr><tr><td>455</td><td>1983</td><td>4</td><td>21</td><td>San Marino Grand Prix</td><td>null</td><td>2025-02-01T17:43:14.85Z</td></tr><tr><td>456</td><td>1983</td><td>5</td><td>6</td><td>Monaco Grand Prix</td><td>null</td><td>2025-02-01T17:43:14.85Z</td></tr><tr><td>457</td><td>1983</td><td>6</td><td>13</td><td>Belgian Grand Prix</td><td>null</td><td>2025-02-01T17:43:14.85Z</td></tr><tr><td>458</td><td>1983</td><td>7</td><td>37</td><td>Detroit Grand Prix</td><td>null</td><td>2025-02-01T17:43:14.85Z</td></tr><tr><td>459</td><td>1983</td><td>8</td><td>7</td><td>Canadian Grand Prix</td><td>null</td><td>2025-02-01T17:43:14.85Z</td></tr><tr><td>460</td><td>1983</td><td>9</td><td>9</td><td>British Grand Prix</td><td>null</td><td>2025-02-01T17:43:14.85Z</td></tr><tr><td>461</td><td>1983</td><td>10</td><td>10</td><td>German Grand Prix</td><td>null</td><td>2025-02-01T17:43:14.85Z</td></tr><tr><td>462</td><td>1983</td><td>11</td><td>23</td><td>Austrian Grand Prix</td><td>null</td><td>2025-02-01T17:43:14.85Z</td></tr><tr><td>463</td><td>1983</td><td>12</td><td>39</td><td>Dutch Grand Prix</td><td>null</td><td>2025-02-01T17:43:14.85Z</td></tr><tr><td>464</td><td>1983</td><td>13</td><td>14</td><td>Italian Grand Prix</td><td>null</td><td>2025-02-01T17:43:14.85Z</td></tr><tr><td>465</td><td>1983</td><td>14</td><td>38</td><td>European Grand Prix</td><td>null</td><td>2025-02-01T17:43:14.85Z</td></tr><tr><td>466</td><td>1983</td><td>15</td><td>30</td><td>South African Grand Prix</td><td>null</td><td>2025-02-01T17:43:14.85Z</td></tr><tr><td>467</td><td>1982</td><td>1</td><td>30</td><td>South African Grand Prix</td><td>null</td><td>2025-02-01T17:43:14.85Z</td></tr><tr><td>468</td><td>1982</td><td>2</td><td>36</td><td>Brazilian Grand Prix</td><td>null</td><td>2025-02-01T17:43:14.85Z</td></tr><tr><td>469</td><td>1982</td><td>3</td><td>43</td><td>United States Grand Prix West</td><td>null</td><td>2025-02-01T17:43:14.85Z</td></tr><tr><td>470</td><td>1982</td><td>4</td><td>21</td><td>San Marino Grand Prix</td><td>null</td><td>2025-02-01T17:43:14.85Z</td></tr><tr><td>471</td><td>1982</td><td>5</td><td>40</td><td>Belgian Grand Prix</td><td>null</td><td>2025-02-01T17:43:14.85Z</td></tr><tr><td>472</td><td>1982</td><td>6</td><td>6</td><td>Monaco Grand Prix</td><td>null</td><td>2025-02-01T17:43:14.85Z</td></tr><tr><td>473</td><td>1982</td><td>7</td><td>37</td><td>Detroit Grand Prix</td><td>null</td><td>2025-02-01T17:43:14.85Z</td></tr><tr><td>474</td><td>1982</td><td>8</td><td>7</td><td>Canadian Grand Prix</td><td>null</td><td>2025-02-01T17:43:14.85Z</td></tr><tr><td>475</td><td>1982</td><td>9</td><td>39</td><td>Dutch Grand Prix</td><td>null</td><td>2025-02-01T17:43:14.85Z</td></tr><tr><td>476</td><td>1982</td><td>10</td><td>38</td><td>British Grand Prix</td><td>null</td><td>2025-02-01T17:43:14.85Z</td></tr><tr><td>477</td><td>1982</td><td>11</td><td>34</td><td>French Grand Prix</td><td>null</td><td>2025-02-01T17:43:14.85Z</td></tr><tr><td>478</td><td>1982</td><td>12</td><td>10</td><td>German Grand Prix</td><td>null</td><td>2025-02-01T17:43:14.85Z</td></tr><tr><td>479</td><td>1982</td><td>13</td><td>23</td><td>Austrian Grand Prix</td><td>null</td><td>2025-02-01T17:43:14.85Z</td></tr><tr><td>480</td><td>1982</td><td>14</td><td>41</td><td>Swiss Grand Prix</td><td>null</td><td>2025-02-01T17:43:14.85Z</td></tr><tr><td>481</td><td>1982</td><td>15</td><td>14</td><td>Italian Grand Prix</td><td>null</td><td>2025-02-01T17:43:14.85Z</td></tr><tr><td>482</td><td>1982</td><td>16</td><td>44</td><td>Caesars Palace Grand Prix</td><td>null</td><td>2025-02-01T17:43:14.85Z</td></tr><tr><td>483</td><td>1981</td><td>1</td><td>43</td><td>United States Grand Prix West</td><td>null</td><td>2025-02-01T17:43:14.85Z</td></tr><tr><td>484</td><td>1981</td><td>2</td><td>36</td><td>Brazilian Grand Prix</td><td>null</td><td>2025-02-01T17:43:14.85Z</td></tr><tr><td>485</td><td>1981</td><td>3</td><td>25</td><td>Argentine Grand Prix</td><td>null</td><td>2025-02-01T17:43:14.85Z</td></tr><tr><td>486</td><td>1981</td><td>4</td><td>21</td><td>San Marino Grand Prix</td><td>null</td><td>2025-02-01T17:43:14.85Z</td></tr><tr><td>487</td><td>1981</td><td>5</td><td>40</td><td>Belgian Grand Prix</td><td>null</td><td>2025-02-01T17:43:14.85Z</td></tr><tr><td>488</td><td>1981</td><td>6</td><td>6</td><td>Monaco Grand Prix</td><td>null</td><td>2025-02-01T17:43:14.85Z</td></tr><tr><td>489</td><td>1981</td><td>7</td><td>45</td><td>Spanish Grand Prix</td><td>null</td><td>2025-02-01T17:43:14.85Z</td></tr><tr><td>490</td><td>1981</td><td>8</td><td>41</td><td>French Grand Prix</td><td>null</td><td>2025-02-01T17:43:14.85Z</td></tr><tr><td>491</td><td>1981</td><td>9</td><td>9</td><td>British Grand Prix</td><td>null</td><td>2025-02-01T17:43:14.85Z</td></tr><tr><td>492</td><td>1981</td><td>10</td><td>10</td><td>German Grand Prix</td><td>null</td><td>2025-02-01T17:43:14.85Z</td></tr><tr><td>493</td><td>1981</td><td>11</td><td>23</td><td>Austrian Grand Prix</td><td>null</td><td>2025-02-01T17:43:14.85Z</td></tr><tr><td>494</td><td>1981</td><td>12</td><td>39</td><td>Dutch Grand Prix</td><td>null</td><td>2025-02-01T17:43:14.85Z</td></tr><tr><td>495</td><td>1981</td><td>13</td><td>14</td><td>Italian Grand Prix</td><td>null</td><td>2025-02-01T17:43:14.85Z</td></tr><tr><td>496</td><td>1981</td><td>14</td><td>7</td><td>Canadian Grand Prix</td><td>null</td><td>2025-02-01T17:43:14.85Z</td></tr><tr><td>497</td><td>1981</td><td>15</td><td>44</td><td>Caesars Palace Grand Prix</td><td>null</td><td>2025-02-01T17:43:14.85Z</td></tr><tr><td>498</td><td>1980</td><td>1</td><td>25</td><td>Argentine Grand Prix</td><td>null</td><td>2025-02-01T17:43:14.85Z</td></tr><tr><td>499</td><td>1980</td><td>2</td><td>18</td><td>Brazilian Grand Prix</td><td>null</td><td>2025-02-01T17:43:14.85Z</td></tr><tr><td>500</td><td>1980</td><td>3</td><td>30</td><td>South African Grand Prix</td><td>null</td><td>2025-02-01T17:43:14.85Z</td></tr><tr><td>501</td><td>1980</td><td>4</td><td>43</td><td>United States Grand Prix West</td><td>null</td><td>2025-02-01T17:43:14.85Z</td></tr><tr><td>502</td><td>1980</td><td>5</td><td>40</td><td>Belgian Grand Prix</td><td>null</td><td>2025-02-01T17:43:14.85Z</td></tr><tr><td>503</td><td>1980</td><td>6</td><td>6</td><td>Monaco Grand Prix</td><td>null</td><td>2025-02-01T17:43:14.85Z</td></tr><tr><td>504</td><td>1980</td><td>7</td><td>34</td><td>French Grand Prix</td><td>null</td><td>2025-02-01T17:43:14.85Z</td></tr><tr><td>505</td><td>1980</td><td>8</td><td>38</td><td>British Grand Prix</td><td>null</td><td>2025-02-01T17:43:14.85Z</td></tr><tr><td>506</td><td>1980</td><td>9</td><td>10</td><td>German Grand Prix</td><td>null</td><td>2025-02-01T17:43:14.85Z</td></tr><tr><td>507</td><td>1980</td><td>10</td><td>23</td><td>Austrian Grand Prix</td><td>null</td><td>2025-02-01T17:43:14.85Z</td></tr><tr><td>508</td><td>1980</td><td>11</td><td>39</td><td>Dutch Grand Prix</td><td>null</td><td>2025-02-01T17:43:14.85Z</td></tr><tr><td>509</td><td>1980</td><td>12</td><td>21</td><td>Italian Grand Prix</td><td>null</td><td>2025-02-01T17:43:14.85Z</td></tr><tr><td>510</td><td>1980</td><td>13</td><td>7</td><td>Canadian Grand Prix</td><td>null</td><td>2025-02-01T17:43:14.85Z</td></tr><tr><td>511</td><td>1980</td><td>14</td><td>46</td><td>United States Grand Prix</td><td>null</td><td>2025-02-01T17:43:14.85Z</td></tr><tr><td>512</td><td>1979</td><td>1</td><td>25</td><td>Argentine Grand Prix</td><td>null</td><td>2025-02-01T17:43:14.85Z</td></tr><tr><td>513</td><td>1979</td><td>2</td><td>18</td><td>Brazilian Grand Prix</td><td>null</td><td>2025-02-01T17:43:14.85Z</td></tr><tr><td>514</td><td>1979</td><td>3</td><td>30</td><td>South African Grand Prix</td><td>null</td><td>2025-02-01T17:43:14.85Z</td></tr><tr><td>515</td><td>1979</td><td>4</td><td>43</td><td>United States Grand Prix West</td><td>null</td><td>2025-02-01T17:43:14.85Z</td></tr><tr><td>516</td><td>1979</td><td>5</td><td>45</td><td>Spanish Grand Prix</td><td>null</td><td>2025-02-01T17:43:14.85Z</td></tr><tr><td>517</td><td>1979</td><td>6</td><td>40</td><td>Belgian Grand Prix</td><td>null</td><td>2025-02-01T17:43:14.85Z</td></tr><tr><td>518</td><td>1979</td><td>7</td><td>6</td><td>Monaco Grand Prix</td><td>null</td><td>2025-02-01T17:43:14.85Z</td></tr><tr><td>519</td><td>1979</td><td>8</td><td>41</td><td>French Grand Prix</td><td>null</td><td>2025-02-01T17:43:14.85Z</td></tr><tr><td>520</td><td>1979</td><td>9</td><td>9</td><td>British Grand Prix</td><td>null</td><td>2025-02-01T17:43:14.85Z</td></tr><tr><td>521</td><td>1979</td><td>10</td><td>10</td><td>German Grand Prix</td><td>null</td><td>2025-02-01T17:43:14.85Z</td></tr><tr><td>522</td><td>1979</td><td>11</td><td>23</td><td>Austrian Grand Prix</td><td>null</td><td>2025-02-01T17:43:14.85Z</td></tr><tr><td>523</td><td>1979</td><td>12</td><td>39</td><td>Dutch Grand Prix</td><td>null</td><td>2025-02-01T17:43:14.85Z</td></tr><tr><td>524</td><td>1979</td><td>13</td><td>14</td><td>Italian Grand Prix</td><td>null</td><td>2025-02-01T17:43:14.85Z</td></tr><tr><td>525</td><td>1979</td><td>14</td><td>7</td><td>Canadian Grand Prix</td><td>null</td><td>2025-02-01T17:43:14.85Z</td></tr><tr><td>526</td><td>1979</td><td>15</td><td>46</td><td>United States Grand Prix</td><td>null</td><td>2025-02-01T17:43:14.85Z</td></tr><tr><td>527</td><td>1978</td><td>1</td><td>25</td><td>Argentine Grand Prix</td><td>null</td><td>2025-02-01T17:43:14.85Z</td></tr><tr><td>528</td><td>1978</td><td>2</td><td>36</td><td>Brazilian Grand Prix</td><td>null</td><td>2025-02-01T17:43:14.85Z</td></tr><tr><td>529</td><td>1978</td><td>3</td><td>30</td><td>South African Grand Prix</td><td>null</td><td>2025-02-01T17:43:14.85Z</td></tr><tr><td>530</td><td>1978</td><td>4</td><td>43</td><td>United States Grand Prix West</td><td>null</td><td>2025-02-01T17:43:14.85Z</td></tr><tr><td>531</td><td>1978</td><td>5</td><td>6</td><td>Monaco Grand Prix</td><td>null</td><td>2025-02-01T17:43:14.85Z</td></tr><tr><td>532</td><td>1978</td><td>6</td><td>40</td><td>Belgian Grand Prix</td><td>null</td><td>2025-02-01T17:43:14.85Z</td></tr><tr><td>533</td><td>1978</td><td>7</td><td>45</td><td>Spanish Grand Prix</td><td>null</td><td>2025-02-01T17:43:14.85Z</td></tr><tr><td>534</td><td>1978</td><td>8</td><td>47</td><td>Swedish Grand Prix</td><td>null</td><td>2025-02-01T17:43:14.85Z</td></tr><tr><td>535</td><td>1978</td><td>9</td><td>34</td><td>French Grand Prix</td><td>null</td><td>2025-02-01T17:43:14.85Z</td></tr><tr><td>536</td><td>1978</td><td>10</td><td>38</td><td>British Grand Prix</td><td>null</td><td>2025-02-01T17:43:14.85Z</td></tr><tr><td>537</td><td>1978</td><td>11</td><td>10</td><td>German Grand Prix</td><td>null</td><td>2025-02-01T17:43:14.85Z</td></tr><tr><td>538</td><td>1978</td><td>12</td><td>23</td><td>Austrian Grand Prix</td><td>null</td><td>2025-02-01T17:43:14.85Z</td></tr><tr><td>539</td><td>1978</td><td>13</td><td>39</td><td>Dutch Grand Prix</td><td>null</td><td>2025-02-01T17:43:14.85Z</td></tr><tr><td>540</td><td>1978</td><td>14</td><td>14</td><td>Italian Grand Prix</td><td>null</td><td>2025-02-01T17:43:14.85Z</td></tr><tr><td>541</td><td>1978</td><td>15</td><td>46</td><td>United States Grand Prix</td><td>null</td><td>2025-02-01T17:43:14.85Z</td></tr><tr><td>542</td><td>1978</td><td>16</td><td>7</td><td>Canadian Grand Prix</td><td>null</td><td>2025-02-01T17:43:14.85Z</td></tr><tr><td>543</td><td>1977</td><td>1</td><td>25</td><td>Argentine Grand Prix</td><td>null</td><td>2025-02-01T17:43:14.85Z</td></tr><tr><td>544</td><td>1977</td><td>2</td><td>18</td><td>Brazilian Grand Prix</td><td>null</td><td>2025-02-01T17:43:14.85Z</td></tr><tr><td>545</td><td>1977</td><td>3</td><td>30</td><td>South African Grand Prix</td><td>null</td><td>2025-02-01T17:43:14.85Z</td></tr><tr><td>546</td><td>1977</td><td>4</td><td>43</td><td>United States Grand Prix West</td><td>null</td><td>2025-02-01T17:43:14.85Z</td></tr><tr><td>547</td><td>1977</td><td>5</td><td>45</td><td>Spanish Grand Prix</td><td>null</td><td>2025-02-01T17:43:14.85Z</td></tr><tr><td>548</td><td>1977</td><td>6</td><td>6</td><td>Monaco Grand Prix</td><td>null</td><td>2025-02-01T17:43:14.85Z</td></tr><tr><td>549</td><td>1977</td><td>7</td><td>40</td><td>Belgian Grand Prix</td><td>null</td><td>2025-02-01T17:43:14.85Z</td></tr><tr><td>550</td><td>1977</td><td>8</td><td>47</td><td>Swedish Grand Prix</td><td>null</td><td>2025-02-01T17:43:14.85Z</td></tr><tr><td>551</td><td>1977</td><td>9</td><td>41</td><td>French Grand Prix</td><td>null</td><td>2025-02-01T17:43:14.85Z</td></tr><tr><td>552</td><td>1977</td><td>10</td><td>9</td><td>British Grand Prix</td><td>null</td><td>2025-02-01T17:43:14.85Z</td></tr><tr><td>553</td><td>1977</td><td>11</td><td>10</td><td>German Grand Prix</td><td>null</td><td>2025-02-01T17:43:14.85Z</td></tr><tr><td>554</td><td>1977</td><td>12</td><td>23</td><td>Austrian Grand Prix</td><td>null</td><td>2025-02-01T17:43:14.85Z</td></tr><tr><td>555</td><td>1977</td><td>13</td><td>39</td><td>Dutch Grand Prix</td><td>null</td><td>2025-02-01T17:43:14.85Z</td></tr><tr><td>556</td><td>1977</td><td>14</td><td>14</td><td>Italian Grand Prix</td><td>null</td><td>2025-02-01T17:43:14.85Z</td></tr><tr><td>557</td><td>1977</td><td>15</td><td>46</td><td>United States Grand Prix</td><td>null</td><td>2025-02-01T17:43:14.85Z</td></tr><tr><td>558</td><td>1977</td><td>16</td><td>48</td><td>Canadian Grand Prix</td><td>null</td><td>2025-02-01T17:43:14.85Z</td></tr><tr><td>559</td><td>1977</td><td>17</td><td>16</td><td>Japanese Grand Prix</td><td>null</td><td>2025-02-01T17:43:14.85Z</td></tr><tr><td>560</td><td>1976</td><td>1</td><td>18</td><td>Brazilian Grand Prix</td><td>null</td><td>2025-02-01T17:43:14.85Z</td></tr><tr><td>561</td><td>1976</td><td>2</td><td>30</td><td>South African Grand Prix</td><td>null</td><td>2025-02-01T17:43:14.85Z</td></tr><tr><td>562</td><td>1976</td><td>3</td><td>43</td><td>United States Grand Prix West</td><td>null</td><td>2025-02-01T17:43:14.85Z</td></tr><tr><td>563</td><td>1976</td><td>4</td><td>45</td><td>Spanish Grand Prix</td><td>null</td><td>2025-02-01T17:43:14.85Z</td></tr><tr><td>564</td><td>1976</td><td>5</td><td>40</td><td>Belgian Grand Prix</td><td>null</td><td>2025-02-01T17:43:14.85Z</td></tr><tr><td>565</td><td>1976</td><td>6</td><td>6</td><td>Monaco Grand Prix</td><td>null</td><td>2025-02-01T17:43:14.85Z</td></tr><tr><td>566</td><td>1976</td><td>7</td><td>47</td><td>Swedish Grand Prix</td><td>null</td><td>2025-02-01T17:43:14.85Z</td></tr><tr><td>567</td><td>1976</td><td>8</td><td>34</td><td>French Grand Prix</td><td>null</td><td>2025-02-01T17:43:14.85Z</td></tr><tr><td>568</td><td>1976</td><td>9</td><td>38</td><td>British Grand Prix</td><td>null</td><td>2025-02-01T17:43:14.85Z</td></tr><tr><td>569</td><td>1976</td><td>10</td><td>20</td><td>German Grand Prix</td><td>null</td><td>2025-02-01T17:43:14.85Z</td></tr><tr><td>570</td><td>1976</td><td>11</td><td>23</td><td>Austrian Grand Prix</td><td>null</td><td>2025-02-01T17:43:14.85Z</td></tr><tr><td>571</td><td>1976</td><td>12</td><td>39</td><td>Dutch Grand Prix</td><td>null</td><td>2025-02-01T17:43:14.85Z</td></tr><tr><td>572</td><td>1976</td><td>13</td><td>14</td><td>Italian Grand Prix</td><td>null</td><td>2025-02-01T17:43:14.85Z</td></tr><tr><td>573</td><td>1976</td><td>14</td><td>48</td><td>Canadian Grand Prix</td><td>null</td><td>2025-02-01T17:43:14.85Z</td></tr><tr><td>574</td><td>1976</td><td>15</td><td>46</td><td>United States Grand Prix</td><td>null</td><td>2025-02-01T17:43:14.85Z</td></tr><tr><td>575</td><td>1976</td><td>16</td><td>16</td><td>Japanese Grand Prix</td><td>null</td><td>2025-02-01T17:43:14.85Z</td></tr><tr><td>576</td><td>1975</td><td>1</td><td>25</td><td>Argentine Grand Prix</td><td>null</td><td>2025-02-01T17:43:14.85Z</td></tr><tr><td>577</td><td>1975</td><td>2</td><td>18</td><td>Brazilian Grand Prix</td><td>null</td><td>2025-02-01T17:43:14.85Z</td></tr><tr><td>578</td><td>1975</td><td>3</td><td>30</td><td>South African Grand Prix</td><td>null</td><td>2025-02-01T17:43:14.85Z</td></tr><tr><td>579</td><td>1975</td><td>4</td><td>49</td><td>Spanish Grand Prix</td><td>null</td><td>2025-02-01T17:43:14.85Z</td></tr><tr><td>580</td><td>1975</td><td>5</td><td>6</td><td>Monaco Grand Prix</td><td>null</td><td>2025-02-01T17:43:14.85Z</td></tr><tr><td>581</td><td>1975</td><td>6</td><td>40</td><td>Belgian Grand Prix</td><td>null</td><td>2025-02-01T17:43:14.85Z</td></tr><tr><td>582</td><td>1975</td><td>7</td><td>47</td><td>Swedish Grand Prix</td><td>null</td><td>2025-02-01T17:43:14.85Z</td></tr><tr><td>583</td><td>1975</td><td>8</td><td>39</td><td>Dutch Grand Prix</td><td>null</td><td>2025-02-01T17:43:14.85Z</td></tr><tr><td>584</td><td>1975</td><td>9</td><td>34</td><td>French Grand Prix</td><td>null</td><td>2025-02-01T17:43:14.85Z</td></tr><tr><td>585</td><td>1975</td><td>10</td><td>9</td><td>British Grand Prix</td><td>null</td><td>2025-02-01T17:43:14.85Z</td></tr><tr><td>586</td><td>1975</td><td>11</td><td>20</td><td>German Grand Prix</td><td>null</td><td>2025-02-01T17:43:14.85Z</td></tr><tr><td>587</td><td>1975</td><td>12</td><td>23</td><td>Austrian Grand Prix</td><td>null</td><td>2025-02-01T17:43:14.85Z</td></tr><tr><td>588</td><td>1975</td><td>13</td><td>14</td><td>Italian Grand Prix</td><td>null</td><td>2025-02-01T17:43:14.85Z</td></tr><tr><td>589</td><td>1975</td><td>14</td><td>46</td><td>United States Grand Prix</td><td>null</td><td>2025-02-01T17:43:14.85Z</td></tr><tr><td>590</td><td>1974</td><td>1</td><td>25</td><td>Argentine Grand Prix</td><td>null</td><td>2025-02-01T17:43:14.85Z</td></tr><tr><td>591</td><td>1974</td><td>2</td><td>18</td><td>Brazilian Grand Prix</td><td>null</td><td>2025-02-01T17:43:14.85Z</td></tr><tr><td>592</td><td>1974</td><td>3</td><td>30</td><td>South African Grand Prix</td><td>null</td><td>2025-02-01T17:43:14.85Z</td></tr><tr><td>593</td><td>1974</td><td>4</td><td>45</td><td>Spanish Grand Prix</td><td>null</td><td>2025-02-01T17:43:14.85Z</td></tr><tr><td>594</td><td>1974</td><td>5</td><td>50</td><td>Belgian Grand Prix</td><td>null</td><td>2025-02-01T17:43:14.85Z</td></tr><tr><td>595</td><td>1974</td><td>6</td><td>6</td><td>Monaco Grand Prix</td><td>null</td><td>2025-02-01T17:43:14.85Z</td></tr><tr><td>596</td><td>1974</td><td>7</td><td>47</td><td>Swedish Grand Prix</td><td>null</td><td>2025-02-01T17:43:14.85Z</td></tr><tr><td>597</td><td>1974</td><td>8</td><td>39</td><td>Dutch Grand Prix</td><td>null</td><td>2025-02-01T17:43:14.85Z</td></tr><tr><td>598</td><td>1974</td><td>9</td><td>41</td><td>French Grand Prix</td><td>null</td><td>2025-02-01T17:43:14.85Z</td></tr><tr><td>599</td><td>1974</td><td>10</td><td>38</td><td>British Grand Prix</td><td>null</td><td>2025-02-01T17:43:14.85Z</td></tr><tr><td>600</td><td>1974</td><td>11</td><td>20</td><td>German Grand Prix</td><td>null</td><td>2025-02-01T17:43:14.85Z</td></tr><tr><td>601</td><td>1974</td><td>12</td><td>23</td><td>Austrian Grand Prix</td><td>null</td><td>2025-02-01T17:43:14.85Z</td></tr><tr><td>602</td><td>1974</td><td>13</td><td>14</td><td>Italian Grand Prix</td><td>null</td><td>2025-02-01T17:43:14.85Z</td></tr><tr><td>603</td><td>1974</td><td>14</td><td>48</td><td>Canadian Grand Prix</td><td>null</td><td>2025-02-01T17:43:14.85Z</td></tr><tr><td>604</td><td>1974</td><td>15</td><td>46</td><td>United States Grand Prix</td><td>null</td><td>2025-02-01T17:43:14.85Z</td></tr><tr><td>605</td><td>1973</td><td>1</td><td>25</td><td>Argentine Grand Prix</td><td>null</td><td>2025-02-01T17:43:14.85Z</td></tr><tr><td>606</td><td>1973</td><td>2</td><td>18</td><td>Brazilian Grand Prix</td><td>null</td><td>2025-02-01T17:43:14.85Z</td></tr><tr><td>607</td><td>1973</td><td>3</td><td>30</td><td>South African Grand Prix</td><td>null</td><td>2025-02-01T17:43:14.85Z</td></tr><tr><td>608</td><td>1973</td><td>4</td><td>49</td><td>Spanish Grand Prix</td><td>null</td><td>2025-02-01T17:43:14.85Z</td></tr><tr><td>609</td><td>1973</td><td>5</td><td>40</td><td>Belgian Grand Prix</td><td>null</td><td>2025-02-01T17:43:14.85Z</td></tr><tr><td>610</td><td>1973</td><td>6</td><td>6</td><td>Monaco Grand Prix</td><td>null</td><td>2025-02-01T17:43:14.85Z</td></tr><tr><td>611</td><td>1973</td><td>7</td><td>47</td><td>Swedish Grand Prix</td><td>null</td><td>2025-02-01T17:43:14.85Z</td></tr><tr><td>612</td><td>1973</td><td>8</td><td>34</td><td>French Grand Prix</td><td>null</td><td>2025-02-01T17:43:14.85Z</td></tr><tr><td>613</td><td>1973</td><td>9</td><td>9</td><td>British Grand Prix</td><td>null</td><td>2025-02-01T17:43:14.85Z</td></tr><tr><td>614</td><td>1973</td><td>10</td><td>39</td><td>Dutch Grand Prix</td><td>null</td><td>2025-02-01T17:43:14.85Z</td></tr><tr><td>615</td><td>1973</td><td>11</td><td>20</td><td>German Grand Prix</td><td>null</td><td>2025-02-01T17:43:14.85Z</td></tr><tr><td>616</td><td>1973</td><td>12</td><td>23</td><td>Austrian Grand Prix</td><td>null</td><td>2025-02-01T17:43:14.85Z</td></tr><tr><td>617</td><td>1973</td><td>13</td><td>14</td><td>Italian Grand Prix</td><td>null</td><td>2025-02-01T17:43:14.85Z</td></tr><tr><td>618</td><td>1973</td><td>14</td><td>48</td><td>Canadian Grand Prix</td><td>null</td><td>2025-02-01T17:43:14.85Z</td></tr><tr><td>619</td><td>1973</td><td>15</td><td>46</td><td>United States Grand Prix</td><td>null</td><td>2025-02-01T17:43:14.85Z</td></tr><tr><td>620</td><td>1972</td><td>1</td><td>25</td><td>Argentine Grand Prix</td><td>null</td><td>2025-02-01T17:43:14.85Z</td></tr><tr><td>621</td><td>1972</td><td>2</td><td>30</td><td>South African Grand Prix</td><td>null</td><td>2025-02-01T17:43:14.85Z</td></tr><tr><td>622</td><td>1972</td><td>3</td><td>45</td><td>Spanish Grand Prix</td><td>null</td><td>2025-02-01T17:43:14.85Z</td></tr><tr><td>623</td><td>1972</td><td>4</td><td>6</td><td>Monaco Grand Prix</td><td>null</td><td>2025-02-01T17:43:14.85Z</td></tr><tr><td>624</td><td>1972</td><td>5</td><td>50</td><td>Belgian Grand Prix</td><td>null</td><td>2025-02-01T17:43:14.85Z</td></tr><tr><td>625</td><td>1972</td><td>6</td><td>51</td><td>French Grand Prix</td><td>null</td><td>2025-02-01T17:43:14.85Z</td></tr><tr><td>626</td><td>1972</td><td>7</td><td>38</td><td>British Grand Prix</td><td>null</td><td>2025-02-01T17:43:14.85Z</td></tr><tr><td>627</td><td>1972</td><td>8</td><td>20</td><td>German Grand Prix</td><td>null</td><td>2025-02-01T17:43:14.85Z</td></tr><tr><td>628</td><td>1972</td><td>9</td><td>23</td><td>Austrian Grand Prix</td><td>null</td><td>2025-02-01T17:43:14.85Z</td></tr><tr><td>629</td><td>1972</td><td>10</td><td>14</td><td>Italian Grand Prix</td><td>null</td><td>2025-02-01T17:43:14.85Z</td></tr><tr><td>630</td><td>1972</td><td>11</td><td>48</td><td>Canadian Grand Prix</td><td>null</td><td>2025-02-01T17:43:14.85Z</td></tr><tr><td>631</td><td>1972</td><td>12</td><td>46</td><td>United States Grand Prix</td><td>null</td><td>2025-02-01T17:43:14.85Z</td></tr><tr><td>632</td><td>1971</td><td>1</td><td>30</td><td>South African Grand Prix</td><td>null</td><td>2025-02-01T17:43:14.85Z</td></tr><tr><td>633</td><td>1971</td><td>2</td><td>49</td><td>Spanish Grand Prix</td><td>null</td><td>2025-02-01T17:43:14.85Z</td></tr><tr><td>634</td><td>1971</td><td>3</td><td>6</td><td>Monaco Grand Prix</td><td>null</td><td>2025-02-01T17:43:14.85Z</td></tr><tr><td>635</td><td>1971</td><td>4</td><td>39</td><td>Dutch Grand Prix</td><td>null</td><td>2025-02-01T17:43:14.85Z</td></tr><tr><td>636</td><td>1971</td><td>5</td><td>34</td><td>French Grand Prix</td><td>null</td><td>2025-02-01T17:43:14.85Z</td></tr><tr><td>637</td><td>1971</td><td>6</td><td>9</td><td>British Grand Prix</td><td>null</td><td>2025-02-01T17:43:14.85Z</td></tr><tr><td>638</td><td>1971</td><td>7</td><td>20</td><td>German Grand Prix</td><td>null</td><td>2025-02-01T17:43:14.85Z</td></tr><tr><td>639</td><td>1971</td><td>8</td><td>23</td><td>Austrian Grand Prix</td><td>null</td><td>2025-02-01T17:43:14.85Z</td></tr><tr><td>640</td><td>1971</td><td>9</td><td>14</td><td>Italian Grand Prix</td><td>null</td><td>2025-02-01T17:43:14.85Z</td></tr><tr><td>641</td><td>1971</td><td>10</td><td>48</td><td>Canadian Grand Prix</td><td>null</td><td>2025-02-01T17:43:14.85Z</td></tr><tr><td>642</td><td>1971</td><td>11</td><td>46</td><td>United States Grand Prix</td><td>null</td><td>2025-02-01T17:43:14.85Z</td></tr><tr><td>643</td><td>1970</td><td>1</td><td>30</td><td>South African Grand Prix</td><td>null</td><td>2025-02-01T17:43:14.85Z</td></tr><tr><td>644</td><td>1970</td><td>2</td><td>45</td><td>Spanish Grand Prix</td><td>null</td><td>2025-02-01T17:43:14.85Z</td></tr><tr><td>645</td><td>1970</td><td>3</td><td>6</td><td>Monaco Grand Prix</td><td>null</td><td>2025-02-01T17:43:14.85Z</td></tr><tr><td>646</td><td>1970</td><td>4</td><td>13</td><td>Belgian Grand Prix</td><td>null</td><td>2025-02-01T17:43:14.85Z</td></tr><tr><td>647</td><td>1970</td><td>5</td><td>39</td><td>Dutch Grand Prix</td><td>null</td><td>2025-02-01T17:43:14.85Z</td></tr><tr><td>648</td><td>1970</td><td>6</td><td>51</td><td>French Grand Prix</td><td>null</td><td>2025-02-01T17:43:14.85Z</td></tr><tr><td>649</td><td>1970</td><td>7</td><td>38</td><td>British Grand Prix</td><td>null</td><td>2025-02-01T17:43:14.85Z</td></tr><tr><td>650</td><td>1970</td><td>8</td><td>10</td><td>German Grand Prix</td><td>null</td><td>2025-02-01T17:43:14.85Z</td></tr><tr><td>651</td><td>1970</td><td>9</td><td>23</td><td>Austrian Grand Prix</td><td>null</td><td>2025-02-01T17:43:14.85Z</td></tr><tr><td>652</td><td>1970</td><td>10</td><td>14</td><td>Italian Grand Prix</td><td>null</td><td>2025-02-01T17:43:14.85Z</td></tr><tr><td>653</td><td>1970</td><td>11</td><td>52</td><td>Canadian Grand Prix</td><td>null</td><td>2025-02-01T17:43:14.85Z</td></tr><tr><td>654</td><td>1970</td><td>12</td><td>46</td><td>United States Grand Prix</td><td>null</td><td>2025-02-01T17:43:14.85Z</td></tr><tr><td>655</td><td>1970</td><td>13</td><td>32</td><td>Mexican Grand Prix</td><td>null</td><td>2025-02-01T17:43:14.85Z</td></tr><tr><td>656</td><td>1969</td><td>1</td><td>30</td><td>South African Grand Prix</td><td>null</td><td>2025-02-01T17:43:14.85Z</td></tr><tr><td>657</td><td>1969</td><td>2</td><td>49</td><td>Spanish Grand Prix</td><td>null</td><td>2025-02-01T17:43:14.85Z</td></tr><tr><td>658</td><td>1969</td><td>3</td><td>6</td><td>Monaco Grand Prix</td><td>null</td><td>2025-02-01T17:43:14.85Z</td></tr><tr><td>659</td><td>1969</td><td>4</td><td>39</td><td>Dutch Grand Prix</td><td>null</td><td>2025-02-01T17:43:14.85Z</td></tr><tr><td>660</td><td>1969</td><td>5</td><td>51</td><td>French Grand Prix</td><td>null</td><td>2025-02-01T17:43:14.85Z</td></tr><tr><td>661</td><td>1969</td><td>6</td><td>9</td><td>British Grand Prix</td><td>null</td><td>2025-02-01T17:43:14.85Z</td></tr><tr><td>662</td><td>1969</td><td>7</td><td>20</td><td>German Grand Prix</td><td>null</td><td>2025-02-01T17:43:14.85Z</td></tr><tr><td>663</td><td>1969</td><td>8</td><td>14</td><td>Italian Grand Prix</td><td>null</td><td>2025-02-01T17:43:14.85Z</td></tr><tr><td>664</td><td>1969</td><td>9</td><td>48</td><td>Canadian Grand Prix</td><td>null</td><td>2025-02-01T17:43:14.85Z</td></tr><tr><td>665</td><td>1969</td><td>10</td><td>46</td><td>United States Grand Prix</td><td>null</td><td>2025-02-01T17:43:14.85Z</td></tr><tr><td>666</td><td>1969</td><td>11</td><td>32</td><td>Mexican Grand Prix</td><td>null</td><td>2025-02-01T17:43:14.85Z</td></tr><tr><td>667</td><td>1968</td><td>1</td><td>30</td><td>South African Grand Prix</td><td>null</td><td>2025-02-01T17:43:14.85Z</td></tr><tr><td>668</td><td>1968</td><td>2</td><td>45</td><td>Spanish Grand Prix</td><td>null</td><td>2025-02-01T17:43:14.85Z</td></tr><tr><td>669</td><td>1968</td><td>3</td><td>6</td><td>Monaco Grand Prix</td><td>null</td><td>2025-02-01T17:43:14.85Z</td></tr><tr><td>670</td><td>1968</td><td>4</td><td>13</td><td>Belgian Grand Prix</td><td>null</td><td>2025-02-01T17:43:14.85Z</td></tr><tr><td>671</td><td>1968</td><td>5</td><td>39</td><td>Dutch Grand Prix</td><td>null</td><td>2025-02-01T17:43:14.85Z</td></tr><tr><td>672</td><td>1968</td><td>6</td><td>53</td><td>French Grand Prix</td><td>null</td><td>2025-02-01T17:43:14.85Z</td></tr><tr><td>673</td><td>1968</td><td>7</td><td>38</td><td>British Grand Prix</td><td>null</td><td>2025-02-01T17:43:14.85Z</td></tr><tr><td>674</td><td>1968</td><td>8</td><td>20</td><td>German Grand Prix</td><td>null</td><td>2025-02-01T17:43:14.85Z</td></tr><tr><td>675</td><td>1968</td><td>9</td><td>14</td><td>Italian Grand Prix</td><td>null</td><td>2025-02-01T17:43:14.85Z</td></tr><tr><td>676</td><td>1968</td><td>10</td><td>52</td><td>Canadian Grand Prix</td><td>null</td><td>2025-02-01T17:43:14.85Z</td></tr><tr><td>677</td><td>1968</td><td>11</td><td>46</td><td>United States Grand Prix</td><td>null</td><td>2025-02-01T17:43:14.85Z</td></tr><tr><td>678</td><td>1968</td><td>12</td><td>32</td><td>Mexican Grand Prix</td><td>null</td><td>2025-02-01T17:43:14.85Z</td></tr><tr><td>679</td><td>1967</td><td>1</td><td>30</td><td>South African Grand Prix</td><td>null</td><td>2025-02-01T17:43:14.85Z</td></tr><tr><td>680</td><td>1967</td><td>2</td><td>6</td><td>Monaco Grand Prix</td><td>null</td><td>2025-02-01T17:43:14.85Z</td></tr><tr><td>681</td><td>1967</td><td>3</td><td>39</td><td>Dutch Grand Prix</td><td>null</td><td>2025-02-01T17:43:14.85Z</td></tr><tr><td>682</td><td>1967</td><td>4</td><td>13</td><td>Belgian Grand Prix</td><td>null</td><td>2025-02-01T17:43:14.85Z</td></tr><tr><td>683</td><td>1967</td><td>5</td><td>54</td><td>French Grand Prix</td><td>null</td><td>2025-02-01T17:43:14.85Z</td></tr><tr><td>684</td><td>1967</td><td>6</td><td>9</td><td>British Grand Prix</td><td>null</td><td>2025-02-01T17:43:14.85Z</td></tr><tr><td>685</td><td>1967</td><td>7</td><td>20</td><td>German Grand Prix</td><td>null</td><td>2025-02-01T17:43:14.85Z</td></tr><tr><td>686</td><td>1967</td><td>8</td><td>48</td><td>Canadian Grand Prix</td><td>null</td><td>2025-02-01T17:43:14.85Z</td></tr><tr><td>687</td><td>1967</td><td>9</td><td>14</td><td>Italian Grand Prix</td><td>null</td><td>2025-02-01T17:43:14.85Z</td></tr><tr><td>688</td><td>1967</td><td>10</td><td>46</td><td>United States Grand Prix</td><td>null</td><td>2025-02-01T17:43:14.85Z</td></tr><tr><td>689</td><td>1967</td><td>11</td><td>32</td><td>Mexican Grand Prix</td><td>null</td><td>2025-02-01T17:43:14.85Z</td></tr><tr><td>690</td><td>1966</td><td>1</td><td>6</td><td>Monaco Grand Prix</td><td>null</td><td>2025-02-01T17:43:14.85Z</td></tr><tr><td>691</td><td>1966</td><td>2</td><td>13</td><td>Belgian Grand Prix</td><td>null</td><td>2025-02-01T17:43:14.85Z</td></tr><tr><td>692</td><td>1966</td><td>3</td><td>55</td><td>French Grand Prix</td><td>null</td><td>2025-02-01T17:43:14.85Z</td></tr><tr><td>693</td><td>1966</td><td>4</td><td>38</td><td>British Grand Prix</td><td>null</td><td>2025-02-01T17:43:14.85Z</td></tr><tr><td>694</td><td>1966</td><td>5</td><td>39</td><td>Dutch Grand Prix</td><td>null</td><td>2025-02-01T17:43:14.85Z</td></tr><tr><td>695</td><td>1966</td><td>6</td><td>20</td><td>German Grand Prix</td><td>null</td><td>2025-02-01T17:43:14.85Z</td></tr><tr><td>696</td><td>1966</td><td>7</td><td>14</td><td>Italian Grand Prix</td><td>null</td><td>2025-02-01T17:43:14.85Z</td></tr><tr><td>697</td><td>1966</td><td>8</td><td>46</td><td>United States Grand Prix</td><td>null</td><td>2025-02-01T17:43:14.85Z</td></tr><tr><td>698</td><td>1966</td><td>9</td><td>32</td><td>Mexican Grand Prix</td><td>null</td><td>2025-02-01T17:43:14.85Z</td></tr><tr><td>699</td><td>1965</td><td>1</td><td>56</td><td>South African Grand Prix</td><td>null</td><td>2025-02-01T17:43:14.85Z</td></tr><tr><td>700</td><td>1965</td><td>2</td><td>6</td><td>Monaco Grand Prix</td><td>null</td><td>2025-02-01T17:43:14.85Z</td></tr><tr><td>701</td><td>1965</td><td>3</td><td>13</td><td>Belgian Grand Prix</td><td>null</td><td>2025-02-01T17:43:14.85Z</td></tr><tr><td>702</td><td>1965</td><td>4</td><td>51</td><td>French Grand Prix</td><td>null</td><td>2025-02-01T17:43:14.85Z</td></tr><tr><td>703</td><td>1965</td><td>5</td><td>9</td><td>British Grand Prix</td><td>null</td><td>2025-02-01T17:43:14.85Z</td></tr><tr><td>704</td><td>1965</td><td>6</td><td>39</td><td>Dutch Grand Prix</td><td>null</td><td>2025-02-01T17:43:14.85Z</td></tr><tr><td>705</td><td>1965</td><td>7</td><td>20</td><td>German Grand Prix</td><td>null</td><td>2025-02-01T17:43:14.85Z</td></tr><tr><td>706</td><td>1965</td><td>8</td><td>14</td><td>Italian Grand Prix</td><td>null</td><td>2025-02-01T17:43:14.85Z</td></tr><tr><td>707</td><td>1965</td><td>9</td><td>46</td><td>United States Grand Prix</td><td>null</td><td>2025-02-01T17:43:14.85Z</td></tr><tr><td>708</td><td>1965</td><td>10</td><td>32</td><td>Mexican Grand Prix</td><td>null</td><td>2025-02-01T17:43:14.85Z</td></tr><tr><td>709</td><td>1964</td><td>1</td><td>6</td><td>Monaco Grand Prix</td><td>null</td><td>2025-02-01T17:43:14.85Z</td></tr><tr><td>710</td><td>1964</td><td>2</td><td>39</td><td>Dutch Grand Prix</td><td>null</td><td>2025-02-01T17:43:14.85Z</td></tr><tr><td>711</td><td>1964</td><td>3</td><td>13</td><td>Belgian Grand Prix</td><td>null</td><td>2025-02-01T17:43:14.85Z</td></tr><tr><td>712</td><td>1964</td><td>4</td><td>53</td><td>French Grand Prix</td><td>null</td><td>2025-02-01T17:43:14.85Z</td></tr><tr><td>713</td><td>1964</td><td>5</td><td>38</td><td>British Grand Prix</td><td>null</td><td>2025-02-01T17:43:14.85Z</td></tr><tr><td>714</td><td>1964</td><td>6</td><td>20</td><td>German Grand Prix</td><td>null</td><td>2025-02-01T17:43:14.85Z</td></tr><tr><td>715</td><td>1964</td><td>7</td><td>57</td><td>Austrian Grand Prix</td><td>null</td><td>2025-02-01T17:43:14.85Z</td></tr><tr><td>716</td><td>1964</td><td>8</td><td>14</td><td>Italian Grand Prix</td><td>null</td><td>2025-02-01T17:43:14.85Z</td></tr><tr><td>717</td><td>1964</td><td>9</td><td>46</td><td>United States Grand Prix</td><td>null</td><td>2025-02-01T17:43:14.85Z</td></tr><tr><td>718</td><td>1964</td><td>10</td><td>32</td><td>Mexican Grand Prix</td><td>null</td><td>2025-02-01T17:43:14.85Z</td></tr><tr><td>719</td><td>1963</td><td>1</td><td>6</td><td>Monaco Grand Prix</td><td>null</td><td>2025-02-01T17:43:14.85Z</td></tr><tr><td>720</td><td>1963</td><td>2</td><td>13</td><td>Belgian Grand Prix</td><td>null</td><td>2025-02-01T17:43:14.85Z</td></tr><tr><td>721</td><td>1963</td><td>3</td><td>39</td><td>Dutch Grand Prix</td><td>null</td><td>2025-02-01T17:43:14.85Z</td></tr><tr><td>722</td><td>1963</td><td>4</td><td>55</td><td>French Grand Prix</td><td>null</td><td>2025-02-01T17:43:14.85Z</td></tr><tr><td>723</td><td>1963</td><td>5</td><td>9</td><td>British Grand Prix</td><td>null</td><td>2025-02-01T17:43:14.85Z</td></tr><tr><td>724</td><td>1963</td><td>6</td><td>20</td><td>German Grand Prix</td><td>null</td><td>2025-02-01T17:43:14.85Z</td></tr><tr><td>725</td><td>1963</td><td>7</td><td>14</td><td>Italian Grand Prix</td><td>null</td><td>2025-02-01T17:43:14.85Z</td></tr><tr><td>726</td><td>1963</td><td>8</td><td>46</td><td>United States Grand Prix</td><td>null</td><td>2025-02-01T17:43:14.85Z</td></tr><tr><td>727</td><td>1963</td><td>9</td><td>32</td><td>Mexican Grand Prix</td><td>null</td><td>2025-02-01T17:43:14.85Z</td></tr><tr><td>728</td><td>1963</td><td>10</td><td>56</td><td>South African Grand Prix</td><td>null</td><td>2025-02-01T17:43:14.85Z</td></tr><tr><td>729</td><td>1962</td><td>1</td><td>39</td><td>Dutch Grand Prix</td><td>null</td><td>2025-02-01T17:43:14.85Z</td></tr><tr><td>730</td><td>1962</td><td>2</td><td>6</td><td>Monaco Grand Prix</td><td>null</td><td>2025-02-01T17:43:14.85Z</td></tr><tr><td>731</td><td>1962</td><td>3</td><td>13</td><td>Belgian Grand Prix</td><td>null</td><td>2025-02-01T17:43:14.85Z</td></tr><tr><td>732</td><td>1962</td><td>4</td><td>53</td><td>French Grand Prix</td><td>null</td><td>2025-02-01T17:43:14.85Z</td></tr><tr><td>733</td><td>1962</td><td>5</td><td>58</td><td>British Grand Prix</td><td>null</td><td>2025-02-01T17:43:14.85Z</td></tr><tr><td>734</td><td>1962</td><td>6</td><td>20</td><td>German Grand Prix</td><td>null</td><td>2025-02-01T17:43:14.85Z</td></tr><tr><td>735</td><td>1962</td><td>7</td><td>14</td><td>Italian Grand Prix</td><td>null</td><td>2025-02-01T17:43:14.85Z</td></tr><tr><td>736</td><td>1962</td><td>8</td><td>46</td><td>United States Grand Prix</td><td>null</td><td>2025-02-01T17:43:14.85Z</td></tr><tr><td>737</td><td>1962</td><td>9</td><td>56</td><td>South African Grand Prix</td><td>null</td><td>2025-02-01T17:43:14.85Z</td></tr><tr><td>738</td><td>1961</td><td>1</td><td>6</td><td>Monaco Grand Prix</td><td>null</td><td>2025-02-01T17:43:14.85Z</td></tr><tr><td>739</td><td>1961</td><td>2</td><td>39</td><td>Dutch Grand Prix</td><td>null</td><td>2025-02-01T17:43:14.85Z</td></tr><tr><td>740</td><td>1961</td><td>3</td><td>13</td><td>Belgian Grand Prix</td><td>null</td><td>2025-02-01T17:43:14.85Z</td></tr><tr><td>741</td><td>1961</td><td>4</td><td>55</td><td>French Grand Prix</td><td>null</td><td>2025-02-01T17:43:14.85Z</td></tr><tr><td>742</td><td>1961</td><td>5</td><td>58</td><td>British Grand Prix</td><td>null</td><td>2025-02-01T17:43:14.85Z</td></tr><tr><td>743</td><td>1961</td><td>6</td><td>20</td><td>German Grand Prix</td><td>null</td><td>2025-02-01T17:43:14.85Z</td></tr><tr><td>744</td><td>1961</td><td>7</td><td>14</td><td>Italian Grand Prix</td><td>null</td><td>2025-02-01T17:43:14.85Z</td></tr><tr><td>745</td><td>1961</td><td>8</td><td>46</td><td>United States Grand Prix</td><td>null</td><td>2025-02-01T17:43:14.85Z</td></tr><tr><td>746</td><td>1960</td><td>1</td><td>25</td><td>Argentine Grand Prix</td><td>null</td><td>2025-02-01T17:43:14.85Z</td></tr><tr><td>747</td><td>1960</td><td>2</td><td>6</td><td>Monaco Grand Prix</td><td>null</td><td>2025-02-01T17:43:14.85Z</td></tr><tr><td>748</td><td>1960</td><td>3</td><td>19</td><td>Indianapolis 500</td><td>null</td><td>2025-02-01T17:43:14.85Z</td></tr><tr><td>749</td><td>1960</td><td>4</td><td>39</td><td>Dutch Grand Prix</td><td>null</td><td>2025-02-01T17:43:14.85Z</td></tr><tr><td>750</td><td>1960</td><td>5</td><td>13</td><td>Belgian Grand Prix</td><td>null</td><td>2025-02-01T17:43:14.85Z</td></tr><tr><td>751</td><td>1960</td><td>6</td><td>55</td><td>French Grand Prix</td><td>null</td><td>2025-02-01T17:43:14.85Z</td></tr><tr><td>752</td><td>1960</td><td>7</td><td>9</td><td>British Grand Prix</td><td>null</td><td>2025-02-01T17:43:14.85Z</td></tr><tr><td>753</td><td>1960</td><td>8</td><td>59</td><td>Portuguese Grand Prix</td><td>null</td><td>2025-02-01T17:43:14.85Z</td></tr><tr><td>754</td><td>1960</td><td>9</td><td>14</td><td>Italian Grand Prix</td><td>null</td><td>2025-02-01T17:43:14.85Z</td></tr><tr><td>755</td><td>1960</td><td>10</td><td>60</td><td>United States Grand Prix</td><td>null</td><td>2025-02-01T17:43:14.85Z</td></tr><tr><td>756</td><td>1959</td><td>1</td><td>6</td><td>Monaco Grand Prix</td><td>null</td><td>2025-02-01T17:43:14.85Z</td></tr><tr><td>757</td><td>1959</td><td>2</td><td>19</td><td>Indianapolis 500</td><td>null</td><td>2025-02-01T17:43:14.85Z</td></tr><tr><td>758</td><td>1959</td><td>3</td><td>39</td><td>Dutch Grand Prix</td><td>null</td><td>2025-02-01T17:43:14.85Z</td></tr><tr><td>759</td><td>1959</td><td>4</td><td>55</td><td>French Grand Prix</td><td>null</td><td>2025-02-01T17:43:14.85Z</td></tr><tr><td>760</td><td>1959</td><td>5</td><td>58</td><td>British Grand Prix</td><td>null</td><td>2025-02-01T17:43:14.85Z</td></tr><tr><td>761</td><td>1959</td><td>6</td><td>61</td><td>German Grand Prix</td><td>null</td><td>2025-02-01T17:43:14.85Z</td></tr><tr><td>762</td><td>1959</td><td>7</td><td>62</td><td>Portuguese Grand Prix</td><td>null</td><td>2025-02-01T17:43:14.85Z</td></tr><tr><td>763</td><td>1959</td><td>8</td><td>14</td><td>Italian Grand Prix</td><td>null</td><td>2025-02-01T17:43:14.85Z</td></tr><tr><td>764</td><td>1959</td><td>9</td><td>63</td><td>United States Grand Prix</td><td>null</td><td>2025-02-01T17:43:14.85Z</td></tr><tr><td>765</td><td>1958</td><td>1</td><td>25</td><td>Argentine Grand Prix</td><td>null</td><td>2025-02-01T17:43:14.85Z</td></tr><tr><td>766</td><td>1958</td><td>2</td><td>6</td><td>Monaco Grand Prix</td><td>null</td><td>2025-02-01T17:43:14.85Z</td></tr><tr><td>767</td><td>1958</td><td>3</td><td>39</td><td>Dutch Grand Prix</td><td>null</td><td>2025-02-01T17:43:14.85Z</td></tr><tr><td>768</td><td>1958</td><td>4</td><td>19</td><td>Indianapolis 500</td><td>null</td><td>2025-02-01T17:43:14.85Z</td></tr><tr><td>769</td><td>1958</td><td>5</td><td>13</td><td>Belgian Grand Prix</td><td>null</td><td>2025-02-01T17:43:14.85Z</td></tr><tr><td>770</td><td>1958</td><td>6</td><td>55</td><td>French Grand Prix</td><td>null</td><td>2025-02-01T17:43:14.85Z</td></tr><tr><td>771</td><td>1958</td><td>7</td><td>9</td><td>British Grand Prix</td><td>null</td><td>2025-02-01T17:43:14.85Z</td></tr><tr><td>772</td><td>1958</td><td>8</td><td>20</td><td>German Grand Prix</td><td>null</td><td>2025-02-01T17:43:14.85Z</td></tr><tr><td>773</td><td>1958</td><td>9</td><td>59</td><td>Portuguese Grand Prix</td><td>null</td><td>2025-02-01T17:43:14.85Z</td></tr><tr><td>774</td><td>1958</td><td>10</td><td>14</td><td>Italian Grand Prix</td><td>null</td><td>2025-02-01T17:43:14.85Z</td></tr><tr><td>775</td><td>1958</td><td>11</td><td>64</td><td>Moroccan Grand Prix</td><td>null</td><td>2025-02-01T17:43:14.85Z</td></tr><tr><td>776</td><td>1957</td><td>1</td><td>25</td><td>Argentine Grand Prix</td><td>null</td><td>2025-02-01T17:43:14.85Z</td></tr><tr><td>777</td><td>1957</td><td>2</td><td>6</td><td>Monaco Grand Prix</td><td>null</td><td>2025-02-01T17:43:14.85Z</td></tr><tr><td>778</td><td>1957</td><td>3</td><td>19</td><td>Indianapolis 500</td><td>null</td><td>2025-02-01T17:43:14.85Z</td></tr><tr><td>779</td><td>1957</td><td>4</td><td>53</td><td>French Grand Prix</td><td>null</td><td>2025-02-01T17:43:14.85Z</td></tr><tr><td>780</td><td>1957</td><td>5</td><td>58</td><td>British Grand Prix</td><td>null</td><td>2025-02-01T17:43:14.85Z</td></tr><tr><td>781</td><td>1957</td><td>6</td><td>20</td><td>German Grand Prix</td><td>null</td><td>2025-02-01T17:43:14.85Z</td></tr><tr><td>782</td><td>1957</td><td>7</td><td>65</td><td>Pescara Grand Prix</td><td>null</td><td>2025-02-01T17:43:14.85Z</td></tr><tr><td>783</td><td>1957</td><td>8</td><td>14</td><td>Italian Grand Prix</td><td>null</td><td>2025-02-01T17:43:14.85Z</td></tr><tr><td>784</td><td>1956</td><td>1</td><td>25</td><td>Argentine Grand Prix</td><td>null</td><td>2025-02-01T17:43:14.85Z</td></tr><tr><td>785</td><td>1956</td><td>2</td><td>6</td><td>Monaco Grand Prix</td><td>null</td><td>2025-02-01T17:43:14.85Z</td></tr><tr><td>786</td><td>1956</td><td>3</td><td>19</td><td>Indianapolis 500</td><td>null</td><td>2025-02-01T17:43:14.85Z</td></tr><tr><td>787</td><td>1956</td><td>4</td><td>13</td><td>Belgian Grand Prix</td><td>null</td><td>2025-02-01T17:43:14.85Z</td></tr><tr><td>788</td><td>1956</td><td>5</td><td>55</td><td>French Grand Prix</td><td>null</td><td>2025-02-01T17:43:14.85Z</td></tr><tr><td>789</td><td>1956</td><td>6</td><td>9</td><td>British Grand Prix</td><td>null</td><td>2025-02-01T17:43:14.85Z</td></tr><tr><td>790</td><td>1956</td><td>7</td><td>20</td><td>German Grand Prix</td><td>null</td><td>2025-02-01T17:43:14.85Z</td></tr><tr><td>791</td><td>1956</td><td>8</td><td>14</td><td>Italian Grand Prix</td><td>null</td><td>2025-02-01T17:43:14.85Z</td></tr><tr><td>792</td><td>1955</td><td>1</td><td>25</td><td>Argentine Grand Prix</td><td>null</td><td>2025-02-01T17:43:14.85Z</td></tr><tr><td>793</td><td>1955</td><td>2</td><td>6</td><td>Monaco Grand Prix</td><td>null</td><td>2025-02-01T17:43:14.85Z</td></tr><tr><td>794</td><td>1955</td><td>3</td><td>19</td><td>Indianapolis 500</td><td>null</td><td>2025-02-01T17:43:14.85Z</td></tr><tr><td>795</td><td>1955</td><td>4</td><td>13</td><td>Belgian Grand Prix</td><td>null</td><td>2025-02-01T17:43:14.85Z</td></tr><tr><td>796</td><td>1955</td><td>5</td><td>39</td><td>Dutch Grand Prix</td><td>null</td><td>2025-02-01T17:43:14.85Z</td></tr><tr><td>797</td><td>1955</td><td>6</td><td>58</td><td>British Grand Prix</td><td>null</td><td>2025-02-01T17:43:14.85Z</td></tr><tr><td>798</td><td>1955</td><td>7</td><td>14</td><td>Italian Grand Prix</td><td>null</td><td>2025-02-01T17:43:14.85Z</td></tr><tr><td>799</td><td>1954</td><td>1</td><td>25</td><td>Argentine Grand Prix</td><td>null</td><td>2025-02-01T17:43:14.85Z</td></tr><tr><td>800</td><td>1954</td><td>2</td><td>19</td><td>Indianapolis 500</td><td>null</td><td>2025-02-01T17:43:14.85Z</td></tr><tr><td>801</td><td>1954</td><td>3</td><td>13</td><td>Belgian Grand Prix</td><td>null</td><td>2025-02-01T17:43:14.85Z</td></tr><tr><td>802</td><td>1954</td><td>4</td><td>55</td><td>French Grand Prix</td><td>null</td><td>2025-02-01T17:43:14.85Z</td></tr><tr><td>803</td><td>1954</td><td>5</td><td>9</td><td>British Grand Prix</td><td>null</td><td>2025-02-01T17:43:14.85Z</td></tr><tr><td>804</td><td>1954</td><td>6</td><td>20</td><td>German Grand Prix</td><td>null</td><td>2025-02-01T17:43:14.85Z</td></tr><tr><td>805</td><td>1954</td><td>7</td><td>66</td><td>Swiss Grand Prix</td><td>null</td><td>2025-02-01T17:43:14.85Z</td></tr><tr><td>806</td><td>1954</td><td>8</td><td>14</td><td>Italian Grand Prix</td><td>null</td><td>2025-02-01T17:43:14.85Z</td></tr><tr><td>807</td><td>1954</td><td>9</td><td>67</td><td>Spanish Grand Prix</td><td>null</td><td>2025-02-01T17:43:14.85Z</td></tr><tr><td>808</td><td>1953</td><td>1</td><td>25</td><td>Argentine Grand Prix</td><td>null</td><td>2025-02-01T17:43:14.85Z</td></tr><tr><td>809</td><td>1953</td><td>2</td><td>19</td><td>Indianapolis 500</td><td>null</td><td>2025-02-01T17:43:14.85Z</td></tr><tr><td>810</td><td>1953</td><td>3</td><td>39</td><td>Dutch Grand Prix</td><td>null</td><td>2025-02-01T17:43:14.85Z</td></tr><tr><td>811</td><td>1953</td><td>4</td><td>13</td><td>Belgian Grand Prix</td><td>null</td><td>2025-02-01T17:43:14.85Z</td></tr><tr><td>812</td><td>1953</td><td>5</td><td>55</td><td>French Grand Prix</td><td>null</td><td>2025-02-01T17:43:14.85Z</td></tr><tr><td>813</td><td>1953</td><td>6</td><td>9</td><td>British Grand Prix</td><td>null</td><td>2025-02-01T17:43:14.85Z</td></tr><tr><td>814</td><td>1953</td><td>7</td><td>20</td><td>German Grand Prix</td><td>null</td><td>2025-02-01T17:43:14.85Z</td></tr><tr><td>815</td><td>1953</td><td>8</td><td>66</td><td>Swiss Grand Prix</td><td>null</td><td>2025-02-01T17:43:14.85Z</td></tr><tr><td>816</td><td>1953</td><td>9</td><td>14</td><td>Italian Grand Prix</td><td>null</td><td>2025-02-01T17:43:14.85Z</td></tr><tr><td>817</td><td>1952</td><td>1</td><td>66</td><td>Swiss Grand Prix</td><td>null</td><td>2025-02-01T17:43:14.85Z</td></tr><tr><td>818</td><td>1952</td><td>2</td><td>19</td><td>Indianapolis 500</td><td>null</td><td>2025-02-01T17:43:14.85Z</td></tr><tr><td>819</td><td>1952</td><td>3</td><td>13</td><td>Belgian Grand Prix</td><td>null</td><td>2025-02-01T17:43:14.85Z</td></tr><tr><td>820</td><td>1952</td><td>4</td><td>53</td><td>French Grand Prix</td><td>null</td><td>2025-02-01T17:43:14.85Z</td></tr><tr><td>821</td><td>1952</td><td>5</td><td>9</td><td>British Grand Prix</td><td>null</td><td>2025-02-01T17:43:14.85Z</td></tr><tr><td>822</td><td>1952</td><td>6</td><td>20</td><td>German Grand Prix</td><td>null</td><td>2025-02-01T17:43:14.85Z</td></tr><tr><td>823</td><td>1952</td><td>7</td><td>39</td><td>Dutch Grand Prix</td><td>null</td><td>2025-02-01T17:43:14.85Z</td></tr><tr><td>824</td><td>1952</td><td>8</td><td>14</td><td>Italian Grand Prix</td><td>null</td><td>2025-02-01T17:43:14.85Z</td></tr><tr><td>825</td><td>1951</td><td>1</td><td>66</td><td>Swiss Grand Prix</td><td>null</td><td>2025-02-01T17:43:14.85Z</td></tr><tr><td>826</td><td>1951</td><td>2</td><td>19</td><td>Indianapolis 500</td><td>null</td><td>2025-02-01T17:43:14.85Z</td></tr><tr><td>827</td><td>1951</td><td>3</td><td>13</td><td>Belgian Grand Prix</td><td>null</td><td>2025-02-01T17:43:14.85Z</td></tr><tr><td>828</td><td>1951</td><td>4</td><td>55</td><td>French Grand Prix</td><td>null</td><td>2025-02-01T17:43:14.85Z</td></tr><tr><td>829</td><td>1951</td><td>5</td><td>9</td><td>British Grand Prix</td><td>null</td><td>2025-02-01T17:43:14.85Z</td></tr><tr><td>830</td><td>1951</td><td>6</td><td>20</td><td>German Grand Prix</td><td>null</td><td>2025-02-01T17:43:14.85Z</td></tr><tr><td>831</td><td>1951</td><td>7</td><td>14</td><td>Italian Grand Prix</td><td>null</td><td>2025-02-01T17:43:14.85Z</td></tr><tr><td>832</td><td>1951</td><td>8</td><td>67</td><td>Spanish Grand Prix</td><td>null</td><td>2025-02-01T17:43:14.85Z</td></tr><tr><td>833</td><td>1950</td><td>1</td><td>9</td><td>British Grand Prix</td><td>null</td><td>2025-02-01T17:43:14.85Z</td></tr><tr><td>834</td><td>1950</td><td>2</td><td>6</td><td>Monaco Grand Prix</td><td>null</td><td>2025-02-01T17:43:14.85Z</td></tr><tr><td>835</td><td>1950</td><td>3</td><td>19</td><td>Indianapolis 500</td><td>null</td><td>2025-02-01T17:43:14.85Z</td></tr><tr><td>836</td><td>1950</td><td>4</td><td>66</td><td>Swiss Grand Prix</td><td>null</td><td>2025-02-01T17:43:14.85Z</td></tr><tr><td>837</td><td>1950</td><td>5</td><td>13</td><td>Belgian Grand Prix</td><td>null</td><td>2025-02-01T17:43:14.85Z</td></tr><tr><td>838</td><td>1950</td><td>6</td><td>55</td><td>French Grand Prix</td><td>null</td><td>2025-02-01T17:43:14.85Z</td></tr><tr><td>839</td><td>1950</td><td>7</td><td>14</td><td>Italian Grand Prix</td><td>null</td><td>2025-02-01T17:43:14.85Z</td></tr><tr><td>841</td><td>2011</td><td>1</td><td>1</td><td>Australian Grand Prix</td><td>2011-03-27T06:00:00Z</td><td>2025-02-01T17:43:14.85Z</td></tr><tr><td>842</td><td>2011</td><td>2</td><td>2</td><td>Malaysian Grand Prix</td><td>2011-04-10T08:00:00Z</td><td>2025-02-01T17:43:14.85Z</td></tr><tr><td>843</td><td>2011</td><td>3</td><td>17</td><td>Chinese Grand Prix</td><td>2011-04-17T07:00:00Z</td><td>2025-02-01T17:43:14.85Z</td></tr><tr><td>844</td><td>2011</td><td>4</td><td>5</td><td>Turkish Grand Prix</td><td>2011-05-08T12:00:00Z</td><td>2025-02-01T17:43:14.85Z</td></tr><tr><td>845</td><td>2011</td><td>5</td><td>4</td><td>Spanish Grand Prix</td><td>2011-05-22T12:00:00Z</td><td>2025-02-01T17:43:14.85Z</td></tr><tr><td>846</td><td>2011</td><td>6</td><td>6</td><td>Monaco Grand Prix</td><td>2011-05-29T12:00:00Z</td><td>2025-02-01T17:43:14.85Z</td></tr><tr><td>847</td><td>2011</td><td>7</td><td>7</td><td>Canadian Grand Prix</td><td>2011-06-12T17:00:00Z</td><td>2025-02-01T17:43:14.85Z</td></tr><tr><td>848</td><td>2011</td><td>8</td><td>12</td><td>European Grand Prix</td><td>2011-06-26T12:00:00Z</td><td>2025-02-01T17:43:14.85Z</td></tr><tr><td>849</td><td>2011</td><td>9</td><td>9</td><td>British Grand Prix</td><td>2011-07-10T12:00:00Z</td><td>2025-02-01T17:43:14.85Z</td></tr><tr><td>850</td><td>2011</td><td>10</td><td>20</td><td>German Grand Prix</td><td>2011-07-24T12:00:00Z</td><td>2025-02-01T17:43:14.85Z</td></tr><tr><td>851</td><td>2011</td><td>11</td><td>11</td><td>Hungarian Grand Prix</td><td>2011-07-31T12:00:00Z</td><td>2025-02-01T17:43:14.85Z</td></tr><tr><td>852</td><td>2011</td><td>12</td><td>13</td><td>Belgian Grand Prix</td><td>2011-08-28T12:00:00Z</td><td>2025-02-01T17:43:14.85Z</td></tr><tr><td>853</td><td>2011</td><td>13</td><td>14</td><td>Italian Grand Prix</td><td>2011-09-11T12:00:00Z</td><td>2025-02-01T17:43:14.85Z</td></tr><tr><td>854</td><td>2011</td><td>14</td><td>15</td><td>Singapore Grand Prix</td><td>2011-09-25T12:00:00Z</td><td>2025-02-01T17:43:14.85Z</td></tr><tr><td>855</td><td>2011</td><td>15</td><td>22</td><td>Japanese Grand Prix</td><td>2011-10-09T06:00:00Z</td><td>2025-02-01T17:43:14.85Z</td></tr><tr><td>856</td><td>2011</td><td>16</td><td>35</td><td>Korean Grand Prix</td><td>2011-10-16T06:00:00Z</td><td>2025-02-01T17:43:14.85Z</td></tr><tr><td>857</td><td>2011</td><td>17</td><td>68</td><td>Indian Grand Prix</td><td>2011-10-30T09:30:00Z</td><td>2025-02-01T17:43:14.85Z</td></tr><tr><td>858</td><td>2011</td><td>18</td><td>24</td><td>Abu Dhabi Grand Prix</td><td>2011-11-13T13:00:00Z</td><td>2025-02-01T17:43:14.85Z</td></tr><tr><td>859</td><td>2011</td><td>19</td><td>18</td><td>Brazilian Grand Prix</td><td>2011-11-27T16:00:00Z</td><td>2025-02-01T17:43:14.85Z</td></tr><tr><td>860</td><td>2012</td><td>1</td><td>1</td><td>Australian Grand Prix</td><td>2012-03-18T06:00:00Z</td><td>2025-02-01T17:43:14.85Z</td></tr><tr><td>861</td><td>2012</td><td>2</td><td>2</td><td>Malaysian Grand Prix</td><td>2012-03-25T08:00:00Z</td><td>2025-02-01T17:43:14.85Z</td></tr><tr><td>862</td><td>2012</td><td>3</td><td>17</td><td>Chinese Grand Prix</td><td>2012-04-15T07:00:00Z</td><td>2025-02-01T17:43:14.85Z</td></tr><tr><td>863</td><td>2012</td><td>4</td><td>3</td><td>Bahrain Grand Prix</td><td>2012-04-22T12:00:00Z</td><td>2025-02-01T17:43:14.85Z</td></tr><tr><td>864</td><td>2012</td><td>5</td><td>4</td><td>Spanish Grand Prix</td><td>2012-05-13T12:00:00Z</td><td>2025-02-01T17:43:14.85Z</td></tr><tr><td>865</td><td>2012</td><td>6</td><td>6</td><td>Monaco Grand Prix</td><td>2012-05-27T12:00:00Z</td><td>2025-02-01T17:43:14.85Z</td></tr><tr><td>866</td><td>2012</td><td>7</td><td>7</td><td>Canadian Grand Prix</td><td>2012-06-10T18:00:00Z</td><td>2025-02-01T17:43:14.85Z</td></tr><tr><td>867</td><td>2012</td><td>8</td><td>12</td><td>European Grand Prix</td><td>2012-06-24T12:00:00Z</td><td>2025-02-01T17:43:14.85Z</td></tr><tr><td>868</td><td>2012</td><td>9</td><td>9</td><td>British Grand Prix</td><td>2012-07-08T12:00:00Z</td><td>2025-02-01T17:43:14.85Z</td></tr><tr><td>869</td><td>2012</td><td>10</td><td>10</td><td>German Grand Prix</td><td>2012-07-22T12:00:00Z</td><td>2025-02-01T17:43:14.85Z</td></tr><tr><td>870</td><td>2012</td><td>11</td><td>11</td><td>Hungarian Grand Prix</td><td>2012-07-29T12:00:00Z</td><td>2025-02-01T17:43:14.85Z</td></tr><tr><td>871</td><td>2012</td><td>12</td><td>13</td><td>Belgian Grand Prix</td><td>2012-09-02T12:00:00Z</td><td>2025-02-01T17:43:14.85Z</td></tr><tr><td>872</td><td>2012</td><td>13</td><td>14</td><td>Italian Grand Prix</td><td>2012-09-09T12:00:00Z</td><td>2025-02-01T17:43:14.85Z</td></tr><tr><td>873</td><td>2012</td><td>14</td><td>15</td><td>Singapore Grand Prix</td><td>2012-09-23T12:00:00Z</td><td>2025-02-01T17:43:14.85Z</td></tr><tr><td>874</td><td>2012</td><td>15</td><td>22</td><td>Japanese Grand Prix</td><td>2012-10-07T06:00:00Z</td><td>2025-02-01T17:43:14.85Z</td></tr><tr><td>875</td><td>2012</td><td>16</td><td>35</td><td>Korean Grand Prix</td><td>2012-10-14T06:00:00Z</td><td>2025-02-01T17:43:14.85Z</td></tr><tr><td>876</td><td>2012</td><td>17</td><td>68</td><td>Indian Grand Prix</td><td>2012-10-28T09:30:00Z</td><td>2025-02-01T17:43:14.85Z</td></tr><tr><td>877</td><td>2012</td><td>18</td><td>24</td><td>Abu Dhabi Grand Prix</td><td>2012-11-04T13:00:00Z</td><td>2025-02-01T17:43:14.85Z</td></tr><tr><td>878</td><td>2012</td><td>19</td><td>69</td><td>United States Grand Prix</td><td>2012-11-18T19:00:00Z</td><td>2025-02-01T17:43:14.85Z</td></tr><tr><td>879</td><td>2012</td><td>20</td><td>18</td><td>Brazilian Grand Prix</td><td>2012-11-25T16:00:00Z</td><td>2025-02-01T17:43:14.85Z</td></tr><tr><td>880</td><td>2013</td><td>1</td><td>1</td><td>Australian Grand Prix</td><td>2013-03-17T06:00:00Z</td><td>2025-02-01T17:43:14.85Z</td></tr><tr><td>881</td><td>2013</td><td>2</td><td>2</td><td>Malaysian Grand Prix</td><td>2013-03-24T08:00:00Z</td><td>2025-02-01T17:43:14.85Z</td></tr><tr><td>882</td><td>2013</td><td>3</td><td>17</td><td>Chinese Grand Prix</td><td>2013-04-14T07:00:00Z</td><td>2025-02-01T17:43:14.85Z</td></tr><tr><td>883</td><td>2013</td><td>4</td><td>3</td><td>Bahrain Grand Prix</td><td>2013-04-21T12:00:00Z</td><td>2025-02-01T17:43:14.85Z</td></tr><tr><td>884</td><td>2013</td><td>5</td><td>4</td><td>Spanish Grand Prix</td><td>2013-05-12T12:00:00Z</td><td>2025-02-01T17:43:14.85Z</td></tr><tr><td>885</td><td>2013</td><td>6</td><td>6</td><td>Monaco Grand Prix</td><td>2013-05-26T12:00:00Z</td><td>2025-02-01T17:43:14.85Z</td></tr><tr><td>886</td><td>2013</td><td>7</td><td>7</td><td>Canadian Grand Prix</td><td>2013-06-09T18:00:00Z</td><td>2025-02-01T17:43:14.85Z</td></tr><tr><td>887</td><td>2013</td><td>8</td><td>9</td><td>British Grand Prix</td><td>2013-06-30T12:00:00Z</td><td>2025-02-01T17:43:14.85Z</td></tr><tr><td>888</td><td>2013</td><td>9</td><td>20</td><td>German Grand Prix</td><td>2013-07-07T12:00:00Z</td><td>2025-02-01T17:43:14.85Z</td></tr><tr><td>890</td><td>2013</td><td>10</td><td>11</td><td>Hungarian Grand Prix</td><td>2013-07-28T12:00:00Z</td><td>2025-02-01T17:43:14.85Z</td></tr><tr><td>891</td><td>2013</td><td>11</td><td>13</td><td>Belgian Grand Prix</td><td>2013-08-25T12:00:00Z</td><td>2025-02-01T17:43:14.85Z</td></tr><tr><td>892</td><td>2013</td><td>12</td><td>14</td><td>Italian Grand Prix</td><td>2013-09-08T12:00:00Z</td><td>2025-02-01T17:43:14.85Z</td></tr><tr><td>893</td><td>2013</td><td>13</td><td>15</td><td>Singapore Grand Prix</td><td>2013-09-22T12:00:00Z</td><td>2025-02-01T17:43:14.85Z</td></tr><tr><td>894</td><td>2013</td><td>14</td><td>35</td><td>Korean Grand Prix</td><td>2013-10-06T06:00:00Z</td><td>2025-02-01T17:43:14.85Z</td></tr><tr><td>895</td><td>2013</td><td>15</td><td>22</td><td>Japanese Grand Prix</td><td>2013-10-13T06:00:00Z</td><td>2025-02-01T17:43:14.85Z</td></tr><tr><td>896</td><td>2013</td><td>16</td><td>68</td><td>Indian Grand Prix</td><td>2013-10-27T09:30:00Z</td><td>2025-02-01T17:43:14.85Z</td></tr><tr><td>897</td><td>2013</td><td>17</td><td>24</td><td>Abu Dhabi Grand Prix</td><td>2013-11-03T13:00:00Z</td><td>2025-02-01T17:43:14.85Z</td></tr><tr><td>898</td><td>2013</td><td>18</td><td>69</td><td>United States Grand Prix</td><td>2013-11-17T19:00:00Z</td><td>2025-02-01T17:43:14.85Z</td></tr><tr><td>899</td><td>2013</td><td>19</td><td>18</td><td>Brazilian Grand Prix</td><td>2013-11-24T16:00:00Z</td><td>2025-02-01T17:43:14.85Z</td></tr><tr><td>900</td><td>2014</td><td>1</td><td>1</td><td>Australian Grand Prix</td><td>2014-03-16T06:00:00Z</td><td>2025-02-01T17:43:14.85Z</td></tr><tr><td>901</td><td>2014</td><td>2</td><td>2</td><td>Malaysian Grand Prix</td><td>2014-03-30T08:00:00Z</td><td>2025-02-01T17:43:14.85Z</td></tr><tr><td>902</td><td>2014</td><td>3</td><td>3</td><td>Bahrain Grand Prix</td><td>2014-04-06T15:00:00Z</td><td>2025-02-01T17:43:14.85Z</td></tr><tr><td>903</td><td>2014</td><td>4</td><td>17</td><td>Chinese Grand Prix</td><td>2014-04-20T07:00:00Z</td><td>2025-02-01T17:43:14.85Z</td></tr><tr><td>904</td><td>2014</td><td>5</td><td>4</td><td>Spanish Grand Prix</td><td>2014-05-11T12:00:00Z</td><td>2025-02-01T17:43:14.85Z</td></tr><tr><td>905</td><td>2014</td><td>6</td><td>6</td><td>Monaco Grand Prix</td><td>2014-05-25T12:00:00Z</td><td>2025-02-01T17:43:14.85Z</td></tr><tr><td>906</td><td>2014</td><td>7</td><td>7</td><td>Canadian Grand Prix</td><td>2014-06-08T18:00:00Z</td><td>2025-02-01T17:43:14.85Z</td></tr><tr><td>907</td><td>2014</td><td>8</td><td>70</td><td>Austrian Grand Prix</td><td>2014-06-22T12:00:00Z</td><td>2025-02-01T17:43:14.85Z</td></tr><tr><td>908</td><td>2014</td><td>9</td><td>9</td><td>British Grand Prix</td><td>2014-07-06T12:00:00Z</td><td>2025-02-01T17:43:14.85Z</td></tr><tr><td>909</td><td>2014</td><td>10</td><td>10</td><td>German Grand Prix</td><td>2014-07-20T12:00:00Z</td><td>2025-02-01T17:43:14.85Z</td></tr><tr><td>910</td><td>2014</td><td>11</td><td>11</td><td>Hungarian Grand Prix</td><td>2014-07-27T12:00:00Z</td><td>2025-02-01T17:43:14.85Z</td></tr><tr><td>911</td><td>2014</td><td>12</td><td>13</td><td>Belgian Grand Prix</td><td>2014-08-24T12:00:00Z</td><td>2025-02-01T17:43:14.85Z</td></tr><tr><td>912</td><td>2014</td><td>13</td><td>14</td><td>Italian Grand Prix</td><td>2014-09-07T12:00:00Z</td><td>2025-02-01T17:43:14.85Z</td></tr><tr><td>913</td><td>2014</td><td>14</td><td>15</td><td>Singapore Grand Prix</td><td>2014-09-21T12:00:00Z</td><td>2025-02-01T17:43:14.85Z</td></tr><tr><td>914</td><td>2014</td><td>15</td><td>22</td><td>Japanese Grand Prix</td><td>2014-10-05T06:00:00Z</td><td>2025-02-01T17:43:14.85Z</td></tr><tr><td>915</td><td>2014</td><td>16</td><td>71</td><td>Russian Grand Prix</td><td>2014-10-12T11:00:00Z</td><td>2025-02-01T17:43:14.85Z</td></tr><tr><td>916</td><td>2014</td><td>17</td><td>69</td><td>United States Grand Prix</td><td>2014-11-02T20:00:00Z</td><td>2025-02-01T17:43:14.85Z</td></tr><tr><td>917</td><td>2014</td><td>18</td><td>18</td><td>Brazilian Grand Prix</td><td>2014-11-09T16:00:00Z</td><td>2025-02-01T17:43:14.85Z</td></tr><tr><td>918</td><td>2014</td><td>19</td><td>24</td><td>Abu Dhabi Grand Prix</td><td>2014-11-23T13:00:00Z</td><td>2025-02-01T17:43:14.85Z</td></tr><tr><td>931</td><td>2015</td><td>6</td><td>6</td><td>Monaco Grand Prix</td><td>2015-05-24T12:00:00Z</td><td>2025-02-01T17:43:14.85Z</td></tr><tr><td>932</td><td>2015</td><td>7</td><td>7</td><td>Canadian Grand Prix</td><td>2015-06-07T18:00:00Z</td><td>2025-02-01T17:43:14.85Z</td></tr><tr><td>929</td><td>2015</td><td>4</td><td>3</td><td>Bahrain Grand Prix</td><td>2015-04-19T15:00:00Z</td><td>2025-02-01T17:43:14.85Z</td></tr><tr><td>930</td><td>2015</td><td>5</td><td>4</td><td>Spanish Grand Prix</td><td>2015-05-10T12:00:00Z</td><td>2025-02-01T17:43:14.85Z</td></tr><tr><td>928</td><td>2015</td><td>3</td><td>17</td><td>Chinese Grand Prix</td><td>2015-04-12T06:00:00Z</td><td>2025-02-01T17:43:14.85Z</td></tr><tr><td>926</td><td>2015</td><td>1</td><td>1</td><td>Australian Grand Prix</td><td>2015-03-15T05:00:00Z</td><td>2025-02-01T17:43:14.85Z</td></tr><tr><td>927</td><td>2015</td><td>2</td><td>2</td><td>Malaysian Grand Prix</td><td>2015-03-29T07:00:00Z</td><td>2025-02-01T17:43:14.85Z</td></tr><tr><td>933</td><td>2015</td><td>8</td><td>70</td><td>Austrian Grand Prix</td><td>2015-06-21T12:00:00Z</td><td>2025-02-01T17:43:14.85Z</td></tr><tr><td>934</td><td>2015</td><td>9</td><td>9</td><td>British Grand Prix</td><td>2015-07-05T12:00:00Z</td><td>2025-02-01T17:43:14.85Z</td></tr><tr><td>936</td><td>2015</td><td>10</td><td>11</td><td>Hungarian Grand Prix</td><td>2015-07-26T12:00:00Z</td><td>2025-02-01T17:43:14.85Z</td></tr><tr><td>937</td><td>2015</td><td>11</td><td>13</td><td>Belgian Grand Prix</td><td>2015-08-23T12:00:00Z</td><td>2025-02-01T17:43:14.85Z</td></tr><tr><td>938</td><td>2015</td><td>12</td><td>14</td><td>Italian Grand Prix</td><td>2015-09-06T12:00:00Z</td><td>2025-02-01T17:43:14.85Z</td></tr><tr><td>939</td><td>2015</td><td>13</td><td>15</td><td>Singapore Grand Prix</td><td>2015-09-20T12:00:00Z</td><td>2025-02-01T17:43:14.85Z</td></tr><tr><td>940</td><td>2015</td><td>14</td><td>22</td><td>Japanese Grand Prix</td><td>2015-09-27T05:00:00Z</td><td>2025-02-01T17:43:14.85Z</td></tr><tr><td>941</td><td>2015</td><td>15</td><td>71</td><td>Russian Grand Prix</td><td>2015-10-11T11:00:00Z</td><td>2025-02-01T17:43:14.85Z</td></tr><tr><td>942</td><td>2015</td><td>16</td><td>69</td><td>United States Grand Prix</td><td>2015-10-25T19:00:00Z</td><td>2025-02-01T17:43:14.85Z</td></tr><tr><td>943</td><td>2015</td><td>17</td><td>32</td><td>Mexican Grand Prix</td><td>2015-11-01T19:00:00Z</td><td>2025-02-01T17:43:14.85Z</td></tr><tr><td>944</td><td>2015</td><td>18</td><td>18</td><td>Brazilian Grand Prix</td><td>2015-11-15T16:00:00Z</td><td>2025-02-01T17:43:14.85Z</td></tr><tr><td>945</td><td>2015</td><td>19</td><td>24</td><td>Abu Dhabi Grand Prix</td><td>2015-11-29T13:00:00Z</td><td>2025-02-01T17:43:14.85Z</td></tr><tr><td>948</td><td>2016</td><td>1</td><td>1</td><td>Australian Grand Prix</td><td>2016-03-20T05:00:00Z</td><td>2025-02-01T17:43:14.85Z</td></tr><tr><td>949</td><td>2016</td><td>2</td><td>3</td><td>Bahrain Grand Prix</td><td>2016-04-03T15:00:00Z</td><td>2025-02-01T17:43:14.85Z</td></tr><tr><td>950</td><td>2016</td><td>3</td><td>17</td><td>Chinese Grand Prix</td><td>2016-04-17T06:00:00Z</td><td>2025-02-01T17:43:14.85Z</td></tr><tr><td>951</td><td>2016</td><td>4</td><td>71</td><td>Russian Grand Prix</td><td>2016-05-01T12:00:00Z</td><td>2025-02-01T17:43:14.85Z</td></tr><tr><td>952</td><td>2016</td><td>5</td><td>4</td><td>Spanish Grand Prix</td><td>2016-05-15T12:00:00Z</td><td>2025-02-01T17:43:14.85Z</td></tr><tr><td>953</td><td>2016</td><td>6</td><td>6</td><td>Monaco Grand Prix</td><td>2016-05-29T12:00:00Z</td><td>2025-02-01T17:43:14.85Z</td></tr><tr><td>954</td><td>2016</td><td>7</td><td>7</td><td>Canadian Grand Prix</td><td>2016-06-12T18:00:00Z</td><td>2025-02-01T17:43:14.85Z</td></tr><tr><td>955</td><td>2016</td><td>8</td><td>73</td><td>European Grand Prix</td><td>2016-06-19T13:00:00Z</td><td>2025-02-01T17:43:14.85Z</td></tr><tr><td>956</td><td>2016</td><td>9</td><td>70</td><td>Austrian Grand Prix</td><td>2016-07-03T12:00:00Z</td><td>2025-02-01T17:43:14.85Z</td></tr><tr><td>957</td><td>2016</td><td>10</td><td>9</td><td>British Grand Prix</td><td>2016-07-10T12:00:00Z</td><td>2025-02-01T17:43:14.85Z</td></tr><tr><td>958</td><td>2016</td><td>11</td><td>11</td><td>Hungarian Grand Prix</td><td>2016-07-24T12:00:00Z</td><td>2025-02-01T17:43:14.85Z</td></tr><tr><td>959</td><td>2016</td><td>12</td><td>10</td><td>German Grand Prix</td><td>2016-07-31T12:00:00Z</td><td>2025-02-01T17:43:14.85Z</td></tr><tr><td>960</td><td>2016</td><td>13</td><td>13</td><td>Belgian Grand Prix</td><td>2016-08-28T12:00:00Z</td><td>2025-02-01T17:43:14.85Z</td></tr><tr><td>961</td><td>2016</td><td>14</td><td>14</td><td>Italian Grand Prix</td><td>2016-09-04T12:00:00Z</td><td>2025-02-01T17:43:14.85Z</td></tr><tr><td>962</td><td>2016</td><td>15</td><td>15</td><td>Singapore Grand Prix</td><td>2016-09-18T12:00:00Z</td><td>2025-02-01T17:43:14.85Z</td></tr><tr><td>963</td><td>2016</td><td>16</td><td>2</td><td>Malaysian Grand Prix</td><td>2016-10-02T07:00:00Z</td><td>2025-02-01T17:43:14.85Z</td></tr><tr><td>964</td><td>2016</td><td>17</td><td>22</td><td>Japanese Grand Prix</td><td>2016-10-09T05:00:00Z</td><td>2025-02-01T17:43:14.85Z</td></tr><tr><td>965</td><td>2016</td><td>18</td><td>69</td><td>United States Grand Prix</td><td>2016-10-23T19:00:00Z</td><td>2025-02-01T17:43:14.85Z</td></tr><tr><td>966</td><td>2016</td><td>19</td><td>32</td><td>Mexican Grand Prix</td><td>2016-10-30T19:00:00Z</td><td>2025-02-01T17:43:14.85Z</td></tr><tr><td>967</td><td>2016</td><td>20</td><td>18</td><td>Brazilian Grand Prix</td><td>2016-11-13T16:00:00Z</td><td>2025-02-01T17:43:14.85Z</td></tr><tr><td>968</td><td>2016</td><td>21</td><td>24</td><td>Abu Dhabi Grand Prix</td><td>2016-11-27T13:00:00Z</td><td>2025-02-01T17:43:14.85Z</td></tr><tr><td>969</td><td>2017</td><td>1</td><td>1</td><td>Australian Grand Prix</td><td>2017-03-26T05:00:00Z</td><td>2025-02-01T17:43:14.85Z</td></tr><tr><td>970</td><td>2017</td><td>2</td><td>17</td><td>Chinese Grand Prix</td><td>2017-04-09T06:00:00Z</td><td>2025-02-01T17:43:14.85Z</td></tr><tr><td>971</td><td>2017</td><td>3</td><td>3</td><td>Bahrain Grand Prix</td><td>2017-04-16T15:00:00Z</td><td>2025-02-01T17:43:14.85Z</td></tr><tr><td>972</td><td>2017</td><td>4</td><td>71</td><td>Russian Grand Prix</td><td>2017-04-30T12:00:00Z</td><td>2025-02-01T17:43:14.85Z</td></tr><tr><td>973</td><td>2017</td><td>5</td><td>4</td><td>Spanish Grand Prix</td><td>2017-05-14T12:00:00Z</td><td>2025-02-01T17:43:14.85Z</td></tr><tr><td>974</td><td>2017</td><td>6</td><td>6</td><td>Monaco Grand Prix</td><td>2017-05-28T12:00:00Z</td><td>2025-02-01T17:43:14.85Z</td></tr><tr><td>975</td><td>2017</td><td>7</td><td>7</td><td>Canadian Grand Prix</td><td>2017-06-11T18:00:00Z</td><td>2025-02-01T17:43:14.85Z</td></tr><tr><td>976</td><td>2017</td><td>8</td><td>73</td><td>Azerbaijan Grand Prix</td><td>2017-06-25T13:00:00Z</td><td>2025-02-01T17:43:14.85Z</td></tr><tr><td>977</td><td>2017</td><td>9</td><td>70</td><td>Austrian Grand Prix</td><td>2017-07-09T12:00:00Z</td><td>2025-02-01T17:43:14.85Z</td></tr><tr><td>978</td><td>2017</td><td>10</td><td>9</td><td>British Grand Prix</td><td>2017-07-16T12:00:00Z</td><td>2025-02-01T17:43:14.85Z</td></tr><tr><td>979</td><td>2017</td><td>11</td><td>11</td><td>Hungarian Grand Prix</td><td>2017-07-30T12:00:00Z</td><td>2025-02-01T17:43:14.85Z</td></tr><tr><td>980</td><td>2017</td><td>12</td><td>13</td><td>Belgian Grand Prix</td><td>2017-08-27T12:00:00Z</td><td>2025-02-01T17:43:14.85Z</td></tr><tr><td>981</td><td>2017</td><td>13</td><td>14</td><td>Italian Grand Prix</td><td>2017-09-03T12:00:00Z</td><td>2025-02-01T17:43:14.85Z</td></tr><tr><td>982</td><td>2017</td><td>14</td><td>15</td><td>Singapore Grand Prix</td><td>2017-09-17T12:00:00Z</td><td>2025-02-01T17:43:14.85Z</td></tr><tr><td>983</td><td>2017</td><td>15</td><td>2</td><td>Malaysian Grand Prix</td><td>2017-10-01T07:00:00Z</td><td>2025-02-01T17:43:14.85Z</td></tr><tr><td>984</td><td>2017</td><td>16</td><td>22</td><td>Japanese Grand Prix</td><td>2017-10-08T05:00:00Z</td><td>2025-02-01T17:43:14.85Z</td></tr><tr><td>985</td><td>2017</td><td>17</td><td>69</td><td>United States Grand Prix</td><td>2017-10-22T19:00:00Z</td><td>2025-02-01T17:43:14.85Z</td></tr><tr><td>986</td><td>2017</td><td>18</td><td>32</td><td>Mexican Grand Prix</td><td>2017-10-29T19:00:00Z</td><td>2025-02-01T17:43:14.85Z</td></tr><tr><td>987</td><td>2017</td><td>19</td><td>18</td><td>Brazilian Grand Prix</td><td>2017-11-12T16:00:00Z</td><td>2025-02-01T17:43:14.85Z</td></tr><tr><td>988</td><td>2017</td><td>20</td><td>24</td><td>Abu Dhabi Grand Prix</td><td>2017-11-26T13:00:00Z</td><td>2025-02-01T17:43:14.85Z</td></tr><tr><td>989</td><td>2018</td><td>1</td><td>1</td><td>Australian Grand Prix</td><td>2018-03-25T05:10:00Z</td><td>2025-02-01T17:43:14.85Z</td></tr><tr><td>990</td><td>2018</td><td>2</td><td>3</td><td>Bahrain Grand Prix</td><td>2018-04-08T15:10:00Z</td><td>2025-02-01T17:43:14.85Z</td></tr><tr><td>991</td><td>2018</td><td>3</td><td>17</td><td>Chinese Grand Prix</td><td>2018-04-15T06:10:00Z</td><td>2025-02-01T17:43:14.85Z</td></tr><tr><td>992</td><td>2018</td><td>4</td><td>73</td><td>Azerbaijan Grand Prix</td><td>2018-04-29T12:10:00Z</td><td>2025-02-01T17:43:14.85Z</td></tr><tr><td>993</td><td>2018</td><td>5</td><td>4</td><td>Spanish Grand Prix</td><td>2018-05-13T13:10:00Z</td><td>2025-02-01T17:43:14.85Z</td></tr><tr><td>994</td><td>2018</td><td>6</td><td>6</td><td>Monaco Grand Prix</td><td>2018-05-27T13:10:00Z</td><td>2025-02-01T17:43:14.85Z</td></tr><tr><td>995</td><td>2018</td><td>7</td><td>7</td><td>Canadian Grand Prix</td><td>2018-06-10T18:10:00Z</td><td>2025-02-01T17:43:14.85Z</td></tr><tr><td>996</td><td>2018</td><td>8</td><td>34</td><td>French Grand Prix</td><td>2018-06-24T14:10:00Z</td><td>2025-02-01T17:43:14.85Z</td></tr><tr><td>997</td><td>2018</td><td>9</td><td>70</td><td>Austrian Grand Prix</td><td>2018-07-01T13:10:00Z</td><td>2025-02-01T17:43:14.85Z</td></tr><tr><td>998</td><td>2018</td><td>10</td><td>9</td><td>British Grand Prix</td><td>2018-07-08T13:10:00Z</td><td>2025-02-01T17:43:14.85Z</td></tr><tr><td>999</td><td>2018</td><td>11</td><td>10</td><td>German Grand Prix</td><td>2018-07-22T13:10:00Z</td><td>2025-02-01T17:43:14.85Z</td></tr><tr><td>1000</td><td>2018</td><td>12</td><td>11</td><td>Hungarian Grand Prix</td><td>2018-07-29T13:10:00Z</td><td>2025-02-01T17:43:14.85Z</td></tr><tr><td>1001</td><td>2018</td><td>13</td><td>13</td><td>Belgian Grand Prix</td><td>2018-08-26T13:10:00Z</td><td>2025-02-01T17:43:14.85Z</td></tr><tr><td>1002</td><td>2018</td><td>14</td><td>14</td><td>Italian Grand Prix</td><td>2018-09-02T13:10:00Z</td><td>2025-02-01T17:43:14.85Z</td></tr><tr><td>1003</td><td>2018</td><td>15</td><td>15</td><td>Singapore Grand Prix</td><td>2018-09-16T12:10:00Z</td><td>2025-02-01T17:43:14.85Z</td></tr><tr><td>1004</td><td>2018</td><td>16</td><td>71</td><td>Russian Grand Prix</td><td>2018-09-30T11:10:00Z</td><td>2025-02-01T17:43:14.85Z</td></tr><tr><td>1005</td><td>2018</td><td>17</td><td>22</td><td>Japanese Grand Prix</td><td>2018-10-07T05:10:00Z</td><td>2025-02-01T17:43:14.85Z</td></tr><tr><td>1006</td><td>2018</td><td>18</td><td>69</td><td>United States Grand Prix</td><td>2018-10-21T18:10:00Z</td><td>2025-02-01T17:43:14.85Z</td></tr><tr><td>1007</td><td>2018</td><td>19</td><td>32</td><td>Mexican Grand Prix</td><td>2018-10-28T19:10:00Z</td><td>2025-02-01T17:43:14.85Z</td></tr><tr><td>1008</td><td>2018</td><td>20</td><td>18</td><td>Brazilian Grand Prix</td><td>2018-11-11T17:10:00Z</td><td>2025-02-01T17:43:14.85Z</td></tr><tr><td>1009</td><td>2018</td><td>21</td><td>24</td><td>Abu Dhabi Grand Prix</td><td>2018-11-25T13:10:00Z</td><td>2025-02-01T17:43:14.85Z</td></tr><tr><td>1010</td><td>2019</td><td>1</td><td>1</td><td>Australian Grand Prix</td><td>2019-03-17T05:10:00Z</td><td>2025-02-01T17:43:14.85Z</td></tr><tr><td>1011</td><td>2019</td><td>2</td><td>3</td><td>Bahrain Grand Prix</td><td>2019-03-31T15:10:00Z</td><td>2025-02-01T17:43:14.85Z</td></tr><tr><td>1012</td><td>2019</td><td>3</td><td>17</td><td>Chinese Grand Prix</td><td>2019-04-14T06:10:00Z</td><td>2025-02-01T17:43:14.85Z</td></tr><tr><td>1013</td><td>2019</td><td>4</td><td>73</td><td>Azerbaijan Grand Prix</td><td>2019-04-28T12:10:00Z</td><td>2025-02-01T17:43:14.85Z</td></tr><tr><td>1014</td><td>2019</td><td>5</td><td>4</td><td>Spanish Grand Prix</td><td>2019-05-12T13:10:00Z</td><td>2025-02-01T17:43:14.85Z</td></tr><tr><td>1015</td><td>2019</td><td>6</td><td>6</td><td>Monaco Grand Prix</td><td>2019-05-26T13:10:00Z</td><td>2025-02-01T17:43:14.85Z</td></tr><tr><td>1016</td><td>2019</td><td>7</td><td>7</td><td>Canadian Grand Prix</td><td>2019-06-09T18:10:00Z</td><td>2025-02-01T17:43:14.85Z</td></tr><tr><td>1017</td><td>2019</td><td>8</td><td>34</td><td>French Grand Prix</td><td>2019-06-23T13:10:00Z</td><td>2025-02-01T17:43:14.85Z</td></tr><tr><td>1018</td><td>2019</td><td>9</td><td>70</td><td>Austrian Grand Prix</td><td>2019-06-30T13:10:00Z</td><td>2025-02-01T17:43:14.85Z</td></tr><tr><td>1019</td><td>2019</td><td>10</td><td>9</td><td>British Grand Prix</td><td>2019-07-14T13:10:00Z</td><td>2025-02-01T17:43:14.85Z</td></tr><tr><td>1020</td><td>2019</td><td>11</td><td>10</td><td>German Grand Prix</td><td>2019-07-28T13:10:00Z</td><td>2025-02-01T17:43:14.85Z</td></tr><tr><td>1021</td><td>2019</td><td>12</td><td>11</td><td>Hungarian Grand Prix</td><td>2019-08-04T13:10:00Z</td><td>2025-02-01T17:43:14.85Z</td></tr><tr><td>1022</td><td>2019</td><td>13</td><td>13</td><td>Belgian Grand Prix</td><td>2019-09-01T13:10:00Z</td><td>2025-02-01T17:43:14.85Z</td></tr><tr><td>1023</td><td>2019</td><td>14</td><td>14</td><td>Italian Grand Prix</td><td>2019-09-08T13:10:00Z</td><td>2025-02-01T17:43:14.85Z</td></tr><tr><td>1024</td><td>2019</td><td>15</td><td>15</td><td>Singapore Grand Prix</td><td>2019-09-22T12:10:00Z</td><td>2025-02-01T17:43:14.85Z</td></tr><tr><td>1025</td><td>2019</td><td>16</td><td>71</td><td>Russian Grand Prix</td><td>2019-09-29T11:10:00Z</td><td>2025-02-01T17:43:14.85Z</td></tr><tr><td>1026</td><td>2019</td><td>17</td><td>22</td><td>Japanese Grand Prix</td><td>2019-10-13T05:10:00Z</td><td>2025-02-01T17:43:14.85Z</td></tr><tr><td>1027</td><td>2019</td><td>18</td><td>32</td><td>Mexican Grand Prix</td><td>2019-10-27T19:10:00Z</td><td>2025-02-01T17:43:14.85Z</td></tr><tr><td>1028</td><td>2019</td><td>19</td><td>69</td><td>United States Grand Prix</td><td>2019-11-03T19:10:00Z</td><td>2025-02-01T17:43:14.85Z</td></tr><tr><td>1029</td><td>2019</td><td>20</td><td>18</td><td>Brazilian Grand Prix</td><td>2019-11-17T17:10:00Z</td><td>2025-02-01T17:43:14.85Z</td></tr><tr><td>1030</td><td>2019</td><td>21</td><td>24</td><td>Abu Dhabi Grand Prix</td><td>2019-12-01T13:10:00Z</td><td>2025-02-01T17:43:14.85Z</td></tr><tr><td>1031</td><td>2020</td><td>1</td><td>70</td><td>Austrian Grand Prix</td><td>2020-07-05T13:10:00Z</td><td>2025-02-01T17:43:14.85Z</td></tr><tr><td>1032</td><td>2020</td><td>2</td><td>70</td><td>Styrian Grand Prix</td><td>2020-07-12T13:10:00Z</td><td>2025-02-01T17:43:14.85Z</td></tr><tr><td>1033</td><td>2020</td><td>3</td><td>11</td><td>Hungarian Grand Prix</td><td>2020-07-19T13:10:00Z</td><td>2025-02-01T17:43:14.85Z</td></tr><tr><td>1034</td><td>2020</td><td>4</td><td>9</td><td>British Grand Prix</td><td>2020-08-02T13:10:00Z</td><td>2025-02-01T17:43:14.85Z</td></tr><tr><td>1035</td><td>2020</td><td>5</td><td>9</td><td>70th Anniversary Grand Prix</td><td>2020-08-09T13:10:00Z</td><td>2025-02-01T17:43:14.85Z</td></tr><tr><td>1036</td><td>2020</td><td>6</td><td>4</td><td>Spanish Grand Prix</td><td>2020-08-16T13:10:00Z</td><td>2025-02-01T17:43:14.85Z</td></tr><tr><td>1037</td><td>2020</td><td>7</td><td>13</td><td>Belgian Grand Prix</td><td>2020-08-30T13:10:00Z</td><td>2025-02-01T17:43:14.85Z</td></tr><tr><td>1038</td><td>2020</td><td>8</td><td>14</td><td>Italian Grand Prix</td><td>2020-09-06T13:10:00Z</td><td>2025-02-01T17:43:14.85Z</td></tr><tr><td>1039</td><td>2020</td><td>9</td><td>76</td><td>Tuscan Grand Prix</td><td>2020-09-13T13:10:00Z</td><td>2025-02-01T17:43:14.85Z</td></tr><tr><td>1040</td><td>2020</td><td>10</td><td>71</td><td>Russian Grand Prix</td><td>2020-09-27T11:10:00Z</td><td>2025-02-01T17:43:14.85Z</td></tr><tr><td>1041</td><td>2020</td><td>11</td><td>20</td><td>Eifel Grand Prix</td><td>2020-10-11T13:10:00Z</td><td>2025-02-01T17:43:14.85Z</td></tr><tr><td>1042</td><td>2020</td><td>12</td><td>75</td><td>Portuguese Grand Prix</td><td>2020-10-25T12:10:00Z</td><td>2025-02-01T17:43:14.85Z</td></tr><tr><td>1043</td><td>2020</td><td>13</td><td>21</td><td>Emilia Romagna Grand Prix</td><td>2020-11-01T12:10:00Z</td><td>2025-02-01T17:43:14.85Z</td></tr><tr><td>1044</td><td>2020</td><td>14</td><td>5</td><td>Turkish Grand Prix</td><td>2020-11-15T10:10:00Z</td><td>2025-02-01T17:43:14.85Z</td></tr><tr><td>1045</td><td>2020</td><td>15</td><td>3</td><td>Bahrain Grand Prix</td><td>2020-11-29T14:10:00Z</td><td>2025-02-01T17:43:14.85Z</td></tr><tr><td>1046</td><td>2020</td><td>16</td><td>3</td><td>Sakhir Grand Prix</td><td>2020-12-06T17:10:00Z</td><td>2025-02-01T17:43:14.85Z</td></tr><tr><td>1047</td><td>2020</td><td>17</td><td>24</td><td>Abu Dhabi Grand Prix</td><td>2020-12-13T13:10:00Z</td><td>2025-02-01T17:43:14.85Z</td></tr><tr><td>1053</td><td>2021</td><td>2</td><td>21</td><td>Emilia Romagna Grand Prix</td><td>2021-04-18T13:00:00Z</td><td>2025-02-01T17:43:14.85Z</td></tr><tr><td>1052</td><td>2021</td><td>1</td><td>3</td><td>Bahrain Grand Prix</td><td>2021-03-28T15:00:00Z</td><td>2025-02-01T17:43:14.85Z</td></tr><tr><td>1051</td><td>2021</td><td>21</td><td>1</td><td>Australian Grand Prix</td><td>2021-11-21T06:00:00Z</td><td>2025-02-01T17:43:14.85Z</td></tr><tr><td>1054</td><td>2021</td><td>3</td><td>20</td><td>TBC</td><td>null</td><td>2025-02-01T17:43:14.85Z</td></tr><tr><td>1055</td><td>2021</td><td>4</td><td>4</td><td>Spanish Grand Prix</td><td>2021-05-09T13:00:00Z</td><td>2025-02-01T17:43:14.85Z</td></tr><tr><td>1056</td><td>2021</td><td>5</td><td>6</td><td>Monaco Grand Prix</td><td>2021-05-23T13:00:00Z</td><td>2025-02-01T17:43:14.85Z</td></tr><tr><td>1057</td><td>2021</td><td>6</td><td>73</td><td>Azerbaijan Grand Prix</td><td>2021-06-06T12:00:00Z</td><td>2025-02-01T17:43:14.85Z</td></tr><tr><td>1058</td><td>2021</td><td>7</td><td>7</td><td>Canadian Grand Prix</td><td>2021-06-13T18:00:00Z</td><td>2025-02-01T17:43:14.85Z</td></tr><tr><td>1059</td><td>2021</td><td>8</td><td>34</td><td>French Grand Prix</td><td>2021-06-27T13:00:00Z</td><td>2025-02-01T17:43:14.85Z</td></tr><tr><td>1060</td><td>2021</td><td>9</td><td>70</td><td>Austrian Grand Prix</td><td>2021-07-04T13:00:00Z</td><td>2025-02-01T17:43:14.85Z</td></tr><tr><td>1061</td><td>2021</td><td>10</td><td>9</td><td>British Grand Prix</td><td>2021-07-18T14:00:00Z</td><td>2025-02-01T17:43:14.85Z</td></tr><tr><td>1062</td><td>2021</td><td>11</td><td>11</td><td>Hungarian Grand Prix</td><td>2021-08-01T13:00:00Z</td><td>2025-02-01T17:43:14.85Z</td></tr><tr><td>1063</td><td>2021</td><td>12</td><td>13</td><td>Belgian Grand Prix</td><td>2021-08-29T13:00:00Z</td><td>2025-02-01T17:43:14.85Z</td></tr><tr><td>1064</td><td>2021</td><td>13</td><td>39</td><td>Dutch Grand Prix</td><td>2021-09-05T13:00:00Z</td><td>2025-02-01T17:43:14.85Z</td></tr><tr><td>1065</td><td>2021</td><td>14</td><td>14</td><td>Italian Grand Prix</td><td>2021-09-12T13:00:00Z</td><td>2025-02-01T17:43:14.85Z</td></tr><tr><td>1066</td><td>2021</td><td>15</td><td>71</td><td>Russian Grand Prix</td><td>2021-09-26T12:00:00Z</td><td>2025-02-01T17:43:14.85Z</td></tr><tr><td>1067</td><td>2021</td><td>16</td><td>15</td><td>Singapore Grand Prix</td><td>2021-10-03T12:00:00Z</td><td>2025-02-01T17:43:14.85Z</td></tr><tr><td>1068</td><td>2021</td><td>17</td><td>22</td><td>Japanese Grand Prix</td><td>2021-10-10T05:00:00Z</td><td>2025-02-01T17:43:14.85Z</td></tr><tr><td>1069</td><td>2021</td><td>18</td><td>69</td><td>United States Grand Prix</td><td>2021-10-24T19:00:00Z</td><td>2025-02-01T17:43:14.85Z</td></tr><tr><td>1070</td><td>2021</td><td>19</td><td>32</td><td>Mexico City Grand Prix</td><td>2021-10-31T19:00:00Z</td><td>2025-02-01T17:43:14.85Z</td></tr><tr><td>1071</td><td>2021</td><td>20</td><td>18</td><td>Brazilian Grand Prix</td><td>2021-11-07T17:00:00Z</td><td>2025-02-01T17:43:14.85Z</td></tr><tr><td>1072</td><td>2021</td><td>22</td><td>77</td><td>Saudi Arabian Grand Prix</td><td>2021-12-05T16:00:00Z</td><td>2025-02-01T17:43:14.85Z</td></tr><tr><td>1073</td><td>2021</td><td>23</td><td>24</td><td>Abu Dhabi Grand Prix</td><td>2021-12-12T13:00:00Z</td><td>2025-02-01T17:43:14.85Z</td></tr></tbody></table></div>"
      ]
     },
     "metadata": {
      "application/vnd.databricks.v1+output": {
       "addedWidgets": {},
       "aggData": [],
       "aggError": "",
       "aggOverflow": false,
       "aggSchema": [],
       "aggSeriesLimitReached": false,
       "aggType": "",
       "arguments": {},
       "columnCustomDisplayInfos": {},
       "data": [
        [
         1,
         2009,
         1,
         1,
         "Australian Grand Prix",
         "2009-03-29T06:00:00Z",
         "2025-02-01T17:43:14.85Z"
        ],
        [
         2,
         2009,
         2,
         2,
         "Malaysian Grand Prix",
         "2009-04-05T09:00:00Z",
         "2025-02-01T17:43:14.85Z"
        ],
        [
         3,
         2009,
         3,
         17,
         "Chinese Grand Prix",
         "2009-04-19T07:00:00Z",
         "2025-02-01T17:43:14.85Z"
        ],
        [
         4,
         2009,
         4,
         3,
         "Bahrain Grand Prix",
         "2009-04-26T12:00:00Z",
         "2025-02-01T17:43:14.85Z"
        ],
        [
         5,
         2009,
         5,
         4,
         "Spanish Grand Prix",
         "2009-05-10T12:00:00Z",
         "2025-02-01T17:43:14.85Z"
        ],
        [
         6,
         2009,
         6,
         6,
         "Monaco Grand Prix",
         "2009-05-24T12:00:00Z",
         "2025-02-01T17:43:14.85Z"
        ],
        [
         7,
         2009,
         7,
         5,
         "Turkish Grand Prix",
         "2009-06-07T12:00:00Z",
         "2025-02-01T17:43:14.85Z"
        ],
        [
         8,
         2009,
         8,
         9,
         "British Grand Prix",
         "2009-06-21T12:00:00Z",
         "2025-02-01T17:43:14.85Z"
        ],
        [
         9,
         2009,
         9,
         20,
         "German Grand Prix",
         "2009-07-12T12:00:00Z",
         "2025-02-01T17:43:14.85Z"
        ],
        [
         10,
         2009,
         10,
         11,
         "Hungarian Grand Prix",
         "2009-07-26T12:00:00Z",
         "2025-02-01T17:43:14.85Z"
        ],
        [
         11,
         2009,
         11,
         12,
         "European Grand Prix",
         "2009-08-23T12:00:00Z",
         "2025-02-01T17:43:14.85Z"
        ],
        [
         12,
         2009,
         12,
         13,
         "Belgian Grand Prix",
         "2009-08-30T12:00:00Z",
         "2025-02-01T17:43:14.85Z"
        ],
        [
         13,
         2009,
         13,
         14,
         "Italian Grand Prix",
         "2009-09-13T12:00:00Z",
         "2025-02-01T17:43:14.85Z"
        ],
        [
         14,
         2009,
         14,
         15,
         "Singapore Grand Prix",
         "2009-09-27T12:00:00Z",
         "2025-02-01T17:43:14.85Z"
        ],
        [
         15,
         2009,
         15,
         22,
         "Japanese Grand Prix",
         "2009-10-04T05:00:00Z",
         "2025-02-01T17:43:14.85Z"
        ],
        [
         16,
         2009,
         16,
         18,
         "Brazilian Grand Prix",
         "2009-10-18T16:00:00Z",
         "2025-02-01T17:43:14.85Z"
        ],
        [
         17,
         2009,
         17,
         24,
         "Abu Dhabi Grand Prix",
         "2009-11-01T11:00:00Z",
         "2025-02-01T17:43:14.85Z"
        ],
        [
         18,
         2008,
         1,
         1,
         "Australian Grand Prix",
         "2008-03-16T04:30:00Z",
         "2025-02-01T17:43:14.85Z"
        ],
        [
         19,
         2008,
         2,
         2,
         "Malaysian Grand Prix",
         "2008-03-23T07:00:00Z",
         "2025-02-01T17:43:14.85Z"
        ],
        [
         20,
         2008,
         3,
         3,
         "Bahrain Grand Prix",
         "2008-04-06T11:30:00Z",
         "2025-02-01T17:43:14.85Z"
        ],
        [
         21,
         2008,
         4,
         4,
         "Spanish Grand Prix",
         "2008-04-27T12:00:00Z",
         "2025-02-01T17:43:14.85Z"
        ],
        [
         22,
         2008,
         5,
         5,
         "Turkish Grand Prix",
         "2008-05-11T12:00:00Z",
         "2025-02-01T17:43:14.85Z"
        ],
        [
         23,
         2008,
         6,
         6,
         "Monaco Grand Prix",
         "2008-05-25T12:00:00Z",
         "2025-02-01T17:43:14.85Z"
        ],
        [
         24,
         2008,
         7,
         7,
         "Canadian Grand Prix",
         "2008-06-08T17:00:00Z",
         "2025-02-01T17:43:14.85Z"
        ],
        [
         25,
         2008,
         8,
         8,
         "French Grand Prix",
         "2008-06-22T12:00:00Z",
         "2025-02-01T17:43:14.85Z"
        ],
        [
         26,
         2008,
         9,
         9,
         "British Grand Prix",
         "2008-07-06T12:00:00Z",
         "2025-02-01T17:43:14.85Z"
        ],
        [
         27,
         2008,
         10,
         10,
         "German Grand Prix",
         "2008-07-20T12:00:00Z",
         "2025-02-01T17:43:14.85Z"
        ],
        [
         28,
         2008,
         11,
         11,
         "Hungarian Grand Prix",
         "2008-08-03T12:00:00Z",
         "2025-02-01T17:43:14.85Z"
        ],
        [
         29,
         2008,
         12,
         12,
         "European Grand Prix",
         "2008-08-24T12:00:00Z",
         "2025-02-01T17:43:14.85Z"
        ],
        [
         30,
         2008,
         13,
         13,
         "Belgian Grand Prix",
         "2008-09-07T12:00:00Z",
         "2025-02-01T17:43:14.85Z"
        ],
        [
         31,
         2008,
         14,
         14,
         "Italian Grand Prix",
         "2008-09-14T12:00:00Z",
         "2025-02-01T17:43:14.85Z"
        ],
        [
         32,
         2008,
         15,
         15,
         "Singapore Grand Prix",
         "2008-09-28T12:00:00Z",
         "2025-02-01T17:43:14.85Z"
        ],
        [
         33,
         2008,
         16,
         16,
         "Japanese Grand Prix",
         "2008-10-12T04:30:00Z",
         "2025-02-01T17:43:14.85Z"
        ],
        [
         34,
         2008,
         17,
         17,
         "Chinese Grand Prix",
         "2008-10-19T07:00:00Z",
         "2025-02-01T17:43:14.85Z"
        ],
        [
         35,
         2008,
         18,
         18,
         "Brazilian Grand Prix",
         "2008-11-02T17:00:00Z",
         "2025-02-01T17:43:14.85Z"
        ],
        [
         36,
         2007,
         1,
         1,
         "Australian Grand Prix",
         "2007-03-18T03:00:00Z",
         "2025-02-01T17:43:14.85Z"
        ],
        [
         37,
         2007,
         2,
         2,
         "Malaysian Grand Prix",
         "2007-04-08T07:00:00Z",
         "2025-02-01T17:43:14.85Z"
        ],
        [
         38,
         2007,
         3,
         3,
         "Bahrain Grand Prix",
         "2007-04-15T11:30:00Z",
         "2025-02-01T17:43:14.85Z"
        ],
        [
         39,
         2007,
         4,
         4,
         "Spanish Grand Prix",
         "2007-05-13T12:00:00Z",
         "2025-02-01T17:43:14.85Z"
        ],
        [
         40,
         2007,
         5,
         6,
         "Monaco Grand Prix",
         "2007-05-27T12:00:00Z",
         "2025-02-01T17:43:14.85Z"
        ],
        [
         41,
         2007,
         6,
         7,
         "Canadian Grand Prix",
         "2007-06-10T17:00:00Z",
         "2025-02-01T17:43:14.85Z"
        ],
        [
         42,
         2007,
         7,
         19,
         "United States Grand Prix",
         "2007-06-17T17:00:00Z",
         "2025-02-01T17:43:14.85Z"
        ],
        [
         43,
         2007,
         8,
         8,
         "French Grand Prix",
         "2007-07-01T12:00:00Z",
         "2025-02-01T17:43:14.85Z"
        ],
        [
         44,
         2007,
         9,
         9,
         "British Grand Prix",
         "2007-07-08T12:00:00Z",
         "2025-02-01T17:43:14.85Z"
        ],
        [
         45,
         2007,
         10,
         20,
         "European Grand Prix",
         "2007-07-22T12:00:00Z",
         "2025-02-01T17:43:14.85Z"
        ],
        [
         46,
         2007,
         11,
         11,
         "Hungarian Grand Prix",
         "2007-08-05T12:00:00Z",
         "2025-02-01T17:43:14.85Z"
        ],
        [
         47,
         2007,
         12,
         5,
         "Turkish Grand Prix",
         "2007-08-26T12:00:00Z",
         "2025-02-01T17:43:14.85Z"
        ],
        [
         48,
         2007,
         13,
         14,
         "Italian Grand Prix",
         "2007-09-09T12:00:00Z",
         "2025-02-01T17:43:14.85Z"
        ],
        [
         49,
         2007,
         14,
         13,
         "Belgian Grand Prix",
         "2007-09-16T12:00:00Z",
         "2025-02-01T17:43:14.85Z"
        ],
        [
         50,
         2007,
         15,
         16,
         "Japanese Grand Prix",
         "2007-09-30T04:30:00Z",
         "2025-02-01T17:43:14.85Z"
        ],
        [
         51,
         2007,
         16,
         17,
         "Chinese Grand Prix",
         "2007-10-07T06:00:00Z",
         "2025-02-01T17:43:14.85Z"
        ],
        [
         52,
         2007,
         17,
         18,
         "Brazilian Grand Prix",
         "2007-10-21T16:00:00Z",
         "2025-02-01T17:43:14.85Z"
        ],
        [
         53,
         2006,
         1,
         3,
         "Bahrain Grand Prix",
         "2006-03-12T14:30:00Z",
         "2025-02-01T17:43:14.85Z"
        ],
        [
         54,
         2006,
         2,
         2,
         "Malaysian Grand Prix",
         "2006-03-19T15:00:00Z",
         "2025-02-01T17:43:14.85Z"
        ],
        [
         55,
         2006,
         3,
         1,
         "Australian Grand Prix",
         "2006-04-02T14:00:00Z",
         "2025-02-01T17:43:14.85Z"
        ],
        [
         56,
         2006,
         4,
         21,
         "San Marino Grand Prix",
         "2006-04-23T14:00:00Z",
         "2025-02-01T17:43:14.85Z"
        ],
        [
         57,
         2006,
         5,
         20,
         "European Grand Prix",
         "2006-05-07T14:00:00Z",
         "2025-02-01T17:43:14.85Z"
        ],
        [
         58,
         2006,
         6,
         4,
         "Spanish Grand Prix",
         "2006-05-14T14:00:00Z",
         "2025-02-01T17:43:14.85Z"
        ],
        [
         59,
         2006,
         7,
         6,
         "Monaco Grand Prix",
         "2006-05-28T14:00:00Z",
         "2025-02-01T17:43:14.85Z"
        ],
        [
         60,
         2006,
         8,
         9,
         "British Grand Prix",
         "2006-06-11T12:00:00Z",
         "2025-02-01T17:43:14.85Z"
        ],
        [
         61,
         2006,
         9,
         7,
         "Canadian Grand Prix",
         "2006-06-25T13:00:00Z",
         "2025-02-01T17:43:14.85Z"
        ],
        [
         62,
         2006,
         10,
         19,
         "United States Grand Prix",
         "2006-07-02T14:00:00Z",
         "2025-02-01T17:43:14.85Z"
        ],
        [
         63,
         2006,
         11,
         8,
         "French Grand Prix",
         "2006-07-16T14:00:00Z",
         "2025-02-01T17:43:14.85Z"
        ],
        [
         64,
         2006,
         12,
         10,
         "German Grand Prix",
         "2006-07-30T14:00:00Z",
         "2025-02-01T17:43:14.85Z"
        ],
        [
         65,
         2006,
         13,
         11,
         "Hungarian Grand Prix",
         "2006-08-06T14:00:00Z",
         "2025-02-01T17:43:14.85Z"
        ],
        [
         66,
         2006,
         14,
         5,
         "Turkish Grand Prix",
         "2006-08-27T15:00:00Z",
         "2025-02-01T17:43:14.85Z"
        ],
        [
         67,
         2006,
         15,
         14,
         "Italian Grand Prix",
         "2006-09-10T14:00:00Z",
         "2025-02-01T17:43:14.85Z"
        ],
        [
         68,
         2006,
         16,
         17,
         "Chinese Grand Prix",
         "2006-10-01T14:00:00Z",
         "2025-02-01T17:43:14.85Z"
        ],
        [
         69,
         2006,
         17,
         22,
         "Japanese Grand Prix",
         "2006-10-08T14:00:00Z",
         "2025-02-01T17:43:14.85Z"
        ],
        [
         70,
         2006,
         18,
         18,
         "Brazilian Grand Prix",
         "2006-10-22T14:00:00Z",
         "2025-02-01T17:43:14.85Z"
        ],
        [
         71,
         2005,
         1,
         1,
         "Australian Grand Prix",
         "2005-03-06T14:00:00Z",
         "2025-02-01T17:43:14.85Z"
        ],
        [
         72,
         2005,
         2,
         2,
         "Malaysian Grand Prix",
         "2005-03-20T15:00:00Z",
         "2025-02-01T17:43:14.85Z"
        ],
        [
         73,
         2005,
         3,
         3,
         "Bahrain Grand Prix",
         "2005-04-03T14:30:00Z",
         "2025-02-01T17:43:14.85Z"
        ],
        [
         74,
         2005,
         4,
         21,
         "San Marino Grand Prix",
         "2005-04-24T14:00:00Z",
         "2025-02-01T17:43:14.85Z"
        ],
        [
         75,
         2005,
         5,
         4,
         "Spanish Grand Prix",
         "2005-05-08T14:00:00Z",
         "2025-02-01T17:43:14.85Z"
        ],
        [
         76,
         2005,
         6,
         6,
         "Monaco Grand Prix",
         "2005-05-22T14:00:00Z",
         "2025-02-01T17:43:14.85Z"
        ],
        [
         77,
         2005,
         7,
         20,
         "European Grand Prix",
         "2005-05-29T14:00:00Z",
         "2025-02-01T17:43:14.85Z"
        ],
        [
         78,
         2005,
         8,
         7,
         "Canadian Grand Prix",
         "2005-06-12T13:00:00Z",
         "2025-02-01T17:43:14.85Z"
        ],
        [
         79,
         2005,
         9,
         19,
         "United States Grand Prix",
         "2005-06-19T14:00:00Z",
         "2025-02-01T17:43:14.85Z"
        ],
        [
         80,
         2005,
         10,
         8,
         "French Grand Prix",
         "2005-07-03T14:00:00Z",
         "2025-02-01T17:43:14.85Z"
        ],
        [
         81,
         2005,
         11,
         9,
         "British Grand Prix",
         "2005-07-10T14:00:00Z",
         "2025-02-01T17:43:14.85Z"
        ],
        [
         82,
         2005,
         12,
         10,
         "German Grand Prix",
         "2005-07-24T14:00:00Z",
         "2025-02-01T17:43:14.85Z"
        ],
        [
         83,
         2005,
         13,
         11,
         "Hungarian Grand Prix",
         "2005-07-31T14:00:00Z",
         "2025-02-01T17:43:14.85Z"
        ],
        [
         84,
         2005,
         14,
         5,
         "Turkish Grand Prix",
         "2005-08-21T15:00:00Z",
         "2025-02-01T17:43:14.85Z"
        ],
        [
         85,
         2005,
         15,
         14,
         "Italian Grand Prix",
         "2005-09-04T14:00:00Z",
         "2025-02-01T17:43:14.85Z"
        ],
        [
         86,
         2005,
         16,
         13,
         "Belgian Grand Prix",
         "2005-09-11T14:00:00Z",
         "2025-02-01T17:43:14.85Z"
        ],
        [
         87,
         2005,
         17,
         18,
         "Brazilian Grand Prix",
         "2005-09-25T14:00:00Z",
         "2025-02-01T17:43:14.85Z"
        ],
        [
         88,
         2005,
         18,
         22,
         "Japanese Grand Prix",
         "2005-10-09T14:00:00Z",
         "2025-02-01T17:43:14.85Z"
        ],
        [
         89,
         2005,
         19,
         17,
         "Chinese Grand Prix",
         "2005-10-16T14:00:00Z",
         "2025-02-01T17:43:14.85Z"
        ],
        [
         90,
         2004,
         1,
         1,
         "Australian Grand Prix",
         null,
         "2025-02-01T17:43:14.85Z"
        ],
        [
         91,
         2004,
         2,
         2,
         "Malaysian Grand Prix",
         null,
         "2025-02-01T17:43:14.85Z"
        ],
        [
         92,
         2004,
         3,
         3,
         "Bahrain Grand Prix",
         null,
         "2025-02-01T17:43:14.85Z"
        ],
        [
         93,
         2004,
         4,
         21,
         "San Marino Grand Prix",
         null,
         "2025-02-01T17:43:14.85Z"
        ],
        [
         94,
         2004,
         5,
         4,
         "Spanish Grand Prix",
         null,
         "2025-02-01T17:43:14.85Z"
        ],
        [
         95,
         2004,
         6,
         6,
         "Monaco Grand Prix",
         null,
         "2025-02-01T17:43:14.85Z"
        ],
        [
         96,
         2004,
         7,
         20,
         "European Grand Prix",
         null,
         "2025-02-01T17:43:14.85Z"
        ],
        [
         97,
         2004,
         8,
         7,
         "Canadian Grand Prix",
         null,
         "2025-02-01T17:43:14.85Z"
        ],
        [
         98,
         2004,
         9,
         19,
         "United States Grand Prix",
         null,
         "2025-02-01T17:43:14.85Z"
        ],
        [
         99,
         2004,
         10,
         8,
         "French Grand Prix",
         null,
         "2025-02-01T17:43:14.85Z"
        ],
        [
         100,
         2004,
         11,
         9,
         "British Grand Prix",
         null,
         "2025-02-01T17:43:14.85Z"
        ],
        [
         101,
         2004,
         12,
         10,
         "German Grand Prix",
         null,
         "2025-02-01T17:43:14.85Z"
        ],
        [
         102,
         2004,
         13,
         11,
         "Hungarian Grand Prix",
         null,
         "2025-02-01T17:43:14.85Z"
        ],
        [
         103,
         2004,
         14,
         13,
         "Belgian Grand Prix",
         null,
         "2025-02-01T17:43:14.85Z"
        ],
        [
         104,
         2004,
         15,
         14,
         "Italian Grand Prix",
         null,
         "2025-02-01T17:43:14.85Z"
        ],
        [
         105,
         2004,
         16,
         17,
         "Chinese Grand Prix",
         null,
         "2025-02-01T17:43:14.85Z"
        ],
        [
         106,
         2004,
         17,
         22,
         "Japanese Grand Prix",
         null,
         "2025-02-01T17:43:14.85Z"
        ],
        [
         107,
         2004,
         18,
         18,
         "Brazilian Grand Prix",
         null,
         "2025-02-01T17:43:14.85Z"
        ],
        [
         108,
         2003,
         1,
         1,
         "Australian Grand Prix",
         null,
         "2025-02-01T17:43:14.85Z"
        ],
        [
         109,
         2003,
         2,
         2,
         "Malaysian Grand Prix",
         null,
         "2025-02-01T17:43:14.85Z"
        ],
        [
         110,
         2003,
         3,
         18,
         "Brazilian Grand Prix",
         null,
         "2025-02-01T17:43:14.85Z"
        ],
        [
         111,
         2003,
         4,
         21,
         "San Marino Grand Prix",
         null,
         "2025-02-01T17:43:14.85Z"
        ],
        [
         112,
         2003,
         5,
         4,
         "Spanish Grand Prix",
         null,
         "2025-02-01T17:43:14.85Z"
        ],
        [
         113,
         2003,
         6,
         23,
         "Austrian Grand Prix",
         null,
         "2025-02-01T17:43:14.85Z"
        ],
        [
         114,
         2003,
         7,
         6,
         "Monaco Grand Prix",
         null,
         "2025-02-01T17:43:14.85Z"
        ],
        [
         115,
         2003,
         8,
         7,
         "Canadian Grand Prix",
         null,
         "2025-02-01T17:43:14.85Z"
        ],
        [
         116,
         2003,
         9,
         20,
         "European Grand Prix",
         null,
         "2025-02-01T17:43:14.85Z"
        ],
        [
         117,
         2003,
         10,
         8,
         "French Grand Prix",
         null,
         "2025-02-01T17:43:14.85Z"
        ],
        [
         118,
         2003,
         11,
         9,
         "British Grand Prix",
         null,
         "2025-02-01T17:43:14.85Z"
        ],
        [
         119,
         2003,
         12,
         10,
         "German Grand Prix",
         null,
         "2025-02-01T17:43:14.85Z"
        ],
        [
         120,
         2003,
         13,
         11,
         "Hungarian Grand Prix",
         null,
         "2025-02-01T17:43:14.85Z"
        ],
        [
         121,
         2003,
         14,
         14,
         "Italian Grand Prix",
         null,
         "2025-02-01T17:43:14.85Z"
        ],
        [
         122,
         2003,
         15,
         19,
         "United States Grand Prix",
         null,
         "2025-02-01T17:43:14.85Z"
        ],
        [
         123,
         2003,
         16,
         22,
         "Japanese Grand Prix",
         null,
         "2025-02-01T17:43:14.85Z"
        ],
        [
         124,
         2002,
         1,
         1,
         "Australian Grand Prix",
         null,
         "2025-02-01T17:43:14.85Z"
        ],
        [
         125,
         2002,
         2,
         2,
         "Malaysian Grand Prix",
         null,
         "2025-02-01T17:43:14.85Z"
        ],
        [
         126,
         2002,
         3,
         18,
         "Brazilian Grand Prix",
         null,
         "2025-02-01T17:43:14.85Z"
        ],
        [
         127,
         2002,
         4,
         21,
         "San Marino Grand Prix",
         null,
         "2025-02-01T17:43:14.85Z"
        ],
        [
         128,
         2002,
         5,
         4,
         "Spanish Grand Prix",
         null,
         "2025-02-01T17:43:14.85Z"
        ],
        [
         129,
         2002,
         6,
         23,
         "Austrian Grand Prix",
         null,
         "2025-02-01T17:43:14.85Z"
        ],
        [
         130,
         2002,
         7,
         6,
         "Monaco Grand Prix",
         null,
         "2025-02-01T17:43:14.85Z"
        ],
        [
         131,
         2002,
         8,
         7,
         "Canadian Grand Prix",
         null,
         "2025-02-01T17:43:14.85Z"
        ],
        [
         132,
         2002,
         9,
         20,
         "European Grand Prix",
         null,
         "2025-02-01T17:43:14.85Z"
        ],
        [
         133,
         2002,
         10,
         9,
         "British Grand Prix",
         null,
         "2025-02-01T17:43:14.85Z"
        ],
        [
         134,
         2002,
         11,
         8,
         "French Grand Prix",
         null,
         "2025-02-01T17:43:14.85Z"
        ],
        [
         135,
         2002,
         12,
         10,
         "German Grand Prix",
         null,
         "2025-02-01T17:43:14.85Z"
        ],
        [
         136,
         2002,
         13,
         11,
         "Hungarian Grand Prix",
         null,
         "2025-02-01T17:43:14.85Z"
        ],
        [
         137,
         2002,
         14,
         13,
         "Belgian Grand Prix",
         null,
         "2025-02-01T17:43:14.85Z"
        ],
        [
         138,
         2002,
         15,
         14,
         "Italian Grand Prix",
         null,
         "2025-02-01T17:43:14.85Z"
        ],
        [
         139,
         2002,
         16,
         19,
         "United States Grand Prix",
         null,
         "2025-02-01T17:43:14.85Z"
        ],
        [
         140,
         2002,
         17,
         22,
         "Japanese Grand Prix",
         null,
         "2025-02-01T17:43:14.85Z"
        ],
        [
         141,
         2001,
         1,
         1,
         "Australian Grand Prix",
         null,
         "2025-02-01T17:43:14.85Z"
        ],
        [
         142,
         2001,
         2,
         2,
         "Malaysian Grand Prix",
         null,
         "2025-02-01T17:43:14.85Z"
        ],
        [
         143,
         2001,
         3,
         18,
         "Brazilian Grand Prix",
         null,
         "2025-02-01T17:43:14.85Z"
        ],
        [
         144,
         2001,
         4,
         21,
         "San Marino Grand Prix",
         null,
         "2025-02-01T17:43:14.85Z"
        ],
        [
         145,
         2001,
         5,
         4,
         "Spanish Grand Prix",
         null,
         "2025-02-01T17:43:14.85Z"
        ],
        [
         146,
         2001,
         6,
         23,
         "Austrian Grand Prix",
         null,
         "2025-02-01T17:43:14.85Z"
        ],
        [
         147,
         2001,
         7,
         6,
         "Monaco Grand Prix",
         null,
         "2025-02-01T17:43:14.85Z"
        ],
        [
         148,
         2001,
         8,
         7,
         "Canadian Grand Prix",
         null,
         "2025-02-01T17:43:14.85Z"
        ],
        [
         149,
         2001,
         9,
         20,
         "European Grand Prix",
         null,
         "2025-02-01T17:43:14.85Z"
        ],
        [
         150,
         2001,
         10,
         8,
         "French Grand Prix",
         null,
         "2025-02-01T17:43:14.85Z"
        ],
        [
         151,
         2001,
         11,
         9,
         "British Grand Prix",
         null,
         "2025-02-01T17:43:14.85Z"
        ],
        [
         152,
         2001,
         12,
         10,
         "German Grand Prix",
         null,
         "2025-02-01T17:43:14.85Z"
        ],
        [
         153,
         2001,
         13,
         11,
         "Hungarian Grand Prix",
         null,
         "2025-02-01T17:43:14.85Z"
        ],
        [
         154,
         2001,
         14,
         13,
         "Belgian Grand Prix",
         null,
         "2025-02-01T17:43:14.85Z"
        ],
        [
         155,
         2001,
         15,
         14,
         "Italian Grand Prix",
         null,
         "2025-02-01T17:43:14.85Z"
        ],
        [
         156,
         2001,
         16,
         19,
         "United States Grand Prix",
         null,
         "2025-02-01T17:43:14.85Z"
        ],
        [
         157,
         2001,
         17,
         22,
         "Japanese Grand Prix",
         null,
         "2025-02-01T17:43:14.85Z"
        ],
        [
         158,
         2000,
         1,
         1,
         "Australian Grand Prix",
         null,
         "2025-02-01T17:43:14.85Z"
        ],
        [
         159,
         2000,
         2,
         18,
         "Brazilian Grand Prix",
         null,
         "2025-02-01T17:43:14.85Z"
        ],
        [
         160,
         2000,
         3,
         21,
         "San Marino Grand Prix",
         null,
         "2025-02-01T17:43:14.85Z"
        ],
        [
         161,
         2000,
         4,
         9,
         "British Grand Prix",
         null,
         "2025-02-01T17:43:14.85Z"
        ],
        [
         162,
         2000,
         5,
         4,
         "Spanish Grand Prix",
         null,
         "2025-02-01T17:43:14.85Z"
        ],
        [
         163,
         2000,
         6,
         20,
         "European Grand Prix",
         null,
         "2025-02-01T17:43:14.85Z"
        ],
        [
         164,
         2000,
         7,
         6,
         "Monaco Grand Prix",
         null,
         "2025-02-01T17:43:14.85Z"
        ],
        [
         165,
         2000,
         8,
         7,
         "Canadian Grand Prix",
         null,
         "2025-02-01T17:43:14.85Z"
        ],
        [
         166,
         2000,
         9,
         8,
         "French Grand Prix",
         null,
         "2025-02-01T17:43:14.85Z"
        ],
        [
         167,
         2000,
         10,
         23,
         "Austrian Grand Prix",
         null,
         "2025-02-01T17:43:14.85Z"
        ],
        [
         168,
         2000,
         11,
         10,
         "German Grand Prix",
         null,
         "2025-02-01T17:43:14.85Z"
        ],
        [
         169,
         2000,
         12,
         11,
         "Hungarian Grand Prix",
         null,
         "2025-02-01T17:43:14.85Z"
        ],
        [
         170,
         2000,
         13,
         13,
         "Belgian Grand Prix",
         null,
         "2025-02-01T17:43:14.85Z"
        ],
        [
         171,
         2000,
         14,
         14,
         "Italian Grand Prix",
         null,
         "2025-02-01T17:43:14.85Z"
        ],
        [
         172,
         2000,
         15,
         19,
         "United States Grand Prix",
         null,
         "2025-02-01T17:43:14.85Z"
        ],
        [
         173,
         2000,
         16,
         22,
         "Japanese Grand Prix",
         null,
         "2025-02-01T17:43:14.85Z"
        ],
        [
         174,
         2000,
         17,
         2,
         "Malaysian Grand Prix",
         null,
         "2025-02-01T17:43:14.85Z"
        ],
        [
         175,
         1999,
         1,
         1,
         "Australian Grand Prix",
         null,
         "2025-02-01T17:43:14.85Z"
        ],
        [
         176,
         1999,
         2,
         18,
         "Brazilian Grand Prix",
         null,
         "2025-02-01T17:43:14.85Z"
        ],
        [
         177,
         1999,
         3,
         21,
         "San Marino Grand Prix",
         null,
         "2025-02-01T17:43:14.85Z"
        ],
        [
         178,
         1999,
         4,
         6,
         "Monaco Grand Prix",
         null,
         "2025-02-01T17:43:14.85Z"
        ],
        [
         179,
         1999,
         5,
         4,
         "Spanish Grand Prix",
         null,
         "2025-02-01T17:43:14.85Z"
        ],
        [
         180,
         1999,
         6,
         7,
         "Canadian Grand Prix",
         null,
         "2025-02-01T17:43:14.85Z"
        ],
        [
         181,
         1999,
         7,
         8,
         "French Grand Prix",
         null,
         "2025-02-01T17:43:14.85Z"
        ],
        [
         182,
         1999,
         8,
         9,
         "British Grand Prix",
         null,
         "2025-02-01T17:43:14.85Z"
        ],
        [
         183,
         1999,
         9,
         23,
         "Austrian Grand Prix",
         null,
         "2025-02-01T17:43:14.85Z"
        ],
        [
         184,
         1999,
         10,
         10,
         "German Grand Prix",
         null,
         "2025-02-01T17:43:14.85Z"
        ],
        [
         185,
         1999,
         11,
         11,
         "Hungarian Grand Prix",
         null,
         "2025-02-01T17:43:14.85Z"
        ],
        [
         186,
         1999,
         12,
         13,
         "Belgian Grand Prix",
         null,
         "2025-02-01T17:43:14.85Z"
        ],
        [
         187,
         1999,
         13,
         14,
         "Italian Grand Prix",
         null,
         "2025-02-01T17:43:14.85Z"
        ],
        [
         188,
         1999,
         14,
         20,
         "European Grand Prix",
         null,
         "2025-02-01T17:43:14.85Z"
        ],
        [
         189,
         1999,
         15,
         2,
         "Malaysian Grand Prix",
         null,
         "2025-02-01T17:43:14.85Z"
        ],
        [
         190,
         1999,
         16,
         22,
         "Japanese Grand Prix",
         null,
         "2025-02-01T17:43:14.85Z"
        ],
        [
         191,
         1998,
         1,
         1,
         "Australian Grand Prix",
         null,
         "2025-02-01T17:43:14.85Z"
        ],
        [
         192,
         1998,
         2,
         18,
         "Brazilian Grand Prix",
         null,
         "2025-02-01T17:43:14.85Z"
        ],
        [
         193,
         1998,
         3,
         25,
         "Argentine Grand Prix",
         null,
         "2025-02-01T17:43:14.85Z"
        ],
        [
         194,
         1998,
         4,
         21,
         "San Marino Grand Prix",
         null,
         "2025-02-01T17:43:14.85Z"
        ],
        [
         195,
         1998,
         5,
         4,
         "Spanish Grand Prix",
         null,
         "2025-02-01T17:43:14.85Z"
        ],
        [
         196,
         1998,
         6,
         6,
         "Monaco Grand Prix",
         null,
         "2025-02-01T17:43:14.85Z"
        ],
        [
         197,
         1998,
         7,
         7,
         "Canadian Grand Prix",
         null,
         "2025-02-01T17:43:14.85Z"
        ],
        [
         198,
         1998,
         8,
         8,
         "French Grand Prix",
         null,
         "2025-02-01T17:43:14.85Z"
        ],
        [
         199,
         1998,
         9,
         9,
         "British Grand Prix",
         null,
         "2025-02-01T17:43:14.85Z"
        ],
        [
         200,
         1998,
         10,
         23,
         "Austrian Grand Prix",
         null,
         "2025-02-01T17:43:14.85Z"
        ],
        [
         201,
         1998,
         11,
         10,
         "German Grand Prix",
         null,
         "2025-02-01T17:43:14.85Z"
        ],
        [
         202,
         1998,
         12,
         11,
         "Hungarian Grand Prix",
         null,
         "2025-02-01T17:43:14.85Z"
        ],
        [
         203,
         1998,
         13,
         13,
         "Belgian Grand Prix",
         null,
         "2025-02-01T17:43:14.85Z"
        ],
        [
         204,
         1998,
         14,
         14,
         "Italian Grand Prix",
         null,
         "2025-02-01T17:43:14.85Z"
        ],
        [
         205,
         1998,
         15,
         20,
         "Luxembourg Grand Prix",
         null,
         "2025-02-01T17:43:14.85Z"
        ],
        [
         206,
         1998,
         16,
         22,
         "Japanese Grand Prix",
         null,
         "2025-02-01T17:43:14.85Z"
        ],
        [
         207,
         1997,
         1,
         1,
         "Australian Grand Prix",
         null,
         "2025-02-01T17:43:14.85Z"
        ],
        [
         208,
         1997,
         2,
         18,
         "Brazilian Grand Prix",
         null,
         "2025-02-01T17:43:14.85Z"
        ],
        [
         209,
         1997,
         3,
         25,
         "Argentine Grand Prix",
         null,
         "2025-02-01T17:43:14.85Z"
        ],
        [
         210,
         1997,
         4,
         21,
         "San Marino Grand Prix",
         null,
         "2025-02-01T17:43:14.85Z"
        ],
        [
         211,
         1997,
         5,
         6,
         "Monaco Grand Prix",
         null,
         "2025-02-01T17:43:14.85Z"
        ],
        [
         212,
         1997,
         6,
         4,
         "Spanish Grand Prix",
         null,
         "2025-02-01T17:43:14.85Z"
        ],
        [
         213,
         1997,
         7,
         7,
         "Canadian Grand Prix",
         null,
         "2025-02-01T17:43:14.85Z"
        ],
        [
         214,
         1997,
         8,
         8,
         "French Grand Prix",
         null,
         "2025-02-01T17:43:14.85Z"
        ],
        [
         215,
         1997,
         9,
         9,
         "British Grand Prix",
         null,
         "2025-02-01T17:43:14.85Z"
        ],
        [
         216,
         1997,
         10,
         10,
         "German Grand Prix",
         null,
         "2025-02-01T17:43:14.85Z"
        ],
        [
         217,
         1997,
         11,
         11,
         "Hungarian Grand Prix",
         null,
         "2025-02-01T17:43:14.85Z"
        ],
        [
         218,
         1997,
         12,
         13,
         "Belgian Grand Prix",
         null,
         "2025-02-01T17:43:14.85Z"
        ],
        [
         219,
         1997,
         13,
         14,
         "Italian Grand Prix",
         null,
         "2025-02-01T17:43:14.85Z"
        ],
        [
         220,
         1997,
         14,
         23,
         "Austrian Grand Prix",
         null,
         "2025-02-01T17:43:14.85Z"
        ],
        [
         221,
         1997,
         15,
         20,
         "Luxembourg Grand Prix",
         null,
         "2025-02-01T17:43:14.85Z"
        ],
        [
         222,
         1997,
         16,
         22,
         "Japanese Grand Prix",
         null,
         "2025-02-01T17:43:14.85Z"
        ],
        [
         223,
         1997,
         17,
         26,
         "European Grand Prix",
         null,
         "2025-02-01T17:43:14.85Z"
        ],
        [
         224,
         1996,
         1,
         1,
         "Australian Grand Prix",
         null,
         "2025-02-01T17:43:14.85Z"
        ],
        [
         225,
         1996,
         2,
         18,
         "Brazilian Grand Prix",
         null,
         "2025-02-01T17:43:14.85Z"
        ],
        [
         226,
         1996,
         3,
         25,
         "Argentine Grand Prix",
         null,
         "2025-02-01T17:43:14.85Z"
        ],
        [
         227,
         1996,
         4,
         20,
         "European Grand Prix",
         null,
         "2025-02-01T17:43:14.85Z"
        ],
        [
         228,
         1996,
         5,
         21,
         "San Marino Grand Prix",
         null,
         "2025-02-01T17:43:14.85Z"
        ],
        [
         229,
         1996,
         6,
         6,
         "Monaco Grand Prix",
         null,
         "2025-02-01T17:43:14.85Z"
        ],
        [
         230,
         1996,
         7,
         4,
         "Spanish Grand Prix",
         null,
         "2025-02-01T17:43:14.85Z"
        ],
        [
         231,
         1996,
         8,
         7,
         "Canadian Grand Prix",
         null,
         "2025-02-01T17:43:14.85Z"
        ],
        [
         232,
         1996,
         9,
         8,
         "French Grand Prix",
         null,
         "2025-02-01T17:43:14.85Z"
        ],
        [
         233,
         1996,
         10,
         9,
         "British Grand Prix",
         null,
         "2025-02-01T17:43:14.85Z"
        ],
        [
         234,
         1996,
         11,
         10,
         "German Grand Prix",
         null,
         "2025-02-01T17:43:14.85Z"
        ],
        [
         235,
         1996,
         12,
         11,
         "Hungarian Grand Prix",
         null,
         "2025-02-01T17:43:14.85Z"
        ],
        [
         236,
         1996,
         13,
         13,
         "Belgian Grand Prix",
         null,
         "2025-02-01T17:43:14.85Z"
        ],
        [
         237,
         1996,
         14,
         14,
         "Italian Grand Prix",
         null,
         "2025-02-01T17:43:14.85Z"
        ],
        [
         238,
         1996,
         15,
         27,
         "Portuguese Grand Prix",
         null,
         "2025-02-01T17:43:14.85Z"
        ],
        [
         239,
         1996,
         16,
         22,
         "Japanese Grand Prix",
         null,
         "2025-02-01T17:43:14.85Z"
        ],
        [
         240,
         1995,
         1,
         18,
         "Brazilian Grand Prix",
         null,
         "2025-02-01T17:43:14.85Z"
        ],
        [
         241,
         1995,
         2,
         25,
         "Argentine Grand Prix",
         null,
         "2025-02-01T17:43:14.85Z"
        ],
        [
         242,
         1995,
         3,
         21,
         "San Marino Grand Prix",
         null,
         "2025-02-01T17:43:14.85Z"
        ],
        [
         243,
         1995,
         4,
         4,
         "Spanish Grand Prix",
         null,
         "2025-02-01T17:43:14.85Z"
        ],
        [
         244,
         1995,
         5,
         6,
         "Monaco Grand Prix",
         null,
         "2025-02-01T17:43:14.85Z"
        ],
        [
         245,
         1995,
         6,
         7,
         "Canadian Grand Prix",
         null,
         "2025-02-01T17:43:14.85Z"
        ],
        [
         246,
         1995,
         7,
         8,
         "French Grand Prix",
         null,
         "2025-02-01T17:43:14.85Z"
        ],
        [
         247,
         1995,
         8,
         9,
         "British Grand Prix",
         null,
         "2025-02-01T17:43:14.85Z"
        ],
        [
         248,
         1995,
         9,
         10,
         "German Grand Prix",
         null,
         "2025-02-01T17:43:14.85Z"
        ],
        [
         249,
         1995,
         10,
         11,
         "Hungarian Grand Prix",
         null,
         "2025-02-01T17:43:14.85Z"
        ],
        [
         250,
         1995,
         11,
         13,
         "Belgian Grand Prix",
         null,
         "2025-02-01T17:43:14.85Z"
        ],
        [
         251,
         1995,
         12,
         14,
         "Italian Grand Prix",
         null,
         "2025-02-01T17:43:14.85Z"
        ],
        [
         252,
         1995,
         13,
         27,
         "Portuguese Grand Prix",
         null,
         "2025-02-01T17:43:14.85Z"
        ],
        [
         253,
         1995,
         14,
         20,
         "European Grand Prix",
         null,
         "2025-02-01T17:43:14.85Z"
        ],
        [
         254,
         1995,
         15,
         28,
         "Pacific Grand Prix",
         null,
         "2025-02-01T17:43:14.85Z"
        ],
        [
         255,
         1995,
         16,
         22,
         "Japanese Grand Prix",
         null,
         "2025-02-01T17:43:14.85Z"
        ],
        [
         256,
         1995,
         17,
         29,
         "Australian Grand Prix",
         null,
         "2025-02-01T17:43:14.85Z"
        ],
        [
         257,
         1994,
         1,
         18,
         "Brazilian Grand Prix",
         null,
         "2025-02-01T17:43:14.85Z"
        ],
        [
         258,
         1994,
         2,
         28,
         "Pacific Grand Prix",
         null,
         "2025-02-01T17:43:14.85Z"
        ],
        [
         259,
         1994,
         3,
         21,
         "San Marino Grand Prix",
         null,
         "2025-02-01T17:43:14.85Z"
        ],
        [
         260,
         1994,
         4,
         6,
         "Monaco Grand Prix",
         null,
         "2025-02-01T17:43:14.85Z"
        ],
        [
         261,
         1994,
         5,
         4,
         "Spanish Grand Prix",
         null,
         "2025-02-01T17:43:14.85Z"
        ],
        [
         262,
         1994,
         6,
         7,
         "Canadian Grand Prix",
         null,
         "2025-02-01T17:43:14.85Z"
        ],
        [
         263,
         1994,
         7,
         8,
         "French Grand Prix",
         null,
         "2025-02-01T17:43:14.85Z"
        ],
        [
         264,
         1994,
         8,
         9,
         "British Grand Prix",
         null,
         "2025-02-01T17:43:14.85Z"
        ],
        [
         265,
         1994,
         9,
         10,
         "German Grand Prix",
         null,
         "2025-02-01T17:43:14.85Z"
        ],
        [
         266,
         1994,
         10,
         11,
         "Hungarian Grand Prix",
         null,
         "2025-02-01T17:43:14.85Z"
        ],
        [
         267,
         1994,
         11,
         13,
         "Belgian Grand Prix",
         null,
         "2025-02-01T17:43:14.85Z"
        ],
        [
         268,
         1994,
         12,
         14,
         "Italian Grand Prix",
         null,
         "2025-02-01T17:43:14.85Z"
        ],
        [
         269,
         1994,
         13,
         27,
         "Portuguese Grand Prix",
         null,
         "2025-02-01T17:43:14.85Z"
        ],
        [
         270,
         1994,
         14,
         26,
         "European Grand Prix",
         null,
         "2025-02-01T17:43:14.85Z"
        ],
        [
         271,
         1994,
         15,
         22,
         "Japanese Grand Prix",
         null,
         "2025-02-01T17:43:14.85Z"
        ],
        [
         272,
         1994,
         16,
         29,
         "Australian Grand Prix",
         null,
         "2025-02-01T17:43:14.85Z"
        ],
        [
         273,
         1993,
         1,
         30,
         "South African Grand Prix",
         null,
         "2025-02-01T17:43:14.85Z"
        ],
        [
         274,
         1993,
         2,
         18,
         "Brazilian Grand Prix",
         null,
         "2025-02-01T17:43:14.85Z"
        ],
        [
         275,
         1993,
         3,
         31,
         "European Grand Prix",
         null,
         "2025-02-01T17:43:14.85Z"
        ],
        [
         276,
         1993,
         4,
         21,
         "San Marino Grand Prix",
         null,
         "2025-02-01T17:43:14.85Z"
        ],
        [
         277,
         1993,
         5,
         4,
         "Spanish Grand Prix",
         null,
         "2025-02-01T17:43:14.85Z"
        ],
        [
         278,
         1993,
         6,
         6,
         "Monaco Grand Prix",
         null,
         "2025-02-01T17:43:14.85Z"
        ],
        [
         279,
         1993,
         7,
         7,
         "Canadian Grand Prix",
         null,
         "2025-02-01T17:43:14.85Z"
        ],
        [
         280,
         1993,
         8,
         8,
         "French Grand Prix",
         null,
         "2025-02-01T17:43:14.85Z"
        ],
        [
         281,
         1993,
         9,
         9,
         "British Grand Prix",
         null,
         "2025-02-01T17:43:14.85Z"
        ],
        [
         282,
         1993,
         10,
         10,
         "German Grand Prix",
         null,
         "2025-02-01T17:43:14.85Z"
        ],
        [
         283,
         1993,
         11,
         11,
         "Hungarian Grand Prix",
         null,
         "2025-02-01T17:43:14.85Z"
        ],
        [
         284,
         1993,
         12,
         13,
         "Belgian Grand Prix",
         null,
         "2025-02-01T17:43:14.85Z"
        ],
        [
         285,
         1993,
         13,
         14,
         "Italian Grand Prix",
         null,
         "2025-02-01T17:43:14.85Z"
        ],
        [
         286,
         1993,
         14,
         27,
         "Portuguese Grand Prix",
         null,
         "2025-02-01T17:43:14.85Z"
        ],
        [
         287,
         1993,
         15,
         22,
         "Japanese Grand Prix",
         null,
         "2025-02-01T17:43:14.85Z"
        ],
        [
         288,
         1993,
         16,
         29,
         "Australian Grand Prix",
         null,
         "2025-02-01T17:43:14.85Z"
        ],
        [
         289,
         1992,
         1,
         30,
         "South African Grand Prix",
         null,
         "2025-02-01T17:43:14.85Z"
        ],
        [
         290,
         1992,
         2,
         32,
         "Mexican Grand Prix",
         null,
         "2025-02-01T17:43:14.85Z"
        ],
        [
         291,
         1992,
         3,
         18,
         "Brazilian Grand Prix",
         null,
         "2025-02-01T17:43:14.85Z"
        ],
        [
         292,
         1992,
         4,
         4,
         "Spanish Grand Prix",
         null,
         "2025-02-01T17:43:14.85Z"
        ],
        [
         293,
         1992,
         5,
         21,
         "San Marino Grand Prix",
         null,
         "2025-02-01T17:43:14.85Z"
        ],
        [
         294,
         1992,
         6,
         6,
         "Monaco Grand Prix",
         null,
         "2025-02-01T17:43:14.85Z"
        ],
        [
         295,
         1992,
         7,
         7,
         "Canadian Grand Prix",
         null,
         "2025-02-01T17:43:14.85Z"
        ],
        [
         296,
         1992,
         8,
         8,
         "French Grand Prix",
         null,
         "2025-02-01T17:43:14.85Z"
        ],
        [
         297,
         1992,
         9,
         9,
         "British Grand Prix",
         null,
         "2025-02-01T17:43:14.85Z"
        ],
        [
         298,
         1992,
         10,
         10,
         "German Grand Prix",
         null,
         "2025-02-01T17:43:14.85Z"
        ],
        [
         299,
         1992,
         11,
         11,
         "Hungarian Grand Prix",
         null,
         "2025-02-01T17:43:14.85Z"
        ],
        [
         300,
         1992,
         12,
         13,
         "Belgian Grand Prix",
         null,
         "2025-02-01T17:43:14.85Z"
        ],
        [
         301,
         1992,
         13,
         14,
         "Italian Grand Prix",
         null,
         "2025-02-01T17:43:14.85Z"
        ],
        [
         302,
         1992,
         14,
         27,
         "Portuguese Grand Prix",
         null,
         "2025-02-01T17:43:14.85Z"
        ],
        [
         303,
         1992,
         15,
         22,
         "Japanese Grand Prix",
         null,
         "2025-02-01T17:43:14.85Z"
        ],
        [
         304,
         1992,
         16,
         29,
         "Australian Grand Prix",
         null,
         "2025-02-01T17:43:14.85Z"
        ],
        [
         305,
         1991,
         1,
         33,
         "United States Grand Prix",
         null,
         "2025-02-01T17:43:14.85Z"
        ],
        [
         306,
         1991,
         2,
         18,
         "Brazilian Grand Prix",
         null,
         "2025-02-01T17:43:14.85Z"
        ],
        [
         307,
         1991,
         3,
         21,
         "San Marino Grand Prix",
         null,
         "2025-02-01T17:43:14.85Z"
        ],
        [
         308,
         1991,
         4,
         6,
         "Monaco Grand Prix",
         null,
         "2025-02-01T17:43:14.85Z"
        ],
        [
         309,
         1991,
         5,
         7,
         "Canadian Grand Prix",
         null,
         "2025-02-01T17:43:14.85Z"
        ],
        [
         310,
         1991,
         6,
         32,
         "Mexican Grand Prix",
         null,
         "2025-02-01T17:43:14.85Z"
        ],
        [
         311,
         1991,
         7,
         8,
         "French Grand Prix",
         null,
         "2025-02-01T17:43:14.85Z"
        ],
        [
         312,
         1991,
         8,
         9,
         "British Grand Prix",
         null,
         "2025-02-01T17:43:14.85Z"
        ],
        [
         313,
         1991,
         9,
         10,
         "German Grand Prix",
         null,
         "2025-02-01T17:43:14.85Z"
        ],
        [
         314,
         1991,
         10,
         11,
         "Hungarian Grand Prix",
         null,
         "2025-02-01T17:43:14.85Z"
        ],
        [
         315,
         1991,
         11,
         13,
         "Belgian Grand Prix",
         null,
         "2025-02-01T17:43:14.85Z"
        ],
        [
         316,
         1991,
         12,
         14,
         "Italian Grand Prix",
         null,
         "2025-02-01T17:43:14.85Z"
        ],
        [
         317,
         1991,
         13,
         27,
         "Portuguese Grand Prix",
         null,
         "2025-02-01T17:43:14.85Z"
        ],
        [
         318,
         1991,
         14,
         4,
         "Spanish Grand Prix",
         null,
         "2025-02-01T17:43:14.85Z"
        ],
        [
         319,
         1991,
         15,
         22,
         "Japanese Grand Prix",
         null,
         "2025-02-01T17:43:14.85Z"
        ],
        [
         320,
         1991,
         16,
         29,
         "Australian Grand Prix",
         null,
         "2025-02-01T17:43:14.85Z"
        ],
        [
         321,
         1990,
         1,
         33,
         "United States Grand Prix",
         null,
         "2025-02-01T17:43:14.85Z"
        ],
        [
         322,
         1990,
         2,
         18,
         "Brazilian Grand Prix",
         null,
         "2025-02-01T17:43:14.85Z"
        ],
        [
         323,
         1990,
         3,
         21,
         "San Marino Grand Prix",
         null,
         "2025-02-01T17:43:14.85Z"
        ],
        [
         324,
         1990,
         4,
         6,
         "Monaco Grand Prix",
         null,
         "2025-02-01T17:43:14.85Z"
        ],
        [
         325,
         1990,
         5,
         7,
         "Canadian Grand Prix",
         null,
         "2025-02-01T17:43:14.85Z"
        ],
        [
         326,
         1990,
         6,
         32,
         "Mexican Grand Prix",
         null,
         "2025-02-01T17:43:14.85Z"
        ],
        [
         327,
         1990,
         7,
         34,
         "French Grand Prix",
         null,
         "2025-02-01T17:43:14.85Z"
        ],
        [
         328,
         1990,
         8,
         9,
         "British Grand Prix",
         null,
         "2025-02-01T17:43:14.85Z"
        ],
        [
         329,
         1990,
         9,
         10,
         "German Grand Prix",
         null,
         "2025-02-01T17:43:14.85Z"
        ],
        [
         330,
         1990,
         10,
         11,
         "Hungarian Grand Prix",
         null,
         "2025-02-01T17:43:14.85Z"
        ],
        [
         331,
         1990,
         11,
         13,
         "Belgian Grand Prix",
         null,
         "2025-02-01T17:43:14.85Z"
        ],
        [
         332,
         1990,
         12,
         14,
         "Italian Grand Prix",
         null,
         "2025-02-01T17:43:14.85Z"
        ],
        [
         333,
         1990,
         13,
         27,
         "Portuguese Grand Prix",
         null,
         "2025-02-01T17:43:14.85Z"
        ],
        [
         334,
         1990,
         14,
         26,
         "Spanish Grand Prix",
         null,
         "2025-02-01T17:43:14.85Z"
        ],
        [
         335,
         1990,
         15,
         22,
         "Japanese Grand Prix",
         null,
         "2025-02-01T17:43:14.85Z"
        ],
        [
         336,
         1990,
         16,
         29,
         "Australian Grand Prix",
         null,
         "2025-02-01T17:43:14.85Z"
        ],
        [
         337,
         2010,
         1,
         3,
         "Bahrain Grand Prix",
         "2010-03-14T12:00:00Z",
         "2025-02-01T17:43:14.85Z"
        ],
        [
         338,
         2010,
         2,
         1,
         "Australian Grand Prix",
         "2010-03-28T06:00:00Z",
         "2025-02-01T17:43:14.85Z"
        ],
        [
         339,
         2010,
         3,
         2,
         "Malaysian Grand Prix",
         "2010-04-04T08:00:00Z",
         "2025-02-01T17:43:14.85Z"
        ],
        [
         340,
         2010,
         4,
         17,
         "Chinese Grand Prix",
         "2010-04-18T06:00:00Z",
         "2025-02-01T17:43:14.85Z"
        ],
        [
         341,
         2010,
         5,
         4,
         "Spanish Grand Prix",
         "2010-05-09T12:00:00Z",
         "2025-02-01T17:43:14.85Z"
        ],
        [
         342,
         2010,
         6,
         6,
         "Monaco Grand Prix",
         "2010-05-16T12:00:00Z",
         "2025-02-01T17:43:14.85Z"
        ],
        [
         343,
         2010,
         7,
         5,
         "Turkish Grand Prix",
         "2010-05-30T11:00:00Z",
         "2025-02-01T17:43:14.85Z"
        ],
        [
         344,
         2010,
         8,
         7,
         "Canadian Grand Prix",
         "2010-06-13T16:00:00Z",
         "2025-02-01T17:43:14.85Z"
        ],
        [
         345,
         2010,
         9,
         12,
         "European Grand Prix",
         "2010-06-27T12:00:00Z",
         "2025-02-01T17:43:14.85Z"
        ],
        [
         346,
         2010,
         10,
         9,
         "British Grand Prix",
         "2010-07-11T12:00:00Z",
         "2025-02-01T17:43:14.85Z"
        ],
        [
         347,
         2010,
         11,
         10,
         "German Grand Prix",
         "2010-07-25T12:00:00Z",
         "2025-02-01T17:43:14.85Z"
        ],
        [
         348,
         2010,
         12,
         11,
         "Hungarian Grand Prix",
         "2010-08-01T12:00:00Z",
         "2025-02-01T17:43:14.85Z"
        ],
        [
         349,
         2010,
         13,
         13,
         "Belgian Grand Prix",
         "2010-08-29T12:00:00Z",
         "2025-02-01T17:43:14.85Z"
        ],
        [
         350,
         2010,
         14,
         14,
         "Italian Grand Prix",
         "2010-09-12T12:00:00Z",
         "2025-02-01T17:43:14.85Z"
        ],
        [
         351,
         2010,
         15,
         15,
         "Singapore Grand Prix",
         "2010-09-26T12:00:00Z",
         "2025-02-01T17:43:14.85Z"
        ],
        [
         352,
         2010,
         16,
         22,
         "Japanese Grand Prix",
         "2010-10-10T06:00:00Z",
         "2025-02-01T17:43:14.85Z"
        ],
        [
         353,
         2010,
         17,
         35,
         "Korean Grand Prix",
         "2010-10-24T05:00:00Z",
         "2025-02-01T17:43:14.85Z"
        ],
        [
         354,
         2010,
         18,
         18,
         "Brazilian Grand Prix",
         "2010-11-07T16:00:00Z",
         "2025-02-01T17:43:14.85Z"
        ],
        [
         355,
         2010,
         19,
         24,
         "Abu Dhabi Grand Prix",
         "2010-11-14T13:00:00Z",
         "2025-02-01T17:43:14.85Z"
        ],
        [
         356,
         1989,
         1,
         36,
         "Brazilian Grand Prix",
         null,
         "2025-02-01T17:43:14.85Z"
        ],
        [
         357,
         1989,
         2,
         21,
         "San Marino Grand Prix",
         null,
         "2025-02-01T17:43:14.85Z"
        ],
        [
         358,
         1989,
         3,
         6,
         "Monaco Grand Prix",
         null,
         "2025-02-01T17:43:14.85Z"
        ],
        [
         359,
         1989,
         4,
         32,
         "Mexican Grand Prix",
         null,
         "2025-02-01T17:43:14.85Z"
        ],
        [
         360,
         1989,
         5,
         33,
         "United States Grand Prix",
         null,
         "2025-02-01T17:43:14.85Z"
        ],
        [
         361,
         1989,
         6,
         7,
         "Canadian Grand Prix",
         null,
         "2025-02-01T17:43:14.85Z"
        ],
        [
         362,
         1989,
         7,
         34,
         "French Grand Prix",
         null,
         "2025-02-01T17:43:14.85Z"
        ],
        [
         363,
         1989,
         8,
         9,
         "British Grand Prix",
         null,
         "2025-02-01T17:43:14.85Z"
        ],
        [
         364,
         1989,
         9,
         10,
         "German Grand Prix",
         null,
         "2025-02-01T17:43:14.85Z"
        ],
        [
         365,
         1989,
         10,
         11,
         "Hungarian Grand Prix",
         null,
         "2025-02-01T17:43:14.85Z"
        ],
        [
         366,
         1989,
         11,
         13,
         "Belgian Grand Prix",
         null,
         "2025-02-01T17:43:14.85Z"
        ],
        [
         367,
         1989,
         12,
         14,
         "Italian Grand Prix",
         null,
         "2025-02-01T17:43:14.85Z"
        ],
        [
         368,
         1989,
         13,
         27,
         "Portuguese Grand Prix",
         null,
         "2025-02-01T17:43:14.85Z"
        ],
        [
         369,
         1989,
         14,
         26,
         "Spanish Grand Prix",
         null,
         "2025-02-01T17:43:14.85Z"
        ],
        [
         370,
         1989,
         15,
         22,
         "Japanese Grand Prix",
         null,
         "2025-02-01T17:43:14.85Z"
        ],
        [
         371,
         1989,
         16,
         29,
         "Australian Grand Prix",
         null,
         "2025-02-01T17:43:14.85Z"
        ],
        [
         372,
         1988,
         1,
         36,
         "Brazilian Grand Prix",
         null,
         "2025-02-01T17:43:14.85Z"
        ],
        [
         373,
         1988,
         2,
         21,
         "San Marino Grand Prix",
         null,
         "2025-02-01T17:43:14.85Z"
        ],
        [
         374,
         1988,
         3,
         6,
         "Monaco Grand Prix",
         null,
         "2025-02-01T17:43:14.85Z"
        ],
        [
         375,
         1988,
         4,
         32,
         "Mexican Grand Prix",
         null,
         "2025-02-01T17:43:14.85Z"
        ],
        [
         376,
         1988,
         5,
         7,
         "Canadian Grand Prix",
         null,
         "2025-02-01T17:43:14.85Z"
        ],
        [
         377,
         1988,
         6,
         37,
         "Detroit Grand Prix",
         null,
         "2025-02-01T17:43:14.85Z"
        ],
        [
         378,
         1988,
         7,
         34,
         "French Grand Prix",
         null,
         "2025-02-01T17:43:14.85Z"
        ],
        [
         379,
         1988,
         8,
         9,
         "British Grand Prix",
         null,
         "2025-02-01T17:43:14.85Z"
        ],
        [
         380,
         1988,
         9,
         10,
         "German Grand Prix",
         null,
         "2025-02-01T17:43:14.85Z"
        ],
        [
         381,
         1988,
         10,
         11,
         "Hungarian Grand Prix",
         null,
         "2025-02-01T17:43:14.85Z"
        ],
        [
         382,
         1988,
         11,
         13,
         "Belgian Grand Prix",
         null,
         "2025-02-01T17:43:14.85Z"
        ],
        [
         383,
         1988,
         12,
         14,
         "Italian Grand Prix",
         null,
         "2025-02-01T17:43:14.85Z"
        ],
        [
         384,
         1988,
         13,
         27,
         "Portuguese Grand Prix",
         null,
         "2025-02-01T17:43:14.85Z"
        ],
        [
         385,
         1988,
         14,
         26,
         "Spanish Grand Prix",
         null,
         "2025-02-01T17:43:14.85Z"
        ],
        [
         386,
         1988,
         15,
         22,
         "Japanese Grand Prix",
         null,
         "2025-02-01T17:43:14.85Z"
        ],
        [
         387,
         1988,
         16,
         29,
         "Australian Grand Prix",
         null,
         "2025-02-01T17:43:14.85Z"
        ],
        [
         388,
         1987,
         1,
         36,
         "Brazilian Grand Prix",
         null,
         "2025-02-01T17:43:14.85Z"
        ],
        [
         389,
         1987,
         2,
         21,
         "San Marino Grand Prix",
         null,
         "2025-02-01T17:43:14.85Z"
        ],
        [
         390,
         1987,
         3,
         13,
         "Belgian Grand Prix",
         null,
         "2025-02-01T17:43:14.85Z"
        ],
        [
         391,
         1987,
         4,
         6,
         "Monaco Grand Prix",
         null,
         "2025-02-01T17:43:14.85Z"
        ],
        [
         392,
         1987,
         5,
         37,
         "Detroit Grand Prix",
         null,
         "2025-02-01T17:43:14.85Z"
        ],
        [
         393,
         1987,
         6,
         34,
         "French Grand Prix",
         null,
         "2025-02-01T17:43:14.85Z"
        ],
        [
         394,
         1987,
         7,
         9,
         "British Grand Prix",
         null,
         "2025-02-01T17:43:14.85Z"
        ],
        [
         395,
         1987,
         8,
         10,
         "German Grand Prix",
         null,
         "2025-02-01T17:43:14.85Z"
        ],
        [
         396,
         1987,
         9,
         11,
         "Hungarian Grand Prix",
         null,
         "2025-02-01T17:43:14.85Z"
        ],
        [
         397,
         1987,
         10,
         23,
         "Austrian Grand Prix",
         null,
         "2025-02-01T17:43:14.85Z"
        ],
        [
         398,
         1987,
         11,
         14,
         "Italian Grand Prix",
         null,
         "2025-02-01T17:43:14.85Z"
        ],
        [
         399,
         1987,
         12,
         27,
         "Portuguese Grand Prix",
         null,
         "2025-02-01T17:43:14.85Z"
        ],
        [
         400,
         1987,
         13,
         26,
         "Spanish Grand Prix",
         null,
         "2025-02-01T17:43:14.85Z"
        ],
        [
         401,
         1987,
         14,
         32,
         "Mexican Grand Prix",
         null,
         "2025-02-01T17:43:14.85Z"
        ],
        [
         402,
         1987,
         15,
         22,
         "Japanese Grand Prix",
         null,
         "2025-02-01T17:43:14.85Z"
        ],
        [
         403,
         1987,
         16,
         29,
         "Australian Grand Prix",
         null,
         "2025-02-01T17:43:14.85Z"
        ],
        [
         404,
         1986,
         1,
         36,
         "Brazilian Grand Prix",
         null,
         "2025-02-01T17:43:14.85Z"
        ],
        [
         405,
         1986,
         2,
         26,
         "Spanish Grand Prix",
         null,
         "2025-02-01T17:43:14.85Z"
        ],
        [
         406,
         1986,
         3,
         21,
         "San Marino Grand Prix",
         null,
         "2025-02-01T17:43:14.85Z"
        ],
        [
         407,
         1986,
         4,
         6,
         "Monaco Grand Prix",
         null,
         "2025-02-01T17:43:14.85Z"
        ],
        [
         408,
         1986,
         5,
         13,
         "Belgian Grand Prix",
         null,
         "2025-02-01T17:43:14.85Z"
        ],
        [
         409,
         1986,
         6,
         7,
         "Canadian Grand Prix",
         null,
         "2025-02-01T17:43:14.85Z"
        ],
        [
         410,
         1986,
         7,
         37,
         "Detroit Grand Prix",
         null,
         "2025-02-01T17:43:14.85Z"
        ],
        [
         411,
         1986,
         8,
         34,
         "French Grand Prix",
         null,
         "2025-02-01T17:43:14.85Z"
        ],
        [
         412,
         1986,
         9,
         38,
         "British Grand Prix",
         null,
         "2025-02-01T17:43:14.85Z"
        ],
        [
         413,
         1986,
         10,
         10,
         "German Grand Prix",
         null,
         "2025-02-01T17:43:14.85Z"
        ],
        [
         414,
         1986,
         11,
         11,
         "Hungarian Grand Prix",
         null,
         "2025-02-01T17:43:14.85Z"
        ],
        [
         415,
         1986,
         12,
         23,
         "Austrian Grand Prix",
         null,
         "2025-02-01T17:43:14.85Z"
        ],
        [
         416,
         1986,
         13,
         14,
         "Italian Grand Prix",
         null,
         "2025-02-01T17:43:14.85Z"
        ],
        [
         417,
         1986,
         14,
         27,
         "Portuguese Grand Prix",
         null,
         "2025-02-01T17:43:14.85Z"
        ],
        [
         418,
         1986,
         15,
         32,
         "Mexican Grand Prix",
         null,
         "2025-02-01T17:43:14.85Z"
        ],
        [
         419,
         1986,
         16,
         29,
         "Australian Grand Prix",
         null,
         "2025-02-01T17:43:14.85Z"
        ],
        [
         420,
         1985,
         1,
         36,
         "Brazilian Grand Prix",
         null,
         "2025-02-01T17:43:14.85Z"
        ],
        [
         421,
         1985,
         2,
         27,
         "Portuguese Grand Prix",
         null,
         "2025-02-01T17:43:14.85Z"
        ],
        [
         422,
         1985,
         3,
         21,
         "San Marino Grand Prix",
         null,
         "2025-02-01T17:43:14.85Z"
        ],
        [
         423,
         1985,
         4,
         6,
         "Monaco Grand Prix",
         null,
         "2025-02-01T17:43:14.85Z"
        ],
        [
         424,
         1985,
         5,
         7,
         "Canadian Grand Prix",
         null,
         "2025-02-01T17:43:14.85Z"
        ],
        [
         425,
         1985,
         6,
         37,
         "Detroit Grand Prix",
         null,
         "2025-02-01T17:43:14.85Z"
        ],
        [
         426,
         1985,
         7,
         34,
         "French Grand Prix",
         null,
         "2025-02-01T17:43:14.85Z"
        ],
        [
         427,
         1985,
         8,
         9,
         "British Grand Prix",
         null,
         "2025-02-01T17:43:14.85Z"
        ],
        [
         428,
         1985,
         9,
         20,
         "German Grand Prix",
         null,
         "2025-02-01T17:43:14.85Z"
        ],
        [
         429,
         1985,
         10,
         23,
         "Austrian Grand Prix",
         null,
         "2025-02-01T17:43:14.85Z"
        ],
        [
         430,
         1985,
         11,
         39,
         "Dutch Grand Prix",
         null,
         "2025-02-01T17:43:14.85Z"
        ],
        [
         431,
         1985,
         12,
         14,
         "Italian Grand Prix",
         null,
         "2025-02-01T17:43:14.85Z"
        ],
        [
         432,
         1985,
         13,
         13,
         "Belgian Grand Prix",
         null,
         "2025-02-01T17:43:14.85Z"
        ],
        [
         433,
         1985,
         14,
         38,
         "European Grand Prix",
         null,
         "2025-02-01T17:43:14.85Z"
        ],
        [
         434,
         1985,
         15,
         30,
         "South African Grand Prix",
         null,
         "2025-02-01T17:43:14.85Z"
        ],
        [
         435,
         1985,
         16,
         29,
         "Australian Grand Prix",
         null,
         "2025-02-01T17:43:14.85Z"
        ],
        [
         436,
         1984,
         1,
         36,
         "Brazilian Grand Prix",
         null,
         "2025-02-01T17:43:14.85Z"
        ],
        [
         437,
         1984,
         2,
         30,
         "South African Grand Prix",
         null,
         "2025-02-01T17:43:14.85Z"
        ],
        [
         438,
         1984,
         3,
         40,
         "Belgian Grand Prix",
         null,
         "2025-02-01T17:43:14.85Z"
        ],
        [
         439,
         1984,
         4,
         21,
         "San Marino Grand Prix",
         null,
         "2025-02-01T17:43:14.85Z"
        ],
        [
         440,
         1984,
         5,
         41,
         "French Grand Prix",
         null,
         "2025-02-01T17:43:14.85Z"
        ],
        [
         441,
         1984,
         6,
         6,
         "Monaco Grand Prix",
         null,
         "2025-02-01T17:43:14.85Z"
        ],
        [
         442,
         1984,
         7,
         7,
         "Canadian Grand Prix",
         null,
         "2025-02-01T17:43:14.85Z"
        ],
        [
         443,
         1984,
         8,
         37,
         "Detroit Grand Prix",
         null,
         "2025-02-01T17:43:14.85Z"
        ],
        [
         444,
         1984,
         9,
         42,
         "Dallas Grand Prix",
         null,
         "2025-02-01T17:43:14.85Z"
        ],
        [
         445,
         1984,
         10,
         38,
         "British Grand Prix",
         null,
         "2025-02-01T17:43:14.85Z"
        ],
        [
         446,
         1984,
         11,
         10,
         "German Grand Prix",
         null,
         "2025-02-01T17:43:14.85Z"
        ],
        [
         447,
         1984,
         12,
         23,
         "Austrian Grand Prix",
         null,
         "2025-02-01T17:43:14.85Z"
        ],
        [
         448,
         1984,
         13,
         39,
         "Dutch Grand Prix",
         null,
         "2025-02-01T17:43:14.85Z"
        ],
        [
         449,
         1984,
         14,
         14,
         "Italian Grand Prix",
         null,
         "2025-02-01T17:43:14.85Z"
        ],
        [
         450,
         1984,
         15,
         20,
         "European Grand Prix",
         null,
         "2025-02-01T17:43:14.85Z"
        ],
        [
         451,
         1984,
         16,
         27,
         "Portuguese Grand Prix",
         null,
         "2025-02-01T17:43:14.85Z"
        ],
        [
         452,
         1983,
         1,
         36,
         "Brazilian Grand Prix",
         null,
         "2025-02-01T17:43:14.85Z"
        ],
        [
         453,
         1983,
         2,
         43,
         "United States Grand Prix West",
         null,
         "2025-02-01T17:43:14.85Z"
        ],
        [
         454,
         1983,
         3,
         34,
         "French Grand Prix",
         null,
         "2025-02-01T17:43:14.85Z"
        ],
        [
         455,
         1983,
         4,
         21,
         "San Marino Grand Prix",
         null,
         "2025-02-01T17:43:14.85Z"
        ],
        [
         456,
         1983,
         5,
         6,
         "Monaco Grand Prix",
         null,
         "2025-02-01T17:43:14.85Z"
        ],
        [
         457,
         1983,
         6,
         13,
         "Belgian Grand Prix",
         null,
         "2025-02-01T17:43:14.85Z"
        ],
        [
         458,
         1983,
         7,
         37,
         "Detroit Grand Prix",
         null,
         "2025-02-01T17:43:14.85Z"
        ],
        [
         459,
         1983,
         8,
         7,
         "Canadian Grand Prix",
         null,
         "2025-02-01T17:43:14.85Z"
        ],
        [
         460,
         1983,
         9,
         9,
         "British Grand Prix",
         null,
         "2025-02-01T17:43:14.85Z"
        ],
        [
         461,
         1983,
         10,
         10,
         "German Grand Prix",
         null,
         "2025-02-01T17:43:14.85Z"
        ],
        [
         462,
         1983,
         11,
         23,
         "Austrian Grand Prix",
         null,
         "2025-02-01T17:43:14.85Z"
        ],
        [
         463,
         1983,
         12,
         39,
         "Dutch Grand Prix",
         null,
         "2025-02-01T17:43:14.85Z"
        ],
        [
         464,
         1983,
         13,
         14,
         "Italian Grand Prix",
         null,
         "2025-02-01T17:43:14.85Z"
        ],
        [
         465,
         1983,
         14,
         38,
         "European Grand Prix",
         null,
         "2025-02-01T17:43:14.85Z"
        ],
        [
         466,
         1983,
         15,
         30,
         "South African Grand Prix",
         null,
         "2025-02-01T17:43:14.85Z"
        ],
        [
         467,
         1982,
         1,
         30,
         "South African Grand Prix",
         null,
         "2025-02-01T17:43:14.85Z"
        ],
        [
         468,
         1982,
         2,
         36,
         "Brazilian Grand Prix",
         null,
         "2025-02-01T17:43:14.85Z"
        ],
        [
         469,
         1982,
         3,
         43,
         "United States Grand Prix West",
         null,
         "2025-02-01T17:43:14.85Z"
        ],
        [
         470,
         1982,
         4,
         21,
         "San Marino Grand Prix",
         null,
         "2025-02-01T17:43:14.85Z"
        ],
        [
         471,
         1982,
         5,
         40,
         "Belgian Grand Prix",
         null,
         "2025-02-01T17:43:14.85Z"
        ],
        [
         472,
         1982,
         6,
         6,
         "Monaco Grand Prix",
         null,
         "2025-02-01T17:43:14.85Z"
        ],
        [
         473,
         1982,
         7,
         37,
         "Detroit Grand Prix",
         null,
         "2025-02-01T17:43:14.85Z"
        ],
        [
         474,
         1982,
         8,
         7,
         "Canadian Grand Prix",
         null,
         "2025-02-01T17:43:14.85Z"
        ],
        [
         475,
         1982,
         9,
         39,
         "Dutch Grand Prix",
         null,
         "2025-02-01T17:43:14.85Z"
        ],
        [
         476,
         1982,
         10,
         38,
         "British Grand Prix",
         null,
         "2025-02-01T17:43:14.85Z"
        ],
        [
         477,
         1982,
         11,
         34,
         "French Grand Prix",
         null,
         "2025-02-01T17:43:14.85Z"
        ],
        [
         478,
         1982,
         12,
         10,
         "German Grand Prix",
         null,
         "2025-02-01T17:43:14.85Z"
        ],
        [
         479,
         1982,
         13,
         23,
         "Austrian Grand Prix",
         null,
         "2025-02-01T17:43:14.85Z"
        ],
        [
         480,
         1982,
         14,
         41,
         "Swiss Grand Prix",
         null,
         "2025-02-01T17:43:14.85Z"
        ],
        [
         481,
         1982,
         15,
         14,
         "Italian Grand Prix",
         null,
         "2025-02-01T17:43:14.85Z"
        ],
        [
         482,
         1982,
         16,
         44,
         "Caesars Palace Grand Prix",
         null,
         "2025-02-01T17:43:14.85Z"
        ],
        [
         483,
         1981,
         1,
         43,
         "United States Grand Prix West",
         null,
         "2025-02-01T17:43:14.85Z"
        ],
        [
         484,
         1981,
         2,
         36,
         "Brazilian Grand Prix",
         null,
         "2025-02-01T17:43:14.85Z"
        ],
        [
         485,
         1981,
         3,
         25,
         "Argentine Grand Prix",
         null,
         "2025-02-01T17:43:14.85Z"
        ],
        [
         486,
         1981,
         4,
         21,
         "San Marino Grand Prix",
         null,
         "2025-02-01T17:43:14.85Z"
        ],
        [
         487,
         1981,
         5,
         40,
         "Belgian Grand Prix",
         null,
         "2025-02-01T17:43:14.85Z"
        ],
        [
         488,
         1981,
         6,
         6,
         "Monaco Grand Prix",
         null,
         "2025-02-01T17:43:14.85Z"
        ],
        [
         489,
         1981,
         7,
         45,
         "Spanish Grand Prix",
         null,
         "2025-02-01T17:43:14.85Z"
        ],
        [
         490,
         1981,
         8,
         41,
         "French Grand Prix",
         null,
         "2025-02-01T17:43:14.85Z"
        ],
        [
         491,
         1981,
         9,
         9,
         "British Grand Prix",
         null,
         "2025-02-01T17:43:14.85Z"
        ],
        [
         492,
         1981,
         10,
         10,
         "German Grand Prix",
         null,
         "2025-02-01T17:43:14.85Z"
        ],
        [
         493,
         1981,
         11,
         23,
         "Austrian Grand Prix",
         null,
         "2025-02-01T17:43:14.85Z"
        ],
        [
         494,
         1981,
         12,
         39,
         "Dutch Grand Prix",
         null,
         "2025-02-01T17:43:14.85Z"
        ],
        [
         495,
         1981,
         13,
         14,
         "Italian Grand Prix",
         null,
         "2025-02-01T17:43:14.85Z"
        ],
        [
         496,
         1981,
         14,
         7,
         "Canadian Grand Prix",
         null,
         "2025-02-01T17:43:14.85Z"
        ],
        [
         497,
         1981,
         15,
         44,
         "Caesars Palace Grand Prix",
         null,
         "2025-02-01T17:43:14.85Z"
        ],
        [
         498,
         1980,
         1,
         25,
         "Argentine Grand Prix",
         null,
         "2025-02-01T17:43:14.85Z"
        ],
        [
         499,
         1980,
         2,
         18,
         "Brazilian Grand Prix",
         null,
         "2025-02-01T17:43:14.85Z"
        ],
        [
         500,
         1980,
         3,
         30,
         "South African Grand Prix",
         null,
         "2025-02-01T17:43:14.85Z"
        ],
        [
         501,
         1980,
         4,
         43,
         "United States Grand Prix West",
         null,
         "2025-02-01T17:43:14.85Z"
        ],
        [
         502,
         1980,
         5,
         40,
         "Belgian Grand Prix",
         null,
         "2025-02-01T17:43:14.85Z"
        ],
        [
         503,
         1980,
         6,
         6,
         "Monaco Grand Prix",
         null,
         "2025-02-01T17:43:14.85Z"
        ],
        [
         504,
         1980,
         7,
         34,
         "French Grand Prix",
         null,
         "2025-02-01T17:43:14.85Z"
        ],
        [
         505,
         1980,
         8,
         38,
         "British Grand Prix",
         null,
         "2025-02-01T17:43:14.85Z"
        ],
        [
         506,
         1980,
         9,
         10,
         "German Grand Prix",
         null,
         "2025-02-01T17:43:14.85Z"
        ],
        [
         507,
         1980,
         10,
         23,
         "Austrian Grand Prix",
         null,
         "2025-02-01T17:43:14.85Z"
        ],
        [
         508,
         1980,
         11,
         39,
         "Dutch Grand Prix",
         null,
         "2025-02-01T17:43:14.85Z"
        ],
        [
         509,
         1980,
         12,
         21,
         "Italian Grand Prix",
         null,
         "2025-02-01T17:43:14.85Z"
        ],
        [
         510,
         1980,
         13,
         7,
         "Canadian Grand Prix",
         null,
         "2025-02-01T17:43:14.85Z"
        ],
        [
         511,
         1980,
         14,
         46,
         "United States Grand Prix",
         null,
         "2025-02-01T17:43:14.85Z"
        ],
        [
         512,
         1979,
         1,
         25,
         "Argentine Grand Prix",
         null,
         "2025-02-01T17:43:14.85Z"
        ],
        [
         513,
         1979,
         2,
         18,
         "Brazilian Grand Prix",
         null,
         "2025-02-01T17:43:14.85Z"
        ],
        [
         514,
         1979,
         3,
         30,
         "South African Grand Prix",
         null,
         "2025-02-01T17:43:14.85Z"
        ],
        [
         515,
         1979,
         4,
         43,
         "United States Grand Prix West",
         null,
         "2025-02-01T17:43:14.85Z"
        ],
        [
         516,
         1979,
         5,
         45,
         "Spanish Grand Prix",
         null,
         "2025-02-01T17:43:14.85Z"
        ],
        [
         517,
         1979,
         6,
         40,
         "Belgian Grand Prix",
         null,
         "2025-02-01T17:43:14.85Z"
        ],
        [
         518,
         1979,
         7,
         6,
         "Monaco Grand Prix",
         null,
         "2025-02-01T17:43:14.85Z"
        ],
        [
         519,
         1979,
         8,
         41,
         "French Grand Prix",
         null,
         "2025-02-01T17:43:14.85Z"
        ],
        [
         520,
         1979,
         9,
         9,
         "British Grand Prix",
         null,
         "2025-02-01T17:43:14.85Z"
        ],
        [
         521,
         1979,
         10,
         10,
         "German Grand Prix",
         null,
         "2025-02-01T17:43:14.85Z"
        ],
        [
         522,
         1979,
         11,
         23,
         "Austrian Grand Prix",
         null,
         "2025-02-01T17:43:14.85Z"
        ],
        [
         523,
         1979,
         12,
         39,
         "Dutch Grand Prix",
         null,
         "2025-02-01T17:43:14.85Z"
        ],
        [
         524,
         1979,
         13,
         14,
         "Italian Grand Prix",
         null,
         "2025-02-01T17:43:14.85Z"
        ],
        [
         525,
         1979,
         14,
         7,
         "Canadian Grand Prix",
         null,
         "2025-02-01T17:43:14.85Z"
        ],
        [
         526,
         1979,
         15,
         46,
         "United States Grand Prix",
         null,
         "2025-02-01T17:43:14.85Z"
        ],
        [
         527,
         1978,
         1,
         25,
         "Argentine Grand Prix",
         null,
         "2025-02-01T17:43:14.85Z"
        ],
        [
         528,
         1978,
         2,
         36,
         "Brazilian Grand Prix",
         null,
         "2025-02-01T17:43:14.85Z"
        ],
        [
         529,
         1978,
         3,
         30,
         "South African Grand Prix",
         null,
         "2025-02-01T17:43:14.85Z"
        ],
        [
         530,
         1978,
         4,
         43,
         "United States Grand Prix West",
         null,
         "2025-02-01T17:43:14.85Z"
        ],
        [
         531,
         1978,
         5,
         6,
         "Monaco Grand Prix",
         null,
         "2025-02-01T17:43:14.85Z"
        ],
        [
         532,
         1978,
         6,
         40,
         "Belgian Grand Prix",
         null,
         "2025-02-01T17:43:14.85Z"
        ],
        [
         533,
         1978,
         7,
         45,
         "Spanish Grand Prix",
         null,
         "2025-02-01T17:43:14.85Z"
        ],
        [
         534,
         1978,
         8,
         47,
         "Swedish Grand Prix",
         null,
         "2025-02-01T17:43:14.85Z"
        ],
        [
         535,
         1978,
         9,
         34,
         "French Grand Prix",
         null,
         "2025-02-01T17:43:14.85Z"
        ],
        [
         536,
         1978,
         10,
         38,
         "British Grand Prix",
         null,
         "2025-02-01T17:43:14.85Z"
        ],
        [
         537,
         1978,
         11,
         10,
         "German Grand Prix",
         null,
         "2025-02-01T17:43:14.85Z"
        ],
        [
         538,
         1978,
         12,
         23,
         "Austrian Grand Prix",
         null,
         "2025-02-01T17:43:14.85Z"
        ],
        [
         539,
         1978,
         13,
         39,
         "Dutch Grand Prix",
         null,
         "2025-02-01T17:43:14.85Z"
        ],
        [
         540,
         1978,
         14,
         14,
         "Italian Grand Prix",
         null,
         "2025-02-01T17:43:14.85Z"
        ],
        [
         541,
         1978,
         15,
         46,
         "United States Grand Prix",
         null,
         "2025-02-01T17:43:14.85Z"
        ],
        [
         542,
         1978,
         16,
         7,
         "Canadian Grand Prix",
         null,
         "2025-02-01T17:43:14.85Z"
        ],
        [
         543,
         1977,
         1,
         25,
         "Argentine Grand Prix",
         null,
         "2025-02-01T17:43:14.85Z"
        ],
        [
         544,
         1977,
         2,
         18,
         "Brazilian Grand Prix",
         null,
         "2025-02-01T17:43:14.85Z"
        ],
        [
         545,
         1977,
         3,
         30,
         "South African Grand Prix",
         null,
         "2025-02-01T17:43:14.85Z"
        ],
        [
         546,
         1977,
         4,
         43,
         "United States Grand Prix West",
         null,
         "2025-02-01T17:43:14.85Z"
        ],
        [
         547,
         1977,
         5,
         45,
         "Spanish Grand Prix",
         null,
         "2025-02-01T17:43:14.85Z"
        ],
        [
         548,
         1977,
         6,
         6,
         "Monaco Grand Prix",
         null,
         "2025-02-01T17:43:14.85Z"
        ],
        [
         549,
         1977,
         7,
         40,
         "Belgian Grand Prix",
         null,
         "2025-02-01T17:43:14.85Z"
        ],
        [
         550,
         1977,
         8,
         47,
         "Swedish Grand Prix",
         null,
         "2025-02-01T17:43:14.85Z"
        ],
        [
         551,
         1977,
         9,
         41,
         "French Grand Prix",
         null,
         "2025-02-01T17:43:14.85Z"
        ],
        [
         552,
         1977,
         10,
         9,
         "British Grand Prix",
         null,
         "2025-02-01T17:43:14.85Z"
        ],
        [
         553,
         1977,
         11,
         10,
         "German Grand Prix",
         null,
         "2025-02-01T17:43:14.85Z"
        ],
        [
         554,
         1977,
         12,
         23,
         "Austrian Grand Prix",
         null,
         "2025-02-01T17:43:14.85Z"
        ],
        [
         555,
         1977,
         13,
         39,
         "Dutch Grand Prix",
         null,
         "2025-02-01T17:43:14.85Z"
        ],
        [
         556,
         1977,
         14,
         14,
         "Italian Grand Prix",
         null,
         "2025-02-01T17:43:14.85Z"
        ],
        [
         557,
         1977,
         15,
         46,
         "United States Grand Prix",
         null,
         "2025-02-01T17:43:14.85Z"
        ],
        [
         558,
         1977,
         16,
         48,
         "Canadian Grand Prix",
         null,
         "2025-02-01T17:43:14.85Z"
        ],
        [
         559,
         1977,
         17,
         16,
         "Japanese Grand Prix",
         null,
         "2025-02-01T17:43:14.85Z"
        ],
        [
         560,
         1976,
         1,
         18,
         "Brazilian Grand Prix",
         null,
         "2025-02-01T17:43:14.85Z"
        ],
        [
         561,
         1976,
         2,
         30,
         "South African Grand Prix",
         null,
         "2025-02-01T17:43:14.85Z"
        ],
        [
         562,
         1976,
         3,
         43,
         "United States Grand Prix West",
         null,
         "2025-02-01T17:43:14.85Z"
        ],
        [
         563,
         1976,
         4,
         45,
         "Spanish Grand Prix",
         null,
         "2025-02-01T17:43:14.85Z"
        ],
        [
         564,
         1976,
         5,
         40,
         "Belgian Grand Prix",
         null,
         "2025-02-01T17:43:14.85Z"
        ],
        [
         565,
         1976,
         6,
         6,
         "Monaco Grand Prix",
         null,
         "2025-02-01T17:43:14.85Z"
        ],
        [
         566,
         1976,
         7,
         47,
         "Swedish Grand Prix",
         null,
         "2025-02-01T17:43:14.85Z"
        ],
        [
         567,
         1976,
         8,
         34,
         "French Grand Prix",
         null,
         "2025-02-01T17:43:14.85Z"
        ],
        [
         568,
         1976,
         9,
         38,
         "British Grand Prix",
         null,
         "2025-02-01T17:43:14.85Z"
        ],
        [
         569,
         1976,
         10,
         20,
         "German Grand Prix",
         null,
         "2025-02-01T17:43:14.85Z"
        ],
        [
         570,
         1976,
         11,
         23,
         "Austrian Grand Prix",
         null,
         "2025-02-01T17:43:14.85Z"
        ],
        [
         571,
         1976,
         12,
         39,
         "Dutch Grand Prix",
         null,
         "2025-02-01T17:43:14.85Z"
        ],
        [
         572,
         1976,
         13,
         14,
         "Italian Grand Prix",
         null,
         "2025-02-01T17:43:14.85Z"
        ],
        [
         573,
         1976,
         14,
         48,
         "Canadian Grand Prix",
         null,
         "2025-02-01T17:43:14.85Z"
        ],
        [
         574,
         1976,
         15,
         46,
         "United States Grand Prix",
         null,
         "2025-02-01T17:43:14.85Z"
        ],
        [
         575,
         1976,
         16,
         16,
         "Japanese Grand Prix",
         null,
         "2025-02-01T17:43:14.85Z"
        ],
        [
         576,
         1975,
         1,
         25,
         "Argentine Grand Prix",
         null,
         "2025-02-01T17:43:14.85Z"
        ],
        [
         577,
         1975,
         2,
         18,
         "Brazilian Grand Prix",
         null,
         "2025-02-01T17:43:14.85Z"
        ],
        [
         578,
         1975,
         3,
         30,
         "South African Grand Prix",
         null,
         "2025-02-01T17:43:14.85Z"
        ],
        [
         579,
         1975,
         4,
         49,
         "Spanish Grand Prix",
         null,
         "2025-02-01T17:43:14.85Z"
        ],
        [
         580,
         1975,
         5,
         6,
         "Monaco Grand Prix",
         null,
         "2025-02-01T17:43:14.85Z"
        ],
        [
         581,
         1975,
         6,
         40,
         "Belgian Grand Prix",
         null,
         "2025-02-01T17:43:14.85Z"
        ],
        [
         582,
         1975,
         7,
         47,
         "Swedish Grand Prix",
         null,
         "2025-02-01T17:43:14.85Z"
        ],
        [
         583,
         1975,
         8,
         39,
         "Dutch Grand Prix",
         null,
         "2025-02-01T17:43:14.85Z"
        ],
        [
         584,
         1975,
         9,
         34,
         "French Grand Prix",
         null,
         "2025-02-01T17:43:14.85Z"
        ],
        [
         585,
         1975,
         10,
         9,
         "British Grand Prix",
         null,
         "2025-02-01T17:43:14.85Z"
        ],
        [
         586,
         1975,
         11,
         20,
         "German Grand Prix",
         null,
         "2025-02-01T17:43:14.85Z"
        ],
        [
         587,
         1975,
         12,
         23,
         "Austrian Grand Prix",
         null,
         "2025-02-01T17:43:14.85Z"
        ],
        [
         588,
         1975,
         13,
         14,
         "Italian Grand Prix",
         null,
         "2025-02-01T17:43:14.85Z"
        ],
        [
         589,
         1975,
         14,
         46,
         "United States Grand Prix",
         null,
         "2025-02-01T17:43:14.85Z"
        ],
        [
         590,
         1974,
         1,
         25,
         "Argentine Grand Prix",
         null,
         "2025-02-01T17:43:14.85Z"
        ],
        [
         591,
         1974,
         2,
         18,
         "Brazilian Grand Prix",
         null,
         "2025-02-01T17:43:14.85Z"
        ],
        [
         592,
         1974,
         3,
         30,
         "South African Grand Prix",
         null,
         "2025-02-01T17:43:14.85Z"
        ],
        [
         593,
         1974,
         4,
         45,
         "Spanish Grand Prix",
         null,
         "2025-02-01T17:43:14.85Z"
        ],
        [
         594,
         1974,
         5,
         50,
         "Belgian Grand Prix",
         null,
         "2025-02-01T17:43:14.85Z"
        ],
        [
         595,
         1974,
         6,
         6,
         "Monaco Grand Prix",
         null,
         "2025-02-01T17:43:14.85Z"
        ],
        [
         596,
         1974,
         7,
         47,
         "Swedish Grand Prix",
         null,
         "2025-02-01T17:43:14.85Z"
        ],
        [
         597,
         1974,
         8,
         39,
         "Dutch Grand Prix",
         null,
         "2025-02-01T17:43:14.85Z"
        ],
        [
         598,
         1974,
         9,
         41,
         "French Grand Prix",
         null,
         "2025-02-01T17:43:14.85Z"
        ],
        [
         599,
         1974,
         10,
         38,
         "British Grand Prix",
         null,
         "2025-02-01T17:43:14.85Z"
        ],
        [
         600,
         1974,
         11,
         20,
         "German Grand Prix",
         null,
         "2025-02-01T17:43:14.85Z"
        ],
        [
         601,
         1974,
         12,
         23,
         "Austrian Grand Prix",
         null,
         "2025-02-01T17:43:14.85Z"
        ],
        [
         602,
         1974,
         13,
         14,
         "Italian Grand Prix",
         null,
         "2025-02-01T17:43:14.85Z"
        ],
        [
         603,
         1974,
         14,
         48,
         "Canadian Grand Prix",
         null,
         "2025-02-01T17:43:14.85Z"
        ],
        [
         604,
         1974,
         15,
         46,
         "United States Grand Prix",
         null,
         "2025-02-01T17:43:14.85Z"
        ],
        [
         605,
         1973,
         1,
         25,
         "Argentine Grand Prix",
         null,
         "2025-02-01T17:43:14.85Z"
        ],
        [
         606,
         1973,
         2,
         18,
         "Brazilian Grand Prix",
         null,
         "2025-02-01T17:43:14.85Z"
        ],
        [
         607,
         1973,
         3,
         30,
         "South African Grand Prix",
         null,
         "2025-02-01T17:43:14.85Z"
        ],
        [
         608,
         1973,
         4,
         49,
         "Spanish Grand Prix",
         null,
         "2025-02-01T17:43:14.85Z"
        ],
        [
         609,
         1973,
         5,
         40,
         "Belgian Grand Prix",
         null,
         "2025-02-01T17:43:14.85Z"
        ],
        [
         610,
         1973,
         6,
         6,
         "Monaco Grand Prix",
         null,
         "2025-02-01T17:43:14.85Z"
        ],
        [
         611,
         1973,
         7,
         47,
         "Swedish Grand Prix",
         null,
         "2025-02-01T17:43:14.85Z"
        ],
        [
         612,
         1973,
         8,
         34,
         "French Grand Prix",
         null,
         "2025-02-01T17:43:14.85Z"
        ],
        [
         613,
         1973,
         9,
         9,
         "British Grand Prix",
         null,
         "2025-02-01T17:43:14.85Z"
        ],
        [
         614,
         1973,
         10,
         39,
         "Dutch Grand Prix",
         null,
         "2025-02-01T17:43:14.85Z"
        ],
        [
         615,
         1973,
         11,
         20,
         "German Grand Prix",
         null,
         "2025-02-01T17:43:14.85Z"
        ],
        [
         616,
         1973,
         12,
         23,
         "Austrian Grand Prix",
         null,
         "2025-02-01T17:43:14.85Z"
        ],
        [
         617,
         1973,
         13,
         14,
         "Italian Grand Prix",
         null,
         "2025-02-01T17:43:14.85Z"
        ],
        [
         618,
         1973,
         14,
         48,
         "Canadian Grand Prix",
         null,
         "2025-02-01T17:43:14.85Z"
        ],
        [
         619,
         1973,
         15,
         46,
         "United States Grand Prix",
         null,
         "2025-02-01T17:43:14.85Z"
        ],
        [
         620,
         1972,
         1,
         25,
         "Argentine Grand Prix",
         null,
         "2025-02-01T17:43:14.85Z"
        ],
        [
         621,
         1972,
         2,
         30,
         "South African Grand Prix",
         null,
         "2025-02-01T17:43:14.85Z"
        ],
        [
         622,
         1972,
         3,
         45,
         "Spanish Grand Prix",
         null,
         "2025-02-01T17:43:14.85Z"
        ],
        [
         623,
         1972,
         4,
         6,
         "Monaco Grand Prix",
         null,
         "2025-02-01T17:43:14.85Z"
        ],
        [
         624,
         1972,
         5,
         50,
         "Belgian Grand Prix",
         null,
         "2025-02-01T17:43:14.85Z"
        ],
        [
         625,
         1972,
         6,
         51,
         "French Grand Prix",
         null,
         "2025-02-01T17:43:14.85Z"
        ],
        [
         626,
         1972,
         7,
         38,
         "British Grand Prix",
         null,
         "2025-02-01T17:43:14.85Z"
        ],
        [
         627,
         1972,
         8,
         20,
         "German Grand Prix",
         null,
         "2025-02-01T17:43:14.85Z"
        ],
        [
         628,
         1972,
         9,
         23,
         "Austrian Grand Prix",
         null,
         "2025-02-01T17:43:14.85Z"
        ],
        [
         629,
         1972,
         10,
         14,
         "Italian Grand Prix",
         null,
         "2025-02-01T17:43:14.85Z"
        ],
        [
         630,
         1972,
         11,
         48,
         "Canadian Grand Prix",
         null,
         "2025-02-01T17:43:14.85Z"
        ],
        [
         631,
         1972,
         12,
         46,
         "United States Grand Prix",
         null,
         "2025-02-01T17:43:14.85Z"
        ],
        [
         632,
         1971,
         1,
         30,
         "South African Grand Prix",
         null,
         "2025-02-01T17:43:14.85Z"
        ],
        [
         633,
         1971,
         2,
         49,
         "Spanish Grand Prix",
         null,
         "2025-02-01T17:43:14.85Z"
        ],
        [
         634,
         1971,
         3,
         6,
         "Monaco Grand Prix",
         null,
         "2025-02-01T17:43:14.85Z"
        ],
        [
         635,
         1971,
         4,
         39,
         "Dutch Grand Prix",
         null,
         "2025-02-01T17:43:14.85Z"
        ],
        [
         636,
         1971,
         5,
         34,
         "French Grand Prix",
         null,
         "2025-02-01T17:43:14.85Z"
        ],
        [
         637,
         1971,
         6,
         9,
         "British Grand Prix",
         null,
         "2025-02-01T17:43:14.85Z"
        ],
        [
         638,
         1971,
         7,
         20,
         "German Grand Prix",
         null,
         "2025-02-01T17:43:14.85Z"
        ],
        [
         639,
         1971,
         8,
         23,
         "Austrian Grand Prix",
         null,
         "2025-02-01T17:43:14.85Z"
        ],
        [
         640,
         1971,
         9,
         14,
         "Italian Grand Prix",
         null,
         "2025-02-01T17:43:14.85Z"
        ],
        [
         641,
         1971,
         10,
         48,
         "Canadian Grand Prix",
         null,
         "2025-02-01T17:43:14.85Z"
        ],
        [
         642,
         1971,
         11,
         46,
         "United States Grand Prix",
         null,
         "2025-02-01T17:43:14.85Z"
        ],
        [
         643,
         1970,
         1,
         30,
         "South African Grand Prix",
         null,
         "2025-02-01T17:43:14.85Z"
        ],
        [
         644,
         1970,
         2,
         45,
         "Spanish Grand Prix",
         null,
         "2025-02-01T17:43:14.85Z"
        ],
        [
         645,
         1970,
         3,
         6,
         "Monaco Grand Prix",
         null,
         "2025-02-01T17:43:14.85Z"
        ],
        [
         646,
         1970,
         4,
         13,
         "Belgian Grand Prix",
         null,
         "2025-02-01T17:43:14.85Z"
        ],
        [
         647,
         1970,
         5,
         39,
         "Dutch Grand Prix",
         null,
         "2025-02-01T17:43:14.85Z"
        ],
        [
         648,
         1970,
         6,
         51,
         "French Grand Prix",
         null,
         "2025-02-01T17:43:14.85Z"
        ],
        [
         649,
         1970,
         7,
         38,
         "British Grand Prix",
         null,
         "2025-02-01T17:43:14.85Z"
        ],
        [
         650,
         1970,
         8,
         10,
         "German Grand Prix",
         null,
         "2025-02-01T17:43:14.85Z"
        ],
        [
         651,
         1970,
         9,
         23,
         "Austrian Grand Prix",
         null,
         "2025-02-01T17:43:14.85Z"
        ],
        [
         652,
         1970,
         10,
         14,
         "Italian Grand Prix",
         null,
         "2025-02-01T17:43:14.85Z"
        ],
        [
         653,
         1970,
         11,
         52,
         "Canadian Grand Prix",
         null,
         "2025-02-01T17:43:14.85Z"
        ],
        [
         654,
         1970,
         12,
         46,
         "United States Grand Prix",
         null,
         "2025-02-01T17:43:14.85Z"
        ],
        [
         655,
         1970,
         13,
         32,
         "Mexican Grand Prix",
         null,
         "2025-02-01T17:43:14.85Z"
        ],
        [
         656,
         1969,
         1,
         30,
         "South African Grand Prix",
         null,
         "2025-02-01T17:43:14.85Z"
        ],
        [
         657,
         1969,
         2,
         49,
         "Spanish Grand Prix",
         null,
         "2025-02-01T17:43:14.85Z"
        ],
        [
         658,
         1969,
         3,
         6,
         "Monaco Grand Prix",
         null,
         "2025-02-01T17:43:14.85Z"
        ],
        [
         659,
         1969,
         4,
         39,
         "Dutch Grand Prix",
         null,
         "2025-02-01T17:43:14.85Z"
        ],
        [
         660,
         1969,
         5,
         51,
         "French Grand Prix",
         null,
         "2025-02-01T17:43:14.85Z"
        ],
        [
         661,
         1969,
         6,
         9,
         "British Grand Prix",
         null,
         "2025-02-01T17:43:14.85Z"
        ],
        [
         662,
         1969,
         7,
         20,
         "German Grand Prix",
         null,
         "2025-02-01T17:43:14.85Z"
        ],
        [
         663,
         1969,
         8,
         14,
         "Italian Grand Prix",
         null,
         "2025-02-01T17:43:14.85Z"
        ],
        [
         664,
         1969,
         9,
         48,
         "Canadian Grand Prix",
         null,
         "2025-02-01T17:43:14.85Z"
        ],
        [
         665,
         1969,
         10,
         46,
         "United States Grand Prix",
         null,
         "2025-02-01T17:43:14.85Z"
        ],
        [
         666,
         1969,
         11,
         32,
         "Mexican Grand Prix",
         null,
         "2025-02-01T17:43:14.85Z"
        ],
        [
         667,
         1968,
         1,
         30,
         "South African Grand Prix",
         null,
         "2025-02-01T17:43:14.85Z"
        ],
        [
         668,
         1968,
         2,
         45,
         "Spanish Grand Prix",
         null,
         "2025-02-01T17:43:14.85Z"
        ],
        [
         669,
         1968,
         3,
         6,
         "Monaco Grand Prix",
         null,
         "2025-02-01T17:43:14.85Z"
        ],
        [
         670,
         1968,
         4,
         13,
         "Belgian Grand Prix",
         null,
         "2025-02-01T17:43:14.85Z"
        ],
        [
         671,
         1968,
         5,
         39,
         "Dutch Grand Prix",
         null,
         "2025-02-01T17:43:14.85Z"
        ],
        [
         672,
         1968,
         6,
         53,
         "French Grand Prix",
         null,
         "2025-02-01T17:43:14.85Z"
        ],
        [
         673,
         1968,
         7,
         38,
         "British Grand Prix",
         null,
         "2025-02-01T17:43:14.85Z"
        ],
        [
         674,
         1968,
         8,
         20,
         "German Grand Prix",
         null,
         "2025-02-01T17:43:14.85Z"
        ],
        [
         675,
         1968,
         9,
         14,
         "Italian Grand Prix",
         null,
         "2025-02-01T17:43:14.85Z"
        ],
        [
         676,
         1968,
         10,
         52,
         "Canadian Grand Prix",
         null,
         "2025-02-01T17:43:14.85Z"
        ],
        [
         677,
         1968,
         11,
         46,
         "United States Grand Prix",
         null,
         "2025-02-01T17:43:14.85Z"
        ],
        [
         678,
         1968,
         12,
         32,
         "Mexican Grand Prix",
         null,
         "2025-02-01T17:43:14.85Z"
        ],
        [
         679,
         1967,
         1,
         30,
         "South African Grand Prix",
         null,
         "2025-02-01T17:43:14.85Z"
        ],
        [
         680,
         1967,
         2,
         6,
         "Monaco Grand Prix",
         null,
         "2025-02-01T17:43:14.85Z"
        ],
        [
         681,
         1967,
         3,
         39,
         "Dutch Grand Prix",
         null,
         "2025-02-01T17:43:14.85Z"
        ],
        [
         682,
         1967,
         4,
         13,
         "Belgian Grand Prix",
         null,
         "2025-02-01T17:43:14.85Z"
        ],
        [
         683,
         1967,
         5,
         54,
         "French Grand Prix",
         null,
         "2025-02-01T17:43:14.85Z"
        ],
        [
         684,
         1967,
         6,
         9,
         "British Grand Prix",
         null,
         "2025-02-01T17:43:14.85Z"
        ],
        [
         685,
         1967,
         7,
         20,
         "German Grand Prix",
         null,
         "2025-02-01T17:43:14.85Z"
        ],
        [
         686,
         1967,
         8,
         48,
         "Canadian Grand Prix",
         null,
         "2025-02-01T17:43:14.85Z"
        ],
        [
         687,
         1967,
         9,
         14,
         "Italian Grand Prix",
         null,
         "2025-02-01T17:43:14.85Z"
        ],
        [
         688,
         1967,
         10,
         46,
         "United States Grand Prix",
         null,
         "2025-02-01T17:43:14.85Z"
        ],
        [
         689,
         1967,
         11,
         32,
         "Mexican Grand Prix",
         null,
         "2025-02-01T17:43:14.85Z"
        ],
        [
         690,
         1966,
         1,
         6,
         "Monaco Grand Prix",
         null,
         "2025-02-01T17:43:14.85Z"
        ],
        [
         691,
         1966,
         2,
         13,
         "Belgian Grand Prix",
         null,
         "2025-02-01T17:43:14.85Z"
        ],
        [
         692,
         1966,
         3,
         55,
         "French Grand Prix",
         null,
         "2025-02-01T17:43:14.85Z"
        ],
        [
         693,
         1966,
         4,
         38,
         "British Grand Prix",
         null,
         "2025-02-01T17:43:14.85Z"
        ],
        [
         694,
         1966,
         5,
         39,
         "Dutch Grand Prix",
         null,
         "2025-02-01T17:43:14.85Z"
        ],
        [
         695,
         1966,
         6,
         20,
         "German Grand Prix",
         null,
         "2025-02-01T17:43:14.85Z"
        ],
        [
         696,
         1966,
         7,
         14,
         "Italian Grand Prix",
         null,
         "2025-02-01T17:43:14.85Z"
        ],
        [
         697,
         1966,
         8,
         46,
         "United States Grand Prix",
         null,
         "2025-02-01T17:43:14.85Z"
        ],
        [
         698,
         1966,
         9,
         32,
         "Mexican Grand Prix",
         null,
         "2025-02-01T17:43:14.85Z"
        ],
        [
         699,
         1965,
         1,
         56,
         "South African Grand Prix",
         null,
         "2025-02-01T17:43:14.85Z"
        ],
        [
         700,
         1965,
         2,
         6,
         "Monaco Grand Prix",
         null,
         "2025-02-01T17:43:14.85Z"
        ],
        [
         701,
         1965,
         3,
         13,
         "Belgian Grand Prix",
         null,
         "2025-02-01T17:43:14.85Z"
        ],
        [
         702,
         1965,
         4,
         51,
         "French Grand Prix",
         null,
         "2025-02-01T17:43:14.85Z"
        ],
        [
         703,
         1965,
         5,
         9,
         "British Grand Prix",
         null,
         "2025-02-01T17:43:14.85Z"
        ],
        [
         704,
         1965,
         6,
         39,
         "Dutch Grand Prix",
         null,
         "2025-02-01T17:43:14.85Z"
        ],
        [
         705,
         1965,
         7,
         20,
         "German Grand Prix",
         null,
         "2025-02-01T17:43:14.85Z"
        ],
        [
         706,
         1965,
         8,
         14,
         "Italian Grand Prix",
         null,
         "2025-02-01T17:43:14.85Z"
        ],
        [
         707,
         1965,
         9,
         46,
         "United States Grand Prix",
         null,
         "2025-02-01T17:43:14.85Z"
        ],
        [
         708,
         1965,
         10,
         32,
         "Mexican Grand Prix",
         null,
         "2025-02-01T17:43:14.85Z"
        ],
        [
         709,
         1964,
         1,
         6,
         "Monaco Grand Prix",
         null,
         "2025-02-01T17:43:14.85Z"
        ],
        [
         710,
         1964,
         2,
         39,
         "Dutch Grand Prix",
         null,
         "2025-02-01T17:43:14.85Z"
        ],
        [
         711,
         1964,
         3,
         13,
         "Belgian Grand Prix",
         null,
         "2025-02-01T17:43:14.85Z"
        ],
        [
         712,
         1964,
         4,
         53,
         "French Grand Prix",
         null,
         "2025-02-01T17:43:14.85Z"
        ],
        [
         713,
         1964,
         5,
         38,
         "British Grand Prix",
         null,
         "2025-02-01T17:43:14.85Z"
        ],
        [
         714,
         1964,
         6,
         20,
         "German Grand Prix",
         null,
         "2025-02-01T17:43:14.85Z"
        ],
        [
         715,
         1964,
         7,
         57,
         "Austrian Grand Prix",
         null,
         "2025-02-01T17:43:14.85Z"
        ],
        [
         716,
         1964,
         8,
         14,
         "Italian Grand Prix",
         null,
         "2025-02-01T17:43:14.85Z"
        ],
        [
         717,
         1964,
         9,
         46,
         "United States Grand Prix",
         null,
         "2025-02-01T17:43:14.85Z"
        ],
        [
         718,
         1964,
         10,
         32,
         "Mexican Grand Prix",
         null,
         "2025-02-01T17:43:14.85Z"
        ],
        [
         719,
         1963,
         1,
         6,
         "Monaco Grand Prix",
         null,
         "2025-02-01T17:43:14.85Z"
        ],
        [
         720,
         1963,
         2,
         13,
         "Belgian Grand Prix",
         null,
         "2025-02-01T17:43:14.85Z"
        ],
        [
         721,
         1963,
         3,
         39,
         "Dutch Grand Prix",
         null,
         "2025-02-01T17:43:14.85Z"
        ],
        [
         722,
         1963,
         4,
         55,
         "French Grand Prix",
         null,
         "2025-02-01T17:43:14.85Z"
        ],
        [
         723,
         1963,
         5,
         9,
         "British Grand Prix",
         null,
         "2025-02-01T17:43:14.85Z"
        ],
        [
         724,
         1963,
         6,
         20,
         "German Grand Prix",
         null,
         "2025-02-01T17:43:14.85Z"
        ],
        [
         725,
         1963,
         7,
         14,
         "Italian Grand Prix",
         null,
         "2025-02-01T17:43:14.85Z"
        ],
        [
         726,
         1963,
         8,
         46,
         "United States Grand Prix",
         null,
         "2025-02-01T17:43:14.85Z"
        ],
        [
         727,
         1963,
         9,
         32,
         "Mexican Grand Prix",
         null,
         "2025-02-01T17:43:14.85Z"
        ],
        [
         728,
         1963,
         10,
         56,
         "South African Grand Prix",
         null,
         "2025-02-01T17:43:14.85Z"
        ],
        [
         729,
         1962,
         1,
         39,
         "Dutch Grand Prix",
         null,
         "2025-02-01T17:43:14.85Z"
        ],
        [
         730,
         1962,
         2,
         6,
         "Monaco Grand Prix",
         null,
         "2025-02-01T17:43:14.85Z"
        ],
        [
         731,
         1962,
         3,
         13,
         "Belgian Grand Prix",
         null,
         "2025-02-01T17:43:14.85Z"
        ],
        [
         732,
         1962,
         4,
         53,
         "French Grand Prix",
         null,
         "2025-02-01T17:43:14.85Z"
        ],
        [
         733,
         1962,
         5,
         58,
         "British Grand Prix",
         null,
         "2025-02-01T17:43:14.85Z"
        ],
        [
         734,
         1962,
         6,
         20,
         "German Grand Prix",
         null,
         "2025-02-01T17:43:14.85Z"
        ],
        [
         735,
         1962,
         7,
         14,
         "Italian Grand Prix",
         null,
         "2025-02-01T17:43:14.85Z"
        ],
        [
         736,
         1962,
         8,
         46,
         "United States Grand Prix",
         null,
         "2025-02-01T17:43:14.85Z"
        ],
        [
         737,
         1962,
         9,
         56,
         "South African Grand Prix",
         null,
         "2025-02-01T17:43:14.85Z"
        ],
        [
         738,
         1961,
         1,
         6,
         "Monaco Grand Prix",
         null,
         "2025-02-01T17:43:14.85Z"
        ],
        [
         739,
         1961,
         2,
         39,
         "Dutch Grand Prix",
         null,
         "2025-02-01T17:43:14.85Z"
        ],
        [
         740,
         1961,
         3,
         13,
         "Belgian Grand Prix",
         null,
         "2025-02-01T17:43:14.85Z"
        ],
        [
         741,
         1961,
         4,
         55,
         "French Grand Prix",
         null,
         "2025-02-01T17:43:14.85Z"
        ],
        [
         742,
         1961,
         5,
         58,
         "British Grand Prix",
         null,
         "2025-02-01T17:43:14.85Z"
        ],
        [
         743,
         1961,
         6,
         20,
         "German Grand Prix",
         null,
         "2025-02-01T17:43:14.85Z"
        ],
        [
         744,
         1961,
         7,
         14,
         "Italian Grand Prix",
         null,
         "2025-02-01T17:43:14.85Z"
        ],
        [
         745,
         1961,
         8,
         46,
         "United States Grand Prix",
         null,
         "2025-02-01T17:43:14.85Z"
        ],
        [
         746,
         1960,
         1,
         25,
         "Argentine Grand Prix",
         null,
         "2025-02-01T17:43:14.85Z"
        ],
        [
         747,
         1960,
         2,
         6,
         "Monaco Grand Prix",
         null,
         "2025-02-01T17:43:14.85Z"
        ],
        [
         748,
         1960,
         3,
         19,
         "Indianapolis 500",
         null,
         "2025-02-01T17:43:14.85Z"
        ],
        [
         749,
         1960,
         4,
         39,
         "Dutch Grand Prix",
         null,
         "2025-02-01T17:43:14.85Z"
        ],
        [
         750,
         1960,
         5,
         13,
         "Belgian Grand Prix",
         null,
         "2025-02-01T17:43:14.85Z"
        ],
        [
         751,
         1960,
         6,
         55,
         "French Grand Prix",
         null,
         "2025-02-01T17:43:14.85Z"
        ],
        [
         752,
         1960,
         7,
         9,
         "British Grand Prix",
         null,
         "2025-02-01T17:43:14.85Z"
        ],
        [
         753,
         1960,
         8,
         59,
         "Portuguese Grand Prix",
         null,
         "2025-02-01T17:43:14.85Z"
        ],
        [
         754,
         1960,
         9,
         14,
         "Italian Grand Prix",
         null,
         "2025-02-01T17:43:14.85Z"
        ],
        [
         755,
         1960,
         10,
         60,
         "United States Grand Prix",
         null,
         "2025-02-01T17:43:14.85Z"
        ],
        [
         756,
         1959,
         1,
         6,
         "Monaco Grand Prix",
         null,
         "2025-02-01T17:43:14.85Z"
        ],
        [
         757,
         1959,
         2,
         19,
         "Indianapolis 500",
         null,
         "2025-02-01T17:43:14.85Z"
        ],
        [
         758,
         1959,
         3,
         39,
         "Dutch Grand Prix",
         null,
         "2025-02-01T17:43:14.85Z"
        ],
        [
         759,
         1959,
         4,
         55,
         "French Grand Prix",
         null,
         "2025-02-01T17:43:14.85Z"
        ],
        [
         760,
         1959,
         5,
         58,
         "British Grand Prix",
         null,
         "2025-02-01T17:43:14.85Z"
        ],
        [
         761,
         1959,
         6,
         61,
         "German Grand Prix",
         null,
         "2025-02-01T17:43:14.85Z"
        ],
        [
         762,
         1959,
         7,
         62,
         "Portuguese Grand Prix",
         null,
         "2025-02-01T17:43:14.85Z"
        ],
        [
         763,
         1959,
         8,
         14,
         "Italian Grand Prix",
         null,
         "2025-02-01T17:43:14.85Z"
        ],
        [
         764,
         1959,
         9,
         63,
         "United States Grand Prix",
         null,
         "2025-02-01T17:43:14.85Z"
        ],
        [
         765,
         1958,
         1,
         25,
         "Argentine Grand Prix",
         null,
         "2025-02-01T17:43:14.85Z"
        ],
        [
         766,
         1958,
         2,
         6,
         "Monaco Grand Prix",
         null,
         "2025-02-01T17:43:14.85Z"
        ],
        [
         767,
         1958,
         3,
         39,
         "Dutch Grand Prix",
         null,
         "2025-02-01T17:43:14.85Z"
        ],
        [
         768,
         1958,
         4,
         19,
         "Indianapolis 500",
         null,
         "2025-02-01T17:43:14.85Z"
        ],
        [
         769,
         1958,
         5,
         13,
         "Belgian Grand Prix",
         null,
         "2025-02-01T17:43:14.85Z"
        ],
        [
         770,
         1958,
         6,
         55,
         "French Grand Prix",
         null,
         "2025-02-01T17:43:14.85Z"
        ],
        [
         771,
         1958,
         7,
         9,
         "British Grand Prix",
         null,
         "2025-02-01T17:43:14.85Z"
        ],
        [
         772,
         1958,
         8,
         20,
         "German Grand Prix",
         null,
         "2025-02-01T17:43:14.85Z"
        ],
        [
         773,
         1958,
         9,
         59,
         "Portuguese Grand Prix",
         null,
         "2025-02-01T17:43:14.85Z"
        ],
        [
         774,
         1958,
         10,
         14,
         "Italian Grand Prix",
         null,
         "2025-02-01T17:43:14.85Z"
        ],
        [
         775,
         1958,
         11,
         64,
         "Moroccan Grand Prix",
         null,
         "2025-02-01T17:43:14.85Z"
        ],
        [
         776,
         1957,
         1,
         25,
         "Argentine Grand Prix",
         null,
         "2025-02-01T17:43:14.85Z"
        ],
        [
         777,
         1957,
         2,
         6,
         "Monaco Grand Prix",
         null,
         "2025-02-01T17:43:14.85Z"
        ],
        [
         778,
         1957,
         3,
         19,
         "Indianapolis 500",
         null,
         "2025-02-01T17:43:14.85Z"
        ],
        [
         779,
         1957,
         4,
         53,
         "French Grand Prix",
         null,
         "2025-02-01T17:43:14.85Z"
        ],
        [
         780,
         1957,
         5,
         58,
         "British Grand Prix",
         null,
         "2025-02-01T17:43:14.85Z"
        ],
        [
         781,
         1957,
         6,
         20,
         "German Grand Prix",
         null,
         "2025-02-01T17:43:14.85Z"
        ],
        [
         782,
         1957,
         7,
         65,
         "Pescara Grand Prix",
         null,
         "2025-02-01T17:43:14.85Z"
        ],
        [
         783,
         1957,
         8,
         14,
         "Italian Grand Prix",
         null,
         "2025-02-01T17:43:14.85Z"
        ],
        [
         784,
         1956,
         1,
         25,
         "Argentine Grand Prix",
         null,
         "2025-02-01T17:43:14.85Z"
        ],
        [
         785,
         1956,
         2,
         6,
         "Monaco Grand Prix",
         null,
         "2025-02-01T17:43:14.85Z"
        ],
        [
         786,
         1956,
         3,
         19,
         "Indianapolis 500",
         null,
         "2025-02-01T17:43:14.85Z"
        ],
        [
         787,
         1956,
         4,
         13,
         "Belgian Grand Prix",
         null,
         "2025-02-01T17:43:14.85Z"
        ],
        [
         788,
         1956,
         5,
         55,
         "French Grand Prix",
         null,
         "2025-02-01T17:43:14.85Z"
        ],
        [
         789,
         1956,
         6,
         9,
         "British Grand Prix",
         null,
         "2025-02-01T17:43:14.85Z"
        ],
        [
         790,
         1956,
         7,
         20,
         "German Grand Prix",
         null,
         "2025-02-01T17:43:14.85Z"
        ],
        [
         791,
         1956,
         8,
         14,
         "Italian Grand Prix",
         null,
         "2025-02-01T17:43:14.85Z"
        ],
        [
         792,
         1955,
         1,
         25,
         "Argentine Grand Prix",
         null,
         "2025-02-01T17:43:14.85Z"
        ],
        [
         793,
         1955,
         2,
         6,
         "Monaco Grand Prix",
         null,
         "2025-02-01T17:43:14.85Z"
        ],
        [
         794,
         1955,
         3,
         19,
         "Indianapolis 500",
         null,
         "2025-02-01T17:43:14.85Z"
        ],
        [
         795,
         1955,
         4,
         13,
         "Belgian Grand Prix",
         null,
         "2025-02-01T17:43:14.85Z"
        ],
        [
         796,
         1955,
         5,
         39,
         "Dutch Grand Prix",
         null,
         "2025-02-01T17:43:14.85Z"
        ],
        [
         797,
         1955,
         6,
         58,
         "British Grand Prix",
         null,
         "2025-02-01T17:43:14.85Z"
        ],
        [
         798,
         1955,
         7,
         14,
         "Italian Grand Prix",
         null,
         "2025-02-01T17:43:14.85Z"
        ],
        [
         799,
         1954,
         1,
         25,
         "Argentine Grand Prix",
         null,
         "2025-02-01T17:43:14.85Z"
        ],
        [
         800,
         1954,
         2,
         19,
         "Indianapolis 500",
         null,
         "2025-02-01T17:43:14.85Z"
        ],
        [
         801,
         1954,
         3,
         13,
         "Belgian Grand Prix",
         null,
         "2025-02-01T17:43:14.85Z"
        ],
        [
         802,
         1954,
         4,
         55,
         "French Grand Prix",
         null,
         "2025-02-01T17:43:14.85Z"
        ],
        [
         803,
         1954,
         5,
         9,
         "British Grand Prix",
         null,
         "2025-02-01T17:43:14.85Z"
        ],
        [
         804,
         1954,
         6,
         20,
         "German Grand Prix",
         null,
         "2025-02-01T17:43:14.85Z"
        ],
        [
         805,
         1954,
         7,
         66,
         "Swiss Grand Prix",
         null,
         "2025-02-01T17:43:14.85Z"
        ],
        [
         806,
         1954,
         8,
         14,
         "Italian Grand Prix",
         null,
         "2025-02-01T17:43:14.85Z"
        ],
        [
         807,
         1954,
         9,
         67,
         "Spanish Grand Prix",
         null,
         "2025-02-01T17:43:14.85Z"
        ],
        [
         808,
         1953,
         1,
         25,
         "Argentine Grand Prix",
         null,
         "2025-02-01T17:43:14.85Z"
        ],
        [
         809,
         1953,
         2,
         19,
         "Indianapolis 500",
         null,
         "2025-02-01T17:43:14.85Z"
        ],
        [
         810,
         1953,
         3,
         39,
         "Dutch Grand Prix",
         null,
         "2025-02-01T17:43:14.85Z"
        ],
        [
         811,
         1953,
         4,
         13,
         "Belgian Grand Prix",
         null,
         "2025-02-01T17:43:14.85Z"
        ],
        [
         812,
         1953,
         5,
         55,
         "French Grand Prix",
         null,
         "2025-02-01T17:43:14.85Z"
        ],
        [
         813,
         1953,
         6,
         9,
         "British Grand Prix",
         null,
         "2025-02-01T17:43:14.85Z"
        ],
        [
         814,
         1953,
         7,
         20,
         "German Grand Prix",
         null,
         "2025-02-01T17:43:14.85Z"
        ],
        [
         815,
         1953,
         8,
         66,
         "Swiss Grand Prix",
         null,
         "2025-02-01T17:43:14.85Z"
        ],
        [
         816,
         1953,
         9,
         14,
         "Italian Grand Prix",
         null,
         "2025-02-01T17:43:14.85Z"
        ],
        [
         817,
         1952,
         1,
         66,
         "Swiss Grand Prix",
         null,
         "2025-02-01T17:43:14.85Z"
        ],
        [
         818,
         1952,
         2,
         19,
         "Indianapolis 500",
         null,
         "2025-02-01T17:43:14.85Z"
        ],
        [
         819,
         1952,
         3,
         13,
         "Belgian Grand Prix",
         null,
         "2025-02-01T17:43:14.85Z"
        ],
        [
         820,
         1952,
         4,
         53,
         "French Grand Prix",
         null,
         "2025-02-01T17:43:14.85Z"
        ],
        [
         821,
         1952,
         5,
         9,
         "British Grand Prix",
         null,
         "2025-02-01T17:43:14.85Z"
        ],
        [
         822,
         1952,
         6,
         20,
         "German Grand Prix",
         null,
         "2025-02-01T17:43:14.85Z"
        ],
        [
         823,
         1952,
         7,
         39,
         "Dutch Grand Prix",
         null,
         "2025-02-01T17:43:14.85Z"
        ],
        [
         824,
         1952,
         8,
         14,
         "Italian Grand Prix",
         null,
         "2025-02-01T17:43:14.85Z"
        ],
        [
         825,
         1951,
         1,
         66,
         "Swiss Grand Prix",
         null,
         "2025-02-01T17:43:14.85Z"
        ],
        [
         826,
         1951,
         2,
         19,
         "Indianapolis 500",
         null,
         "2025-02-01T17:43:14.85Z"
        ],
        [
         827,
         1951,
         3,
         13,
         "Belgian Grand Prix",
         null,
         "2025-02-01T17:43:14.85Z"
        ],
        [
         828,
         1951,
         4,
         55,
         "French Grand Prix",
         null,
         "2025-02-01T17:43:14.85Z"
        ],
        [
         829,
         1951,
         5,
         9,
         "British Grand Prix",
         null,
         "2025-02-01T17:43:14.85Z"
        ],
        [
         830,
         1951,
         6,
         20,
         "German Grand Prix",
         null,
         "2025-02-01T17:43:14.85Z"
        ],
        [
         831,
         1951,
         7,
         14,
         "Italian Grand Prix",
         null,
         "2025-02-01T17:43:14.85Z"
        ],
        [
         832,
         1951,
         8,
         67,
         "Spanish Grand Prix",
         null,
         "2025-02-01T17:43:14.85Z"
        ],
        [
         833,
         1950,
         1,
         9,
         "British Grand Prix",
         null,
         "2025-02-01T17:43:14.85Z"
        ],
        [
         834,
         1950,
         2,
         6,
         "Monaco Grand Prix",
         null,
         "2025-02-01T17:43:14.85Z"
        ],
        [
         835,
         1950,
         3,
         19,
         "Indianapolis 500",
         null,
         "2025-02-01T17:43:14.85Z"
        ],
        [
         836,
         1950,
         4,
         66,
         "Swiss Grand Prix",
         null,
         "2025-02-01T17:43:14.85Z"
        ],
        [
         837,
         1950,
         5,
         13,
         "Belgian Grand Prix",
         null,
         "2025-02-01T17:43:14.85Z"
        ],
        [
         838,
         1950,
         6,
         55,
         "French Grand Prix",
         null,
         "2025-02-01T17:43:14.85Z"
        ],
        [
         839,
         1950,
         7,
         14,
         "Italian Grand Prix",
         null,
         "2025-02-01T17:43:14.85Z"
        ],
        [
         841,
         2011,
         1,
         1,
         "Australian Grand Prix",
         "2011-03-27T06:00:00Z",
         "2025-02-01T17:43:14.85Z"
        ],
        [
         842,
         2011,
         2,
         2,
         "Malaysian Grand Prix",
         "2011-04-10T08:00:00Z",
         "2025-02-01T17:43:14.85Z"
        ],
        [
         843,
         2011,
         3,
         17,
         "Chinese Grand Prix",
         "2011-04-17T07:00:00Z",
         "2025-02-01T17:43:14.85Z"
        ],
        [
         844,
         2011,
         4,
         5,
         "Turkish Grand Prix",
         "2011-05-08T12:00:00Z",
         "2025-02-01T17:43:14.85Z"
        ],
        [
         845,
         2011,
         5,
         4,
         "Spanish Grand Prix",
         "2011-05-22T12:00:00Z",
         "2025-02-01T17:43:14.85Z"
        ],
        [
         846,
         2011,
         6,
         6,
         "Monaco Grand Prix",
         "2011-05-29T12:00:00Z",
         "2025-02-01T17:43:14.85Z"
        ],
        [
         847,
         2011,
         7,
         7,
         "Canadian Grand Prix",
         "2011-06-12T17:00:00Z",
         "2025-02-01T17:43:14.85Z"
        ],
        [
         848,
         2011,
         8,
         12,
         "European Grand Prix",
         "2011-06-26T12:00:00Z",
         "2025-02-01T17:43:14.85Z"
        ],
        [
         849,
         2011,
         9,
         9,
         "British Grand Prix",
         "2011-07-10T12:00:00Z",
         "2025-02-01T17:43:14.85Z"
        ],
        [
         850,
         2011,
         10,
         20,
         "German Grand Prix",
         "2011-07-24T12:00:00Z",
         "2025-02-01T17:43:14.85Z"
        ],
        [
         851,
         2011,
         11,
         11,
         "Hungarian Grand Prix",
         "2011-07-31T12:00:00Z",
         "2025-02-01T17:43:14.85Z"
        ],
        [
         852,
         2011,
         12,
         13,
         "Belgian Grand Prix",
         "2011-08-28T12:00:00Z",
         "2025-02-01T17:43:14.85Z"
        ],
        [
         853,
         2011,
         13,
         14,
         "Italian Grand Prix",
         "2011-09-11T12:00:00Z",
         "2025-02-01T17:43:14.85Z"
        ],
        [
         854,
         2011,
         14,
         15,
         "Singapore Grand Prix",
         "2011-09-25T12:00:00Z",
         "2025-02-01T17:43:14.85Z"
        ],
        [
         855,
         2011,
         15,
         22,
         "Japanese Grand Prix",
         "2011-10-09T06:00:00Z",
         "2025-02-01T17:43:14.85Z"
        ],
        [
         856,
         2011,
         16,
         35,
         "Korean Grand Prix",
         "2011-10-16T06:00:00Z",
         "2025-02-01T17:43:14.85Z"
        ],
        [
         857,
         2011,
         17,
         68,
         "Indian Grand Prix",
         "2011-10-30T09:30:00Z",
         "2025-02-01T17:43:14.85Z"
        ],
        [
         858,
         2011,
         18,
         24,
         "Abu Dhabi Grand Prix",
         "2011-11-13T13:00:00Z",
         "2025-02-01T17:43:14.85Z"
        ],
        [
         859,
         2011,
         19,
         18,
         "Brazilian Grand Prix",
         "2011-11-27T16:00:00Z",
         "2025-02-01T17:43:14.85Z"
        ],
        [
         860,
         2012,
         1,
         1,
         "Australian Grand Prix",
         "2012-03-18T06:00:00Z",
         "2025-02-01T17:43:14.85Z"
        ],
        [
         861,
         2012,
         2,
         2,
         "Malaysian Grand Prix",
         "2012-03-25T08:00:00Z",
         "2025-02-01T17:43:14.85Z"
        ],
        [
         862,
         2012,
         3,
         17,
         "Chinese Grand Prix",
         "2012-04-15T07:00:00Z",
         "2025-02-01T17:43:14.85Z"
        ],
        [
         863,
         2012,
         4,
         3,
         "Bahrain Grand Prix",
         "2012-04-22T12:00:00Z",
         "2025-02-01T17:43:14.85Z"
        ],
        [
         864,
         2012,
         5,
         4,
         "Spanish Grand Prix",
         "2012-05-13T12:00:00Z",
         "2025-02-01T17:43:14.85Z"
        ],
        [
         865,
         2012,
         6,
         6,
         "Monaco Grand Prix",
         "2012-05-27T12:00:00Z",
         "2025-02-01T17:43:14.85Z"
        ],
        [
         866,
         2012,
         7,
         7,
         "Canadian Grand Prix",
         "2012-06-10T18:00:00Z",
         "2025-02-01T17:43:14.85Z"
        ],
        [
         867,
         2012,
         8,
         12,
         "European Grand Prix",
         "2012-06-24T12:00:00Z",
         "2025-02-01T17:43:14.85Z"
        ],
        [
         868,
         2012,
         9,
         9,
         "British Grand Prix",
         "2012-07-08T12:00:00Z",
         "2025-02-01T17:43:14.85Z"
        ],
        [
         869,
         2012,
         10,
         10,
         "German Grand Prix",
         "2012-07-22T12:00:00Z",
         "2025-02-01T17:43:14.85Z"
        ],
        [
         870,
         2012,
         11,
         11,
         "Hungarian Grand Prix",
         "2012-07-29T12:00:00Z",
         "2025-02-01T17:43:14.85Z"
        ],
        [
         871,
         2012,
         12,
         13,
         "Belgian Grand Prix",
         "2012-09-02T12:00:00Z",
         "2025-02-01T17:43:14.85Z"
        ],
        [
         872,
         2012,
         13,
         14,
         "Italian Grand Prix",
         "2012-09-09T12:00:00Z",
         "2025-02-01T17:43:14.85Z"
        ],
        [
         873,
         2012,
         14,
         15,
         "Singapore Grand Prix",
         "2012-09-23T12:00:00Z",
         "2025-02-01T17:43:14.85Z"
        ],
        [
         874,
         2012,
         15,
         22,
         "Japanese Grand Prix",
         "2012-10-07T06:00:00Z",
         "2025-02-01T17:43:14.85Z"
        ],
        [
         875,
         2012,
         16,
         35,
         "Korean Grand Prix",
         "2012-10-14T06:00:00Z",
         "2025-02-01T17:43:14.85Z"
        ],
        [
         876,
         2012,
         17,
         68,
         "Indian Grand Prix",
         "2012-10-28T09:30:00Z",
         "2025-02-01T17:43:14.85Z"
        ],
        [
         877,
         2012,
         18,
         24,
         "Abu Dhabi Grand Prix",
         "2012-11-04T13:00:00Z",
         "2025-02-01T17:43:14.85Z"
        ],
        [
         878,
         2012,
         19,
         69,
         "United States Grand Prix",
         "2012-11-18T19:00:00Z",
         "2025-02-01T17:43:14.85Z"
        ],
        [
         879,
         2012,
         20,
         18,
         "Brazilian Grand Prix",
         "2012-11-25T16:00:00Z",
         "2025-02-01T17:43:14.85Z"
        ],
        [
         880,
         2013,
         1,
         1,
         "Australian Grand Prix",
         "2013-03-17T06:00:00Z",
         "2025-02-01T17:43:14.85Z"
        ],
        [
         881,
         2013,
         2,
         2,
         "Malaysian Grand Prix",
         "2013-03-24T08:00:00Z",
         "2025-02-01T17:43:14.85Z"
        ],
        [
         882,
         2013,
         3,
         17,
         "Chinese Grand Prix",
         "2013-04-14T07:00:00Z",
         "2025-02-01T17:43:14.85Z"
        ],
        [
         883,
         2013,
         4,
         3,
         "Bahrain Grand Prix",
         "2013-04-21T12:00:00Z",
         "2025-02-01T17:43:14.85Z"
        ],
        [
         884,
         2013,
         5,
         4,
         "Spanish Grand Prix",
         "2013-05-12T12:00:00Z",
         "2025-02-01T17:43:14.85Z"
        ],
        [
         885,
         2013,
         6,
         6,
         "Monaco Grand Prix",
         "2013-05-26T12:00:00Z",
         "2025-02-01T17:43:14.85Z"
        ],
        [
         886,
         2013,
         7,
         7,
         "Canadian Grand Prix",
         "2013-06-09T18:00:00Z",
         "2025-02-01T17:43:14.85Z"
        ],
        [
         887,
         2013,
         8,
         9,
         "British Grand Prix",
         "2013-06-30T12:00:00Z",
         "2025-02-01T17:43:14.85Z"
        ],
        [
         888,
         2013,
         9,
         20,
         "German Grand Prix",
         "2013-07-07T12:00:00Z",
         "2025-02-01T17:43:14.85Z"
        ],
        [
         890,
         2013,
         10,
         11,
         "Hungarian Grand Prix",
         "2013-07-28T12:00:00Z",
         "2025-02-01T17:43:14.85Z"
        ],
        [
         891,
         2013,
         11,
         13,
         "Belgian Grand Prix",
         "2013-08-25T12:00:00Z",
         "2025-02-01T17:43:14.85Z"
        ],
        [
         892,
         2013,
         12,
         14,
         "Italian Grand Prix",
         "2013-09-08T12:00:00Z",
         "2025-02-01T17:43:14.85Z"
        ],
        [
         893,
         2013,
         13,
         15,
         "Singapore Grand Prix",
         "2013-09-22T12:00:00Z",
         "2025-02-01T17:43:14.85Z"
        ],
        [
         894,
         2013,
         14,
         35,
         "Korean Grand Prix",
         "2013-10-06T06:00:00Z",
         "2025-02-01T17:43:14.85Z"
        ],
        [
         895,
         2013,
         15,
         22,
         "Japanese Grand Prix",
         "2013-10-13T06:00:00Z",
         "2025-02-01T17:43:14.85Z"
        ],
        [
         896,
         2013,
         16,
         68,
         "Indian Grand Prix",
         "2013-10-27T09:30:00Z",
         "2025-02-01T17:43:14.85Z"
        ],
        [
         897,
         2013,
         17,
         24,
         "Abu Dhabi Grand Prix",
         "2013-11-03T13:00:00Z",
         "2025-02-01T17:43:14.85Z"
        ],
        [
         898,
         2013,
         18,
         69,
         "United States Grand Prix",
         "2013-11-17T19:00:00Z",
         "2025-02-01T17:43:14.85Z"
        ],
        [
         899,
         2013,
         19,
         18,
         "Brazilian Grand Prix",
         "2013-11-24T16:00:00Z",
         "2025-02-01T17:43:14.85Z"
        ],
        [
         900,
         2014,
         1,
         1,
         "Australian Grand Prix",
         "2014-03-16T06:00:00Z",
         "2025-02-01T17:43:14.85Z"
        ],
        [
         901,
         2014,
         2,
         2,
         "Malaysian Grand Prix",
         "2014-03-30T08:00:00Z",
         "2025-02-01T17:43:14.85Z"
        ],
        [
         902,
         2014,
         3,
         3,
         "Bahrain Grand Prix",
         "2014-04-06T15:00:00Z",
         "2025-02-01T17:43:14.85Z"
        ],
        [
         903,
         2014,
         4,
         17,
         "Chinese Grand Prix",
         "2014-04-20T07:00:00Z",
         "2025-02-01T17:43:14.85Z"
        ],
        [
         904,
         2014,
         5,
         4,
         "Spanish Grand Prix",
         "2014-05-11T12:00:00Z",
         "2025-02-01T17:43:14.85Z"
        ],
        [
         905,
         2014,
         6,
         6,
         "Monaco Grand Prix",
         "2014-05-25T12:00:00Z",
         "2025-02-01T17:43:14.85Z"
        ],
        [
         906,
         2014,
         7,
         7,
         "Canadian Grand Prix",
         "2014-06-08T18:00:00Z",
         "2025-02-01T17:43:14.85Z"
        ],
        [
         907,
         2014,
         8,
         70,
         "Austrian Grand Prix",
         "2014-06-22T12:00:00Z",
         "2025-02-01T17:43:14.85Z"
        ],
        [
         908,
         2014,
         9,
         9,
         "British Grand Prix",
         "2014-07-06T12:00:00Z",
         "2025-02-01T17:43:14.85Z"
        ],
        [
         909,
         2014,
         10,
         10,
         "German Grand Prix",
         "2014-07-20T12:00:00Z",
         "2025-02-01T17:43:14.85Z"
        ],
        [
         910,
         2014,
         11,
         11,
         "Hungarian Grand Prix",
         "2014-07-27T12:00:00Z",
         "2025-02-01T17:43:14.85Z"
        ],
        [
         911,
         2014,
         12,
         13,
         "Belgian Grand Prix",
         "2014-08-24T12:00:00Z",
         "2025-02-01T17:43:14.85Z"
        ],
        [
         912,
         2014,
         13,
         14,
         "Italian Grand Prix",
         "2014-09-07T12:00:00Z",
         "2025-02-01T17:43:14.85Z"
        ],
        [
         913,
         2014,
         14,
         15,
         "Singapore Grand Prix",
         "2014-09-21T12:00:00Z",
         "2025-02-01T17:43:14.85Z"
        ],
        [
         914,
         2014,
         15,
         22,
         "Japanese Grand Prix",
         "2014-10-05T06:00:00Z",
         "2025-02-01T17:43:14.85Z"
        ],
        [
         915,
         2014,
         16,
         71,
         "Russian Grand Prix",
         "2014-10-12T11:00:00Z",
         "2025-02-01T17:43:14.85Z"
        ],
        [
         916,
         2014,
         17,
         69,
         "United States Grand Prix",
         "2014-11-02T20:00:00Z",
         "2025-02-01T17:43:14.85Z"
        ],
        [
         917,
         2014,
         18,
         18,
         "Brazilian Grand Prix",
         "2014-11-09T16:00:00Z",
         "2025-02-01T17:43:14.85Z"
        ],
        [
         918,
         2014,
         19,
         24,
         "Abu Dhabi Grand Prix",
         "2014-11-23T13:00:00Z",
         "2025-02-01T17:43:14.85Z"
        ],
        [
         931,
         2015,
         6,
         6,
         "Monaco Grand Prix",
         "2015-05-24T12:00:00Z",
         "2025-02-01T17:43:14.85Z"
        ],
        [
         932,
         2015,
         7,
         7,
         "Canadian Grand Prix",
         "2015-06-07T18:00:00Z",
         "2025-02-01T17:43:14.85Z"
        ],
        [
         929,
         2015,
         4,
         3,
         "Bahrain Grand Prix",
         "2015-04-19T15:00:00Z",
         "2025-02-01T17:43:14.85Z"
        ],
        [
         930,
         2015,
         5,
         4,
         "Spanish Grand Prix",
         "2015-05-10T12:00:00Z",
         "2025-02-01T17:43:14.85Z"
        ],
        [
         928,
         2015,
         3,
         17,
         "Chinese Grand Prix",
         "2015-04-12T06:00:00Z",
         "2025-02-01T17:43:14.85Z"
        ],
        [
         926,
         2015,
         1,
         1,
         "Australian Grand Prix",
         "2015-03-15T05:00:00Z",
         "2025-02-01T17:43:14.85Z"
        ],
        [
         927,
         2015,
         2,
         2,
         "Malaysian Grand Prix",
         "2015-03-29T07:00:00Z",
         "2025-02-01T17:43:14.85Z"
        ],
        [
         933,
         2015,
         8,
         70,
         "Austrian Grand Prix",
         "2015-06-21T12:00:00Z",
         "2025-02-01T17:43:14.85Z"
        ],
        [
         934,
         2015,
         9,
         9,
         "British Grand Prix",
         "2015-07-05T12:00:00Z",
         "2025-02-01T17:43:14.85Z"
        ],
        [
         936,
         2015,
         10,
         11,
         "Hungarian Grand Prix",
         "2015-07-26T12:00:00Z",
         "2025-02-01T17:43:14.85Z"
        ],
        [
         937,
         2015,
         11,
         13,
         "Belgian Grand Prix",
         "2015-08-23T12:00:00Z",
         "2025-02-01T17:43:14.85Z"
        ],
        [
         938,
         2015,
         12,
         14,
         "Italian Grand Prix",
         "2015-09-06T12:00:00Z",
         "2025-02-01T17:43:14.85Z"
        ],
        [
         939,
         2015,
         13,
         15,
         "Singapore Grand Prix",
         "2015-09-20T12:00:00Z",
         "2025-02-01T17:43:14.85Z"
        ],
        [
         940,
         2015,
         14,
         22,
         "Japanese Grand Prix",
         "2015-09-27T05:00:00Z",
         "2025-02-01T17:43:14.85Z"
        ],
        [
         941,
         2015,
         15,
         71,
         "Russian Grand Prix",
         "2015-10-11T11:00:00Z",
         "2025-02-01T17:43:14.85Z"
        ],
        [
         942,
         2015,
         16,
         69,
         "United States Grand Prix",
         "2015-10-25T19:00:00Z",
         "2025-02-01T17:43:14.85Z"
        ],
        [
         943,
         2015,
         17,
         32,
         "Mexican Grand Prix",
         "2015-11-01T19:00:00Z",
         "2025-02-01T17:43:14.85Z"
        ],
        [
         944,
         2015,
         18,
         18,
         "Brazilian Grand Prix",
         "2015-11-15T16:00:00Z",
         "2025-02-01T17:43:14.85Z"
        ],
        [
         945,
         2015,
         19,
         24,
         "Abu Dhabi Grand Prix",
         "2015-11-29T13:00:00Z",
         "2025-02-01T17:43:14.85Z"
        ],
        [
         948,
         2016,
         1,
         1,
         "Australian Grand Prix",
         "2016-03-20T05:00:00Z",
         "2025-02-01T17:43:14.85Z"
        ],
        [
         949,
         2016,
         2,
         3,
         "Bahrain Grand Prix",
         "2016-04-03T15:00:00Z",
         "2025-02-01T17:43:14.85Z"
        ],
        [
         950,
         2016,
         3,
         17,
         "Chinese Grand Prix",
         "2016-04-17T06:00:00Z",
         "2025-02-01T17:43:14.85Z"
        ],
        [
         951,
         2016,
         4,
         71,
         "Russian Grand Prix",
         "2016-05-01T12:00:00Z",
         "2025-02-01T17:43:14.85Z"
        ],
        [
         952,
         2016,
         5,
         4,
         "Spanish Grand Prix",
         "2016-05-15T12:00:00Z",
         "2025-02-01T17:43:14.85Z"
        ],
        [
         953,
         2016,
         6,
         6,
         "Monaco Grand Prix",
         "2016-05-29T12:00:00Z",
         "2025-02-01T17:43:14.85Z"
        ],
        [
         954,
         2016,
         7,
         7,
         "Canadian Grand Prix",
         "2016-06-12T18:00:00Z",
         "2025-02-01T17:43:14.85Z"
        ],
        [
         955,
         2016,
         8,
         73,
         "European Grand Prix",
         "2016-06-19T13:00:00Z",
         "2025-02-01T17:43:14.85Z"
        ],
        [
         956,
         2016,
         9,
         70,
         "Austrian Grand Prix",
         "2016-07-03T12:00:00Z",
         "2025-02-01T17:43:14.85Z"
        ],
        [
         957,
         2016,
         10,
         9,
         "British Grand Prix",
         "2016-07-10T12:00:00Z",
         "2025-02-01T17:43:14.85Z"
        ],
        [
         958,
         2016,
         11,
         11,
         "Hungarian Grand Prix",
         "2016-07-24T12:00:00Z",
         "2025-02-01T17:43:14.85Z"
        ],
        [
         959,
         2016,
         12,
         10,
         "German Grand Prix",
         "2016-07-31T12:00:00Z",
         "2025-02-01T17:43:14.85Z"
        ],
        [
         960,
         2016,
         13,
         13,
         "Belgian Grand Prix",
         "2016-08-28T12:00:00Z",
         "2025-02-01T17:43:14.85Z"
        ],
        [
         961,
         2016,
         14,
         14,
         "Italian Grand Prix",
         "2016-09-04T12:00:00Z",
         "2025-02-01T17:43:14.85Z"
        ],
        [
         962,
         2016,
         15,
         15,
         "Singapore Grand Prix",
         "2016-09-18T12:00:00Z",
         "2025-02-01T17:43:14.85Z"
        ],
        [
         963,
         2016,
         16,
         2,
         "Malaysian Grand Prix",
         "2016-10-02T07:00:00Z",
         "2025-02-01T17:43:14.85Z"
        ],
        [
         964,
         2016,
         17,
         22,
         "Japanese Grand Prix",
         "2016-10-09T05:00:00Z",
         "2025-02-01T17:43:14.85Z"
        ],
        [
         965,
         2016,
         18,
         69,
         "United States Grand Prix",
         "2016-10-23T19:00:00Z",
         "2025-02-01T17:43:14.85Z"
        ],
        [
         966,
         2016,
         19,
         32,
         "Mexican Grand Prix",
         "2016-10-30T19:00:00Z",
         "2025-02-01T17:43:14.85Z"
        ],
        [
         967,
         2016,
         20,
         18,
         "Brazilian Grand Prix",
         "2016-11-13T16:00:00Z",
         "2025-02-01T17:43:14.85Z"
        ],
        [
         968,
         2016,
         21,
         24,
         "Abu Dhabi Grand Prix",
         "2016-11-27T13:00:00Z",
         "2025-02-01T17:43:14.85Z"
        ],
        [
         969,
         2017,
         1,
         1,
         "Australian Grand Prix",
         "2017-03-26T05:00:00Z",
         "2025-02-01T17:43:14.85Z"
        ],
        [
         970,
         2017,
         2,
         17,
         "Chinese Grand Prix",
         "2017-04-09T06:00:00Z",
         "2025-02-01T17:43:14.85Z"
        ],
        [
         971,
         2017,
         3,
         3,
         "Bahrain Grand Prix",
         "2017-04-16T15:00:00Z",
         "2025-02-01T17:43:14.85Z"
        ],
        [
         972,
         2017,
         4,
         71,
         "Russian Grand Prix",
         "2017-04-30T12:00:00Z",
         "2025-02-01T17:43:14.85Z"
        ],
        [
         973,
         2017,
         5,
         4,
         "Spanish Grand Prix",
         "2017-05-14T12:00:00Z",
         "2025-02-01T17:43:14.85Z"
        ],
        [
         974,
         2017,
         6,
         6,
         "Monaco Grand Prix",
         "2017-05-28T12:00:00Z",
         "2025-02-01T17:43:14.85Z"
        ],
        [
         975,
         2017,
         7,
         7,
         "Canadian Grand Prix",
         "2017-06-11T18:00:00Z",
         "2025-02-01T17:43:14.85Z"
        ],
        [
         976,
         2017,
         8,
         73,
         "Azerbaijan Grand Prix",
         "2017-06-25T13:00:00Z",
         "2025-02-01T17:43:14.85Z"
        ],
        [
         977,
         2017,
         9,
         70,
         "Austrian Grand Prix",
         "2017-07-09T12:00:00Z",
         "2025-02-01T17:43:14.85Z"
        ],
        [
         978,
         2017,
         10,
         9,
         "British Grand Prix",
         "2017-07-16T12:00:00Z",
         "2025-02-01T17:43:14.85Z"
        ],
        [
         979,
         2017,
         11,
         11,
         "Hungarian Grand Prix",
         "2017-07-30T12:00:00Z",
         "2025-02-01T17:43:14.85Z"
        ],
        [
         980,
         2017,
         12,
         13,
         "Belgian Grand Prix",
         "2017-08-27T12:00:00Z",
         "2025-02-01T17:43:14.85Z"
        ],
        [
         981,
         2017,
         13,
         14,
         "Italian Grand Prix",
         "2017-09-03T12:00:00Z",
         "2025-02-01T17:43:14.85Z"
        ],
        [
         982,
         2017,
         14,
         15,
         "Singapore Grand Prix",
         "2017-09-17T12:00:00Z",
         "2025-02-01T17:43:14.85Z"
        ],
        [
         983,
         2017,
         15,
         2,
         "Malaysian Grand Prix",
         "2017-10-01T07:00:00Z",
         "2025-02-01T17:43:14.85Z"
        ],
        [
         984,
         2017,
         16,
         22,
         "Japanese Grand Prix",
         "2017-10-08T05:00:00Z",
         "2025-02-01T17:43:14.85Z"
        ],
        [
         985,
         2017,
         17,
         69,
         "United States Grand Prix",
         "2017-10-22T19:00:00Z",
         "2025-02-01T17:43:14.85Z"
        ],
        [
         986,
         2017,
         18,
         32,
         "Mexican Grand Prix",
         "2017-10-29T19:00:00Z",
         "2025-02-01T17:43:14.85Z"
        ],
        [
         987,
         2017,
         19,
         18,
         "Brazilian Grand Prix",
         "2017-11-12T16:00:00Z",
         "2025-02-01T17:43:14.85Z"
        ],
        [
         988,
         2017,
         20,
         24,
         "Abu Dhabi Grand Prix",
         "2017-11-26T13:00:00Z",
         "2025-02-01T17:43:14.85Z"
        ],
        [
         989,
         2018,
         1,
         1,
         "Australian Grand Prix",
         "2018-03-25T05:10:00Z",
         "2025-02-01T17:43:14.85Z"
        ],
        [
         990,
         2018,
         2,
         3,
         "Bahrain Grand Prix",
         "2018-04-08T15:10:00Z",
         "2025-02-01T17:43:14.85Z"
        ],
        [
         991,
         2018,
         3,
         17,
         "Chinese Grand Prix",
         "2018-04-15T06:10:00Z",
         "2025-02-01T17:43:14.85Z"
        ],
        [
         992,
         2018,
         4,
         73,
         "Azerbaijan Grand Prix",
         "2018-04-29T12:10:00Z",
         "2025-02-01T17:43:14.85Z"
        ],
        [
         993,
         2018,
         5,
         4,
         "Spanish Grand Prix",
         "2018-05-13T13:10:00Z",
         "2025-02-01T17:43:14.85Z"
        ],
        [
         994,
         2018,
         6,
         6,
         "Monaco Grand Prix",
         "2018-05-27T13:10:00Z",
         "2025-02-01T17:43:14.85Z"
        ],
        [
         995,
         2018,
         7,
         7,
         "Canadian Grand Prix",
         "2018-06-10T18:10:00Z",
         "2025-02-01T17:43:14.85Z"
        ],
        [
         996,
         2018,
         8,
         34,
         "French Grand Prix",
         "2018-06-24T14:10:00Z",
         "2025-02-01T17:43:14.85Z"
        ],
        [
         997,
         2018,
         9,
         70,
         "Austrian Grand Prix",
         "2018-07-01T13:10:00Z",
         "2025-02-01T17:43:14.85Z"
        ],
        [
         998,
         2018,
         10,
         9,
         "British Grand Prix",
         "2018-07-08T13:10:00Z",
         "2025-02-01T17:43:14.85Z"
        ],
        [
         999,
         2018,
         11,
         10,
         "German Grand Prix",
         "2018-07-22T13:10:00Z",
         "2025-02-01T17:43:14.85Z"
        ],
        [
         1000,
         2018,
         12,
         11,
         "Hungarian Grand Prix",
         "2018-07-29T13:10:00Z",
         "2025-02-01T17:43:14.85Z"
        ],
        [
         1001,
         2018,
         13,
         13,
         "Belgian Grand Prix",
         "2018-08-26T13:10:00Z",
         "2025-02-01T17:43:14.85Z"
        ],
        [
         1002,
         2018,
         14,
         14,
         "Italian Grand Prix",
         "2018-09-02T13:10:00Z",
         "2025-02-01T17:43:14.85Z"
        ],
        [
         1003,
         2018,
         15,
         15,
         "Singapore Grand Prix",
         "2018-09-16T12:10:00Z",
         "2025-02-01T17:43:14.85Z"
        ],
        [
         1004,
         2018,
         16,
         71,
         "Russian Grand Prix",
         "2018-09-30T11:10:00Z",
         "2025-02-01T17:43:14.85Z"
        ],
        [
         1005,
         2018,
         17,
         22,
         "Japanese Grand Prix",
         "2018-10-07T05:10:00Z",
         "2025-02-01T17:43:14.85Z"
        ],
        [
         1006,
         2018,
         18,
         69,
         "United States Grand Prix",
         "2018-10-21T18:10:00Z",
         "2025-02-01T17:43:14.85Z"
        ],
        [
         1007,
         2018,
         19,
         32,
         "Mexican Grand Prix",
         "2018-10-28T19:10:00Z",
         "2025-02-01T17:43:14.85Z"
        ],
        [
         1008,
         2018,
         20,
         18,
         "Brazilian Grand Prix",
         "2018-11-11T17:10:00Z",
         "2025-02-01T17:43:14.85Z"
        ],
        [
         1009,
         2018,
         21,
         24,
         "Abu Dhabi Grand Prix",
         "2018-11-25T13:10:00Z",
         "2025-02-01T17:43:14.85Z"
        ],
        [
         1010,
         2019,
         1,
         1,
         "Australian Grand Prix",
         "2019-03-17T05:10:00Z",
         "2025-02-01T17:43:14.85Z"
        ],
        [
         1011,
         2019,
         2,
         3,
         "Bahrain Grand Prix",
         "2019-03-31T15:10:00Z",
         "2025-02-01T17:43:14.85Z"
        ],
        [
         1012,
         2019,
         3,
         17,
         "Chinese Grand Prix",
         "2019-04-14T06:10:00Z",
         "2025-02-01T17:43:14.85Z"
        ],
        [
         1013,
         2019,
         4,
         73,
         "Azerbaijan Grand Prix",
         "2019-04-28T12:10:00Z",
         "2025-02-01T17:43:14.85Z"
        ],
        [
         1014,
         2019,
         5,
         4,
         "Spanish Grand Prix",
         "2019-05-12T13:10:00Z",
         "2025-02-01T17:43:14.85Z"
        ],
        [
         1015,
         2019,
         6,
         6,
         "Monaco Grand Prix",
         "2019-05-26T13:10:00Z",
         "2025-02-01T17:43:14.85Z"
        ],
        [
         1016,
         2019,
         7,
         7,
         "Canadian Grand Prix",
         "2019-06-09T18:10:00Z",
         "2025-02-01T17:43:14.85Z"
        ],
        [
         1017,
         2019,
         8,
         34,
         "French Grand Prix",
         "2019-06-23T13:10:00Z",
         "2025-02-01T17:43:14.85Z"
        ],
        [
         1018,
         2019,
         9,
         70,
         "Austrian Grand Prix",
         "2019-06-30T13:10:00Z",
         "2025-02-01T17:43:14.85Z"
        ],
        [
         1019,
         2019,
         10,
         9,
         "British Grand Prix",
         "2019-07-14T13:10:00Z",
         "2025-02-01T17:43:14.85Z"
        ],
        [
         1020,
         2019,
         11,
         10,
         "German Grand Prix",
         "2019-07-28T13:10:00Z",
         "2025-02-01T17:43:14.85Z"
        ],
        [
         1021,
         2019,
         12,
         11,
         "Hungarian Grand Prix",
         "2019-08-04T13:10:00Z",
         "2025-02-01T17:43:14.85Z"
        ],
        [
         1022,
         2019,
         13,
         13,
         "Belgian Grand Prix",
         "2019-09-01T13:10:00Z",
         "2025-02-01T17:43:14.85Z"
        ],
        [
         1023,
         2019,
         14,
         14,
         "Italian Grand Prix",
         "2019-09-08T13:10:00Z",
         "2025-02-01T17:43:14.85Z"
        ],
        [
         1024,
         2019,
         15,
         15,
         "Singapore Grand Prix",
         "2019-09-22T12:10:00Z",
         "2025-02-01T17:43:14.85Z"
        ],
        [
         1025,
         2019,
         16,
         71,
         "Russian Grand Prix",
         "2019-09-29T11:10:00Z",
         "2025-02-01T17:43:14.85Z"
        ],
        [
         1026,
         2019,
         17,
         22,
         "Japanese Grand Prix",
         "2019-10-13T05:10:00Z",
         "2025-02-01T17:43:14.85Z"
        ],
        [
         1027,
         2019,
         18,
         32,
         "Mexican Grand Prix",
         "2019-10-27T19:10:00Z",
         "2025-02-01T17:43:14.85Z"
        ],
        [
         1028,
         2019,
         19,
         69,
         "United States Grand Prix",
         "2019-11-03T19:10:00Z",
         "2025-02-01T17:43:14.85Z"
        ],
        [
         1029,
         2019,
         20,
         18,
         "Brazilian Grand Prix",
         "2019-11-17T17:10:00Z",
         "2025-02-01T17:43:14.85Z"
        ],
        [
         1030,
         2019,
         21,
         24,
         "Abu Dhabi Grand Prix",
         "2019-12-01T13:10:00Z",
         "2025-02-01T17:43:14.85Z"
        ],
        [
         1031,
         2020,
         1,
         70,
         "Austrian Grand Prix",
         "2020-07-05T13:10:00Z",
         "2025-02-01T17:43:14.85Z"
        ],
        [
         1032,
         2020,
         2,
         70,
         "Styrian Grand Prix",
         "2020-07-12T13:10:00Z",
         "2025-02-01T17:43:14.85Z"
        ],
        [
         1033,
         2020,
         3,
         11,
         "Hungarian Grand Prix",
         "2020-07-19T13:10:00Z",
         "2025-02-01T17:43:14.85Z"
        ],
        [
         1034,
         2020,
         4,
         9,
         "British Grand Prix",
         "2020-08-02T13:10:00Z",
         "2025-02-01T17:43:14.85Z"
        ],
        [
         1035,
         2020,
         5,
         9,
         "70th Anniversary Grand Prix",
         "2020-08-09T13:10:00Z",
         "2025-02-01T17:43:14.85Z"
        ],
        [
         1036,
         2020,
         6,
         4,
         "Spanish Grand Prix",
         "2020-08-16T13:10:00Z",
         "2025-02-01T17:43:14.85Z"
        ],
        [
         1037,
         2020,
         7,
         13,
         "Belgian Grand Prix",
         "2020-08-30T13:10:00Z",
         "2025-02-01T17:43:14.85Z"
        ],
        [
         1038,
         2020,
         8,
         14,
         "Italian Grand Prix",
         "2020-09-06T13:10:00Z",
         "2025-02-01T17:43:14.85Z"
        ],
        [
         1039,
         2020,
         9,
         76,
         "Tuscan Grand Prix",
         "2020-09-13T13:10:00Z",
         "2025-02-01T17:43:14.85Z"
        ],
        [
         1040,
         2020,
         10,
         71,
         "Russian Grand Prix",
         "2020-09-27T11:10:00Z",
         "2025-02-01T17:43:14.85Z"
        ],
        [
         1041,
         2020,
         11,
         20,
         "Eifel Grand Prix",
         "2020-10-11T13:10:00Z",
         "2025-02-01T17:43:14.85Z"
        ],
        [
         1042,
         2020,
         12,
         75,
         "Portuguese Grand Prix",
         "2020-10-25T12:10:00Z",
         "2025-02-01T17:43:14.85Z"
        ],
        [
         1043,
         2020,
         13,
         21,
         "Emilia Romagna Grand Prix",
         "2020-11-01T12:10:00Z",
         "2025-02-01T17:43:14.85Z"
        ],
        [
         1044,
         2020,
         14,
         5,
         "Turkish Grand Prix",
         "2020-11-15T10:10:00Z",
         "2025-02-01T17:43:14.85Z"
        ],
        [
         1045,
         2020,
         15,
         3,
         "Bahrain Grand Prix",
         "2020-11-29T14:10:00Z",
         "2025-02-01T17:43:14.85Z"
        ],
        [
         1046,
         2020,
         16,
         3,
         "Sakhir Grand Prix",
         "2020-12-06T17:10:00Z",
         "2025-02-01T17:43:14.85Z"
        ],
        [
         1047,
         2020,
         17,
         24,
         "Abu Dhabi Grand Prix",
         "2020-12-13T13:10:00Z",
         "2025-02-01T17:43:14.85Z"
        ],
        [
         1053,
         2021,
         2,
         21,
         "Emilia Romagna Grand Prix",
         "2021-04-18T13:00:00Z",
         "2025-02-01T17:43:14.85Z"
        ],
        [
         1052,
         2021,
         1,
         3,
         "Bahrain Grand Prix",
         "2021-03-28T15:00:00Z",
         "2025-02-01T17:43:14.85Z"
        ],
        [
         1051,
         2021,
         21,
         1,
         "Australian Grand Prix",
         "2021-11-21T06:00:00Z",
         "2025-02-01T17:43:14.85Z"
        ],
        [
         1054,
         2021,
         3,
         20,
         "TBC",
         null,
         "2025-02-01T17:43:14.85Z"
        ],
        [
         1055,
         2021,
         4,
         4,
         "Spanish Grand Prix",
         "2021-05-09T13:00:00Z",
         "2025-02-01T17:43:14.85Z"
        ],
        [
         1056,
         2021,
         5,
         6,
         "Monaco Grand Prix",
         "2021-05-23T13:00:00Z",
         "2025-02-01T17:43:14.85Z"
        ],
        [
         1057,
         2021,
         6,
         73,
         "Azerbaijan Grand Prix",
         "2021-06-06T12:00:00Z",
         "2025-02-01T17:43:14.85Z"
        ],
        [
         1058,
         2021,
         7,
         7,
         "Canadian Grand Prix",
         "2021-06-13T18:00:00Z",
         "2025-02-01T17:43:14.85Z"
        ],
        [
         1059,
         2021,
         8,
         34,
         "French Grand Prix",
         "2021-06-27T13:00:00Z",
         "2025-02-01T17:43:14.85Z"
        ],
        [
         1060,
         2021,
         9,
         70,
         "Austrian Grand Prix",
         "2021-07-04T13:00:00Z",
         "2025-02-01T17:43:14.85Z"
        ],
        [
         1061,
         2021,
         10,
         9,
         "British Grand Prix",
         "2021-07-18T14:00:00Z",
         "2025-02-01T17:43:14.85Z"
        ],
        [
         1062,
         2021,
         11,
         11,
         "Hungarian Grand Prix",
         "2021-08-01T13:00:00Z",
         "2025-02-01T17:43:14.85Z"
        ],
        [
         1063,
         2021,
         12,
         13,
         "Belgian Grand Prix",
         "2021-08-29T13:00:00Z",
         "2025-02-01T17:43:14.85Z"
        ],
        [
         1064,
         2021,
         13,
         39,
         "Dutch Grand Prix",
         "2021-09-05T13:00:00Z",
         "2025-02-01T17:43:14.85Z"
        ],
        [
         1065,
         2021,
         14,
         14,
         "Italian Grand Prix",
         "2021-09-12T13:00:00Z",
         "2025-02-01T17:43:14.85Z"
        ],
        [
         1066,
         2021,
         15,
         71,
         "Russian Grand Prix",
         "2021-09-26T12:00:00Z",
         "2025-02-01T17:43:14.85Z"
        ],
        [
         1067,
         2021,
         16,
         15,
         "Singapore Grand Prix",
         "2021-10-03T12:00:00Z",
         "2025-02-01T17:43:14.85Z"
        ],
        [
         1068,
         2021,
         17,
         22,
         "Japanese Grand Prix",
         "2021-10-10T05:00:00Z",
         "2025-02-01T17:43:14.85Z"
        ],
        [
         1069,
         2021,
         18,
         69,
         "United States Grand Prix",
         "2021-10-24T19:00:00Z",
         "2025-02-01T17:43:14.85Z"
        ],
        [
         1070,
         2021,
         19,
         32,
         "Mexico City Grand Prix",
         "2021-10-31T19:00:00Z",
         "2025-02-01T17:43:14.85Z"
        ],
        [
         1071,
         2021,
         20,
         18,
         "Brazilian Grand Prix",
         "2021-11-07T17:00:00Z",
         "2025-02-01T17:43:14.85Z"
        ],
        [
         1072,
         2021,
         22,
         77,
         "Saudi Arabian Grand Prix",
         "2021-12-05T16:00:00Z",
         "2025-02-01T17:43:14.85Z"
        ],
        [
         1073,
         2021,
         23,
         24,
         "Abu Dhabi Grand Prix",
         "2021-12-12T13:00:00Z",
         "2025-02-01T17:43:14.85Z"
        ]
       ],
       "datasetInfos": [],
       "dbfsResultPath": null,
       "isJsonSchema": true,
       "metadata": {},
       "overflow": false,
       "plotOptions": {
        "customPlotOptions": {},
        "displayType": "table",
        "pivotAggregation": null,
        "pivotColumns": null,
        "xColumns": null,
        "yColumns": null
       },
       "removedWidgets": [],
       "schema": [
        {
         "metadata": "{}",
         "name": "race_id",
         "type": "\"integer\""
        },
        {
         "metadata": "{}",
         "name": "race_year",
         "type": "\"integer\""
        },
        {
         "metadata": "{}",
         "name": "round",
         "type": "\"integer\""
        },
        {
         "metadata": "{}",
         "name": "circuit_id",
         "type": "\"integer\""
        },
        {
         "metadata": "{}",
         "name": "name",
         "type": "\"string\""
        },
        {
         "metadata": "{}",
         "name": "race_timestamp",
         "type": "\"timestamp\""
        },
        {
         "metadata": "{}",
         "name": "ingestion_date",
         "type": "\"timestamp\""
        }
       ],
       "type": "table"
      }
     },
     "output_type": "display_data"
    },
    {
     "output_type": "stream",
     "name": "stdout",
     "output_type": "stream",
     "text": [
      "root\n |-- race_id: integer (nullable = true)\n |-- race_year: integer (nullable = true)\n |-- round: integer (nullable = true)\n |-- circuit_id: integer (nullable = true)\n |-- name: string (nullable = true)\n |-- race_timestamp: timestamp (nullable = true)\n |-- ingestion_date: timestamp (nullable = false)\n\n"
     ]
    }
   ],
   "source": [
    "df = df.withColumnRenamed('raceId', 'race_id') \\\n",
    ".withColumnRenamed('circuitId', 'circuit_id') \\\n",
    ".withColumnRenamed('year', 'race_year') \\\n",
    ".drop('url') \\\n",
    ".withColumn(\n",
    "      'race_timestamp',\n",
    "      to_timestamp(concat(col(\"date\"), lit(\" \"), col(\"time\")), \"yyyy-MM-dd HH:mm:ss\")\n",
    ") \\\n",
    ".drop('date') \\\n",
    ".drop('time') \\\n",
    ".withColumn('data_source', lit(v_data_source))\n",
    "   #.withColumn(\"datetime\", to_timestamp(concat_ws(\" \", col(\"date\"), col(\"time\")), \"dd-MM-yyyy HH:mm\"))\n",
    "df = add_ingestion_date(df)\n",
    "display(df)\n",
    "df.printSchema()"
   ]
  },
  {
   "cell_type": "code",
   "execution_count": 0,
   "metadata": {
    "application/vnd.databricks.v1+cell": {
     "cellMetadata": {
      "byteLimit": 2048000,
      "rowLimit": 10000
     },
     "inputWidgets": {},
     "nuid": "55c733fc-9f33-480c-8949-49462e3a62e9",
     "showTitle": false,
     "tableResultSettingsMap": {},
     "title": ""
    }
   },
   "outputs": [],
   "source": [
    "df.write.mode(\"overwrite\").partitionBy('race_year').parquet(f\"{process1_folder_path}/races\")"
   ]
  },
  {
   "cell_type": "code",
   "execution_count": 0,
   "metadata": {
    "application/vnd.databricks.v1+cell": {
     "cellMetadata": {
      "byteLimit": 2048000,
      "rowLimit": 10000
     },
     "inputWidgets": {},
     "nuid": "ff1244d1-d317-4646-a13b-25efe36479e6",
     "showTitle": false,
     "tableResultSettingsMap": {},
     "title": ""
    }
   },
   "outputs": [
    {
     "output_type": "display_data",
     "data": {
      "text/html": [
       "<style scoped>\n",
       "  .table-result-container {\n",
       "    max-height: 300px;\n",
       "    overflow: auto;\n",
       "  }\n",
       "  table, th, td {\n",
       "    border: 1px solid black;\n",
       "    border-collapse: collapse;\n",
       "  }\n",
       "  th, td {\n",
       "    padding: 5px;\n",
       "  }\n",
       "  th {\n",
       "    text-align: left;\n",
       "  }\n",
       "</style><div class='table-result-container'><table class='table-result'><thead style='background-color: white'><tr><th>path</th><th>name</th><th>size</th><th>modificationTime</th></tr></thead><tbody><tr><td>dbfs:/mnt/bluetab1002/process1/races/_SUCCESS</td><td>_SUCCESS</td><td>0</td><td>1738431803000</td></tr><tr><td>dbfs:/mnt/bluetab1002/process1/races/_committed_3225151779131770414</td><td>_committed_3225151779131770414</td><td>35</td><td>1738431801000</td></tr><tr><td>dbfs:/mnt/bluetab1002/process1/races/race_year=1950/</td><td>race_year=1950/</td><td>0</td><td>1738324538000</td></tr><tr><td>dbfs:/mnt/bluetab1002/process1/races/race_year=1951/</td><td>race_year=1951/</td><td>0</td><td>1738324538000</td></tr><tr><td>dbfs:/mnt/bluetab1002/process1/races/race_year=1952/</td><td>race_year=1952/</td><td>0</td><td>1738324538000</td></tr><tr><td>dbfs:/mnt/bluetab1002/process1/races/race_year=1953/</td><td>race_year=1953/</td><td>0</td><td>1738324538000</td></tr><tr><td>dbfs:/mnt/bluetab1002/process1/races/race_year=1954/</td><td>race_year=1954/</td><td>0</td><td>1738324538000</td></tr><tr><td>dbfs:/mnt/bluetab1002/process1/races/race_year=1955/</td><td>race_year=1955/</td><td>0</td><td>1738324538000</td></tr><tr><td>dbfs:/mnt/bluetab1002/process1/races/race_year=1956/</td><td>race_year=1956/</td><td>0</td><td>1738324538000</td></tr><tr><td>dbfs:/mnt/bluetab1002/process1/races/race_year=1957/</td><td>race_year=1957/</td><td>0</td><td>1738324538000</td></tr><tr><td>dbfs:/mnt/bluetab1002/process1/races/race_year=1958/</td><td>race_year=1958/</td><td>0</td><td>1738324538000</td></tr><tr><td>dbfs:/mnt/bluetab1002/process1/races/race_year=1959/</td><td>race_year=1959/</td><td>0</td><td>1738324538000</td></tr><tr><td>dbfs:/mnt/bluetab1002/process1/races/race_year=1960/</td><td>race_year=1960/</td><td>0</td><td>1738324538000</td></tr><tr><td>dbfs:/mnt/bluetab1002/process1/races/race_year=1961/</td><td>race_year=1961/</td><td>0</td><td>1738324539000</td></tr><tr><td>dbfs:/mnt/bluetab1002/process1/races/race_year=1962/</td><td>race_year=1962/</td><td>0</td><td>1738324539000</td></tr><tr><td>dbfs:/mnt/bluetab1002/process1/races/race_year=1963/</td><td>race_year=1963/</td><td>0</td><td>1738324539000</td></tr><tr><td>dbfs:/mnt/bluetab1002/process1/races/race_year=1964/</td><td>race_year=1964/</td><td>0</td><td>1738324539000</td></tr><tr><td>dbfs:/mnt/bluetab1002/process1/races/race_year=1965/</td><td>race_year=1965/</td><td>0</td><td>1738324539000</td></tr><tr><td>dbfs:/mnt/bluetab1002/process1/races/race_year=1966/</td><td>race_year=1966/</td><td>0</td><td>1738324539000</td></tr><tr><td>dbfs:/mnt/bluetab1002/process1/races/race_year=1967/</td><td>race_year=1967/</td><td>0</td><td>1738324539000</td></tr><tr><td>dbfs:/mnt/bluetab1002/process1/races/race_year=1968/</td><td>race_year=1968/</td><td>0</td><td>1738324539000</td></tr><tr><td>dbfs:/mnt/bluetab1002/process1/races/race_year=1969/</td><td>race_year=1969/</td><td>0</td><td>1738324539000</td></tr><tr><td>dbfs:/mnt/bluetab1002/process1/races/race_year=1970/</td><td>race_year=1970/</td><td>0</td><td>1738324539000</td></tr><tr><td>dbfs:/mnt/bluetab1002/process1/races/race_year=1971/</td><td>race_year=1971/</td><td>0</td><td>1738324539000</td></tr><tr><td>dbfs:/mnt/bluetab1002/process1/races/race_year=1972/</td><td>race_year=1972/</td><td>0</td><td>1738324539000</td></tr><tr><td>dbfs:/mnt/bluetab1002/process1/races/race_year=1973/</td><td>race_year=1973/</td><td>0</td><td>1738324539000</td></tr><tr><td>dbfs:/mnt/bluetab1002/process1/races/race_year=1974/</td><td>race_year=1974/</td><td>0</td><td>1738324540000</td></tr><tr><td>dbfs:/mnt/bluetab1002/process1/races/race_year=1975/</td><td>race_year=1975/</td><td>0</td><td>1738324540000</td></tr><tr><td>dbfs:/mnt/bluetab1002/process1/races/race_year=1976/</td><td>race_year=1976/</td><td>0</td><td>1738324540000</td></tr><tr><td>dbfs:/mnt/bluetab1002/process1/races/race_year=1977/</td><td>race_year=1977/</td><td>0</td><td>1738324540000</td></tr><tr><td>dbfs:/mnt/bluetab1002/process1/races/race_year=1978/</td><td>race_year=1978/</td><td>0</td><td>1738324540000</td></tr><tr><td>dbfs:/mnt/bluetab1002/process1/races/race_year=1979/</td><td>race_year=1979/</td><td>0</td><td>1738324540000</td></tr><tr><td>dbfs:/mnt/bluetab1002/process1/races/race_year=1980/</td><td>race_year=1980/</td><td>0</td><td>1738324540000</td></tr><tr><td>dbfs:/mnt/bluetab1002/process1/races/race_year=1981/</td><td>race_year=1981/</td><td>0</td><td>1738324540000</td></tr><tr><td>dbfs:/mnt/bluetab1002/process1/races/race_year=1982/</td><td>race_year=1982/</td><td>0</td><td>1738324540000</td></tr><tr><td>dbfs:/mnt/bluetab1002/process1/races/race_year=1983/</td><td>race_year=1983/</td><td>0</td><td>1738324540000</td></tr><tr><td>dbfs:/mnt/bluetab1002/process1/races/race_year=1984/</td><td>race_year=1984/</td><td>0</td><td>1738324540000</td></tr><tr><td>dbfs:/mnt/bluetab1002/process1/races/race_year=1985/</td><td>race_year=1985/</td><td>0</td><td>1738324540000</td></tr><tr><td>dbfs:/mnt/bluetab1002/process1/races/race_year=1986/</td><td>race_year=1986/</td><td>0</td><td>1738324540000</td></tr><tr><td>dbfs:/mnt/bluetab1002/process1/races/race_year=1987/</td><td>race_year=1987/</td><td>0</td><td>1738324541000</td></tr><tr><td>dbfs:/mnt/bluetab1002/process1/races/race_year=1988/</td><td>race_year=1988/</td><td>0</td><td>1738324541000</td></tr><tr><td>dbfs:/mnt/bluetab1002/process1/races/race_year=1989/</td><td>race_year=1989/</td><td>0</td><td>1738324541000</td></tr><tr><td>dbfs:/mnt/bluetab1002/process1/races/race_year=1990/</td><td>race_year=1990/</td><td>0</td><td>1738324541000</td></tr><tr><td>dbfs:/mnt/bluetab1002/process1/races/race_year=1991/</td><td>race_year=1991/</td><td>0</td><td>1738324541000</td></tr><tr><td>dbfs:/mnt/bluetab1002/process1/races/race_year=1992/</td><td>race_year=1992/</td><td>0</td><td>1738324541000</td></tr><tr><td>dbfs:/mnt/bluetab1002/process1/races/race_year=1993/</td><td>race_year=1993/</td><td>0</td><td>1738324541000</td></tr><tr><td>dbfs:/mnt/bluetab1002/process1/races/race_year=1994/</td><td>race_year=1994/</td><td>0</td><td>1738324541000</td></tr><tr><td>dbfs:/mnt/bluetab1002/process1/races/race_year=1995/</td><td>race_year=1995/</td><td>0</td><td>1738324541000</td></tr><tr><td>dbfs:/mnt/bluetab1002/process1/races/race_year=1996/</td><td>race_year=1996/</td><td>0</td><td>1738324541000</td></tr><tr><td>dbfs:/mnt/bluetab1002/process1/races/race_year=1997/</td><td>race_year=1997/</td><td>0</td><td>1738324541000</td></tr><tr><td>dbfs:/mnt/bluetab1002/process1/races/race_year=1998/</td><td>race_year=1998/</td><td>0</td><td>1738324541000</td></tr><tr><td>dbfs:/mnt/bluetab1002/process1/races/race_year=1999/</td><td>race_year=1999/</td><td>0</td><td>1738324541000</td></tr><tr><td>dbfs:/mnt/bluetab1002/process1/races/race_year=2000/</td><td>race_year=2000/</td><td>0</td><td>1738324542000</td></tr><tr><td>dbfs:/mnt/bluetab1002/process1/races/race_year=2001/</td><td>race_year=2001/</td><td>0</td><td>1738324542000</td></tr><tr><td>dbfs:/mnt/bluetab1002/process1/races/race_year=2002/</td><td>race_year=2002/</td><td>0</td><td>1738324542000</td></tr><tr><td>dbfs:/mnt/bluetab1002/process1/races/race_year=2003/</td><td>race_year=2003/</td><td>0</td><td>1738324542000</td></tr><tr><td>dbfs:/mnt/bluetab1002/process1/races/race_year=2004/</td><td>race_year=2004/</td><td>0</td><td>1738324542000</td></tr><tr><td>dbfs:/mnt/bluetab1002/process1/races/race_year=2005/</td><td>race_year=2005/</td><td>0</td><td>1738324542000</td></tr><tr><td>dbfs:/mnt/bluetab1002/process1/races/race_year=2006/</td><td>race_year=2006/</td><td>0</td><td>1738324542000</td></tr><tr><td>dbfs:/mnt/bluetab1002/process1/races/race_year=2007/</td><td>race_year=2007/</td><td>0</td><td>1738324542000</td></tr><tr><td>dbfs:/mnt/bluetab1002/process1/races/race_year=2008/</td><td>race_year=2008/</td><td>0</td><td>1738324542000</td></tr><tr><td>dbfs:/mnt/bluetab1002/process1/races/race_year=2009/</td><td>race_year=2009/</td><td>0</td><td>1738324542000</td></tr><tr><td>dbfs:/mnt/bluetab1002/process1/races/race_year=2010/</td><td>race_year=2010/</td><td>0</td><td>1738324542000</td></tr><tr><td>dbfs:/mnt/bluetab1002/process1/races/race_year=2011/</td><td>race_year=2011/</td><td>0</td><td>1738324542000</td></tr><tr><td>dbfs:/mnt/bluetab1002/process1/races/race_year=2012/</td><td>race_year=2012/</td><td>0</td><td>1738324543000</td></tr><tr><td>dbfs:/mnt/bluetab1002/process1/races/race_year=2013/</td><td>race_year=2013/</td><td>0</td><td>1738324543000</td></tr><tr><td>dbfs:/mnt/bluetab1002/process1/races/race_year=2014/</td><td>race_year=2014/</td><td>0</td><td>1738324543000</td></tr><tr><td>dbfs:/mnt/bluetab1002/process1/races/race_year=2015/</td><td>race_year=2015/</td><td>0</td><td>1738324543000</td></tr><tr><td>dbfs:/mnt/bluetab1002/process1/races/race_year=2016/</td><td>race_year=2016/</td><td>0</td><td>1738324543000</td></tr><tr><td>dbfs:/mnt/bluetab1002/process1/races/race_year=2017/</td><td>race_year=2017/</td><td>0</td><td>1738324543000</td></tr><tr><td>dbfs:/mnt/bluetab1002/process1/races/race_year=2018/</td><td>race_year=2018/</td><td>0</td><td>1738324543000</td></tr><tr><td>dbfs:/mnt/bluetab1002/process1/races/race_year=2019/</td><td>race_year=2019/</td><td>0</td><td>1738324543000</td></tr><tr><td>dbfs:/mnt/bluetab1002/process1/races/race_year=2020/</td><td>race_year=2020/</td><td>0</td><td>1738324543000</td></tr><tr><td>dbfs:/mnt/bluetab1002/process1/races/race_year=2021/</td><td>race_year=2021/</td><td>0</td><td>1738324543000</td></tr></tbody></table></div>"
      ]
     },
     "metadata": {
      "application/vnd.databricks.v1+output": {
       "addedWidgets": {},
       "aggData": [],
       "aggError": "",
       "aggOverflow": false,
       "aggSchema": [],
       "aggSeriesLimitReached": false,
       "aggType": "",
       "arguments": {},
       "columnCustomDisplayInfos": {},
       "data": [
        [
         "dbfs:/mnt/bluetab1002/process1/races/_SUCCESS",
         "_SUCCESS",
         0,
         1738431803000
        ],
        [
         "dbfs:/mnt/bluetab1002/process1/races/_committed_3225151779131770414",
         "_committed_3225151779131770414",
         35,
         1738431801000
        ],
        [
         "dbfs:/mnt/bluetab1002/process1/races/race_year=1950/",
         "race_year=1950/",
         0,
         1738324538000
        ],
        [
         "dbfs:/mnt/bluetab1002/process1/races/race_year=1951/",
         "race_year=1951/",
         0,
         1738324538000
        ],
        [
         "dbfs:/mnt/bluetab1002/process1/races/race_year=1952/",
         "race_year=1952/",
         0,
         1738324538000
        ],
        [
         "dbfs:/mnt/bluetab1002/process1/races/race_year=1953/",
         "race_year=1953/",
         0,
         1738324538000
        ],
        [
         "dbfs:/mnt/bluetab1002/process1/races/race_year=1954/",
         "race_year=1954/",
         0,
         1738324538000
        ],
        [
         "dbfs:/mnt/bluetab1002/process1/races/race_year=1955/",
         "race_year=1955/",
         0,
         1738324538000
        ],
        [
         "dbfs:/mnt/bluetab1002/process1/races/race_year=1956/",
         "race_year=1956/",
         0,
         1738324538000
        ],
        [
         "dbfs:/mnt/bluetab1002/process1/races/race_year=1957/",
         "race_year=1957/",
         0,
         1738324538000
        ],
        [
         "dbfs:/mnt/bluetab1002/process1/races/race_year=1958/",
         "race_year=1958/",
         0,
         1738324538000
        ],
        [
         "dbfs:/mnt/bluetab1002/process1/races/race_year=1959/",
         "race_year=1959/",
         0,
         1738324538000
        ],
        [
         "dbfs:/mnt/bluetab1002/process1/races/race_year=1960/",
         "race_year=1960/",
         0,
         1738324538000
        ],
        [
         "dbfs:/mnt/bluetab1002/process1/races/race_year=1961/",
         "race_year=1961/",
         0,
         1738324539000
        ],
        [
         "dbfs:/mnt/bluetab1002/process1/races/race_year=1962/",
         "race_year=1962/",
         0,
         1738324539000
        ],
        [
         "dbfs:/mnt/bluetab1002/process1/races/race_year=1963/",
         "race_year=1963/",
         0,
         1738324539000
        ],
        [
         "dbfs:/mnt/bluetab1002/process1/races/race_year=1964/",
         "race_year=1964/",
         0,
         1738324539000
        ],
        [
         "dbfs:/mnt/bluetab1002/process1/races/race_year=1965/",
         "race_year=1965/",
         0,
         1738324539000
        ],
        [
         "dbfs:/mnt/bluetab1002/process1/races/race_year=1966/",
         "race_year=1966/",
         0,
         1738324539000
        ],
        [
         "dbfs:/mnt/bluetab1002/process1/races/race_year=1967/",
         "race_year=1967/",
         0,
         1738324539000
        ],
        [
         "dbfs:/mnt/bluetab1002/process1/races/race_year=1968/",
         "race_year=1968/",
         0,
         1738324539000
        ],
        [
         "dbfs:/mnt/bluetab1002/process1/races/race_year=1969/",
         "race_year=1969/",
         0,
         1738324539000
        ],
        [
         "dbfs:/mnt/bluetab1002/process1/races/race_year=1970/",
         "race_year=1970/",
         0,
         1738324539000
        ],
        [
         "dbfs:/mnt/bluetab1002/process1/races/race_year=1971/",
         "race_year=1971/",
         0,
         1738324539000
        ],
        [
         "dbfs:/mnt/bluetab1002/process1/races/race_year=1972/",
         "race_year=1972/",
         0,
         1738324539000
        ],
        [
         "dbfs:/mnt/bluetab1002/process1/races/race_year=1973/",
         "race_year=1973/",
         0,
         1738324539000
        ],
        [
         "dbfs:/mnt/bluetab1002/process1/races/race_year=1974/",
         "race_year=1974/",
         0,
         1738324540000
        ],
        [
         "dbfs:/mnt/bluetab1002/process1/races/race_year=1975/",
         "race_year=1975/",
         0,
         1738324540000
        ],
        [
         "dbfs:/mnt/bluetab1002/process1/races/race_year=1976/",
         "race_year=1976/",
         0,
         1738324540000
        ],
        [
         "dbfs:/mnt/bluetab1002/process1/races/race_year=1977/",
         "race_year=1977/",
         0,
         1738324540000
        ],
        [
         "dbfs:/mnt/bluetab1002/process1/races/race_year=1978/",
         "race_year=1978/",
         0,
         1738324540000
        ],
        [
         "dbfs:/mnt/bluetab1002/process1/races/race_year=1979/",
         "race_year=1979/",
         0,
         1738324540000
        ],
        [
         "dbfs:/mnt/bluetab1002/process1/races/race_year=1980/",
         "race_year=1980/",
         0,
         1738324540000
        ],
        [
         "dbfs:/mnt/bluetab1002/process1/races/race_year=1981/",
         "race_year=1981/",
         0,
         1738324540000
        ],
        [
         "dbfs:/mnt/bluetab1002/process1/races/race_year=1982/",
         "race_year=1982/",
         0,
         1738324540000
        ],
        [
         "dbfs:/mnt/bluetab1002/process1/races/race_year=1983/",
         "race_year=1983/",
         0,
         1738324540000
        ],
        [
         "dbfs:/mnt/bluetab1002/process1/races/race_year=1984/",
         "race_year=1984/",
         0,
         1738324540000
        ],
        [
         "dbfs:/mnt/bluetab1002/process1/races/race_year=1985/",
         "race_year=1985/",
         0,
         1738324540000
        ],
        [
         "dbfs:/mnt/bluetab1002/process1/races/race_year=1986/",
         "race_year=1986/",
         0,
         1738324540000
        ],
        [
         "dbfs:/mnt/bluetab1002/process1/races/race_year=1987/",
         "race_year=1987/",
         0,
         1738324541000
        ],
        [
         "dbfs:/mnt/bluetab1002/process1/races/race_year=1988/",
         "race_year=1988/",
         0,
         1738324541000
        ],
        [
         "dbfs:/mnt/bluetab1002/process1/races/race_year=1989/",
         "race_year=1989/",
         0,
         1738324541000
        ],
        [
         "dbfs:/mnt/bluetab1002/process1/races/race_year=1990/",
         "race_year=1990/",
         0,
         1738324541000
        ],
        [
         "dbfs:/mnt/bluetab1002/process1/races/race_year=1991/",
         "race_year=1991/",
         0,
         1738324541000
        ],
        [
         "dbfs:/mnt/bluetab1002/process1/races/race_year=1992/",
         "race_year=1992/",
         0,
         1738324541000
        ],
        [
         "dbfs:/mnt/bluetab1002/process1/races/race_year=1993/",
         "race_year=1993/",
         0,
         1738324541000
        ],
        [
         "dbfs:/mnt/bluetab1002/process1/races/race_year=1994/",
         "race_year=1994/",
         0,
         1738324541000
        ],
        [
         "dbfs:/mnt/bluetab1002/process1/races/race_year=1995/",
         "race_year=1995/",
         0,
         1738324541000
        ],
        [
         "dbfs:/mnt/bluetab1002/process1/races/race_year=1996/",
         "race_year=1996/",
         0,
         1738324541000
        ],
        [
         "dbfs:/mnt/bluetab1002/process1/races/race_year=1997/",
         "race_year=1997/",
         0,
         1738324541000
        ],
        [
         "dbfs:/mnt/bluetab1002/process1/races/race_year=1998/",
         "race_year=1998/",
         0,
         1738324541000
        ],
        [
         "dbfs:/mnt/bluetab1002/process1/races/race_year=1999/",
         "race_year=1999/",
         0,
         1738324541000
        ],
        [
         "dbfs:/mnt/bluetab1002/process1/races/race_year=2000/",
         "race_year=2000/",
         0,
         1738324542000
        ],
        [
         "dbfs:/mnt/bluetab1002/process1/races/race_year=2001/",
         "race_year=2001/",
         0,
         1738324542000
        ],
        [
         "dbfs:/mnt/bluetab1002/process1/races/race_year=2002/",
         "race_year=2002/",
         0,
         1738324542000
        ],
        [
         "dbfs:/mnt/bluetab1002/process1/races/race_year=2003/",
         "race_year=2003/",
         0,
         1738324542000
        ],
        [
         "dbfs:/mnt/bluetab1002/process1/races/race_year=2004/",
         "race_year=2004/",
         0,
         1738324542000
        ],
        [
         "dbfs:/mnt/bluetab1002/process1/races/race_year=2005/",
         "race_year=2005/",
         0,
         1738324542000
        ],
        [
         "dbfs:/mnt/bluetab1002/process1/races/race_year=2006/",
         "race_year=2006/",
         0,
         1738324542000
        ],
        [
         "dbfs:/mnt/bluetab1002/process1/races/race_year=2007/",
         "race_year=2007/",
         0,
         1738324542000
        ],
        [
         "dbfs:/mnt/bluetab1002/process1/races/race_year=2008/",
         "race_year=2008/",
         0,
         1738324542000
        ],
        [
         "dbfs:/mnt/bluetab1002/process1/races/race_year=2009/",
         "race_year=2009/",
         0,
         1738324542000
        ],
        [
         "dbfs:/mnt/bluetab1002/process1/races/race_year=2010/",
         "race_year=2010/",
         0,
         1738324542000
        ],
        [
         "dbfs:/mnt/bluetab1002/process1/races/race_year=2011/",
         "race_year=2011/",
         0,
         1738324542000
        ],
        [
         "dbfs:/mnt/bluetab1002/process1/races/race_year=2012/",
         "race_year=2012/",
         0,
         1738324543000
        ],
        [
         "dbfs:/mnt/bluetab1002/process1/races/race_year=2013/",
         "race_year=2013/",
         0,
         1738324543000
        ],
        [
         "dbfs:/mnt/bluetab1002/process1/races/race_year=2014/",
         "race_year=2014/",
         0,
         1738324543000
        ],
        [
         "dbfs:/mnt/bluetab1002/process1/races/race_year=2015/",
         "race_year=2015/",
         0,
         1738324543000
        ],
        [
         "dbfs:/mnt/bluetab1002/process1/races/race_year=2016/",
         "race_year=2016/",
         0,
         1738324543000
        ],
        [
         "dbfs:/mnt/bluetab1002/process1/races/race_year=2017/",
         "race_year=2017/",
         0,
         1738324543000
        ],
        [
         "dbfs:/mnt/bluetab1002/process1/races/race_year=2018/",
         "race_year=2018/",
         0,
         1738324543000
        ],
        [
         "dbfs:/mnt/bluetab1002/process1/races/race_year=2019/",
         "race_year=2019/",
         0,
         1738324543000
        ],
        [
         "dbfs:/mnt/bluetab1002/process1/races/race_year=2020/",
         "race_year=2020/",
         0,
         1738324543000
        ],
        [
         "dbfs:/mnt/bluetab1002/process1/races/race_year=2021/",
         "race_year=2021/",
         0,
         1738324543000
        ]
       ],
       "datasetInfos": [],
       "dbfsResultPath": null,
       "isJsonSchema": true,
       "metadata": {},
       "overflow": false,
       "plotOptions": {
        "customPlotOptions": {},
        "displayType": "table",
        "pivotAggregation": null,
        "pivotColumns": null,
        "xColumns": null,
        "yColumns": null
       },
       "removedWidgets": [],
       "schema": [
        {
         "metadata": "{}",
         "name": "path",
         "type": "\"string\""
        },
        {
         "metadata": "{}",
         "name": "name",
         "type": "\"string\""
        },
        {
         "metadata": "{}",
         "name": "size",
         "type": "\"long\""
        },
        {
         "metadata": "{}",
         "name": "modificationTime",
         "type": "\"long\""
        }
       ],
       "type": "table"
      }
     },
     "output_type": "display_data"
    }
   ],
   "source": [
    "display(dbutils.fs.ls(\"mnt/bluetab1002/process1/races\"))"
   ]
  },
  {
   "cell_type": "code",
   "execution_count": 0,
   "metadata": {
    "application/vnd.databricks.v1+cell": {
     "cellMetadata": {
      "byteLimit": 2048000,
      "rowLimit": 10000
     },
     "inputWidgets": {},
     "nuid": "38e4d77d-4af5-4ce2-9b88-70a4f6ccb7bc",
     "showTitle": false,
     "tableResultSettingsMap": {},
     "title": ""
    }
   },
   "outputs": [],
   "source": [
    "dbutils.notebook.exit(\"Sucess\")"
   ]
  }
 ],
 "metadata": {
  "application/vnd.databricks.v1+notebook": {
   "computePreferences": null,
   "dashboards": [],
   "environmentMetadata": {
    "base_environment": "",
    "client": "1"
   },
   "language": "python",
   "notebookMetadata": {
    "pythonIndentUnit": 4
   },
   "notebookName": "2_ingest_races_file",
   "widgets": {
    "p_data_source": {
     "currentValue": "",
     "nuid": "ed028c0d-e31a-4a16-832c-005afbe37b2a",
     "typedWidgetInfo": {
      "autoCreated": false,
      "defaultValue": "",
      "label": null,
      "name": "p_data_source",
      "options": {
       "widgetDisplayType": "Text",
       "validationRegex": null
      },
      "parameterDataType": "String"
     },
     "widgetInfo": {
      "widgetType": "text",
      "defaultValue": "",
      "label": null,
      "name": "p_data_source",
      "options": {
       "widgetType": "text",
       "autoCreated": null,
       "validationRegex": null
      }
     }
    }
   }
  },
  "language_info": {
   "name": "python"
  }
 },
 "nbformat": 4,
 "nbformat_minor": 0
}